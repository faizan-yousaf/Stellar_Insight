{
 "cells": [
  {
   "cell_type": "markdown",
   "metadata": {},
   "source": [
    "---\n",
    "# **Stars Analysis and Prediction:**\n",
    "Mapping Stars with Intelligence\n"
   ]
  },
  {
   "cell_type": "markdown",
   "metadata": {},
   "source": [
    "<div >\n",
    "  <img src=\"https://res.cloudinary.com/dhditogyd/image/upload/v1725305778/pexels-alex-andrews-271121-3805983_nwekq9.jpg\" width=\"100%\" height=\" 800%;\"/>\n",
    "</div>\n",
    "\n",
    "---"
   ]
  },
  {
   "cell_type": "markdown",
   "metadata": {},
   "source": [
    "\n",
    "\n",
    "Author: [Muhammad Faizan](https://www.linkedin.com/in/mrfaizanyousaf/)\n",
    "\n",
    "<div >\n",
    "  <img src=\"https://res.cloudinary.com/dk0hm8t43/image/upload/v1723543716/Faizan/cxhm4yhcpmponfjgjfct.jpg\" width=\"20%\" height=\" 20%;\"/>\n",
    "</div>\n",
    "\n",
    "## Muhammad Faizan\n",
    "\n",
    "🎓 **3rd Year BS Computer Science** student at the **University of Agriculture, Faisalabad**  \n",
    "💻 Enthusiast in **Machine Learning, Data Engineering, and Data Analytics**\n",
    "\n",
    "\n",
    "### 🌐 Connect with Me\n",
    "\n",
    "[Kaggle](https://www.kaggle.com/faizanyousafonly/) | [LinkedIn](https://www.linkedin.com/in/mrfaizanyousaf/) | [GitHub](https://github.com/faizan-yousaf/)  \n",
    "\n",
    "\n",
    "\n",
    "\n",
    "### 💬 Contact Me\n",
    "- **Email:** faizanyousaf815@gmail.com\n",
    "- **WhatsApp:** [+92 306 537 5389](https://wa.me/923065375389)\n",
    "\n",
    "\n",
    "🔗 **Let’s Collaborate:**  \n",
    "I'm always open to queries, collaborations, and discussions. Let's build something amazing together!\n"
   ]
  },
  {
   "cell_type": "markdown",
   "metadata": {},
   "source": [
    "## Meta-Data (About Dataset)"
   ]
  },
  {
   "cell_type": "markdown",
   "metadata": {},
   "source": [
    "## Context: \n",
    "* This dataset offers a `detailed collection of information` about `various stars` in our galaxy. It includes key characteristics such as stellar temperature, luminosity, radius, and spectral class, providing a comprehensive view of different types of stars.\n",
    "\n",
    "* The data is structured to help astronomers, researchers, and enthusiasts explore the `relationships` between these `stellar attributes` and better understand the `diversity of stars` in the universe. Each entry in the dataset represents a `unique star`, with `data sourced from astronomical surveys and observations`.\n",
    "\n",
    "* Whether you're interested in studying the life cycle of stars, their physical properties, or just exploring the vastness of space, this dataset serves as a valuable resource for all things celestial. Dive in and discover the wonders of the stars!\n",
    "\n",
    "### Content:\n",
    "\n",
    "#### Column Descriptions:\n",
    "\n",
    "* `Name:` A unique identifier for each star.\n",
    "* `Distance (ly):` The distance of the star from Earth in light-years.\n",
    "* `Temperature (K):` The surface temperature of the star in Kelvin.\n",
    "* `Luminosity (L/Lo):` The luminosity of the star compared to that of the Sun.\n",
    "* `Radius (R/Ro):` The radius of the star relative to the Sun's radius.\n",
    "* `Spectral Class:` The star’s classification based on its spectral characteristics (e.g., O, B, A, F, G, K, M).\n",
    "\n",
    "\n",
    "\n",
    "### Acknowledgements\n",
    "### Creator:\n",
    "\n",
    "* Waqar Ali, Data Scientist, Kaggle Dataset Expert, Lahore, Punjab, Pakistan. [Link](https://www.kaggle.com/waqi786)"
   ]
  },
  {
   "cell_type": "markdown",
   "metadata": {},
   "source": [
    "## Aims and Objectives: 🎯\n",
    "\n",
    "We will fill this after doing the EDA and Data Preprocessing."
   ]
  },
  {
   "cell_type": "markdown",
   "metadata": {
    "vscode": {
     "languageId": "plaintext"
    }
   },
   "source": [
    "## Work Flow of this project: 🛰\n",
    "\n",
    "1. `Importing Necessary Libraries`\n",
    "   \n",
    "2. `Loading the Dataset`\n",
    "\n",
    "3. `Exploratory Data Analysis (EDA)`\n",
    "    * Understanding the Data Structure\n",
    "    * Checking for Missing Values\n",
    "    * Descriptive Statistics\n",
    "    * Data Visualization\n",
    "  \n",
    "4. `Data Preprocessing`\n",
    "    * Handling Missing Values (if any)\n",
    "    * Encoding Categorical Variables (if any)\n",
    "    * Feature Scaling\n",
    "\n",
    "5. `Building the Classification Model`\n",
    "    * Splitting the Data into Training and Testing Sets\n",
    "    * Choosing the Right Algorithm\n",
    "    * Training the Model\n",
    "    * Evaluating Model Performance\n",
    "\n",
    "6. `Making Predictions`\n",
    "\n",
    "7. `Saving and Loading the Model`\n"
   ]
  },
  {
   "cell_type": "markdown",
   "metadata": {},
   "source": [
    "### Import Libraries: 🛠\n",
    "\n",
    "Let's start the project by importing all the libraries that we will use in this project."
   ]
  },
  {
   "cell_type": "code",
   "execution_count": 2,
   "metadata": {},
   "outputs": [
    {
     "name": "stdout",
     "output_type": "stream",
     "text": [
      "Libraries have been loaded successfully\n"
     ]
    }
   ],
   "source": [
    "# import libraries:\n",
    "\n",
    "# 1. to handel the data:\n",
    "import numpy as np\n",
    "import pandas as pd\n",
    "\n",
    "# 2. to visualize the data:\n",
    "import matplotlib.pyplot as plt\n",
    "import seaborn as sns\n",
    "import plotly.express as px\n",
    "%matplotlib inline\n",
    "\n",
    "# 3. to preprocess the data:\n",
    "from sklearn.model_selection import train_test_split\n",
    "from sklearn.preprocessing import StandardScaler\n",
    "\n",
    "# 4. to build the model:\n",
    "from sklearn.linear_model import LogisticRegression\n",
    "from sklearn.svm import SVC\n",
    "from sklearn.tree import DecisionTreeClassifier\n",
    "from sklearn.ensemble import RandomForestClassifier\n",
    "from sklearn.ensemble import GradientBoostingClassifier, AdaBoostClassifier, BaggingClassifier\n",
    "from sklearn.neighbors import KNeighborsClassifier\n",
    "from sklearn.naive_bayes import GaussianNB\n",
    "from xgboost import XGBClassifier\n",
    "\n",
    "# 5. Metrics:\n",
    "from sklearn.metrics import accuracy_score, precision_score, recall_score, r2_score, f1_score , classification_report, mean_absolute_error, mean_absolute_percentage_error, mean_squared_error\n",
    "\n",
    "# 6. to ignore the warnings:\n",
    "import warnings\n",
    "warnings.filterwarnings(\"ignore\")\n",
    "\n",
    "print(\"Libraries have been loaded successfully\")\n",
    "\n",
    "# 8. Display all rows and columns:\n",
    "pd.set_option('display.max_columns', None)\n",
    "pd.set_option('display.max_rows', None)\n"
   ]
  },
  {
   "cell_type": "markdown",
   "metadata": {},
   "source": [
    "#### But why these libraries? 🤔"
   ]
  },
  {
   "cell_type": "markdown",
   "metadata": {},
   "source": [
    "\n",
    "* `pandas:` For data manipulation and analysis.\n",
    "\n",
    "* `numpy:` For numerical computations.\n",
    " \n",
    "* `matplotlib & seaborn:` For data visualization.\n",
    "\n",
    "* `scikit-learn:` For machine learning algorithms and evaluation metrics.\n",
    " \n",
    "* `%matplotlib inline:` To display plots directly in the notebook."
   ]
  },
  {
   "cell_type": "markdown",
   "metadata": {},
   "source": [
    "#### Setting up the Visualization Theme: 🐱‍🏍✨"
   ]
  },
  {
   "cell_type": "code",
   "execution_count": 3,
   "metadata": {},
   "outputs": [],
   "source": [
    "# Set the dark blue background theme for visualizations\n",
    "plt.style.use('dark_background')\n",
    "\n",
    "# Adjust background color to dark blue\n",
    "plt.rcParams['figure.facecolor'] = '#0d1b2a'\n",
    "plt.rcParams['axes.facecolor'] = '#0d1b2a'\n",
    "plt.rcParams['axes.edgecolor'] = '#0d1b2a'\n",
    "plt.rcParams['savefig.facecolor'] = '#0d1b2a'\n",
    "\n",
    "# Define a custom color palette with a golden neon effect\n",
    "golden_neon_palette = sns.color_palette([\"#ffd700\", \"#ffdf00\", \"#ffec8b\", \"#ffec00\", \"#fff700\"])\n",
    "\n",
    "# Apply the custom palette to Seaborn\n",
    "sns.set_palette(golden_neon_palette)\n"
   ]
  },
  {
   "cell_type": "code",
   "execution_count": 4,
   "metadata": {},
   "outputs": [],
   "source": [
    "df = pd.read_csv(\"star_dataset.csv\")"
   ]
  },
  {
   "cell_type": "markdown",
   "metadata": {},
   "source": [
    "### Lets have a sneek peak on the data: 👀"
   ]
  },
  {
   "cell_type": "code",
   "execution_count": 5,
   "metadata": {},
   "outputs": [
    {
     "data": {
      "text/html": [
       "<div>\n",
       "<style scoped>\n",
       "    .dataframe tbody tr th:only-of-type {\n",
       "        vertical-align: middle;\n",
       "    }\n",
       "\n",
       "    .dataframe tbody tr th {\n",
       "        vertical-align: top;\n",
       "    }\n",
       "\n",
       "    .dataframe thead th {\n",
       "        text-align: right;\n",
       "    }\n",
       "</style>\n",
       "<table border=\"1\" class=\"dataframe\">\n",
       "  <thead>\n",
       "    <tr style=\"text-align: right;\">\n",
       "      <th></th>\n",
       "      <th>Name</th>\n",
       "      <th>Distance (ly)</th>\n",
       "      <th>Luminosity (L/Lo)</th>\n",
       "      <th>Radius (R/Ro)</th>\n",
       "      <th>Temperature (K)</th>\n",
       "      <th>Spectral Class</th>\n",
       "    </tr>\n",
       "  </thead>\n",
       "  <tbody>\n",
       "    <tr>\n",
       "      <th>0</th>\n",
       "      <td>Altair</td>\n",
       "      <td>16.594171</td>\n",
       "      <td>9.979192</td>\n",
       "      <td>1.632650</td>\n",
       "      <td>7509.294247</td>\n",
       "      <td>A7V</td>\n",
       "    </tr>\n",
       "    <tr>\n",
       "      <th>1</th>\n",
       "      <td>Deneb</td>\n",
       "      <td>2600.490723</td>\n",
       "      <td>196002.627856</td>\n",
       "      <td>202.970526</td>\n",
       "      <td>8503.284796</td>\n",
       "      <td>A2Ia</td>\n",
       "    </tr>\n",
       "    <tr>\n",
       "      <th>2</th>\n",
       "      <td>Barnard's Star</td>\n",
       "      <td>6.052616</td>\n",
       "      <td>4.893716</td>\n",
       "      <td>0.222711</td>\n",
       "      <td>3165.959639</td>\n",
       "      <td>M4Ve</td>\n",
       "    </tr>\n",
       "    <tr>\n",
       "      <th>3</th>\n",
       "      <td>Polaris</td>\n",
       "      <td>322.601002</td>\n",
       "      <td>2196.241934</td>\n",
       "      <td>37.546813</td>\n",
       "      <td>6048.326915</td>\n",
       "      <td>F7Ib</td>\n",
       "    </tr>\n",
       "    <tr>\n",
       "      <th>4</th>\n",
       "      <td>Barnard's Star</td>\n",
       "      <td>5.902392</td>\n",
       "      <td>-1.496486</td>\n",
       "      <td>0.192359</td>\n",
       "      <td>3130.602069</td>\n",
       "      <td>M4Ve</td>\n",
       "    </tr>\n",
       "  </tbody>\n",
       "</table>\n",
       "</div>"
      ],
      "text/plain": [
       "             Name  Distance (ly)  Luminosity (L/Lo)  Radius (R/Ro)  \\\n",
       "0          Altair      16.594171           9.979192       1.632650   \n",
       "1           Deneb    2600.490723      196002.627856     202.970526   \n",
       "2  Barnard's Star       6.052616           4.893716       0.222711   \n",
       "3         Polaris     322.601002        2196.241934      37.546813   \n",
       "4  Barnard's Star       5.902392          -1.496486       0.192359   \n",
       "\n",
       "   Temperature (K) Spectral Class  \n",
       "0      7509.294247            A7V  \n",
       "1      8503.284796           A2Ia  \n",
       "2      3165.959639           M4Ve  \n",
       "3      6048.326915           F7Ib  \n",
       "4      3130.602069           M4Ve  "
      ]
     },
     "execution_count": 5,
     "metadata": {},
     "output_type": "execute_result"
    }
   ],
   "source": [
    "df.head()"
   ]
  },
  {
   "cell_type": "code",
   "execution_count": 6,
   "metadata": {},
   "outputs": [
    {
     "data": {
      "text/html": [
       "<div>\n",
       "<style scoped>\n",
       "    .dataframe tbody tr th:only-of-type {\n",
       "        vertical-align: middle;\n",
       "    }\n",
       "\n",
       "    .dataframe tbody tr th {\n",
       "        vertical-align: top;\n",
       "    }\n",
       "\n",
       "    .dataframe thead th {\n",
       "        text-align: right;\n",
       "    }\n",
       "</style>\n",
       "<table border=\"1\" class=\"dataframe\">\n",
       "  <thead>\n",
       "    <tr style=\"text-align: right;\">\n",
       "      <th></th>\n",
       "      <th>Name</th>\n",
       "      <th>Distance (ly)</th>\n",
       "      <th>Luminosity (L/Lo)</th>\n",
       "      <th>Radius (R/Ro)</th>\n",
       "      <th>Temperature (K)</th>\n",
       "      <th>Spectral Class</th>\n",
       "    </tr>\n",
       "  </thead>\n",
       "  <tbody>\n",
       "    <tr>\n",
       "      <th>995</th>\n",
       "      <td>Wolf 359</td>\n",
       "      <td>7.455715</td>\n",
       "      <td>-4.435101</td>\n",
       "      <td>0.068087</td>\n",
       "      <td>2774.148300</td>\n",
       "      <td>M6V</td>\n",
       "    </tr>\n",
       "    <tr>\n",
       "      <th>996</th>\n",
       "      <td>Hadar</td>\n",
       "      <td>350.301644</td>\n",
       "      <td>49997.506591</td>\n",
       "      <td>9.070882</td>\n",
       "      <td>25010.502656</td>\n",
       "      <td>B1III</td>\n",
       "    </tr>\n",
       "    <tr>\n",
       "      <th>997</th>\n",
       "      <td>Bellatrix</td>\n",
       "      <td>239.763294</td>\n",
       "      <td>6397.020159</td>\n",
       "      <td>5.706311</td>\n",
       "      <td>22603.548766</td>\n",
       "      <td>B2III</td>\n",
       "    </tr>\n",
       "    <tr>\n",
       "      <th>998</th>\n",
       "      <td>Alpha Centauri B</td>\n",
       "      <td>4.044364</td>\n",
       "      <td>-4.549088</td>\n",
       "      <td>0.939191</td>\n",
       "      <td>5286.304304</td>\n",
       "      <td>K1V</td>\n",
       "    </tr>\n",
       "    <tr>\n",
       "      <th>999</th>\n",
       "      <td>Wolf 359</td>\n",
       "      <td>8.139786</td>\n",
       "      <td>3.484205</td>\n",
       "      <td>0.236324</td>\n",
       "      <td>2813.600366</td>\n",
       "      <td>M6V</td>\n",
       "    </tr>\n",
       "  </tbody>\n",
       "</table>\n",
       "</div>"
      ],
      "text/plain": [
       "                 Name  Distance (ly)  Luminosity (L/Lo)  Radius (R/Ro)  \\\n",
       "995          Wolf 359       7.455715          -4.435101       0.068087   \n",
       "996             Hadar     350.301644       49997.506591       9.070882   \n",
       "997         Bellatrix     239.763294        6397.020159       5.706311   \n",
       "998  Alpha Centauri B       4.044364          -4.549088       0.939191   \n",
       "999          Wolf 359       8.139786           3.484205       0.236324   \n",
       "\n",
       "     Temperature (K) Spectral Class  \n",
       "995      2774.148300            M6V  \n",
       "996     25010.502656          B1III  \n",
       "997     22603.548766          B2III  \n",
       "998      5286.304304            K1V  \n",
       "999      2813.600366            M6V  "
      ]
     },
     "execution_count": 6,
     "metadata": {},
     "output_type": "execute_result"
    }
   ],
   "source": [
    "df.tail()"
   ]
  },
  {
   "cell_type": "markdown",
   "metadata": {},
   "source": [
    "#### checking the information of the dataset: 🔍"
   ]
  },
  {
   "cell_type": "code",
   "execution_count": 7,
   "metadata": {},
   "outputs": [
    {
     "data": {
      "text/plain": [
       "Index(['Name', 'Distance (ly)', 'Luminosity (L/Lo)', 'Radius (R/Ro)',\n",
       "       'Temperature (K)', 'Spectral Class'],\n",
       "      dtype='object')"
      ]
     },
     "execution_count": 7,
     "metadata": {},
     "output_type": "execute_result"
    }
   ],
   "source": [
    "df.columns"
   ]
  },
  {
   "cell_type": "markdown",
   "metadata": {},
   "source": [
    "- but the above columns are not clear, looks cluttered to me.  🥱\n",
    "- So, being a pythonic, I'll arrange them in an order and make them more readable. "
   ]
  },
  {
   "cell_type": "code",
   "execution_count": 37,
   "metadata": {},
   "outputs": [],
   "source": [
    "# renaming the columns for better understanding:\n",
    "\n",
    "df = df.rename(columns={\n",
    "    'Name': 'Name',\n",
    "    'Distance (ly)': 'Distance',\n",
    "    'Luminosity (L/Lo)': 'Luminosity',\n",
    "    'Radius (R/Ro)': 'Radius',\n",
    "    'Temperature (K)': 'Temperature',\n",
    "    'Spectral_Class': 'Spectral Class'\n",
    "})\n"
   ]
  },
  {
   "cell_type": "code",
   "execution_count": 40,
   "metadata": {},
   "outputs": [
    {
     "name": "stdout",
     "output_type": "stream",
     "text": [
      "Column 0: Name\n",
      "Column 1: Distance\n",
      "Column 2: Luminosity\n",
      "Column 3: Radius\n",
      "Column 4: Temperature\n",
      "Column 5: Spectral Class\n"
     ]
    }
   ],
   "source": [
    "# lets make the column names more readable by using for loop and if condition:\n",
    "i = 0\n",
    "\n",
    "for col in df.columns:\n",
    "    if i == len(df.columns):\n",
    "        break\n",
    "    else:\n",
    "        print(f\"Column {i}: {col}\")\n",
    "    i += 1"
   ]
  },
  {
   "cell_type": "code",
   "execution_count": 39,
   "metadata": {},
   "outputs": [
    {
     "name": "stdout",
     "output_type": "stream",
     "text": [
      "There are 6 columns and 1000 rows in the dataset\n"
     ]
    }
   ],
   "source": [
    "# print the number of columns and rows in the dataset using the shape attribute:\n",
    "\n",
    "print(f\"There are {df.shape[1]} columns and {df.shape[0]} rows in the dataset\")"
   ]
  },
  {
   "cell_type": "code",
   "execution_count": 11,
   "metadata": {},
   "outputs": [
    {
     "name": "stdout",
     "output_type": "stream",
     "text": [
      "<class 'pandas.core.frame.DataFrame'>\n",
      "RangeIndex: 1000 entries, 0 to 999\n",
      "Data columns (total 6 columns):\n",
      " #   Column          Non-Null Count  Dtype  \n",
      "---  ------          --------------  -----  \n",
      " 0   Name            1000 non-null   object \n",
      " 1   Distance        1000 non-null   float64\n",
      " 2   Luminosity      1000 non-null   float64\n",
      " 3   Radius          1000 non-null   float64\n",
      " 4   Temperature     1000 non-null   float64\n",
      " 5   Spectral_Class  1000 non-null   object \n",
      "dtypes: float64(4), object(2)\n",
      "memory usage: 47.0+ KB\n"
     ]
    }
   ],
   "source": [
    "df.info()"
   ]
  },
  {
   "cell_type": "markdown",
   "metadata": {},
   "source": [
    "#### check for missing values: 🕵️‍♂️"
   ]
  },
  {
   "cell_type": "code",
   "execution_count": 12,
   "metadata": {},
   "outputs": [
    {
     "data": {
      "text/plain": [
       "Name              0\n",
       "Distance          0\n",
       "Luminosity        0\n",
       "Radius            0\n",
       "Temperature       0\n",
       "Spectral_Class    0\n",
       "dtype: int64"
      ]
     },
     "execution_count": 12,
     "metadata": {},
     "output_type": "execute_result"
    }
   ],
   "source": [
    "df.isnull().sum().sort_values(ascending=False)"
   ]
  },
  {
   "cell_type": "markdown",
   "metadata": {},
   "source": [
    "#### lets check the statistical summary of the dataset: 🧩\n",
    "(it will only show the numerical columns)"
   ]
  },
  {
   "cell_type": "code",
   "execution_count": 13,
   "metadata": {},
   "outputs": [
    {
     "data": {
      "text/html": [
       "<div>\n",
       "<style scoped>\n",
       "    .dataframe tbody tr th:only-of-type {\n",
       "        vertical-align: middle;\n",
       "    }\n",
       "\n",
       "    .dataframe tbody tr th {\n",
       "        vertical-align: top;\n",
       "    }\n",
       "\n",
       "    .dataframe thead th {\n",
       "        text-align: right;\n",
       "    }\n",
       "</style>\n",
       "<table border=\"1\" class=\"dataframe\">\n",
       "  <thead>\n",
       "    <tr style=\"text-align: right;\">\n",
       "      <th></th>\n",
       "      <th>Distance</th>\n",
       "      <th>Luminosity</th>\n",
       "      <th>Radius</th>\n",
       "      <th>Temperature</th>\n",
       "    </tr>\n",
       "  </thead>\n",
       "  <tbody>\n",
       "    <tr>\n",
       "      <th>count</th>\n",
       "      <td>1000.000000</td>\n",
       "      <td>1000.000000</td>\n",
       "      <td>1000.000000</td>\n",
       "      <td>1000.000000</td>\n",
       "    </tr>\n",
       "    <tr>\n",
       "      <th>mean</th>\n",
       "      <td>295.505327</td>\n",
       "      <td>19644.909442</td>\n",
       "      <td>86.960696</td>\n",
       "      <td>9983.486779</td>\n",
       "    </tr>\n",
       "    <tr>\n",
       "      <th>std</th>\n",
       "      <td>541.478403</td>\n",
       "      <td>42223.595017</td>\n",
       "      <td>213.850005</td>\n",
       "      <td>7906.973529</td>\n",
       "    </tr>\n",
       "    <tr>\n",
       "      <th>min</th>\n",
       "      <td>3.877798</td>\n",
       "      <td>-4.993141</td>\n",
       "      <td>0.068087</td>\n",
       "      <td>2750.183163</td>\n",
       "    </tr>\n",
       "    <tr>\n",
       "      <th>25%</th>\n",
       "      <td>11.716853</td>\n",
       "      <td>10.441039</td>\n",
       "      <td>1.664479</td>\n",
       "      <td>3940.020856</td>\n",
       "    </tr>\n",
       "    <tr>\n",
       "      <th>50%</th>\n",
       "      <td>52.031435</td>\n",
       "      <td>171.097809</td>\n",
       "      <td>5.845444</td>\n",
       "      <td>7379.007975</td>\n",
       "    </tr>\n",
       "    <tr>\n",
       "      <th>75%</th>\n",
       "      <td>322.865874</td>\n",
       "      <td>10500.577117</td>\n",
       "      <td>33.719778</td>\n",
       "      <td>12055.975095</td>\n",
       "    </tr>\n",
       "    <tr>\n",
       "      <th>max</th>\n",
       "      <td>2600.490723</td>\n",
       "      <td>196004.854081</td>\n",
       "      <td>887.097936</td>\n",
       "      <td>28044.279272</td>\n",
       "    </tr>\n",
       "  </tbody>\n",
       "</table>\n",
       "</div>"
      ],
      "text/plain": [
       "          Distance     Luminosity       Radius   Temperature\n",
       "count  1000.000000    1000.000000  1000.000000   1000.000000\n",
       "mean    295.505327   19644.909442    86.960696   9983.486779\n",
       "std     541.478403   42223.595017   213.850005   7906.973529\n",
       "min       3.877798      -4.993141     0.068087   2750.183163\n",
       "25%      11.716853      10.441039     1.664479   3940.020856\n",
       "50%      52.031435     171.097809     5.845444   7379.007975\n",
       "75%     322.865874   10500.577117    33.719778  12055.975095\n",
       "max    2600.490723  196004.854081   887.097936  28044.279272"
      ]
     },
     "execution_count": 13,
     "metadata": {},
     "output_type": "execute_result"
    }
   ],
   "source": [
    "df.describe()"
   ]
  },
  {
   "cell_type": "markdown",
   "metadata": {},
   "source": [
    "## Observations: 📝\n",
    "\n",
    "- The dataset has `6 columns` and `1000 rows`.\n",
    "- There are `no missing values` in the dataset.\n",
    "\n",
    "#### Column names are:\n",
    "\n",
    "- Name\n",
    "- Distance \n",
    "- Luminosity\n",
    "- Radius\n",
    "- Temperature\n",
    "- Spectral Class \n",
    "  \n",
    "#### Among these columns:\n",
    "- Distance is `numerical` and `continuous`.\n",
    "- Luminosity is `numerical` and `continuous`.\n",
    "- Radius is `numerical` and `continuous`.\n",
    "- Temperature is `numerical` and `continuous`.\n",
    "  \n",
    "- Spectral Class is `categorical` and `ordinal`.\n",
    "- Color is `categorical` and `ordinal`.\n",
    "\n"
   ]
  },
  {
   "cell_type": "markdown",
   "metadata": {},
   "source": [
    "## Exploratory Data Analysis (EDA): 📊\n",
    "we will go through the data and check the unique values in each column:"
   ]
  },
  {
   "cell_type": "markdown",
   "metadata": {},
   "source": [
    "#### Name Column:\n",
    " "
   ]
  },
  {
   "cell_type": "code",
   "execution_count": 17,
   "metadata": {},
   "outputs": [
    {
     "data": {
      "text/plain": [
       "Name\n",
       "Altair              74\n",
       "Canopus             48\n",
       "Hadar               45\n",
       "Ross 154            45\n",
       "Betelgeuse          44\n",
       "Castor              39\n",
       "Capella             39\n",
       "Barnard's Star      38\n",
       "Vega                38\n",
       "Arcturus            38\n",
       "Mira                37\n",
       "Bellatrix           37\n",
       "Alnilam             36\n",
       "Rigil Kentaurus     36\n",
       "Polaris             35\n",
       "Sirius              34\n",
       "Spica               32\n",
       "Fomalhaut           31\n",
       "Procyon             30\n",
       "Acrux               30\n",
       "Achernar            29\n",
       "Lalande 21185       27\n",
       "Regulus             26\n",
       "Antares             26\n",
       "Deneb               25\n",
       "Alpha Centauri B    24\n",
       "Wolf 359            22\n",
       "Aldebaran           18\n",
       "Rigel               17\n",
       "Name: count, dtype: int64"
      ]
     },
     "execution_count": 17,
     "metadata": {},
     "output_type": "execute_result"
    }
   ],
   "source": [
    "df['Name'].value_counts()"
   ]
  },
  {
   "cell_type": "code",
   "execution_count": 24,
   "metadata": {},
   "outputs": [
    {
     "data": {
      "text/plain": [
       "array(['Altair', 'Deneb', \"Barnard's Star\", 'Polaris', 'Sirius',\n",
       "       'Fomalhaut', 'Capella', 'Bellatrix', 'Castor', 'Hadar',\n",
       "       'Betelgeuse', 'Regulus', 'Mira', 'Acrux', 'Vega', 'Lalande 21185',\n",
       "       'Arcturus', 'Alpha Centauri B', 'Ross 154', 'Canopus', 'Procyon',\n",
       "       'Wolf 359', 'Antares', 'Alnilam', 'Rigil Kentaurus', 'Spica',\n",
       "       'Achernar', 'Aldebaran', 'Rigel'], dtype=object)"
      ]
     },
     "execution_count": 24,
     "metadata": {},
     "output_type": "execute_result"
    }
   ],
   "source": [
    "df['Name'].unique()"
   ]
  },
  {
   "cell_type": "code",
   "execution_count": 22,
   "metadata": {},
   "outputs": [
    {
     "name": "stdout",
     "output_type": "stream",
     "text": [
      "The total number of unique Names of stars are: \n",
      "\n",
      "Altair\n",
      "Deneb\n",
      "Barnard's Star\n",
      "Polaris\n",
      "Sirius\n",
      "Fomalhaut\n",
      "Capella\n",
      "Bellatrix\n",
      "Castor\n",
      "Hadar\n",
      "Betelgeuse\n",
      "Regulus\n",
      "Mira\n",
      "Acrux\n",
      "Vega\n",
      "Lalande 21185\n",
      "Arcturus\n",
      "Alpha Centauri B\n",
      "Ross 154\n",
      "Canopus\n",
      "Procyon\n",
      "Wolf 359\n",
      "Antares\n",
      "Alnilam\n",
      "Rigil Kentaurus\n",
      "Spica\n",
      "Achernar\n",
      "Aldebaran\n",
      "Rigel\n"
     ]
    }
   ],
   "source": [
    "print(\"The total number of unique Names of stars are: \\n\", )\n",
    "for name in df['Name'].unique():\n",
    "    print(name)"
   ]
  },
  {
   "cell_type": "code",
   "execution_count": null,
   "metadata": {},
   "outputs": [],
   "source": [
    "# histogram of name column using seaborn:\n",
    "\n"
   ]
  },
  {
   "cell_type": "code",
   "execution_count": 46,
   "metadata": {},
   "outputs": [
    {
     "data": {
      "application/vnd.plotly.v1+json": {
       "config": {
        "plotlyServerURL": "https://plot.ly"
       },
       "data": [
        {
         "alignmentgroup": "True",
         "bingroup": "x",
         "hovertemplate": "Name=%{x}<br>count=%{y}<extra></extra>",
         "legendgroup": "",
         "marker": {
          "color": "#636efa",
          "pattern": {
           "shape": ""
          }
         },
         "name": "",
         "offsetgroup": "",
         "orientation": "v",
         "showlegend": false,
         "type": "histogram",
         "x": [
          "Altair",
          "Deneb",
          "Barnard's Star",
          "Polaris",
          "Barnard's Star",
          "Sirius",
          "Fomalhaut",
          "Capella",
          "Capella",
          "Bellatrix",
          "Castor",
          "Altair",
          "Bellatrix",
          "Hadar",
          "Betelgeuse",
          "Regulus",
          "Regulus",
          "Mira",
          "Acrux",
          "Vega",
          "Betelgeuse",
          "Lalande 21185",
          "Hadar",
          "Regulus",
          "Regulus",
          "Bellatrix",
          "Sirius",
          "Arcturus",
          "Alpha Centauri B",
          "Ross 154",
          "Betelgeuse",
          "Sirius",
          "Altair",
          "Regulus",
          "Lalande 21185",
          "Canopus",
          "Procyon",
          "Capella",
          "Barnard's Star",
          "Arcturus",
          "Canopus",
          "Altair",
          "Polaris",
          "Barnard's Star",
          "Castor",
          "Castor",
          "Bellatrix",
          "Polaris",
          "Castor",
          "Barnard's Star",
          "Vega",
          "Wolf 359",
          "Regulus",
          "Polaris",
          "Antares",
          "Regulus",
          "Acrux",
          "Alnilam",
          "Bellatrix",
          "Hadar",
          "Rigil Kentaurus",
          "Vega",
          "Alnilam",
          "Ross 154",
          "Vega",
          "Alnilam",
          "Castor",
          "Betelgeuse",
          "Alnilam",
          "Bellatrix",
          "Hadar",
          "Barnard's Star",
          "Barnard's Star",
          "Spica",
          "Deneb",
          "Bellatrix",
          "Fomalhaut",
          "Rigil Kentaurus",
          "Vega",
          "Canopus",
          "Ross 154",
          "Betelgeuse",
          "Altair",
          "Procyon",
          "Betelgeuse",
          "Sirius",
          "Hadar",
          "Arcturus",
          "Ross 154",
          "Alnilam",
          "Lalande 21185",
          "Polaris",
          "Deneb",
          "Vega",
          "Acrux",
          "Spica",
          "Capella",
          "Altair",
          "Antares",
          "Capella",
          "Wolf 359",
          "Spica",
          "Acrux",
          "Mira",
          "Altair",
          "Betelgeuse",
          "Barnard's Star",
          "Achernar",
          "Aldebaran",
          "Antares",
          "Hadar",
          "Arcturus",
          "Aldebaran",
          "Regulus",
          "Lalande 21185",
          "Canopus",
          "Canopus",
          "Acrux",
          "Sirius",
          "Canopus",
          "Rigil Kentaurus",
          "Rigil Kentaurus",
          "Sirius",
          "Barnard's Star",
          "Polaris",
          "Spica",
          "Spica",
          "Procyon",
          "Acrux",
          "Antares",
          "Rigil Kentaurus",
          "Vega",
          "Barnard's Star",
          "Aldebaran",
          "Alpha Centauri B",
          "Canopus",
          "Castor",
          "Rigil Kentaurus",
          "Aldebaran",
          "Altair",
          "Arcturus",
          "Fomalhaut",
          "Antares",
          "Hadar",
          "Deneb",
          "Vega",
          "Aldebaran",
          "Acrux",
          "Altair",
          "Polaris",
          "Capella",
          "Sirius",
          "Rigel",
          "Alnilam",
          "Aldebaran",
          "Mira",
          "Ross 154",
          "Fomalhaut",
          "Mira",
          "Alnilam",
          "Betelgeuse",
          "Procyon",
          "Mira",
          "Sirius",
          "Hadar",
          "Procyon",
          "Altair",
          "Acrux",
          "Alnilam",
          "Spica",
          "Spica",
          "Spica",
          "Alpha Centauri B",
          "Lalande 21185",
          "Deneb",
          "Acrux",
          "Spica",
          "Altair",
          "Achernar",
          "Alnilam",
          "Canopus",
          "Regulus",
          "Capella",
          "Rigil Kentaurus",
          "Altair",
          "Deneb",
          "Betelgeuse",
          "Betelgeuse",
          "Sirius",
          "Alpha Centauri B",
          "Bellatrix",
          "Lalande 21185",
          "Acrux",
          "Hadar",
          "Polaris",
          "Altair",
          "Acrux",
          "Polaris",
          "Capella",
          "Polaris",
          "Bellatrix",
          "Altair",
          "Spica",
          "Vega",
          "Arcturus",
          "Castor",
          "Alpha Centauri B",
          "Procyon",
          "Betelgeuse",
          "Lalande 21185",
          "Hadar",
          "Rigel",
          "Alnilam",
          "Wolf 359",
          "Altair",
          "Altair",
          "Regulus",
          "Achernar",
          "Altair",
          "Castor",
          "Ross 154",
          "Polaris",
          "Arcturus",
          "Aldebaran",
          "Antares",
          "Ross 154",
          "Lalande 21185",
          "Capella",
          "Rigil Kentaurus",
          "Hadar",
          "Procyon",
          "Bellatrix",
          "Rigel",
          "Capella",
          "Canopus",
          "Arcturus",
          "Deneb",
          "Rigil Kentaurus",
          "Alnilam",
          "Fomalhaut",
          "Mira",
          "Betelgeuse",
          "Rigil Kentaurus",
          "Barnard's Star",
          "Canopus",
          "Barnard's Star",
          "Polaris",
          "Ross 154",
          "Regulus",
          "Achernar",
          "Acrux",
          "Alpha Centauri B",
          "Arcturus",
          "Canopus",
          "Betelgeuse",
          "Mira",
          "Deneb",
          "Procyon",
          "Alnilam",
          "Lalande 21185",
          "Altair",
          "Alpha Centauri B",
          "Deneb",
          "Deneb",
          "Vega",
          "Arcturus",
          "Deneb",
          "Betelgeuse",
          "Capella",
          "Canopus",
          "Wolf 359",
          "Mira",
          "Lalande 21185",
          "Hadar",
          "Castor",
          "Betelgeuse",
          "Alpha Centauri B",
          "Procyon",
          "Polaris",
          "Altair",
          "Bellatrix",
          "Betelgeuse",
          "Altair",
          "Achernar",
          "Hadar",
          "Capella",
          "Alpha Centauri B",
          "Alnilam",
          "Sirius",
          "Fomalhaut",
          "Barnard's Star",
          "Sirius",
          "Wolf 359",
          "Acrux",
          "Regulus",
          "Sirius",
          "Castor",
          "Capella",
          "Hadar",
          "Canopus",
          "Rigil Kentaurus",
          "Capella",
          "Acrux",
          "Altair",
          "Lalande 21185",
          "Ross 154",
          "Altair",
          "Procyon",
          "Altair",
          "Acrux",
          "Arcturus",
          "Procyon",
          "Hadar",
          "Hadar",
          "Polaris",
          "Betelgeuse",
          "Altair",
          "Betelgeuse",
          "Lalande 21185",
          "Capella",
          "Achernar",
          "Alnilam",
          "Rigel",
          "Castor",
          "Hadar",
          "Alnilam",
          "Hadar",
          "Sirius",
          "Rigil Kentaurus",
          "Fomalhaut",
          "Fomalhaut",
          "Mira",
          "Procyon",
          "Mira",
          "Achernar",
          "Antares",
          "Altair",
          "Bellatrix",
          "Lalande 21185",
          "Vega",
          "Mira",
          "Arcturus",
          "Vega",
          "Altair",
          "Fomalhaut",
          "Alpha Centauri B",
          "Fomalhaut",
          "Canopus",
          "Altair",
          "Vega",
          "Castor",
          "Bellatrix",
          "Alnilam",
          "Hadar",
          "Capella",
          "Deneb",
          "Arcturus",
          "Hadar",
          "Vega",
          "Capella",
          "Bellatrix",
          "Alnilam",
          "Arcturus",
          "Regulus",
          "Altair",
          "Achernar",
          "Capella",
          "Betelgeuse",
          "Rigil Kentaurus",
          "Betelgeuse",
          "Mira",
          "Alnilam",
          "Fomalhaut",
          "Altair",
          "Vega",
          "Procyon",
          "Acrux",
          "Antares",
          "Capella",
          "Sirius",
          "Ross 154",
          "Canopus",
          "Bellatrix",
          "Arcturus",
          "Canopus",
          "Ross 154",
          "Hadar",
          "Fomalhaut",
          "Vega",
          "Alpha Centauri B",
          "Spica",
          "Aldebaran",
          "Mira",
          "Vega",
          "Betelgeuse",
          "Castor",
          "Rigel",
          "Ross 154",
          "Wolf 359",
          "Acrux",
          "Fomalhaut",
          "Rigel",
          "Wolf 359",
          "Canopus",
          "Rigil Kentaurus",
          "Arcturus",
          "Arcturus",
          "Fomalhaut",
          "Deneb",
          "Mira",
          "Procyon",
          "Canopus",
          "Wolf 359",
          "Bellatrix",
          "Altair",
          "Capella",
          "Rigil Kentaurus",
          "Rigil Kentaurus",
          "Alpha Centauri B",
          "Ross 154",
          "Achernar",
          "Ross 154",
          "Hadar",
          "Rigil Kentaurus",
          "Achernar",
          "Lalande 21185",
          "Alpha Centauri B",
          "Arcturus",
          "Barnard's Star",
          "Betelgeuse",
          "Altair",
          "Capella",
          "Fomalhaut",
          "Arcturus",
          "Acrux",
          "Altair",
          "Hadar",
          "Spica",
          "Hadar",
          "Mira",
          "Antares",
          "Lalande 21185",
          "Ross 154",
          "Regulus",
          "Bellatrix",
          "Acrux",
          "Castor",
          "Bellatrix",
          "Polaris",
          "Polaris",
          "Vega",
          "Arcturus",
          "Regulus",
          "Antares",
          "Vega",
          "Barnard's Star",
          "Castor",
          "Vega",
          "Hadar",
          "Betelgeuse",
          "Vega",
          "Lalande 21185",
          "Polaris",
          "Polaris",
          "Rigel",
          "Vega",
          "Sirius",
          "Sirius",
          "Acrux",
          "Rigil Kentaurus",
          "Polaris",
          "Sirius",
          "Canopus",
          "Capella",
          "Barnard's Star",
          "Canopus",
          "Vega",
          "Spica",
          "Ross 154",
          "Achernar",
          "Ross 154",
          "Capella",
          "Spica",
          "Deneb",
          "Bellatrix",
          "Arcturus",
          "Alpha Centauri B",
          "Altair",
          "Canopus",
          "Lalande 21185",
          "Hadar",
          "Canopus",
          "Hadar",
          "Altair",
          "Castor",
          "Polaris",
          "Lalande 21185",
          "Canopus",
          "Spica",
          "Polaris",
          "Alpha Centauri B",
          "Lalande 21185",
          "Mira",
          "Rigel",
          "Castor",
          "Betelgeuse",
          "Mira",
          "Fomalhaut",
          "Polaris",
          "Hadar",
          "Antares",
          "Bellatrix",
          "Betelgeuse",
          "Achernar",
          "Polaris",
          "Mira",
          "Polaris",
          "Lalande 21185",
          "Deneb",
          "Polaris",
          "Vega",
          "Alpha Centauri B",
          "Sirius",
          "Alnilam",
          "Procyon",
          "Capella",
          "Bellatrix",
          "Lalande 21185",
          "Fomalhaut",
          "Alnilam",
          "Ross 154",
          "Mira",
          "Mira",
          "Rigil Kentaurus",
          "Altair",
          "Altair",
          "Alpha Centauri B",
          "Barnard's Star",
          "Acrux",
          "Achernar",
          "Hadar",
          "Arcturus",
          "Barnard's Star",
          "Fomalhaut",
          "Alnilam",
          "Wolf 359",
          "Barnard's Star",
          "Rigel",
          "Vega",
          "Alnilam",
          "Procyon",
          "Fomalhaut",
          "Ross 154",
          "Antares",
          "Hadar",
          "Altair",
          "Acrux",
          "Barnard's Star",
          "Spica",
          "Aldebaran",
          "Canopus",
          "Ross 154",
          "Fomalhaut",
          "Altair",
          "Barnard's Star",
          "Antares",
          "Altair",
          "Canopus",
          "Polaris",
          "Aldebaran",
          "Spica",
          "Arcturus",
          "Aldebaran",
          "Rigil Kentaurus",
          "Altair",
          "Capella",
          "Hadar",
          "Canopus",
          "Canopus",
          "Deneb",
          "Regulus",
          "Altair",
          "Lalande 21185",
          "Antares",
          "Procyon",
          "Rigil Kentaurus",
          "Bellatrix",
          "Capella",
          "Bellatrix",
          "Arcturus",
          "Arcturus",
          "Fomalhaut",
          "Procyon",
          "Mira",
          "Barnard's Star",
          "Ross 154",
          "Spica",
          "Betelgeuse",
          "Castor",
          "Bellatrix",
          "Mira",
          "Alpha Centauri B",
          "Bellatrix",
          "Ross 154",
          "Betelgeuse",
          "Ross 154",
          "Rigel",
          "Betelgeuse",
          "Rigel",
          "Regulus",
          "Ross 154",
          "Procyon",
          "Hadar",
          "Altair",
          "Mira",
          "Sirius",
          "Fomalhaut",
          "Wolf 359",
          "Achernar",
          "Capella",
          "Vega",
          "Deneb",
          "Ross 154",
          "Betelgeuse",
          "Altair",
          "Arcturus",
          "Ross 154",
          "Achernar",
          "Ross 154",
          "Hadar",
          "Hadar",
          "Ross 154",
          "Polaris",
          "Betelgeuse",
          "Castor",
          "Polaris",
          "Achernar",
          "Alnilam",
          "Capella",
          "Mira",
          "Canopus",
          "Achernar",
          "Castor",
          "Spica",
          "Hadar",
          "Acrux",
          "Sirius",
          "Rigil Kentaurus",
          "Betelgeuse",
          "Castor",
          "Mira",
          "Sirius",
          "Vega",
          "Achernar",
          "Altair",
          "Polaris",
          "Rigil Kentaurus",
          "Altair",
          "Barnard's Star",
          "Polaris",
          "Vega",
          "Barnard's Star",
          "Mira",
          "Arcturus",
          "Castor",
          "Aldebaran",
          "Vega",
          "Rigel",
          "Barnard's Star",
          "Deneb",
          "Betelgeuse",
          "Altair",
          "Spica",
          "Ross 154",
          "Regulus",
          "Fomalhaut",
          "Alnilam",
          "Deneb",
          "Polaris",
          "Achernar",
          "Sirius",
          "Rigel",
          "Fomalhaut",
          "Regulus",
          "Sirius",
          "Barnard's Star",
          "Mira",
          "Rigil Kentaurus",
          "Antares",
          "Rigil Kentaurus",
          "Sirius",
          "Arcturus",
          "Antares",
          "Procyon",
          "Sirius",
          "Alnilam",
          "Mira",
          "Alnilam",
          "Altair",
          "Altair",
          "Ross 154",
          "Rigil Kentaurus",
          "Antares",
          "Hadar",
          "Antares",
          "Arcturus",
          "Mira",
          "Vega",
          "Castor",
          "Vega",
          "Regulus",
          "Castor",
          "Procyon",
          "Barnard's Star",
          "Achernar",
          "Bellatrix",
          "Canopus",
          "Alnilam",
          "Polaris",
          "Ross 154",
          "Achernar",
          "Achernar",
          "Mira",
          "Betelgeuse",
          "Bellatrix",
          "Fomalhaut",
          "Achernar",
          "Sirius",
          "Altair",
          "Wolf 359",
          "Sirius",
          "Castor",
          "Procyon",
          "Aldebaran",
          "Spica",
          "Antares",
          "Sirius",
          "Wolf 359",
          "Canopus",
          "Altair",
          "Spica",
          "Altair",
          "Sirius",
          "Deneb",
          "Canopus",
          "Canopus",
          "Alnilam",
          "Ross 154",
          "Castor",
          "Altair",
          "Sirius",
          "Ross 154",
          "Deneb",
          "Achernar",
          "Fomalhaut",
          "Alpha Centauri B",
          "Altair",
          "Acrux",
          "Fomalhaut",
          "Capella",
          "Fomalhaut",
          "Regulus",
          "Altair",
          "Betelgeuse",
          "Bellatrix",
          "Capella",
          "Wolf 359",
          "Canopus",
          "Alnilam",
          "Mira",
          "Barnard's Star",
          "Deneb",
          "Alnilam",
          "Spica",
          "Hadar",
          "Castor",
          "Ross 154",
          "Mira",
          "Alnilam",
          "Betelgeuse",
          "Barnard's Star",
          "Lalande 21185",
          "Wolf 359",
          "Altair",
          "Betelgeuse",
          "Spica",
          "Ross 154",
          "Capella",
          "Hadar",
          "Alnilam",
          "Ross 154",
          "Lalande 21185",
          "Arcturus",
          "Castor",
          "Castor",
          "Rigil Kentaurus",
          "Mira",
          "Altair",
          "Polaris",
          "Castor",
          "Ross 154",
          "Castor",
          "Alnilam",
          "Canopus",
          "Sirius",
          "Canopus",
          "Vega",
          "Sirius",
          "Polaris",
          "Capella",
          "Antares",
          "Regulus",
          "Alpha Centauri B",
          "Canopus",
          "Altair",
          "Rigil Kentaurus",
          "Alnilam",
          "Canopus",
          "Canopus",
          "Hadar",
          "Alnilam",
          "Deneb",
          "Altair",
          "Acrux",
          "Procyon",
          "Spica",
          "Rigil Kentaurus",
          "Capella",
          "Antares",
          "Rigil Kentaurus",
          "Bellatrix",
          "Capella",
          "Acrux",
          "Barnard's Star",
          "Rigel",
          "Altair",
          "Rigel",
          "Acrux",
          "Regulus",
          "Regulus",
          "Canopus",
          "Bellatrix",
          "Regulus",
          "Altair",
          "Capella",
          "Rigel",
          "Hadar",
          "Ross 154",
          "Fomalhaut",
          "Arcturus",
          "Ross 154",
          "Arcturus",
          "Fomalhaut",
          "Barnard's Star",
          "Altair",
          "Regulus",
          "Canopus",
          "Capella",
          "Aldebaran",
          "Achernar",
          "Arcturus",
          "Bellatrix",
          "Spica",
          "Barnard's Star",
          "Canopus",
          "Betelgeuse",
          "Sirius",
          "Deneb",
          "Spica",
          "Alpha Centauri B",
          "Achernar",
          "Hadar",
          "Betelgeuse",
          "Fomalhaut",
          "Antares",
          "Rigil Kentaurus",
          "Aldebaran",
          "Wolf 359",
          "Wolf 359",
          "Polaris",
          "Betelgeuse",
          "Aldebaran",
          "Bellatrix",
          "Rigil Kentaurus",
          "Wolf 359",
          "Achernar",
          "Alnilam",
          "Betelgeuse",
          "Castor",
          "Rigil Kentaurus",
          "Procyon",
          "Spica",
          "Vega",
          "Ross 154",
          "Barnard's Star",
          "Ross 154",
          "Altair",
          "Achernar",
          "Alpha Centauri B",
          "Bellatrix",
          "Canopus",
          "Castor",
          "Arcturus",
          "Castor",
          "Hadar",
          "Barnard's Star",
          "Canopus",
          "Betelgeuse",
          "Hadar",
          "Spica",
          "Castor",
          "Castor",
          "Bellatrix",
          "Ross 154",
          "Mira",
          "Capella",
          "Wolf 359",
          "Aldebaran",
          "Antares",
          "Altair",
          "Wolf 359",
          "Acrux",
          "Arcturus",
          "Bellatrix",
          "Altair",
          "Canopus",
          "Arcturus",
          "Bellatrix",
          "Spica",
          "Procyon",
          "Capella",
          "Vega",
          "Acrux",
          "Procyon",
          "Alpha Centauri B",
          "Canopus",
          "Altair",
          "Vega",
          "Barnard's Star",
          "Altair",
          "Ross 154",
          "Wolf 359",
          "Vega",
          "Achernar",
          "Rigil Kentaurus",
          "Altair",
          "Antares",
          "Betelgeuse",
          "Sirius",
          "Procyon",
          "Ross 154",
          "Canopus",
          "Aldebaran",
          "Arcturus",
          "Antares",
          "Lalande 21185",
          "Barnard's Star",
          "Barnard's Star",
          "Castor",
          "Spica",
          "Acrux",
          "Spica",
          "Procyon",
          "Canopus",
          "Altair",
          "Rigil Kentaurus",
          "Vega",
          "Procyon",
          "Arcturus",
          "Canopus",
          "Altair",
          "Hadar",
          "Castor",
          "Antares",
          "Altair",
          "Ross 154",
          "Capella",
          "Castor",
          "Procyon",
          "Lalande 21185",
          "Mira",
          "Betelgeuse",
          "Betelgeuse",
          "Lalande 21185",
          "Altair",
          "Vega",
          "Mira",
          "Rigil Kentaurus",
          "Mira",
          "Altair",
          "Altair",
          "Deneb",
          "Rigel",
          "Altair",
          "Barnard's Star",
          "Wolf 359",
          "Hadar",
          "Bellatrix",
          "Alpha Centauri B",
          "Wolf 359"
         ],
         "xaxis": "x",
         "yaxis": "y"
        }
       ],
       "layout": {
        "barmode": "relative",
        "legend": {
         "tracegroupgap": 0
        },
        "template": {
         "data": {
          "bar": [
           {
            "error_x": {
             "color": "#2a3f5f"
            },
            "error_y": {
             "color": "#2a3f5f"
            },
            "marker": {
             "line": {
              "color": "#E5ECF6",
              "width": 0.5
             },
             "pattern": {
              "fillmode": "overlay",
              "size": 10,
              "solidity": 0.2
             }
            },
            "type": "bar"
           }
          ],
          "barpolar": [
           {
            "marker": {
             "line": {
              "color": "#E5ECF6",
              "width": 0.5
             },
             "pattern": {
              "fillmode": "overlay",
              "size": 10,
              "solidity": 0.2
             }
            },
            "type": "barpolar"
           }
          ],
          "carpet": [
           {
            "aaxis": {
             "endlinecolor": "#2a3f5f",
             "gridcolor": "white",
             "linecolor": "white",
             "minorgridcolor": "white",
             "startlinecolor": "#2a3f5f"
            },
            "baxis": {
             "endlinecolor": "#2a3f5f",
             "gridcolor": "white",
             "linecolor": "white",
             "minorgridcolor": "white",
             "startlinecolor": "#2a3f5f"
            },
            "type": "carpet"
           }
          ],
          "choropleth": [
           {
            "colorbar": {
             "outlinewidth": 0,
             "ticks": ""
            },
            "type": "choropleth"
           }
          ],
          "contour": [
           {
            "colorbar": {
             "outlinewidth": 0,
             "ticks": ""
            },
            "colorscale": [
             [
              0,
              "#0d0887"
             ],
             [
              0.1111111111111111,
              "#46039f"
             ],
             [
              0.2222222222222222,
              "#7201a8"
             ],
             [
              0.3333333333333333,
              "#9c179e"
             ],
             [
              0.4444444444444444,
              "#bd3786"
             ],
             [
              0.5555555555555556,
              "#d8576b"
             ],
             [
              0.6666666666666666,
              "#ed7953"
             ],
             [
              0.7777777777777778,
              "#fb9f3a"
             ],
             [
              0.8888888888888888,
              "#fdca26"
             ],
             [
              1,
              "#f0f921"
             ]
            ],
            "type": "contour"
           }
          ],
          "contourcarpet": [
           {
            "colorbar": {
             "outlinewidth": 0,
             "ticks": ""
            },
            "type": "contourcarpet"
           }
          ],
          "heatmap": [
           {
            "colorbar": {
             "outlinewidth": 0,
             "ticks": ""
            },
            "colorscale": [
             [
              0,
              "#0d0887"
             ],
             [
              0.1111111111111111,
              "#46039f"
             ],
             [
              0.2222222222222222,
              "#7201a8"
             ],
             [
              0.3333333333333333,
              "#9c179e"
             ],
             [
              0.4444444444444444,
              "#bd3786"
             ],
             [
              0.5555555555555556,
              "#d8576b"
             ],
             [
              0.6666666666666666,
              "#ed7953"
             ],
             [
              0.7777777777777778,
              "#fb9f3a"
             ],
             [
              0.8888888888888888,
              "#fdca26"
             ],
             [
              1,
              "#f0f921"
             ]
            ],
            "type": "heatmap"
           }
          ],
          "heatmapgl": [
           {
            "colorbar": {
             "outlinewidth": 0,
             "ticks": ""
            },
            "colorscale": [
             [
              0,
              "#0d0887"
             ],
             [
              0.1111111111111111,
              "#46039f"
             ],
             [
              0.2222222222222222,
              "#7201a8"
             ],
             [
              0.3333333333333333,
              "#9c179e"
             ],
             [
              0.4444444444444444,
              "#bd3786"
             ],
             [
              0.5555555555555556,
              "#d8576b"
             ],
             [
              0.6666666666666666,
              "#ed7953"
             ],
             [
              0.7777777777777778,
              "#fb9f3a"
             ],
             [
              0.8888888888888888,
              "#fdca26"
             ],
             [
              1,
              "#f0f921"
             ]
            ],
            "type": "heatmapgl"
           }
          ],
          "histogram": [
           {
            "marker": {
             "pattern": {
              "fillmode": "overlay",
              "size": 10,
              "solidity": 0.2
             }
            },
            "type": "histogram"
           }
          ],
          "histogram2d": [
           {
            "colorbar": {
             "outlinewidth": 0,
             "ticks": ""
            },
            "colorscale": [
             [
              0,
              "#0d0887"
             ],
             [
              0.1111111111111111,
              "#46039f"
             ],
             [
              0.2222222222222222,
              "#7201a8"
             ],
             [
              0.3333333333333333,
              "#9c179e"
             ],
             [
              0.4444444444444444,
              "#bd3786"
             ],
             [
              0.5555555555555556,
              "#d8576b"
             ],
             [
              0.6666666666666666,
              "#ed7953"
             ],
             [
              0.7777777777777778,
              "#fb9f3a"
             ],
             [
              0.8888888888888888,
              "#fdca26"
             ],
             [
              1,
              "#f0f921"
             ]
            ],
            "type": "histogram2d"
           }
          ],
          "histogram2dcontour": [
           {
            "colorbar": {
             "outlinewidth": 0,
             "ticks": ""
            },
            "colorscale": [
             [
              0,
              "#0d0887"
             ],
             [
              0.1111111111111111,
              "#46039f"
             ],
             [
              0.2222222222222222,
              "#7201a8"
             ],
             [
              0.3333333333333333,
              "#9c179e"
             ],
             [
              0.4444444444444444,
              "#bd3786"
             ],
             [
              0.5555555555555556,
              "#d8576b"
             ],
             [
              0.6666666666666666,
              "#ed7953"
             ],
             [
              0.7777777777777778,
              "#fb9f3a"
             ],
             [
              0.8888888888888888,
              "#fdca26"
             ],
             [
              1,
              "#f0f921"
             ]
            ],
            "type": "histogram2dcontour"
           }
          ],
          "mesh3d": [
           {
            "colorbar": {
             "outlinewidth": 0,
             "ticks": ""
            },
            "type": "mesh3d"
           }
          ],
          "parcoords": [
           {
            "line": {
             "colorbar": {
              "outlinewidth": 0,
              "ticks": ""
             }
            },
            "type": "parcoords"
           }
          ],
          "pie": [
           {
            "automargin": true,
            "type": "pie"
           }
          ],
          "scatter": [
           {
            "fillpattern": {
             "fillmode": "overlay",
             "size": 10,
             "solidity": 0.2
            },
            "type": "scatter"
           }
          ],
          "scatter3d": [
           {
            "line": {
             "colorbar": {
              "outlinewidth": 0,
              "ticks": ""
             }
            },
            "marker": {
             "colorbar": {
              "outlinewidth": 0,
              "ticks": ""
             }
            },
            "type": "scatter3d"
           }
          ],
          "scattercarpet": [
           {
            "marker": {
             "colorbar": {
              "outlinewidth": 0,
              "ticks": ""
             }
            },
            "type": "scattercarpet"
           }
          ],
          "scattergeo": [
           {
            "marker": {
             "colorbar": {
              "outlinewidth": 0,
              "ticks": ""
             }
            },
            "type": "scattergeo"
           }
          ],
          "scattergl": [
           {
            "marker": {
             "colorbar": {
              "outlinewidth": 0,
              "ticks": ""
             }
            },
            "type": "scattergl"
           }
          ],
          "scattermapbox": [
           {
            "marker": {
             "colorbar": {
              "outlinewidth": 0,
              "ticks": ""
             }
            },
            "type": "scattermapbox"
           }
          ],
          "scatterpolar": [
           {
            "marker": {
             "colorbar": {
              "outlinewidth": 0,
              "ticks": ""
             }
            },
            "type": "scatterpolar"
           }
          ],
          "scatterpolargl": [
           {
            "marker": {
             "colorbar": {
              "outlinewidth": 0,
              "ticks": ""
             }
            },
            "type": "scatterpolargl"
           }
          ],
          "scatterternary": [
           {
            "marker": {
             "colorbar": {
              "outlinewidth": 0,
              "ticks": ""
             }
            },
            "type": "scatterternary"
           }
          ],
          "surface": [
           {
            "colorbar": {
             "outlinewidth": 0,
             "ticks": ""
            },
            "colorscale": [
             [
              0,
              "#0d0887"
             ],
             [
              0.1111111111111111,
              "#46039f"
             ],
             [
              0.2222222222222222,
              "#7201a8"
             ],
             [
              0.3333333333333333,
              "#9c179e"
             ],
             [
              0.4444444444444444,
              "#bd3786"
             ],
             [
              0.5555555555555556,
              "#d8576b"
             ],
             [
              0.6666666666666666,
              "#ed7953"
             ],
             [
              0.7777777777777778,
              "#fb9f3a"
             ],
             [
              0.8888888888888888,
              "#fdca26"
             ],
             [
              1,
              "#f0f921"
             ]
            ],
            "type": "surface"
           }
          ],
          "table": [
           {
            "cells": {
             "fill": {
              "color": "#EBF0F8"
             },
             "line": {
              "color": "white"
             }
            },
            "header": {
             "fill": {
              "color": "#C8D4E3"
             },
             "line": {
              "color": "white"
             }
            },
            "type": "table"
           }
          ]
         },
         "layout": {
          "annotationdefaults": {
           "arrowcolor": "#2a3f5f",
           "arrowhead": 0,
           "arrowwidth": 1
          },
          "autotypenumbers": "strict",
          "coloraxis": {
           "colorbar": {
            "outlinewidth": 0,
            "ticks": ""
           }
          },
          "colorscale": {
           "diverging": [
            [
             0,
             "#8e0152"
            ],
            [
             0.1,
             "#c51b7d"
            ],
            [
             0.2,
             "#de77ae"
            ],
            [
             0.3,
             "#f1b6da"
            ],
            [
             0.4,
             "#fde0ef"
            ],
            [
             0.5,
             "#f7f7f7"
            ],
            [
             0.6,
             "#e6f5d0"
            ],
            [
             0.7,
             "#b8e186"
            ],
            [
             0.8,
             "#7fbc41"
            ],
            [
             0.9,
             "#4d9221"
            ],
            [
             1,
             "#276419"
            ]
           ],
           "sequential": [
            [
             0,
             "#0d0887"
            ],
            [
             0.1111111111111111,
             "#46039f"
            ],
            [
             0.2222222222222222,
             "#7201a8"
            ],
            [
             0.3333333333333333,
             "#9c179e"
            ],
            [
             0.4444444444444444,
             "#bd3786"
            ],
            [
             0.5555555555555556,
             "#d8576b"
            ],
            [
             0.6666666666666666,
             "#ed7953"
            ],
            [
             0.7777777777777778,
             "#fb9f3a"
            ],
            [
             0.8888888888888888,
             "#fdca26"
            ],
            [
             1,
             "#f0f921"
            ]
           ],
           "sequentialminus": [
            [
             0,
             "#0d0887"
            ],
            [
             0.1111111111111111,
             "#46039f"
            ],
            [
             0.2222222222222222,
             "#7201a8"
            ],
            [
             0.3333333333333333,
             "#9c179e"
            ],
            [
             0.4444444444444444,
             "#bd3786"
            ],
            [
             0.5555555555555556,
             "#d8576b"
            ],
            [
             0.6666666666666666,
             "#ed7953"
            ],
            [
             0.7777777777777778,
             "#fb9f3a"
            ],
            [
             0.8888888888888888,
             "#fdca26"
            ],
            [
             1,
             "#f0f921"
            ]
           ]
          },
          "colorway": [
           "#636efa",
           "#EF553B",
           "#00cc96",
           "#ab63fa",
           "#FFA15A",
           "#19d3f3",
           "#FF6692",
           "#B6E880",
           "#FF97FF",
           "#FECB52"
          ],
          "font": {
           "color": "#2a3f5f"
          },
          "geo": {
           "bgcolor": "white",
           "lakecolor": "white",
           "landcolor": "#E5ECF6",
           "showlakes": true,
           "showland": true,
           "subunitcolor": "white"
          },
          "hoverlabel": {
           "align": "left"
          },
          "hovermode": "closest",
          "mapbox": {
           "style": "light"
          },
          "paper_bgcolor": "white",
          "plot_bgcolor": "#E5ECF6",
          "polar": {
           "angularaxis": {
            "gridcolor": "white",
            "linecolor": "white",
            "ticks": ""
           },
           "bgcolor": "#E5ECF6",
           "radialaxis": {
            "gridcolor": "white",
            "linecolor": "white",
            "ticks": ""
           }
          },
          "scene": {
           "xaxis": {
            "backgroundcolor": "#E5ECF6",
            "gridcolor": "white",
            "gridwidth": 2,
            "linecolor": "white",
            "showbackground": true,
            "ticks": "",
            "zerolinecolor": "white"
           },
           "yaxis": {
            "backgroundcolor": "#E5ECF6",
            "gridcolor": "white",
            "gridwidth": 2,
            "linecolor": "white",
            "showbackground": true,
            "ticks": "",
            "zerolinecolor": "white"
           },
           "zaxis": {
            "backgroundcolor": "#E5ECF6",
            "gridcolor": "white",
            "gridwidth": 2,
            "linecolor": "white",
            "showbackground": true,
            "ticks": "",
            "zerolinecolor": "white"
           }
          },
          "shapedefaults": {
           "line": {
            "color": "#2a3f5f"
           }
          },
          "ternary": {
           "aaxis": {
            "gridcolor": "white",
            "linecolor": "white",
            "ticks": ""
           },
           "baxis": {
            "gridcolor": "white",
            "linecolor": "white",
            "ticks": ""
           },
           "bgcolor": "#E5ECF6",
           "caxis": {
            "gridcolor": "white",
            "linecolor": "white",
            "ticks": ""
           }
          },
          "title": {
           "x": 0.05
          },
          "xaxis": {
           "automargin": true,
           "gridcolor": "white",
           "linecolor": "white",
           "ticks": "",
           "title": {
            "standoff": 15
           },
           "zerolinecolor": "white",
           "zerolinewidth": 2
          },
          "yaxis": {
           "automargin": true,
           "gridcolor": "white",
           "linecolor": "white",
           "ticks": "",
           "title": {
            "standoff": 15
           },
           "zerolinecolor": "white",
           "zerolinewidth": 2
          }
         }
        },
        "title": {
         "text": "Histogram of Name column"
        },
        "xaxis": {
         "anchor": "y",
         "domain": [
          0,
          1
         ],
         "title": {
          "text": "Name"
         }
        },
        "yaxis": {
         "anchor": "x",
         "domain": [
          0,
          1
         ],
         "title": {
          "text": "count"
         }
        }
       }
      }
     },
     "metadata": {},
     "output_type": "display_data"
    },
    {
     "data": {
      "text/plain": [
       "<Figure size 1200x800 with 0 Axes>"
      ]
     },
     "metadata": {},
     "output_type": "display_data"
    }
   ],
   "source": [
    " # make a histogram of name column using plotly express:\n",
    "\n",
    "plt.figure(figsize=(12, 8))\n",
    "fig = px.histogram(df, x='Name', title='Histogram of Name column')\n",
    "fig.show()"
   ]
  },
  {
   "cell_type": "code",
   "execution_count": 42,
   "metadata": {},
   "outputs": [
    {
     "data": {
      "application/vnd.plotly.v1+json": {
       "config": {
        "plotlyServerURL": "https://plot.ly"
       },
       "data": [
        {
         "alignmentgroup": "True",
         "bingroup": "x",
         "hovertemplate": "Spectral Class=A7V<br>Name=%{x}<br>count=%{y}<extra></extra>",
         "legendgroup": "A7V",
         "marker": {
          "color": "#636efa",
          "pattern": {
           "shape": ""
          }
         },
         "name": "A7V",
         "offsetgroup": "A7V",
         "orientation": "v",
         "showlegend": true,
         "type": "histogram",
         "x": [
          "Altair",
          "Altair",
          "Altair",
          "Altair",
          "Altair",
          "Altair",
          "Altair",
          "Altair",
          "Altair",
          "Altair",
          "Altair",
          "Altair",
          "Altair",
          "Altair",
          "Altair",
          "Altair",
          "Altair",
          "Altair",
          "Altair",
          "Altair",
          "Altair",
          "Altair",
          "Altair",
          "Altair",
          "Altair",
          "Altair",
          "Altair",
          "Altair",
          "Altair",
          "Altair",
          "Altair",
          "Altair",
          "Altair",
          "Altair",
          "Altair",
          "Altair",
          "Altair",
          "Altair",
          "Altair",
          "Altair",
          "Altair",
          "Altair",
          "Altair",
          "Altair",
          "Altair",
          "Altair",
          "Altair",
          "Altair",
          "Altair",
          "Altair",
          "Altair",
          "Altair",
          "Altair",
          "Altair",
          "Altair",
          "Altair",
          "Altair",
          "Altair",
          "Altair",
          "Altair",
          "Altair",
          "Altair",
          "Altair",
          "Altair",
          "Altair",
          "Altair",
          "Altair",
          "Altair",
          "Altair",
          "Altair",
          "Altair",
          "Altair",
          "Altair",
          "Altair"
         ],
         "xaxis": "x",
         "yaxis": "y"
        },
        {
         "alignmentgroup": "True",
         "bingroup": "x",
         "hovertemplate": "Spectral Class=A2Ia<br>Name=%{x}<br>count=%{y}<extra></extra>",
         "legendgroup": "A2Ia",
         "marker": {
          "color": "#EF553B",
          "pattern": {
           "shape": ""
          }
         },
         "name": "A2Ia",
         "offsetgroup": "A2Ia",
         "orientation": "v",
         "showlegend": true,
         "type": "histogram",
         "x": [
          "Deneb",
          "Deneb",
          "Deneb",
          "Deneb",
          "Deneb",
          "Deneb",
          "Deneb",
          "Deneb",
          "Deneb",
          "Deneb",
          "Deneb",
          "Deneb",
          "Deneb",
          "Deneb",
          "Deneb",
          "Deneb",
          "Deneb",
          "Deneb",
          "Deneb",
          "Deneb",
          "Deneb",
          "Deneb",
          "Deneb",
          "Deneb",
          "Deneb"
         ],
         "xaxis": "x",
         "yaxis": "y"
        },
        {
         "alignmentgroup": "True",
         "bingroup": "x",
         "hovertemplate": "Spectral Class=M4Ve<br>Name=%{x}<br>count=%{y}<extra></extra>",
         "legendgroup": "M4Ve",
         "marker": {
          "color": "#00cc96",
          "pattern": {
           "shape": ""
          }
         },
         "name": "M4Ve",
         "offsetgroup": "M4Ve",
         "orientation": "v",
         "showlegend": true,
         "type": "histogram",
         "x": [
          "Barnard's Star",
          "Barnard's Star",
          "Barnard's Star",
          "Barnard's Star",
          "Barnard's Star",
          "Barnard's Star",
          "Barnard's Star",
          "Barnard's Star",
          "Barnard's Star",
          "Barnard's Star",
          "Barnard's Star",
          "Barnard's Star",
          "Barnard's Star",
          "Barnard's Star",
          "Barnard's Star",
          "Barnard's Star",
          "Barnard's Star",
          "Barnard's Star",
          "Barnard's Star",
          "Barnard's Star",
          "Barnard's Star",
          "Barnard's Star",
          "Barnard's Star",
          "Barnard's Star",
          "Barnard's Star",
          "Barnard's Star",
          "Barnard's Star",
          "Barnard's Star",
          "Barnard's Star",
          "Barnard's Star",
          "Barnard's Star",
          "Barnard's Star",
          "Barnard's Star",
          "Barnard's Star",
          "Barnard's Star",
          "Barnard's Star",
          "Barnard's Star",
          "Barnard's Star"
         ],
         "xaxis": "x",
         "yaxis": "y"
        },
        {
         "alignmentgroup": "True",
         "bingroup": "x",
         "hovertemplate": "Spectral Class=F7Ib<br>Name=%{x}<br>count=%{y}<extra></extra>",
         "legendgroup": "F7Ib",
         "marker": {
          "color": "#ab63fa",
          "pattern": {
           "shape": ""
          }
         },
         "name": "F7Ib",
         "offsetgroup": "F7Ib",
         "orientation": "v",
         "showlegend": true,
         "type": "histogram",
         "x": [
          "Polaris",
          "Polaris",
          "Polaris",
          "Polaris",
          "Polaris",
          "Polaris",
          "Polaris",
          "Polaris",
          "Polaris",
          "Polaris",
          "Polaris",
          "Polaris",
          "Polaris",
          "Polaris",
          "Polaris",
          "Polaris",
          "Polaris",
          "Polaris",
          "Polaris",
          "Polaris",
          "Polaris",
          "Polaris",
          "Polaris",
          "Polaris",
          "Polaris",
          "Polaris",
          "Polaris",
          "Polaris",
          "Polaris",
          "Polaris",
          "Polaris",
          "Polaris",
          "Polaris",
          "Polaris",
          "Polaris"
         ],
         "xaxis": "x",
         "yaxis": "y"
        },
        {
         "alignmentgroup": "True",
         "bingroup": "x",
         "hovertemplate": "Spectral Class=A1V<br>Name=%{x}<br>count=%{y}<extra></extra>",
         "legendgroup": "A1V",
         "marker": {
          "color": "#FFA15A",
          "pattern": {
           "shape": ""
          }
         },
         "name": "A1V",
         "offsetgroup": "A1V",
         "orientation": "v",
         "showlegend": true,
         "type": "histogram",
         "x": [
          "Sirius",
          "Castor",
          "Sirius",
          "Sirius",
          "Castor",
          "Castor",
          "Castor",
          "Castor",
          "Sirius",
          "Sirius",
          "Sirius",
          "Castor",
          "Sirius",
          "Sirius",
          "Sirius",
          "Castor",
          "Castor",
          "Castor",
          "Sirius",
          "Sirius",
          "Sirius",
          "Castor",
          "Castor",
          "Sirius",
          "Castor",
          "Sirius",
          "Castor",
          "Castor",
          "Castor",
          "Sirius",
          "Sirius",
          "Sirius",
          "Castor",
          "Castor",
          "Sirius",
          "Castor",
          "Sirius",
          "Castor",
          "Castor",
          "Sirius",
          "Castor",
          "Sirius",
          "Castor",
          "Sirius",
          "Sirius",
          "Sirius",
          "Sirius",
          "Castor",
          "Castor",
          "Sirius",
          "Sirius",
          "Castor",
          "Sirius",
          "Sirius",
          "Castor",
          "Sirius",
          "Castor",
          "Castor",
          "Castor",
          "Castor",
          "Castor",
          "Sirius",
          "Sirius",
          "Sirius",
          "Castor",
          "Castor",
          "Castor",
          "Castor",
          "Castor",
          "Sirius",
          "Castor",
          "Castor",
          "Castor"
         ],
         "xaxis": "x",
         "yaxis": "y"
        },
        {
         "alignmentgroup": "True",
         "bingroup": "x",
         "hovertemplate": "Spectral Class=A3V<br>Name=%{x}<br>count=%{y}<extra></extra>",
         "legendgroup": "A3V",
         "marker": {
          "color": "#19d3f3",
          "pattern": {
           "shape": ""
          }
         },
         "name": "A3V",
         "offsetgroup": "A3V",
         "orientation": "v",
         "showlegend": true,
         "type": "histogram",
         "x": [
          "Fomalhaut",
          "Fomalhaut",
          "Fomalhaut",
          "Fomalhaut",
          "Fomalhaut",
          "Fomalhaut",
          "Fomalhaut",
          "Fomalhaut",
          "Fomalhaut",
          "Fomalhaut",
          "Fomalhaut",
          "Fomalhaut",
          "Fomalhaut",
          "Fomalhaut",
          "Fomalhaut",
          "Fomalhaut",
          "Fomalhaut",
          "Fomalhaut",
          "Fomalhaut",
          "Fomalhaut",
          "Fomalhaut",
          "Fomalhaut",
          "Fomalhaut",
          "Fomalhaut",
          "Fomalhaut",
          "Fomalhaut",
          "Fomalhaut",
          "Fomalhaut",
          "Fomalhaut",
          "Fomalhaut",
          "Fomalhaut"
         ],
         "xaxis": "x",
         "yaxis": "y"
        },
        {
         "alignmentgroup": "True",
         "bingroup": "x",
         "hovertemplate": "Spectral Class=G8III<br>Name=%{x}<br>count=%{y}<extra></extra>",
         "legendgroup": "G8III",
         "marker": {
          "color": "#FF6692",
          "pattern": {
           "shape": ""
          }
         },
         "name": "G8III",
         "offsetgroup": "G8III",
         "orientation": "v",
         "showlegend": true,
         "type": "histogram",
         "x": [
          "Capella",
          "Capella",
          "Capella",
          "Capella",
          "Capella",
          "Capella",
          "Capella",
          "Capella",
          "Capella",
          "Capella",
          "Capella",
          "Capella",
          "Capella",
          "Capella",
          "Capella",
          "Capella",
          "Capella",
          "Capella",
          "Capella",
          "Capella",
          "Capella",
          "Capella",
          "Capella",
          "Capella",
          "Capella",
          "Capella",
          "Capella",
          "Capella",
          "Capella",
          "Capella",
          "Capella",
          "Capella",
          "Capella",
          "Capella",
          "Capella",
          "Capella",
          "Capella",
          "Capella",
          "Capella"
         ],
         "xaxis": "x",
         "yaxis": "y"
        },
        {
         "alignmentgroup": "True",
         "bingroup": "x",
         "hovertemplate": "Spectral Class=B2III<br>Name=%{x}<br>count=%{y}<extra></extra>",
         "legendgroup": "B2III",
         "marker": {
          "color": "#B6E880",
          "pattern": {
           "shape": ""
          }
         },
         "name": "B2III",
         "offsetgroup": "B2III",
         "orientation": "v",
         "showlegend": true,
         "type": "histogram",
         "x": [
          "Bellatrix",
          "Bellatrix",
          "Bellatrix",
          "Bellatrix",
          "Bellatrix",
          "Bellatrix",
          "Bellatrix",
          "Bellatrix",
          "Bellatrix",
          "Bellatrix",
          "Bellatrix",
          "Bellatrix",
          "Bellatrix",
          "Bellatrix",
          "Bellatrix",
          "Bellatrix",
          "Bellatrix",
          "Bellatrix",
          "Bellatrix",
          "Bellatrix",
          "Bellatrix",
          "Bellatrix",
          "Bellatrix",
          "Bellatrix",
          "Bellatrix",
          "Bellatrix",
          "Bellatrix",
          "Bellatrix",
          "Bellatrix",
          "Bellatrix",
          "Bellatrix",
          "Bellatrix",
          "Bellatrix",
          "Bellatrix",
          "Bellatrix",
          "Bellatrix",
          "Bellatrix"
         ],
         "xaxis": "x",
         "yaxis": "y"
        },
        {
         "alignmentgroup": "True",
         "bingroup": "x",
         "hovertemplate": "Spectral Class=B1III<br>Name=%{x}<br>count=%{y}<extra></extra>",
         "legendgroup": "B1III",
         "marker": {
          "color": "#FF97FF",
          "pattern": {
           "shape": ""
          }
         },
         "name": "B1III",
         "offsetgroup": "B1III",
         "orientation": "v",
         "showlegend": true,
         "type": "histogram",
         "x": [
          "Hadar",
          "Hadar",
          "Hadar",
          "Hadar",
          "Hadar",
          "Hadar",
          "Hadar",
          "Hadar",
          "Hadar",
          "Hadar",
          "Hadar",
          "Hadar",
          "Hadar",
          "Hadar",
          "Hadar",
          "Hadar",
          "Hadar",
          "Hadar",
          "Hadar",
          "Hadar",
          "Hadar",
          "Hadar",
          "Hadar",
          "Hadar",
          "Hadar",
          "Hadar",
          "Hadar",
          "Hadar",
          "Hadar",
          "Hadar",
          "Hadar",
          "Hadar",
          "Hadar",
          "Hadar",
          "Hadar",
          "Hadar",
          "Hadar",
          "Hadar",
          "Hadar",
          "Hadar",
          "Hadar",
          "Hadar",
          "Hadar",
          "Hadar",
          "Hadar"
         ],
         "xaxis": "x",
         "yaxis": "y"
        },
        {
         "alignmentgroup": "True",
         "bingroup": "x",
         "hovertemplate": "Spectral Class=M2Iab<br>Name=%{x}<br>count=%{y}<extra></extra>",
         "legendgroup": "M2Iab",
         "marker": {
          "color": "#FECB52",
          "pattern": {
           "shape": ""
          }
         },
         "name": "M2Iab",
         "offsetgroup": "M2Iab",
         "orientation": "v",
         "showlegend": true,
         "type": "histogram",
         "x": [
          "Betelgeuse",
          "Betelgeuse",
          "Betelgeuse",
          "Betelgeuse",
          "Betelgeuse",
          "Betelgeuse",
          "Betelgeuse",
          "Betelgeuse",
          "Betelgeuse",
          "Betelgeuse",
          "Betelgeuse",
          "Betelgeuse",
          "Betelgeuse",
          "Betelgeuse",
          "Betelgeuse",
          "Betelgeuse",
          "Betelgeuse",
          "Betelgeuse",
          "Betelgeuse",
          "Betelgeuse",
          "Betelgeuse",
          "Betelgeuse",
          "Betelgeuse",
          "Betelgeuse",
          "Betelgeuse",
          "Betelgeuse",
          "Betelgeuse",
          "Betelgeuse",
          "Betelgeuse",
          "Betelgeuse",
          "Betelgeuse",
          "Betelgeuse",
          "Betelgeuse",
          "Betelgeuse",
          "Betelgeuse",
          "Betelgeuse",
          "Betelgeuse",
          "Betelgeuse",
          "Betelgeuse",
          "Betelgeuse",
          "Betelgeuse",
          "Betelgeuse",
          "Betelgeuse",
          "Betelgeuse"
         ],
         "xaxis": "x",
         "yaxis": "y"
        },
        {
         "alignmentgroup": "True",
         "bingroup": "x",
         "hovertemplate": "Spectral Class=B7V<br>Name=%{x}<br>count=%{y}<extra></extra>",
         "legendgroup": "B7V",
         "marker": {
          "color": "#636efa",
          "pattern": {
           "shape": ""
          }
         },
         "name": "B7V",
         "offsetgroup": "B7V",
         "orientation": "v",
         "showlegend": true,
         "type": "histogram",
         "x": [
          "Regulus",
          "Regulus",
          "Regulus",
          "Regulus",
          "Regulus",
          "Regulus",
          "Regulus",
          "Regulus",
          "Regulus",
          "Regulus",
          "Regulus",
          "Regulus",
          "Regulus",
          "Regulus",
          "Regulus",
          "Regulus",
          "Regulus",
          "Regulus",
          "Regulus",
          "Regulus",
          "Regulus",
          "Regulus",
          "Regulus",
          "Regulus",
          "Regulus",
          "Regulus"
         ],
         "xaxis": "x",
         "yaxis": "y"
        },
        {
         "alignmentgroup": "True",
         "bingroup": "x",
         "hovertemplate": "Spectral Class=M7IIIe<br>Name=%{x}<br>count=%{y}<extra></extra>",
         "legendgroup": "M7IIIe",
         "marker": {
          "color": "#EF553B",
          "pattern": {
           "shape": ""
          }
         },
         "name": "M7IIIe",
         "offsetgroup": "M7IIIe",
         "orientation": "v",
         "showlegend": true,
         "type": "histogram",
         "x": [
          "Mira",
          "Mira",
          "Mira",
          "Mira",
          "Mira",
          "Mira",
          "Mira",
          "Mira",
          "Mira",
          "Mira",
          "Mira",
          "Mira",
          "Mira",
          "Mira",
          "Mira",
          "Mira",
          "Mira",
          "Mira",
          "Mira",
          "Mira",
          "Mira",
          "Mira",
          "Mira",
          "Mira",
          "Mira",
          "Mira",
          "Mira",
          "Mira",
          "Mira",
          "Mira",
          "Mira",
          "Mira",
          "Mira",
          "Mira",
          "Mira",
          "Mira",
          "Mira"
         ],
         "xaxis": "x",
         "yaxis": "y"
        },
        {
         "alignmentgroup": "True",
         "bingroup": "x",
         "hovertemplate": "Spectral Class=B0.5IV<br>Name=%{x}<br>count=%{y}<extra></extra>",
         "legendgroup": "B0.5IV",
         "marker": {
          "color": "#00cc96",
          "pattern": {
           "shape": ""
          }
         },
         "name": "B0.5IV",
         "offsetgroup": "B0.5IV",
         "orientation": "v",
         "showlegend": true,
         "type": "histogram",
         "x": [
          "Acrux",
          "Acrux",
          "Acrux",
          "Acrux",
          "Acrux",
          "Acrux",
          "Acrux",
          "Acrux",
          "Acrux",
          "Acrux",
          "Acrux",
          "Acrux",
          "Acrux",
          "Acrux",
          "Acrux",
          "Acrux",
          "Acrux",
          "Acrux",
          "Acrux",
          "Acrux",
          "Acrux",
          "Acrux",
          "Acrux",
          "Acrux",
          "Acrux",
          "Acrux",
          "Acrux",
          "Acrux",
          "Acrux",
          "Acrux"
         ],
         "xaxis": "x",
         "yaxis": "y"
        },
        {
         "alignmentgroup": "True",
         "bingroup": "x",
         "hovertemplate": "Spectral Class=A0V<br>Name=%{x}<br>count=%{y}<extra></extra>",
         "legendgroup": "A0V",
         "marker": {
          "color": "#ab63fa",
          "pattern": {
           "shape": ""
          }
         },
         "name": "A0V",
         "offsetgroup": "A0V",
         "orientation": "v",
         "showlegend": true,
         "type": "histogram",
         "x": [
          "Vega",
          "Vega",
          "Vega",
          "Vega",
          "Vega",
          "Vega",
          "Vega",
          "Vega",
          "Vega",
          "Vega",
          "Vega",
          "Vega",
          "Vega",
          "Vega",
          "Vega",
          "Vega",
          "Vega",
          "Vega",
          "Vega",
          "Vega",
          "Vega",
          "Vega",
          "Vega",
          "Vega",
          "Vega",
          "Vega",
          "Vega",
          "Vega",
          "Vega",
          "Vega",
          "Vega",
          "Vega",
          "Vega",
          "Vega",
          "Vega",
          "Vega",
          "Vega",
          "Vega"
         ],
         "xaxis": "x",
         "yaxis": "y"
        },
        {
         "alignmentgroup": "True",
         "bingroup": "x",
         "hovertemplate": "Spectral Class=M2.1V<br>Name=%{x}<br>count=%{y}<extra></extra>",
         "legendgroup": "M2.1V",
         "marker": {
          "color": "#FFA15A",
          "pattern": {
           "shape": ""
          }
         },
         "name": "M2.1V",
         "offsetgroup": "M2.1V",
         "orientation": "v",
         "showlegend": true,
         "type": "histogram",
         "x": [
          "Lalande 21185",
          "Lalande 21185",
          "Lalande 21185",
          "Lalande 21185",
          "Lalande 21185",
          "Lalande 21185",
          "Lalande 21185",
          "Lalande 21185",
          "Lalande 21185",
          "Lalande 21185",
          "Lalande 21185",
          "Lalande 21185",
          "Lalande 21185",
          "Lalande 21185",
          "Lalande 21185",
          "Lalande 21185",
          "Lalande 21185",
          "Lalande 21185",
          "Lalande 21185",
          "Lalande 21185",
          "Lalande 21185",
          "Lalande 21185",
          "Lalande 21185",
          "Lalande 21185",
          "Lalande 21185",
          "Lalande 21185",
          "Lalande 21185"
         ],
         "xaxis": "x",
         "yaxis": "y"
        },
        {
         "alignmentgroup": "True",
         "bingroup": "x",
         "hovertemplate": "Spectral Class=K1.5III<br>Name=%{x}<br>count=%{y}<extra></extra>",
         "legendgroup": "K1.5III",
         "marker": {
          "color": "#19d3f3",
          "pattern": {
           "shape": ""
          }
         },
         "name": "K1.5III",
         "offsetgroup": "K1.5III",
         "orientation": "v",
         "showlegend": true,
         "type": "histogram",
         "x": [
          "Arcturus",
          "Arcturus",
          "Arcturus",
          "Arcturus",
          "Arcturus",
          "Arcturus",
          "Arcturus",
          "Arcturus",
          "Arcturus",
          "Arcturus",
          "Arcturus",
          "Arcturus",
          "Arcturus",
          "Arcturus",
          "Arcturus",
          "Arcturus",
          "Arcturus",
          "Arcturus",
          "Arcturus",
          "Arcturus",
          "Arcturus",
          "Arcturus",
          "Arcturus",
          "Arcturus",
          "Arcturus",
          "Arcturus",
          "Arcturus",
          "Arcturus",
          "Arcturus",
          "Arcturus",
          "Arcturus",
          "Arcturus",
          "Arcturus",
          "Arcturus",
          "Arcturus",
          "Arcturus",
          "Arcturus",
          "Arcturus"
         ],
         "xaxis": "x",
         "yaxis": "y"
        },
        {
         "alignmentgroup": "True",
         "bingroup": "x",
         "hovertemplate": "Spectral Class=K1V<br>Name=%{x}<br>count=%{y}<extra></extra>",
         "legendgroup": "K1V",
         "marker": {
          "color": "#FF6692",
          "pattern": {
           "shape": ""
          }
         },
         "name": "K1V",
         "offsetgroup": "K1V",
         "orientation": "v",
         "showlegend": true,
         "type": "histogram",
         "x": [
          "Alpha Centauri B",
          "Alpha Centauri B",
          "Alpha Centauri B",
          "Alpha Centauri B",
          "Alpha Centauri B",
          "Alpha Centauri B",
          "Alpha Centauri B",
          "Alpha Centauri B",
          "Alpha Centauri B",
          "Alpha Centauri B",
          "Alpha Centauri B",
          "Alpha Centauri B",
          "Alpha Centauri B",
          "Alpha Centauri B",
          "Alpha Centauri B",
          "Alpha Centauri B",
          "Alpha Centauri B",
          "Alpha Centauri B",
          "Alpha Centauri B",
          "Alpha Centauri B",
          "Alpha Centauri B",
          "Alpha Centauri B",
          "Alpha Centauri B",
          "Alpha Centauri B"
         ],
         "xaxis": "x",
         "yaxis": "y"
        },
        {
         "alignmentgroup": "True",
         "bingroup": "x",
         "hovertemplate": "Spectral Class=M3.5V<br>Name=%{x}<br>count=%{y}<extra></extra>",
         "legendgroup": "M3.5V",
         "marker": {
          "color": "#B6E880",
          "pattern": {
           "shape": ""
          }
         },
         "name": "M3.5V",
         "offsetgroup": "M3.5V",
         "orientation": "v",
         "showlegend": true,
         "type": "histogram",
         "x": [
          "Ross 154",
          "Ross 154",
          "Ross 154",
          "Ross 154",
          "Ross 154",
          "Ross 154",
          "Ross 154",
          "Ross 154",
          "Ross 154",
          "Ross 154",
          "Ross 154",
          "Ross 154",
          "Ross 154",
          "Ross 154",
          "Ross 154",
          "Ross 154",
          "Ross 154",
          "Ross 154",
          "Ross 154",
          "Ross 154",
          "Ross 154",
          "Ross 154",
          "Ross 154",
          "Ross 154",
          "Ross 154",
          "Ross 154",
          "Ross 154",
          "Ross 154",
          "Ross 154",
          "Ross 154",
          "Ross 154",
          "Ross 154",
          "Ross 154",
          "Ross 154",
          "Ross 154",
          "Ross 154",
          "Ross 154",
          "Ross 154",
          "Ross 154",
          "Ross 154",
          "Ross 154",
          "Ross 154",
          "Ross 154",
          "Ross 154",
          "Ross 154"
         ],
         "xaxis": "x",
         "yaxis": "y"
        },
        {
         "alignmentgroup": "True",
         "bingroup": "x",
         "hovertemplate": "Spectral Class=A9II<br>Name=%{x}<br>count=%{y}<extra></extra>",
         "legendgroup": "A9II",
         "marker": {
          "color": "#FF97FF",
          "pattern": {
           "shape": ""
          }
         },
         "name": "A9II",
         "offsetgroup": "A9II",
         "orientation": "v",
         "showlegend": true,
         "type": "histogram",
         "x": [
          "Canopus",
          "Canopus",
          "Canopus",
          "Canopus",
          "Canopus",
          "Canopus",
          "Canopus",
          "Canopus",
          "Canopus",
          "Canopus",
          "Canopus",
          "Canopus",
          "Canopus",
          "Canopus",
          "Canopus",
          "Canopus",
          "Canopus",
          "Canopus",
          "Canopus",
          "Canopus",
          "Canopus",
          "Canopus",
          "Canopus",
          "Canopus",
          "Canopus",
          "Canopus",
          "Canopus",
          "Canopus",
          "Canopus",
          "Canopus",
          "Canopus",
          "Canopus",
          "Canopus",
          "Canopus",
          "Canopus",
          "Canopus",
          "Canopus",
          "Canopus",
          "Canopus",
          "Canopus",
          "Canopus",
          "Canopus",
          "Canopus",
          "Canopus",
          "Canopus",
          "Canopus",
          "Canopus",
          "Canopus"
         ],
         "xaxis": "x",
         "yaxis": "y"
        },
        {
         "alignmentgroup": "True",
         "bingroup": "x",
         "hovertemplate": "Spectral Class=F5IV-V<br>Name=%{x}<br>count=%{y}<extra></extra>",
         "legendgroup": "F5IV-V",
         "marker": {
          "color": "#FECB52",
          "pattern": {
           "shape": ""
          }
         },
         "name": "F5IV-V",
         "offsetgroup": "F5IV-V",
         "orientation": "v",
         "showlegend": true,
         "type": "histogram",
         "x": [
          "Procyon",
          "Procyon",
          "Procyon",
          "Procyon",
          "Procyon",
          "Procyon",
          "Procyon",
          "Procyon",
          "Procyon",
          "Procyon",
          "Procyon",
          "Procyon",
          "Procyon",
          "Procyon",
          "Procyon",
          "Procyon",
          "Procyon",
          "Procyon",
          "Procyon",
          "Procyon",
          "Procyon",
          "Procyon",
          "Procyon",
          "Procyon",
          "Procyon",
          "Procyon",
          "Procyon",
          "Procyon",
          "Procyon",
          "Procyon"
         ],
         "xaxis": "x",
         "yaxis": "y"
        },
        {
         "alignmentgroup": "True",
         "bingroup": "x",
         "hovertemplate": "Spectral Class=M6V<br>Name=%{x}<br>count=%{y}<extra></extra>",
         "legendgroup": "M6V",
         "marker": {
          "color": "#636efa",
          "pattern": {
           "shape": ""
          }
         },
         "name": "M6V",
         "offsetgroup": "M6V",
         "orientation": "v",
         "showlegend": true,
         "type": "histogram",
         "x": [
          "Wolf 359",
          "Wolf 359",
          "Wolf 359",
          "Wolf 359",
          "Wolf 359",
          "Wolf 359",
          "Wolf 359",
          "Wolf 359",
          "Wolf 359",
          "Wolf 359",
          "Wolf 359",
          "Wolf 359",
          "Wolf 359",
          "Wolf 359",
          "Wolf 359",
          "Wolf 359",
          "Wolf 359",
          "Wolf 359",
          "Wolf 359",
          "Wolf 359",
          "Wolf 359",
          "Wolf 359"
         ],
         "xaxis": "x",
         "yaxis": "y"
        },
        {
         "alignmentgroup": "True",
         "bingroup": "x",
         "hovertemplate": "Spectral Class=M1.5Iab<br>Name=%{x}<br>count=%{y}<extra></extra>",
         "legendgroup": "M1.5Iab",
         "marker": {
          "color": "#EF553B",
          "pattern": {
           "shape": ""
          }
         },
         "name": "M1.5Iab",
         "offsetgroup": "M1.5Iab",
         "orientation": "v",
         "showlegend": true,
         "type": "histogram",
         "x": [
          "Antares",
          "Antares",
          "Antares",
          "Antares",
          "Antares",
          "Antares",
          "Antares",
          "Antares",
          "Antares",
          "Antares",
          "Antares",
          "Antares",
          "Antares",
          "Antares",
          "Antares",
          "Antares",
          "Antares",
          "Antares",
          "Antares",
          "Antares",
          "Antares",
          "Antares",
          "Antares",
          "Antares",
          "Antares",
          "Antares"
         ],
         "xaxis": "x",
         "yaxis": "y"
        },
        {
         "alignmentgroup": "True",
         "bingroup": "x",
         "hovertemplate": "Spectral Class=B0Ia<br>Name=%{x}<br>count=%{y}<extra></extra>",
         "legendgroup": "B0Ia",
         "marker": {
          "color": "#00cc96",
          "pattern": {
           "shape": ""
          }
         },
         "name": "B0Ia",
         "offsetgroup": "B0Ia",
         "orientation": "v",
         "showlegend": true,
         "type": "histogram",
         "x": [
          "Alnilam",
          "Alnilam",
          "Alnilam",
          "Alnilam",
          "Alnilam",
          "Alnilam",
          "Alnilam",
          "Alnilam",
          "Alnilam",
          "Alnilam",
          "Alnilam",
          "Alnilam",
          "Alnilam",
          "Alnilam",
          "Alnilam",
          "Alnilam",
          "Alnilam",
          "Alnilam",
          "Alnilam",
          "Alnilam",
          "Alnilam",
          "Alnilam",
          "Alnilam",
          "Alnilam",
          "Alnilam",
          "Alnilam",
          "Alnilam",
          "Alnilam",
          "Alnilam",
          "Alnilam",
          "Alnilam",
          "Alnilam",
          "Alnilam",
          "Alnilam",
          "Alnilam",
          "Alnilam"
         ],
         "xaxis": "x",
         "yaxis": "y"
        },
        {
         "alignmentgroup": "True",
         "bingroup": "x",
         "hovertemplate": "Spectral Class=G2V<br>Name=%{x}<br>count=%{y}<extra></extra>",
         "legendgroup": "G2V",
         "marker": {
          "color": "#ab63fa",
          "pattern": {
           "shape": ""
          }
         },
         "name": "G2V",
         "offsetgroup": "G2V",
         "orientation": "v",
         "showlegend": true,
         "type": "histogram",
         "x": [
          "Rigil Kentaurus",
          "Rigil Kentaurus",
          "Rigil Kentaurus",
          "Rigil Kentaurus",
          "Rigil Kentaurus",
          "Rigil Kentaurus",
          "Rigil Kentaurus",
          "Rigil Kentaurus",
          "Rigil Kentaurus",
          "Rigil Kentaurus",
          "Rigil Kentaurus",
          "Rigil Kentaurus",
          "Rigil Kentaurus",
          "Rigil Kentaurus",
          "Rigil Kentaurus",
          "Rigil Kentaurus",
          "Rigil Kentaurus",
          "Rigil Kentaurus",
          "Rigil Kentaurus",
          "Rigil Kentaurus",
          "Rigil Kentaurus",
          "Rigil Kentaurus",
          "Rigil Kentaurus",
          "Rigil Kentaurus",
          "Rigil Kentaurus",
          "Rigil Kentaurus",
          "Rigil Kentaurus",
          "Rigil Kentaurus",
          "Rigil Kentaurus",
          "Rigil Kentaurus",
          "Rigil Kentaurus",
          "Rigil Kentaurus",
          "Rigil Kentaurus",
          "Rigil Kentaurus",
          "Rigil Kentaurus",
          "Rigil Kentaurus"
         ],
         "xaxis": "x",
         "yaxis": "y"
        },
        {
         "alignmentgroup": "True",
         "bingroup": "x",
         "hovertemplate": "Spectral Class=B1III-IV<br>Name=%{x}<br>count=%{y}<extra></extra>",
         "legendgroup": "B1III-IV",
         "marker": {
          "color": "#FFA15A",
          "pattern": {
           "shape": ""
          }
         },
         "name": "B1III-IV",
         "offsetgroup": "B1III-IV",
         "orientation": "v",
         "showlegend": true,
         "type": "histogram",
         "x": [
          "Spica",
          "Spica",
          "Spica",
          "Spica",
          "Spica",
          "Spica",
          "Spica",
          "Spica",
          "Spica",
          "Spica",
          "Spica",
          "Spica",
          "Spica",
          "Spica",
          "Spica",
          "Spica",
          "Spica",
          "Spica",
          "Spica",
          "Spica",
          "Spica",
          "Spica",
          "Spica",
          "Spica",
          "Spica",
          "Spica",
          "Spica",
          "Spica",
          "Spica",
          "Spica",
          "Spica",
          "Spica"
         ],
         "xaxis": "x",
         "yaxis": "y"
        },
        {
         "alignmentgroup": "True",
         "bingroup": "x",
         "hovertemplate": "Spectral Class=B6Vep<br>Name=%{x}<br>count=%{y}<extra></extra>",
         "legendgroup": "B6Vep",
         "marker": {
          "color": "#19d3f3",
          "pattern": {
           "shape": ""
          }
         },
         "name": "B6Vep",
         "offsetgroup": "B6Vep",
         "orientation": "v",
         "showlegend": true,
         "type": "histogram",
         "x": [
          "Achernar",
          "Achernar",
          "Achernar",
          "Achernar",
          "Achernar",
          "Achernar",
          "Achernar",
          "Achernar",
          "Achernar",
          "Achernar",
          "Achernar",
          "Achernar",
          "Achernar",
          "Achernar",
          "Achernar",
          "Achernar",
          "Achernar",
          "Achernar",
          "Achernar",
          "Achernar",
          "Achernar",
          "Achernar",
          "Achernar",
          "Achernar",
          "Achernar",
          "Achernar",
          "Achernar",
          "Achernar",
          "Achernar"
         ],
         "xaxis": "x",
         "yaxis": "y"
        },
        {
         "alignmentgroup": "True",
         "bingroup": "x",
         "hovertemplate": "Spectral Class=K5III<br>Name=%{x}<br>count=%{y}<extra></extra>",
         "legendgroup": "K5III",
         "marker": {
          "color": "#FF6692",
          "pattern": {
           "shape": ""
          }
         },
         "name": "K5III",
         "offsetgroup": "K5III",
         "orientation": "v",
         "showlegend": true,
         "type": "histogram",
         "x": [
          "Aldebaran",
          "Aldebaran",
          "Aldebaran",
          "Aldebaran",
          "Aldebaran",
          "Aldebaran",
          "Aldebaran",
          "Aldebaran",
          "Aldebaran",
          "Aldebaran",
          "Aldebaran",
          "Aldebaran",
          "Aldebaran",
          "Aldebaran",
          "Aldebaran",
          "Aldebaran",
          "Aldebaran",
          "Aldebaran"
         ],
         "xaxis": "x",
         "yaxis": "y"
        },
        {
         "alignmentgroup": "True",
         "bingroup": "x",
         "hovertemplate": "Spectral Class=B8Ia<br>Name=%{x}<br>count=%{y}<extra></extra>",
         "legendgroup": "B8Ia",
         "marker": {
          "color": "#B6E880",
          "pattern": {
           "shape": ""
          }
         },
         "name": "B8Ia",
         "offsetgroup": "B8Ia",
         "orientation": "v",
         "showlegend": true,
         "type": "histogram",
         "x": [
          "Rigel",
          "Rigel",
          "Rigel",
          "Rigel",
          "Rigel",
          "Rigel",
          "Rigel",
          "Rigel",
          "Rigel",
          "Rigel",
          "Rigel",
          "Rigel",
          "Rigel",
          "Rigel",
          "Rigel",
          "Rigel",
          "Rigel"
         ],
         "xaxis": "x",
         "yaxis": "y"
        }
       ],
       "layout": {
        "barmode": "relative",
        "legend": {
         "title": {
          "text": "Spectral Class"
         },
         "tracegroupgap": 0
        },
        "template": {
         "data": {
          "bar": [
           {
            "error_x": {
             "color": "#2a3f5f"
            },
            "error_y": {
             "color": "#2a3f5f"
            },
            "marker": {
             "line": {
              "color": "#E5ECF6",
              "width": 0.5
             },
             "pattern": {
              "fillmode": "overlay",
              "size": 10,
              "solidity": 0.2
             }
            },
            "type": "bar"
           }
          ],
          "barpolar": [
           {
            "marker": {
             "line": {
              "color": "#E5ECF6",
              "width": 0.5
             },
             "pattern": {
              "fillmode": "overlay",
              "size": 10,
              "solidity": 0.2
             }
            },
            "type": "barpolar"
           }
          ],
          "carpet": [
           {
            "aaxis": {
             "endlinecolor": "#2a3f5f",
             "gridcolor": "white",
             "linecolor": "white",
             "minorgridcolor": "white",
             "startlinecolor": "#2a3f5f"
            },
            "baxis": {
             "endlinecolor": "#2a3f5f",
             "gridcolor": "white",
             "linecolor": "white",
             "minorgridcolor": "white",
             "startlinecolor": "#2a3f5f"
            },
            "type": "carpet"
           }
          ],
          "choropleth": [
           {
            "colorbar": {
             "outlinewidth": 0,
             "ticks": ""
            },
            "type": "choropleth"
           }
          ],
          "contour": [
           {
            "colorbar": {
             "outlinewidth": 0,
             "ticks": ""
            },
            "colorscale": [
             [
              0,
              "#0d0887"
             ],
             [
              0.1111111111111111,
              "#46039f"
             ],
             [
              0.2222222222222222,
              "#7201a8"
             ],
             [
              0.3333333333333333,
              "#9c179e"
             ],
             [
              0.4444444444444444,
              "#bd3786"
             ],
             [
              0.5555555555555556,
              "#d8576b"
             ],
             [
              0.6666666666666666,
              "#ed7953"
             ],
             [
              0.7777777777777778,
              "#fb9f3a"
             ],
             [
              0.8888888888888888,
              "#fdca26"
             ],
             [
              1,
              "#f0f921"
             ]
            ],
            "type": "contour"
           }
          ],
          "contourcarpet": [
           {
            "colorbar": {
             "outlinewidth": 0,
             "ticks": ""
            },
            "type": "contourcarpet"
           }
          ],
          "heatmap": [
           {
            "colorbar": {
             "outlinewidth": 0,
             "ticks": ""
            },
            "colorscale": [
             [
              0,
              "#0d0887"
             ],
             [
              0.1111111111111111,
              "#46039f"
             ],
             [
              0.2222222222222222,
              "#7201a8"
             ],
             [
              0.3333333333333333,
              "#9c179e"
             ],
             [
              0.4444444444444444,
              "#bd3786"
             ],
             [
              0.5555555555555556,
              "#d8576b"
             ],
             [
              0.6666666666666666,
              "#ed7953"
             ],
             [
              0.7777777777777778,
              "#fb9f3a"
             ],
             [
              0.8888888888888888,
              "#fdca26"
             ],
             [
              1,
              "#f0f921"
             ]
            ],
            "type": "heatmap"
           }
          ],
          "heatmapgl": [
           {
            "colorbar": {
             "outlinewidth": 0,
             "ticks": ""
            },
            "colorscale": [
             [
              0,
              "#0d0887"
             ],
             [
              0.1111111111111111,
              "#46039f"
             ],
             [
              0.2222222222222222,
              "#7201a8"
             ],
             [
              0.3333333333333333,
              "#9c179e"
             ],
             [
              0.4444444444444444,
              "#bd3786"
             ],
             [
              0.5555555555555556,
              "#d8576b"
             ],
             [
              0.6666666666666666,
              "#ed7953"
             ],
             [
              0.7777777777777778,
              "#fb9f3a"
             ],
             [
              0.8888888888888888,
              "#fdca26"
             ],
             [
              1,
              "#f0f921"
             ]
            ],
            "type": "heatmapgl"
           }
          ],
          "histogram": [
           {
            "marker": {
             "pattern": {
              "fillmode": "overlay",
              "size": 10,
              "solidity": 0.2
             }
            },
            "type": "histogram"
           }
          ],
          "histogram2d": [
           {
            "colorbar": {
             "outlinewidth": 0,
             "ticks": ""
            },
            "colorscale": [
             [
              0,
              "#0d0887"
             ],
             [
              0.1111111111111111,
              "#46039f"
             ],
             [
              0.2222222222222222,
              "#7201a8"
             ],
             [
              0.3333333333333333,
              "#9c179e"
             ],
             [
              0.4444444444444444,
              "#bd3786"
             ],
             [
              0.5555555555555556,
              "#d8576b"
             ],
             [
              0.6666666666666666,
              "#ed7953"
             ],
             [
              0.7777777777777778,
              "#fb9f3a"
             ],
             [
              0.8888888888888888,
              "#fdca26"
             ],
             [
              1,
              "#f0f921"
             ]
            ],
            "type": "histogram2d"
           }
          ],
          "histogram2dcontour": [
           {
            "colorbar": {
             "outlinewidth": 0,
             "ticks": ""
            },
            "colorscale": [
             [
              0,
              "#0d0887"
             ],
             [
              0.1111111111111111,
              "#46039f"
             ],
             [
              0.2222222222222222,
              "#7201a8"
             ],
             [
              0.3333333333333333,
              "#9c179e"
             ],
             [
              0.4444444444444444,
              "#bd3786"
             ],
             [
              0.5555555555555556,
              "#d8576b"
             ],
             [
              0.6666666666666666,
              "#ed7953"
             ],
             [
              0.7777777777777778,
              "#fb9f3a"
             ],
             [
              0.8888888888888888,
              "#fdca26"
             ],
             [
              1,
              "#f0f921"
             ]
            ],
            "type": "histogram2dcontour"
           }
          ],
          "mesh3d": [
           {
            "colorbar": {
             "outlinewidth": 0,
             "ticks": ""
            },
            "type": "mesh3d"
           }
          ],
          "parcoords": [
           {
            "line": {
             "colorbar": {
              "outlinewidth": 0,
              "ticks": ""
             }
            },
            "type": "parcoords"
           }
          ],
          "pie": [
           {
            "automargin": true,
            "type": "pie"
           }
          ],
          "scatter": [
           {
            "fillpattern": {
             "fillmode": "overlay",
             "size": 10,
             "solidity": 0.2
            },
            "type": "scatter"
           }
          ],
          "scatter3d": [
           {
            "line": {
             "colorbar": {
              "outlinewidth": 0,
              "ticks": ""
             }
            },
            "marker": {
             "colorbar": {
              "outlinewidth": 0,
              "ticks": ""
             }
            },
            "type": "scatter3d"
           }
          ],
          "scattercarpet": [
           {
            "marker": {
             "colorbar": {
              "outlinewidth": 0,
              "ticks": ""
             }
            },
            "type": "scattercarpet"
           }
          ],
          "scattergeo": [
           {
            "marker": {
             "colorbar": {
              "outlinewidth": 0,
              "ticks": ""
             }
            },
            "type": "scattergeo"
           }
          ],
          "scattergl": [
           {
            "marker": {
             "colorbar": {
              "outlinewidth": 0,
              "ticks": ""
             }
            },
            "type": "scattergl"
           }
          ],
          "scattermapbox": [
           {
            "marker": {
             "colorbar": {
              "outlinewidth": 0,
              "ticks": ""
             }
            },
            "type": "scattermapbox"
           }
          ],
          "scatterpolar": [
           {
            "marker": {
             "colorbar": {
              "outlinewidth": 0,
              "ticks": ""
             }
            },
            "type": "scatterpolar"
           }
          ],
          "scatterpolargl": [
           {
            "marker": {
             "colorbar": {
              "outlinewidth": 0,
              "ticks": ""
             }
            },
            "type": "scatterpolargl"
           }
          ],
          "scatterternary": [
           {
            "marker": {
             "colorbar": {
              "outlinewidth": 0,
              "ticks": ""
             }
            },
            "type": "scatterternary"
           }
          ],
          "surface": [
           {
            "colorbar": {
             "outlinewidth": 0,
             "ticks": ""
            },
            "colorscale": [
             [
              0,
              "#0d0887"
             ],
             [
              0.1111111111111111,
              "#46039f"
             ],
             [
              0.2222222222222222,
              "#7201a8"
             ],
             [
              0.3333333333333333,
              "#9c179e"
             ],
             [
              0.4444444444444444,
              "#bd3786"
             ],
             [
              0.5555555555555556,
              "#d8576b"
             ],
             [
              0.6666666666666666,
              "#ed7953"
             ],
             [
              0.7777777777777778,
              "#fb9f3a"
             ],
             [
              0.8888888888888888,
              "#fdca26"
             ],
             [
              1,
              "#f0f921"
             ]
            ],
            "type": "surface"
           }
          ],
          "table": [
           {
            "cells": {
             "fill": {
              "color": "#EBF0F8"
             },
             "line": {
              "color": "white"
             }
            },
            "header": {
             "fill": {
              "color": "#C8D4E3"
             },
             "line": {
              "color": "white"
             }
            },
            "type": "table"
           }
          ]
         },
         "layout": {
          "annotationdefaults": {
           "arrowcolor": "#2a3f5f",
           "arrowhead": 0,
           "arrowwidth": 1
          },
          "autotypenumbers": "strict",
          "coloraxis": {
           "colorbar": {
            "outlinewidth": 0,
            "ticks": ""
           }
          },
          "colorscale": {
           "diverging": [
            [
             0,
             "#8e0152"
            ],
            [
             0.1,
             "#c51b7d"
            ],
            [
             0.2,
             "#de77ae"
            ],
            [
             0.3,
             "#f1b6da"
            ],
            [
             0.4,
             "#fde0ef"
            ],
            [
             0.5,
             "#f7f7f7"
            ],
            [
             0.6,
             "#e6f5d0"
            ],
            [
             0.7,
             "#b8e186"
            ],
            [
             0.8,
             "#7fbc41"
            ],
            [
             0.9,
             "#4d9221"
            ],
            [
             1,
             "#276419"
            ]
           ],
           "sequential": [
            [
             0,
             "#0d0887"
            ],
            [
             0.1111111111111111,
             "#46039f"
            ],
            [
             0.2222222222222222,
             "#7201a8"
            ],
            [
             0.3333333333333333,
             "#9c179e"
            ],
            [
             0.4444444444444444,
             "#bd3786"
            ],
            [
             0.5555555555555556,
             "#d8576b"
            ],
            [
             0.6666666666666666,
             "#ed7953"
            ],
            [
             0.7777777777777778,
             "#fb9f3a"
            ],
            [
             0.8888888888888888,
             "#fdca26"
            ],
            [
             1,
             "#f0f921"
            ]
           ],
           "sequentialminus": [
            [
             0,
             "#0d0887"
            ],
            [
             0.1111111111111111,
             "#46039f"
            ],
            [
             0.2222222222222222,
             "#7201a8"
            ],
            [
             0.3333333333333333,
             "#9c179e"
            ],
            [
             0.4444444444444444,
             "#bd3786"
            ],
            [
             0.5555555555555556,
             "#d8576b"
            ],
            [
             0.6666666666666666,
             "#ed7953"
            ],
            [
             0.7777777777777778,
             "#fb9f3a"
            ],
            [
             0.8888888888888888,
             "#fdca26"
            ],
            [
             1,
             "#f0f921"
            ]
           ]
          },
          "colorway": [
           "#636efa",
           "#EF553B",
           "#00cc96",
           "#ab63fa",
           "#FFA15A",
           "#19d3f3",
           "#FF6692",
           "#B6E880",
           "#FF97FF",
           "#FECB52"
          ],
          "font": {
           "color": "#2a3f5f"
          },
          "geo": {
           "bgcolor": "white",
           "lakecolor": "white",
           "landcolor": "#E5ECF6",
           "showlakes": true,
           "showland": true,
           "subunitcolor": "white"
          },
          "hoverlabel": {
           "align": "left"
          },
          "hovermode": "closest",
          "mapbox": {
           "style": "light"
          },
          "paper_bgcolor": "white",
          "plot_bgcolor": "#E5ECF6",
          "polar": {
           "angularaxis": {
            "gridcolor": "white",
            "linecolor": "white",
            "ticks": ""
           },
           "bgcolor": "#E5ECF6",
           "radialaxis": {
            "gridcolor": "white",
            "linecolor": "white",
            "ticks": ""
           }
          },
          "scene": {
           "xaxis": {
            "backgroundcolor": "#E5ECF6",
            "gridcolor": "white",
            "gridwidth": 2,
            "linecolor": "white",
            "showbackground": true,
            "ticks": "",
            "zerolinecolor": "white"
           },
           "yaxis": {
            "backgroundcolor": "#E5ECF6",
            "gridcolor": "white",
            "gridwidth": 2,
            "linecolor": "white",
            "showbackground": true,
            "ticks": "",
            "zerolinecolor": "white"
           },
           "zaxis": {
            "backgroundcolor": "#E5ECF6",
            "gridcolor": "white",
            "gridwidth": 2,
            "linecolor": "white",
            "showbackground": true,
            "ticks": "",
            "zerolinecolor": "white"
           }
          },
          "shapedefaults": {
           "line": {
            "color": "#2a3f5f"
           }
          },
          "ternary": {
           "aaxis": {
            "gridcolor": "white",
            "linecolor": "white",
            "ticks": ""
           },
           "baxis": {
            "gridcolor": "white",
            "linecolor": "white",
            "ticks": ""
           },
           "bgcolor": "#E5ECF6",
           "caxis": {
            "gridcolor": "white",
            "linecolor": "white",
            "ticks": ""
           }
          },
          "title": {
           "x": 0.05
          },
          "xaxis": {
           "automargin": true,
           "gridcolor": "white",
           "linecolor": "white",
           "ticks": "",
           "title": {
            "standoff": 15
           },
           "zerolinecolor": "white",
           "zerolinewidth": 2
          },
          "yaxis": {
           "automargin": true,
           "gridcolor": "white",
           "linecolor": "white",
           "ticks": "",
           "title": {
            "standoff": 15
           },
           "zerolinecolor": "white",
           "zerolinewidth": 2
          }
         }
        },
        "title": {
         "text": "Histogram of Name with respect to Spectral Class"
        },
        "xaxis": {
         "anchor": "y",
         "domain": [
          0,
          1
         ],
         "title": {
          "text": "Name"
         }
        },
        "yaxis": {
         "anchor": "x",
         "domain": [
          0,
          1
         ],
         "title": {
          "text": "count"
         }
        }
       }
      }
     },
     "metadata": {},
     "output_type": "display_data"
    }
   ],
   "source": [
    "# histogram of name with color spectral class using plotly:\n",
    "\n",
    "fig = px.histogram(df, x= 'Name', color='Spectral Class', title= 'Histogram of Name with respect to Spectral Class')\n",
    "fig.show()\n"
   ]
  },
  {
   "cell_type": "markdown",
   "metadata": {},
   "source": [
    "# Outputs:\n",
    "1. the name column represents the unique identifiers of stars. \n",
    "2. the name column has `29 unique` star names.\n",
    "   - The star Altair has the highest count of `74` having spectral class `A7V`. \n",
    "   - The star Rigel has the lowest count of `17` having spectral class `B8la`.\n",
    "3. "
   ]
  },
  {
   "cell_type": "markdown",
   "metadata": {},
   "source": [
    "#### Distance Column: "
   ]
  },
  {
   "cell_type": "code",
   "execution_count": 14,
   "metadata": {},
   "outputs": [
    {
     "data": {
      "image/png": "[encoded data removed]",
      "text/plain": [
       "<Figure size 1200x800 with 1 Axes>"
      ]
     },
     "metadata": {},
     "output_type": "display_data"
    }
   ],
   "source": [
    "# histogram of the Distance column:\n",
    "\n",
    "plt.figure(figsize=(12, 8))\n",
    "sns.histplot(df['Distance'], kde=True, color='gold')\n",
    "plt.title(\"Histogram of the Distance column\")\n",
    "plt.xlabel(\"Distance\")\n",
    "plt.ylabel(\"Frequency\")\n",
    "plt.show()"
   ]
  },
  {
   "cell_type": "code",
   "execution_count": 15,
   "metadata": {},
   "outputs": [
    {
     "data": {
      "image/png": "[encoded data removed]",
      "text/plain": [
       "<Figure size 1000x600 with 1 Axes>"
      ]
     },
     "metadata": {},
     "output_type": "display_data"
    }
   ],
   "source": [
    "plt.figure(figsize=(10, 6))\n",
    "sns.boxplot(x=df['Distance'], color = 'gold')\n",
    "plt.title('Boxplot of Distance')\n",
    "plt.xlabel('Luminosity')\n",
    "plt.show()\n"
   ]
  },
  {
   "cell_type": "code",
   "execution_count": null,
   "metadata": {},
   "outputs": [],
   "source": []
  },
  {
   "cell_type": "code",
   "execution_count": 16,
   "metadata": {},
   "outputs": [
    {
     "data": {
      "image/png": "[encoded data removed]",
      "text/plain": [
       "<Figure size 2000x1000 with 1 Axes>"
      ]
     },
     "metadata": {},
     "output_type": "display_data"
    }
   ],
   "source": [
    "plt.figure(figsize=(20, 10))\n",
    "sns.violinplot(x='Spectral_Class', y='Temperature', data=df)\n",
    "plt.title('Temperature Distribution by Spectral Class')\n",
    "plt.xlabel('Spectral Class')\n",
    "plt.ylabel('Temperature')\n",
    "plt.show()\n"
   ]
  },
  {
   "cell_type": "code",
   "execution_count": null,
   "metadata": {},
   "outputs": [],
   "source": []
  }
 ],
 "metadata": {
  "kernelspec": {
   "display_name": "python_machinelearning",
   "language": "python",
   "name": "python3"
  },
  "language_info": {
   "codemirror_mode": {
    "name": "ipython",
    "version": 3
   },
   "file_extension": ".py",
   "mimetype": "text/x-python",
   "name": "python",
   "nbconvert_exporter": "python",
   "pygments_lexer": "ipython3",
   "version": "3.12.4"
  }
 },
 "nbformat": 4,
 "nbformat_minor": 2
}
