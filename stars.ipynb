{
 "cells": [
  {
   "cell_type": "markdown",
   "metadata": {},
   "source": [
    "---\n",
    "# **Stars Analysis and Prediction:**\n",
    "Mapping Stars with Intelligence\n"
   ]
  },
  {
   "cell_type": "markdown",
   "metadata": {},
   "source": [
    "<div >\n",
    "  <img src=\"https://res.cloudinary.com/dhditogyd/image/upload/v1725305778/pexels-alex-andrews-271121-3805983_nwekq9.jpg\" width=\"100%\" height=\" 800%;\"/>\n",
    "</div>\n",
    "\n",
    "---"
   ]
  },
  {
   "cell_type": "markdown",
   "metadata": {},
   "source": [
    "\n",
    "\n",
    "Author: [Muhammad Faizan](https://www.linkedin.com/in/mrfaizanyousaf/)\n",
    "\n",
    "<div >\n",
    "  <img src=\"https://res.cloudinary.com/dk0hm8t43/image/upload/v1723543716/Faizan/cxhm4yhcpmponfjgjfct.jpg\" width=\"20%\" height=\" 20%;\"/>\n",
    "</div>\n",
    "\n",
    "## Muhammad Faizan\n",
    "\n",
    "🎓 **3rd Year BS Computer Science** student at the **University of Agriculture, Faisalabad**  \n",
    "💻 Enthusiast in **Machine Learning, Data Engineering, and Data Analytics**\n",
    "\n",
    "\n",
    "### 🌐 Connect with Me\n",
    "\n",
    "[Kaggle](https://www.kaggle.com/faizanyousafonly/) | [LinkedIn](https://www.linkedin.com/in/mrfaizanyousaf/) | [GitHub](https://github.com/faizan-yousaf/)  \n",
    "\n",
    "\n",
    "\n",
    "\n",
    "### 💬 Contact Me\n",
    "- **Email:** faizanyousaf815@gmail.com\n",
    "- **WhatsApp:** [+92 306 537 5389](https://wa.me/923065375389)\n",
    "\n",
    "\n",
    "🔗 **Let’s Collaborate:**  \n",
    "I'm always open to queries, collaborations, and discussions. Let's build something amazing together!\n"
   ]
  },
  {
   "cell_type": "markdown",
   "metadata": {},
   "source": [
    "## Meta-Data (About Dataset)"
   ]
  },
  {
   "cell_type": "markdown",
   "metadata": {},
   "source": [
    "## Context: \n",
    "* This dataset offers a `detailed collection of information` about `various stars` in our galaxy. It includes key characteristics such as stellar temperature, luminosity, radius, and spectral class, providing a comprehensive view of different types of stars.\n",
    "\n",
    "* The data is structured to help astronomers, researchers, and enthusiasts explore the `relationships` between these `stellar attributes` and better understand the `diversity of stars` in the universe. Each entry in the dataset represents a `unique star`, with `data sourced from astronomical surveys and observations`.\n",
    "\n",
    "* Whether you're interested in studying the life cycle of stars, their physical properties, or just exploring the vastness of space, this dataset serves as a valuable resource for all things celestial. Dive in and discover the wonders of the stars!\n",
    "\n",
    "### Content:\n",
    "\n",
    "#### Column Descriptions:\n",
    "\n",
    "* `Name:` A unique identifier for each star.\n",
    "* `Distance (ly):` The distance of the star from Earth in light-years.\n",
    "* `Temperature (K):` The surface temperature of the star in Kelvin.\n",
    "* `Luminosity (L/Lo):` The luminosity of the star compared to that of the Sun.\n",
    "* `Radius (R/Ro):` The radius of the star relative to the Sun's radius.\n",
    "* `Spectral Class:` The star’s classification based on its spectral characteristics (e.g., O, B, A, F, G, K, M).\n",
    "\n",
    "\n",
    "\n",
    "### Acknowledgements\n",
    "### Creator:\n",
    "\n",
    "* Waqar Ali, Data Scientist, Kaggle Dataset Expert, Lahore, Punjab, Pakistan. [Link](https://www.kaggle.com/waqi786)"
   ]
  },
  {
   "cell_type": "markdown",
   "metadata": {},
   "source": [
    "## Aims and Objectives: 🎯\n",
    "\n",
    "We will fill this after doing the EDA and Data Preprocessing."
   ]
  },
  {
   "cell_type": "markdown",
   "metadata": {
    "vscode": {
     "languageId": "plaintext"
    }
   },
   "source": [
    "## Work Flow of this project: 🛰\n",
    "\n",
    "1. `Importing Necessary Libraries`\n",
    "   \n",
    "2. `Loading the Dataset`\n",
    "\n",
    "3. `Exploratory Data Analysis (EDA)`\n",
    "    * Understanding the Data Structure\n",
    "    * Checking for Missing Values\n",
    "    * Descriptive Statistics\n",
    "    * Data Visualization\n",
    "  \n",
    "4. `Data Preprocessing`\n",
    "    * Handling Missing Values (if any)\n",
    "    * Encoding Categorical Variables (if any)\n",
    "    * Feature Scaling\n",
    "\n",
    "5. `Building the Classification Model`\n",
    "    * Splitting the Data into Training and Testing Sets\n",
    "    * Choosing the Right Algorithm\n",
    "    * Training the Model\n",
    "    * Evaluating Model Performance\n",
    "\n",
    "6. `Making Predictions`\n",
    "\n",
    "7. `Saving and Loading the Model`\n"
   ]
  },
  {
   "cell_type": "markdown",
   "metadata": {},
   "source": [
    "### Import Libraries: 🛠\n",
    "\n",
    "Let's start the project by importing all the libraries that we will use in this project."
   ]
  },
  {
   "cell_type": "code",
   "execution_count": 2,
   "metadata": {},
   "outputs": [
    {
     "name": "stdout",
     "output_type": "stream",
     "text": [
      "Libraries have been loaded successfully\n"
     ]
    }
   ],
   "source": [
    "# import libraries:\n",
    "\n",
    "# 1. to handel the data:\n",
    "import numpy as np\n",
    "import pandas as pd\n",
    "\n",
    "# 2. to visualize the data:\n",
    "import matplotlib.pyplot as plt\n",
    "import seaborn as sns\n",
    "import plotly.express as px\n",
    "%matplotlib inline\n",
    "\n",
    "# 3. to preprocess the data:\n",
    "from sklearn.model_selection import train_test_split\n",
    "from sklearn.preprocessing import StandardScaler\n",
    "\n",
    "# 4. to build the model:\n",
    "from sklearn.linear_model import LogisticRegression\n",
    "from sklearn.svm import SVC\n",
    "from sklearn.tree import DecisionTreeClassifier\n",
    "from sklearn.ensemble import RandomForestClassifier\n",
    "from sklearn.ensemble import GradientBoostingClassifier, AdaBoostClassifier, BaggingClassifier\n",
    "from sklearn.neighbors import KNeighborsClassifier\n",
    "from sklearn.naive_bayes import GaussianNB\n",
    "from xgboost import XGBClassifier\n",
    "\n",
    "# 5. Metrics:\n",
    "from sklearn.metrics import accuracy_score, precision_score, recall_score, r2_score, f1_score , classification_report, mean_absolute_error, mean_absolute_percentage_error, mean_squared_error\n",
    "\n",
    "# 6. to ignore the warnings:\n",
    "import warnings\n",
    "warnings.filterwarnings(\"ignore\")\n",
    "\n",
    "print(\"Libraries have been loaded successfully\")\n",
    "\n",
    "# 8. Display all rows and columns:\n",
    "pd.set_option('display.max_columns', None)\n",
    "pd.set_option('display.max_rows', None)\n"
   ]
  },
  {
   "cell_type": "markdown",
   "metadata": {},
   "source": [
    "#### But why these libraries? 🤔"
   ]
  },
  {
   "cell_type": "markdown",
   "metadata": {},
   "source": [
    "\n",
    "* `pandas:` For data manipulation and analysis.\n",
    "\n",
    "* `numpy:` For numerical computations.\n",
    " \n",
    "* `matplotlib & seaborn:` For data visualization.\n",
    "\n",
    "* `scikit-learn:` For machine learning algorithms and evaluation metrics.\n",
    " \n",
    "* `%matplotlib inline:` To display plots directly in the notebook."
   ]
  },
  {
   "cell_type": "markdown",
   "metadata": {},
   "source": [
    "#### Setting up the Visualization Theme: 🐱‍🏍✨"
   ]
  },
  {
   "cell_type": "code",
   "execution_count": 3,
   "metadata": {},
   "outputs": [],
   "source": [
    "# Set the dark blue background theme for visualizations\n",
    "plt.style.use('dark_background')\n",
    "\n",
    "# Adjust background color to dark blue\n",
    "plt.rcParams['figure.facecolor'] = '#0d1b2a'\n",
    "plt.rcParams['axes.facecolor'] = '#0d1b2a'\n",
    "plt.rcParams['axes.edgecolor'] = '#0d1b2a'\n",
    "plt.rcParams['savefig.facecolor'] = '#0d1b2a'\n",
    "\n",
    "# Define a custom color palette with a golden neon effect\n",
    "golden_neon_palette = sns.color_palette([\"#ffd700\", \"#ffdf00\", \"#ffec8b\", \"#ffec00\", \"#fff700\"])\n",
    "\n",
    "# Apply the custom palette to Seaborn\n",
    "sns.set_palette(golden_neon_palette)\n"
   ]
  },
  {
   "cell_type": "code",
   "execution_count": 4,
   "metadata": {},
   "outputs": [],
   "source": [
    "df = pd.read_csv(\"star_dataset.csv\")"
   ]
  },
  {
   "cell_type": "markdown",
   "metadata": {},
   "source": [
    "### Lets have a sneek peak on the data: 👀"
   ]
  },
  {
   "cell_type": "code",
   "execution_count": 5,
   "metadata": {},
   "outputs": [
    {
     "data": {
      "text/html": [
       "<div>\n",
       "<style scoped>\n",
       "    .dataframe tbody tr th:only-of-type {\n",
       "        vertical-align: middle;\n",
       "    }\n",
       "\n",
       "    .dataframe tbody tr th {\n",
       "        vertical-align: top;\n",
       "    }\n",
       "\n",
       "    .dataframe thead th {\n",
       "        text-align: right;\n",
       "    }\n",
       "</style>\n",
       "<table border=\"1\" class=\"dataframe\">\n",
       "  <thead>\n",
       "    <tr style=\"text-align: right;\">\n",
       "      <th></th>\n",
       "      <th>Name</th>\n",
       "      <th>Distance (ly)</th>\n",
       "      <th>Luminosity (L/Lo)</th>\n",
       "      <th>Radius (R/Ro)</th>\n",
       "      <th>Temperature (K)</th>\n",
       "      <th>Spectral Class</th>\n",
       "    </tr>\n",
       "  </thead>\n",
       "  <tbody>\n",
       "    <tr>\n",
       "      <th>0</th>\n",
       "      <td>Altair</td>\n",
       "      <td>16.594171</td>\n",
       "      <td>9.979192</td>\n",
       "      <td>1.632650</td>\n",
       "      <td>7509.294247</td>\n",
       "      <td>A7V</td>\n",
       "    </tr>\n",
       "    <tr>\n",
       "      <th>1</th>\n",
       "      <td>Deneb</td>\n",
       "      <td>2600.490723</td>\n",
       "      <td>196002.627856</td>\n",
       "      <td>202.970526</td>\n",
       "      <td>8503.284796</td>\n",
       "      <td>A2Ia</td>\n",
       "    </tr>\n",
       "    <tr>\n",
       "      <th>2</th>\n",
       "      <td>Barnard's Star</td>\n",
       "      <td>6.052616</td>\n",
       "      <td>4.893716</td>\n",
       "      <td>0.222711</td>\n",
       "      <td>3165.959639</td>\n",
       "      <td>M4Ve</td>\n",
       "    </tr>\n",
       "    <tr>\n",
       "      <th>3</th>\n",
       "      <td>Polaris</td>\n",
       "      <td>322.601002</td>\n",
       "      <td>2196.241934</td>\n",
       "      <td>37.546813</td>\n",
       "      <td>6048.326915</td>\n",
       "      <td>F7Ib</td>\n",
       "    </tr>\n",
       "    <tr>\n",
       "      <th>4</th>\n",
       "      <td>Barnard's Star</td>\n",
       "      <td>5.902392</td>\n",
       "      <td>-1.496486</td>\n",
       "      <td>0.192359</td>\n",
       "      <td>3130.602069</td>\n",
       "      <td>M4Ve</td>\n",
       "    </tr>\n",
       "  </tbody>\n",
       "</table>\n",
       "</div>"
      ],
      "text/plain": [
       "             Name  Distance (ly)  Luminosity (L/Lo)  Radius (R/Ro)  \\\n",
       "0          Altair      16.594171           9.979192       1.632650   \n",
       "1           Deneb    2600.490723      196002.627856     202.970526   \n",
       "2  Barnard's Star       6.052616           4.893716       0.222711   \n",
       "3         Polaris     322.601002        2196.241934      37.546813   \n",
       "4  Barnard's Star       5.902392          -1.496486       0.192359   \n",
       "\n",
       "   Temperature (K) Spectral Class  \n",
       "0      7509.294247            A7V  \n",
       "1      8503.284796           A2Ia  \n",
       "2      3165.959639           M4Ve  \n",
       "3      6048.326915           F7Ib  \n",
       "4      3130.602069           M4Ve  "
      ]
     },
     "execution_count": 5,
     "metadata": {},
     "output_type": "execute_result"
    }
   ],
   "source": [
    "df.head()"
   ]
  },
  {
   "cell_type": "code",
   "execution_count": 6,
   "metadata": {},
   "outputs": [
    {
     "data": {
      "text/html": [
       "<div>\n",
       "<style scoped>\n",
       "    .dataframe tbody tr th:only-of-type {\n",
       "        vertical-align: middle;\n",
       "    }\n",
       "\n",
       "    .dataframe tbody tr th {\n",
       "        vertical-align: top;\n",
       "    }\n",
       "\n",
       "    .dataframe thead th {\n",
       "        text-align: right;\n",
       "    }\n",
       "</style>\n",
       "<table border=\"1\" class=\"dataframe\">\n",
       "  <thead>\n",
       "    <tr style=\"text-align: right;\">\n",
       "      <th></th>\n",
       "      <th>Name</th>\n",
       "      <th>Distance (ly)</th>\n",
       "      <th>Luminosity (L/Lo)</th>\n",
       "      <th>Radius (R/Ro)</th>\n",
       "      <th>Temperature (K)</th>\n",
       "      <th>Spectral Class</th>\n",
       "    </tr>\n",
       "  </thead>\n",
       "  <tbody>\n",
       "    <tr>\n",
       "      <th>995</th>\n",
       "      <td>Wolf 359</td>\n",
       "      <td>7.455715</td>\n",
       "      <td>-4.435101</td>\n",
       "      <td>0.068087</td>\n",
       "      <td>2774.148300</td>\n",
       "      <td>M6V</td>\n",
       "    </tr>\n",
       "    <tr>\n",
       "      <th>996</th>\n",
       "      <td>Hadar</td>\n",
       "      <td>350.301644</td>\n",
       "      <td>49997.506591</td>\n",
       "      <td>9.070882</td>\n",
       "      <td>25010.502656</td>\n",
       "      <td>B1III</td>\n",
       "    </tr>\n",
       "    <tr>\n",
       "      <th>997</th>\n",
       "      <td>Bellatrix</td>\n",
       "      <td>239.763294</td>\n",
       "      <td>6397.020159</td>\n",
       "      <td>5.706311</td>\n",
       "      <td>22603.548766</td>\n",
       "      <td>B2III</td>\n",
       "    </tr>\n",
       "    <tr>\n",
       "      <th>998</th>\n",
       "      <td>Alpha Centauri B</td>\n",
       "      <td>4.044364</td>\n",
       "      <td>-4.549088</td>\n",
       "      <td>0.939191</td>\n",
       "      <td>5286.304304</td>\n",
       "      <td>K1V</td>\n",
       "    </tr>\n",
       "    <tr>\n",
       "      <th>999</th>\n",
       "      <td>Wolf 359</td>\n",
       "      <td>8.139786</td>\n",
       "      <td>3.484205</td>\n",
       "      <td>0.236324</td>\n",
       "      <td>2813.600366</td>\n",
       "      <td>M6V</td>\n",
       "    </tr>\n",
       "  </tbody>\n",
       "</table>\n",
       "</div>"
      ],
      "text/plain": [
       "                 Name  Distance (ly)  Luminosity (L/Lo)  Radius (R/Ro)  \\\n",
       "995          Wolf 359       7.455715          -4.435101       0.068087   \n",
       "996             Hadar     350.301644       49997.506591       9.070882   \n",
       "997         Bellatrix     239.763294        6397.020159       5.706311   \n",
       "998  Alpha Centauri B       4.044364          -4.549088       0.939191   \n",
       "999          Wolf 359       8.139786           3.484205       0.236324   \n",
       "\n",
       "     Temperature (K) Spectral Class  \n",
       "995      2774.148300            M6V  \n",
       "996     25010.502656          B1III  \n",
       "997     22603.548766          B2III  \n",
       "998      5286.304304            K1V  \n",
       "999      2813.600366            M6V  "
      ]
     },
     "execution_count": 6,
     "metadata": {},
     "output_type": "execute_result"
    }
   ],
   "source": [
    "df.tail()"
   ]
  },
  {
   "cell_type": "markdown",
   "metadata": {},
   "source": [
    "#### checking the information of the dataset: 🔍"
   ]
  },
  {
   "cell_type": "code",
   "execution_count": 7,
   "metadata": {},
   "outputs": [
    {
     "data": {
      "text/plain": [
       "Index(['Name', 'Distance (ly)', 'Luminosity (L/Lo)', 'Radius (R/Ro)',\n",
       "       'Temperature (K)', 'Spectral Class'],\n",
       "      dtype='object')"
      ]
     },
     "execution_count": 7,
     "metadata": {},
     "output_type": "execute_result"
    }
   ],
   "source": [
    "df.columns"
   ]
  },
  {
   "cell_type": "markdown",
   "metadata": {},
   "source": [
    "- but the above columns are not clear, looks cluttered to me.  🥱\n",
    "- So, being a pythonic, I'll arrange them in an order and make them more readable. "
   ]
  },
  {
   "cell_type": "code",
   "execution_count": 8,
   "metadata": {},
   "outputs": [],
   "source": [
    "# renaming the columns for better understanding:\n",
    "\n",
    "df = df.rename(columns={\n",
    "    'Name': 'Name',\n",
    "    'Distance (ly)': 'Distance',\n",
    "    'Luminosity (L/Lo)': 'Luminosity',\n",
    "    'Radius (R/Ro)': 'Radius',\n",
    "    'Temperature (K)': 'Temperature',\n",
    "    'Spectral_Class': 'Spectral Class'\n",
    "})\n"
   ]
  },
  {
   "cell_type": "code",
   "execution_count": 9,
   "metadata": {},
   "outputs": [
    {
     "name": "stdout",
     "output_type": "stream",
     "text": [
      "Column 0: Name\n",
      "Column 1: Distance\n",
      "Column 2: Luminosity\n",
      "Column 3: Radius\n",
      "Column 4: Temperature\n",
      "Column 5: Spectral Class\n"
     ]
    }
   ],
   "source": [
    "# lets make the column names more readable by using for loop and if condition:\n",
    "i = 0\n",
    "\n",
    "for col in df.columns:\n",
    "    if i == len(df.columns):\n",
    "        break\n",
    "    else:\n",
    "        print(f\"Column {i}: {col}\")\n",
    "    i += 1"
   ]
  },
  {
   "cell_type": "code",
   "execution_count": 10,
   "metadata": {},
   "outputs": [
    {
     "name": "stdout",
     "output_type": "stream",
     "text": [
      "There are 6 columns and 1000 rows in the dataset\n"
     ]
    }
   ],
   "source": [
    "# print the number of columns and rows in the dataset using the shape attribute:\n",
    "\n",
    "print(f\"There are {df.shape[1]} columns and {df.shape[0]} rows in the dataset\")"
   ]
  },
  {
   "cell_type": "code",
   "execution_count": 11,
   "metadata": {},
   "outputs": [
    {
     "name": "stdout",
     "output_type": "stream",
     "text": [
      "<class 'pandas.core.frame.DataFrame'>\n",
      "RangeIndex: 1000 entries, 0 to 999\n",
      "Data columns (total 6 columns):\n",
      " #   Column          Non-Null Count  Dtype  \n",
      "---  ------          --------------  -----  \n",
      " 0   Name            1000 non-null   object \n",
      " 1   Distance        1000 non-null   float64\n",
      " 2   Luminosity      1000 non-null   float64\n",
      " 3   Radius          1000 non-null   float64\n",
      " 4   Temperature     1000 non-null   float64\n",
      " 5   Spectral Class  1000 non-null   object \n",
      "dtypes: float64(4), object(2)\n",
      "memory usage: 47.0+ KB\n"
     ]
    }
   ],
   "source": [
    "df.info()"
   ]
  },
  {
   "cell_type": "markdown",
   "metadata": {},
   "source": [
    "#### check for missing values: 🕵️‍♂️"
   ]
  },
  {
   "cell_type": "code",
   "execution_count": 12,
   "metadata": {},
   "outputs": [
    {
     "data": {
      "text/plain": [
       "Name              0\n",
       "Distance          0\n",
       "Luminosity        0\n",
       "Radius            0\n",
       "Temperature       0\n",
       "Spectral Class    0\n",
       "dtype: int64"
      ]
     },
     "execution_count": 12,
     "metadata": {},
     "output_type": "execute_result"
    }
   ],
   "source": [
    "df.isnull().sum().sort_values(ascending=False)"
   ]
  },
  {
   "cell_type": "markdown",
   "metadata": {},
   "source": [
    "#### lets check the statistical summary of the dataset: 🧩\n",
    "(it will only show the numerical columns)"
   ]
  },
  {
   "cell_type": "code",
   "execution_count": 13,
   "metadata": {},
   "outputs": [
    {
     "data": {
      "text/html": [
       "<div>\n",
       "<style scoped>\n",
       "    .dataframe tbody tr th:only-of-type {\n",
       "        vertical-align: middle;\n",
       "    }\n",
       "\n",
       "    .dataframe tbody tr th {\n",
       "        vertical-align: top;\n",
       "    }\n",
       "\n",
       "    .dataframe thead th {\n",
       "        text-align: right;\n",
       "    }\n",
       "</style>\n",
       "<table border=\"1\" class=\"dataframe\">\n",
       "  <thead>\n",
       "    <tr style=\"text-align: right;\">\n",
       "      <th></th>\n",
       "      <th>Distance</th>\n",
       "      <th>Luminosity</th>\n",
       "      <th>Radius</th>\n",
       "      <th>Temperature</th>\n",
       "    </tr>\n",
       "  </thead>\n",
       "  <tbody>\n",
       "    <tr>\n",
       "      <th>count</th>\n",
       "      <td>1000.000000</td>\n",
       "      <td>1000.000000</td>\n",
       "      <td>1000.000000</td>\n",
       "      <td>1000.000000</td>\n",
       "    </tr>\n",
       "    <tr>\n",
       "      <th>mean</th>\n",
       "      <td>295.505327</td>\n",
       "      <td>19644.909442</td>\n",
       "      <td>86.960696</td>\n",
       "      <td>9983.486779</td>\n",
       "    </tr>\n",
       "    <tr>\n",
       "      <th>std</th>\n",
       "      <td>541.478403</td>\n",
       "      <td>42223.595017</td>\n",
       "      <td>213.850005</td>\n",
       "      <td>7906.973529</td>\n",
       "    </tr>\n",
       "    <tr>\n",
       "      <th>min</th>\n",
       "      <td>3.877798</td>\n",
       "      <td>-4.993141</td>\n",
       "      <td>0.068087</td>\n",
       "      <td>2750.183163</td>\n",
       "    </tr>\n",
       "    <tr>\n",
       "      <th>25%</th>\n",
       "      <td>11.716853</td>\n",
       "      <td>10.441039</td>\n",
       "      <td>1.664479</td>\n",
       "      <td>3940.020856</td>\n",
       "    </tr>\n",
       "    <tr>\n",
       "      <th>50%</th>\n",
       "      <td>52.031435</td>\n",
       "      <td>171.097809</td>\n",
       "      <td>5.845444</td>\n",
       "      <td>7379.007975</td>\n",
       "    </tr>\n",
       "    <tr>\n",
       "      <th>75%</th>\n",
       "      <td>322.865874</td>\n",
       "      <td>10500.577117</td>\n",
       "      <td>33.719778</td>\n",
       "      <td>12055.975095</td>\n",
       "    </tr>\n",
       "    <tr>\n",
       "      <th>max</th>\n",
       "      <td>2600.490723</td>\n",
       "      <td>196004.854081</td>\n",
       "      <td>887.097936</td>\n",
       "      <td>28044.279272</td>\n",
       "    </tr>\n",
       "  </tbody>\n",
       "</table>\n",
       "</div>"
      ],
      "text/plain": [
       "          Distance     Luminosity       Radius   Temperature\n",
       "count  1000.000000    1000.000000  1000.000000   1000.000000\n",
       "mean    295.505327   19644.909442    86.960696   9983.486779\n",
       "std     541.478403   42223.595017   213.850005   7906.973529\n",
       "min       3.877798      -4.993141     0.068087   2750.183163\n",
       "25%      11.716853      10.441039     1.664479   3940.020856\n",
       "50%      52.031435     171.097809     5.845444   7379.007975\n",
       "75%     322.865874   10500.577117    33.719778  12055.975095\n",
       "max    2600.490723  196004.854081   887.097936  28044.279272"
      ]
     },
     "execution_count": 13,
     "metadata": {},
     "output_type": "execute_result"
    }
   ],
   "source": [
    "df.describe()"
   ]
  },
  {
   "cell_type": "markdown",
   "metadata": {},
   "source": [
    "## Observations: 📝\n",
    "\n",
    "- The dataset has `6 columns` and `1000 rows`.\n",
    "- There are `no missing values` in the dataset.\n",
    "\n",
    "#### Column names are:\n",
    "\n",
    "- Name\n",
    "- Distance \n",
    "- Luminosity\n",
    "- Radius\n",
    "- Temperature\n",
    "- Spectral Class \n",
    "  \n",
    "#### Among these columns:\n",
    "- Distance is `numerical` and `continuous`.\n",
    "- Luminosity is `numerical` and `continuous`.\n",
    "- Radius is `numerical` and `continuous`.\n",
    "- Temperature is `numerical` and `continuous`.\n",
    "  \n",
    "- Spectral Class is `categorical` and `ordinal`.\n",
    "- Color is `categorical` and `ordinal`.\n",
    "\n"
   ]
  },
  {
   "cell_type": "markdown",
   "metadata": {},
   "source": [
    "## Exploratory Data Analysis (EDA): 📊\n",
    "we will go through the data and check each column carefully to get maximum insights possible:"
   ]
  },
  {
   "cell_type": "markdown",
   "metadata": {},
   "source": [
    "---\n",
    "#### **1.Name Column:**\n",
    "--- "
   ]
  },
  {
   "cell_type": "code",
   "execution_count": 14,
   "metadata": {},
   "outputs": [
    {
     "data": {
      "text/plain": [
       "Name\n",
       "Altair              74\n",
       "Canopus             48\n",
       "Hadar               45\n",
       "Ross 154            45\n",
       "Betelgeuse          44\n",
       "Castor              39\n",
       "Capella             39\n",
       "Barnard's Star      38\n",
       "Vega                38\n",
       "Arcturus            38\n",
       "Mira                37\n",
       "Bellatrix           37\n",
       "Alnilam             36\n",
       "Rigil Kentaurus     36\n",
       "Polaris             35\n",
       "Sirius              34\n",
       "Spica               32\n",
       "Fomalhaut           31\n",
       "Procyon             30\n",
       "Acrux               30\n",
       "Achernar            29\n",
       "Lalande 21185       27\n",
       "Regulus             26\n",
       "Antares             26\n",
       "Deneb               25\n",
       "Alpha Centauri B    24\n",
       "Wolf 359            22\n",
       "Aldebaran           18\n",
       "Rigel               17\n",
       "Name: count, dtype: int64"
      ]
     },
     "execution_count": 14,
     "metadata": {},
     "output_type": "execute_result"
    }
   ],
   "source": [
    "df['Name'].value_counts()"
   ]
  },
  {
   "cell_type": "code",
   "execution_count": 15,
   "metadata": {},
   "outputs": [
    {
     "data": {
      "text/plain": [
       "array(['Altair', 'Deneb', \"Barnard's Star\", 'Polaris', 'Sirius',\n",
       "       'Fomalhaut', 'Capella', 'Bellatrix', 'Castor', 'Hadar',\n",
       "       'Betelgeuse', 'Regulus', 'Mira', 'Acrux', 'Vega', 'Lalande 21185',\n",
       "       'Arcturus', 'Alpha Centauri B', 'Ross 154', 'Canopus', 'Procyon',\n",
       "       'Wolf 359', 'Antares', 'Alnilam', 'Rigil Kentaurus', 'Spica',\n",
       "       'Achernar', 'Aldebaran', 'Rigel'], dtype=object)"
      ]
     },
     "execution_count": 15,
     "metadata": {},
     "output_type": "execute_result"
    }
   ],
   "source": [
    "df['Name'].unique()"
   ]
  },
  {
   "cell_type": "code",
   "execution_count": 16,
   "metadata": {},
   "outputs": [
    {
     "name": "stdout",
     "output_type": "stream",
     "text": [
      "The total number of unique Names of stars are: \n",
      "\n",
      "Altair\n",
      "Deneb\n",
      "Barnard's Star\n",
      "Polaris\n",
      "Sirius\n",
      "Fomalhaut\n",
      "Capella\n",
      "Bellatrix\n",
      "Castor\n",
      "Hadar\n",
      "Betelgeuse\n",
      "Regulus\n",
      "Mira\n",
      "Acrux\n",
      "Vega\n",
      "Lalande 21185\n",
      "Arcturus\n",
      "Alpha Centauri B\n",
      "Ross 154\n",
      "Canopus\n",
      "Procyon\n",
      "Wolf 359\n",
      "Antares\n",
      "Alnilam\n",
      "Rigil Kentaurus\n",
      "Spica\n",
      "Achernar\n",
      "Aldebaran\n",
      "Rigel\n"
     ]
    }
   ],
   "source": [
    "print(\"The total number of unique Names of stars are: \\n\", )\n",
    "for name in df['Name'].unique():\n",
    "    print(name)"
   ]
  },
  {
   "cell_type": "code",
   "execution_count": 21,
   "metadata": {},
   "outputs": [
    {
     "data": {
      "image/png": "[encoded data removed]",
      "text/plain": [
       "<Figure size 1400x800 with 1 Axes>"
      ]
     },
     "metadata": {},
     "output_type": "display_data"
    }
   ],
   "source": [
    "# histogram of name column using seaborn:\n",
    "\n",
    "plt.figure(figsize=(14, 8))\n",
    "sns.histplot(data=df, x='Name')\n",
    "plt.title(\"Histogram of Name column\")\n",
    "plt.xticks(rotation=90)\n",
    "plt.show()\n",
    "\n"
   ]
  },
  {
   "cell_type": "markdown",
   "metadata": {},
   "source": [
    "let's make it interactive using plotly:"
   ]
  },
  {
   "cell_type": "code",
   "execution_count": 18,
   "metadata": {},
   "outputs": [
    {
     "data": {
      "application/vnd.plotly.v1+json": {
       "config": {
        "plotlyServerURL": "https://plot.ly"
       },
       "data": [
        {
         "alignmentgroup": "True",
         "bingroup": "x",
         "hovertemplate": "Name=%{x}<br>count=%{y}<extra></extra>",
         "legendgroup": "",
         "marker": {
          "color": "#636efa",
          "pattern": {
           "shape": ""
          }
         },
         "name": "",
         "offsetgroup": "",
         "orientation": "v",
         "showlegend": false,
         "type": "histogram",
         "x": [
          "Altair",
          "Deneb",
          "Barnard's Star",
          "Polaris",
          "Barnard's Star",
          "Sirius",
          "Fomalhaut",
          "Capella",
          "Capella",
          "Bellatrix",
          "Castor",
          "Altair",
          "Bellatrix",
          "Hadar",
          "Betelgeuse",
          "Regulus",
          "Regulus",
          "Mira",
          "Acrux",
          "Vega",
          "Betelgeuse",
          "Lalande 21185",
          "Hadar",
          "Regulus",
          "Regulus",
          "Bellatrix",
          "Sirius",
          "Arcturus",
          "Alpha Centauri B",
          "Ross 154",
          "Betelgeuse",
          "Sirius",
          "Altair",
          "Regulus",
          "Lalande 21185",
          "Canopus",
          "Procyon",
          "Capella",
          "Barnard's Star",
          "Arcturus",
          "Canopus",
          "Altair",
          "Polaris",
          "Barnard's Star",
          "Castor",
          "Castor",
          "Bellatrix",
          "Polaris",
          "Castor",
          "Barnard's Star",
          "Vega",
          "Wolf 359",
          "Regulus",
          "Polaris",
          "Antares",
          "Regulus",
          "Acrux",
          "Alnilam",
          "Bellatrix",
          "Hadar",
          "Rigil Kentaurus",
          "Vega",
          "Alnilam",
          "Ross 154",
          "Vega",
          "Alnilam",
          "Castor",
          "Betelgeuse",
          "Alnilam",
          "Bellatrix",
          "Hadar",
          "Barnard's Star",
          "Barnard's Star",
          "Spica",
          "Deneb",
          "Bellatrix",
          "Fomalhaut",
          "Rigil Kentaurus",
          "Vega",
          "Canopus",
          "Ross 154",
          "Betelgeuse",
          "Altair",
          "Procyon",
          "Betelgeuse",
          "Sirius",
          "Hadar",
          "Arcturus",
          "Ross 154",
          "Alnilam",
          "Lalande 21185",
          "Polaris",
          "Deneb",
          "Vega",
          "Acrux",
          "Spica",
          "Capella",
          "Altair",
          "Antares",
          "Capella",
          "Wolf 359",
          "Spica",
          "Acrux",
          "Mira",
          "Altair",
          "Betelgeuse",
          "Barnard's Star",
          "Achernar",
          "Aldebaran",
          "Antares",
          "Hadar",
          "Arcturus",
          "Aldebaran",
          "Regulus",
          "Lalande 21185",
          "Canopus",
          "Canopus",
          "Acrux",
          "Sirius",
          "Canopus",
          "Rigil Kentaurus",
          "Rigil Kentaurus",
          "Sirius",
          "Barnard's Star",
          "Polaris",
          "Spica",
          "Spica",
          "Procyon",
          "Acrux",
          "Antares",
          "Rigil Kentaurus",
          "Vega",
          "Barnard's Star",
          "Aldebaran",
          "Alpha Centauri B",
          "Canopus",
          "Castor",
          "Rigil Kentaurus",
          "Aldebaran",
          "Altair",
          "Arcturus",
          "Fomalhaut",
          "Antares",
          "Hadar",
          "Deneb",
          "Vega",
          "Aldebaran",
          "Acrux",
          "Altair",
          "Polaris",
          "Capella",
          "Sirius",
          "Rigel",
          "Alnilam",
          "Aldebaran",
          "Mira",
          "Ross 154",
          "Fomalhaut",
          "Mira",
          "Alnilam",
          "Betelgeuse",
          "Procyon",
          "Mira",
          "Sirius",
          "Hadar",
          "Procyon",
          "Altair",
          "Acrux",
          "Alnilam",
          "Spica",
          "Spica",
          "Spica",
          "Alpha Centauri B",
          "Lalande 21185",
          "Deneb",
          "Acrux",
          "Spica",
          "Altair",
          "Achernar",
          "Alnilam",
          "Canopus",
          "Regulus",
          "Capella",
          "Rigil Kentaurus",
          "Altair",
          "Deneb",
          "Betelgeuse",
          "Betelgeuse",
          "Sirius",
          "Alpha Centauri B",
          "Bellatrix",
          "Lalande 21185",
          "Acrux",
          "Hadar",
          "Polaris",
          "Altair",
          "Acrux",
          "Polaris",
          "Capella",
          "Polaris",
          "Bellatrix",
          "Altair",
          "Spica",
          "Vega",
          "Arcturus",
          "Castor",
          "Alpha Centauri B",
          "Procyon",
          "Betelgeuse",
          "Lalande 21185",
          "Hadar",
          "Rigel",
          "Alnilam",
          "Wolf 359",
          "Altair",
          "Altair",
          "Regulus",
          "Achernar",
          "Altair",
          "Castor",
          "Ross 154",
          "Polaris",
          "Arcturus",
          "Aldebaran",
          "Antares",
          "Ross 154",
          "Lalande 21185",
          "Capella",
          "Rigil Kentaurus",
          "Hadar",
          "Procyon",
          "Bellatrix",
          "Rigel",
          "Capella",
          "Canopus",
          "Arcturus",
          "Deneb",
          "Rigil Kentaurus",
          "Alnilam",
          "Fomalhaut",
          "Mira",
          "Betelgeuse",
          "Rigil Kentaurus",
          "Barnard's Star",
          "Canopus",
          "Barnard's Star",
          "Polaris",
          "Ross 154",
          "Regulus",
          "Achernar",
          "Acrux",
          "Alpha Centauri B",
          "Arcturus",
          "Canopus",
          "Betelgeuse",
          "Mira",
          "Deneb",
          "Procyon",
          "Alnilam",
          "Lalande 21185",
          "Altair",
          "Alpha Centauri B",
          "Deneb",
          "Deneb",
          "Vega",
          "Arcturus",
          "Deneb",
          "Betelgeuse",
          "Capella",
          "Canopus",
          "Wolf 359",
          "Mira",
          "Lalande 21185",
          "Hadar",
          "Castor",
          "Betelgeuse",
          "Alpha Centauri B",
          "Procyon",
          "Polaris",
          "Altair",
          "Bellatrix",
          "Betelgeuse",
          "Altair",
          "Achernar",
          "Hadar",
          "Capella",
          "Alpha Centauri B",
          "Alnilam",
          "Sirius",
          "Fomalhaut",
          "Barnard's Star",
          "Sirius",
          "Wolf 359",
          "Acrux",
          "Regulus",
          "Sirius",
          "Castor",
          "Capella",
          "Hadar",
          "Canopus",
          "Rigil Kentaurus",
          "Capella",
          "Acrux",
          "Altair",
          "Lalande 21185",
          "Ross 154",
          "Altair",
          "Procyon",
          "Altair",
          "Acrux",
          "Arcturus",
          "Procyon",
          "Hadar",
          "Hadar",
          "Polaris",
          "Betelgeuse",
          "Altair",
          "Betelgeuse",
          "Lalande 21185",
          "Capella",
          "Achernar",
          "Alnilam",
          "Rigel",
          "Castor",
          "Hadar",
          "Alnilam",
          "Hadar",
          "Sirius",
          "Rigil Kentaurus",
          "Fomalhaut",
          "Fomalhaut",
          "Mira",
          "Procyon",
          "Mira",
          "Achernar",
          "Antares",
          "Altair",
          "Bellatrix",
          "Lalande 21185",
          "Vega",
          "Mira",
          "Arcturus",
          "Vega",
          "Altair",
          "Fomalhaut",
          "Alpha Centauri B",
          "Fomalhaut",
          "Canopus",
          "Altair",
          "Vega",
          "Castor",
          "Bellatrix",
          "Alnilam",
          "Hadar",
          "Capella",
          "Deneb",
          "Arcturus",
          "Hadar",
          "Vega",
          "Capella",
          "Bellatrix",
          "Alnilam",
          "Arcturus",
          "Regulus",
          "Altair",
          "Achernar",
          "Capella",
          "Betelgeuse",
          "Rigil Kentaurus",
          "Betelgeuse",
          "Mira",
          "Alnilam",
          "Fomalhaut",
          "Altair",
          "Vega",
          "Procyon",
          "Acrux",
          "Antares",
          "Capella",
          "Sirius",
          "Ross 154",
          "Canopus",
          "Bellatrix",
          "Arcturus",
          "Canopus",
          "Ross 154",
          "Hadar",
          "Fomalhaut",
          "Vega",
          "Alpha Centauri B",
          "Spica",
          "Aldebaran",
          "Mira",
          "Vega",
          "Betelgeuse",
          "Castor",
          "Rigel",
          "Ross 154",
          "Wolf 359",
          "Acrux",
          "Fomalhaut",
          "Rigel",
          "Wolf 359",
          "Canopus",
          "Rigil Kentaurus",
          "Arcturus",
          "Arcturus",
          "Fomalhaut",
          "Deneb",
          "Mira",
          "Procyon",
          "Canopus",
          "Wolf 359",
          "Bellatrix",
          "Altair",
          "Capella",
          "Rigil Kentaurus",
          "Rigil Kentaurus",
          "Alpha Centauri B",
          "Ross 154",
          "Achernar",
          "Ross 154",
          "Hadar",
          "Rigil Kentaurus",
          "Achernar",
          "Lalande 21185",
          "Alpha Centauri B",
          "Arcturus",
          "Barnard's Star",
          "Betelgeuse",
          "Altair",
          "Capella",
          "Fomalhaut",
          "Arcturus",
          "Acrux",
          "Altair",
          "Hadar",
          "Spica",
          "Hadar",
          "Mira",
          "Antares",
          "Lalande 21185",
          "Ross 154",
          "Regulus",
          "Bellatrix",
          "Acrux",
          "Castor",
          "Bellatrix",
          "Polaris",
          "Polaris",
          "Vega",
          "Arcturus",
          "Regulus",
          "Antares",
          "Vega",
          "Barnard's Star",
          "Castor",
          "Vega",
          "Hadar",
          "Betelgeuse",
          "Vega",
          "Lalande 21185",
          "Polaris",
          "Polaris",
          "Rigel",
          "Vega",
          "Sirius",
          "Sirius",
          "Acrux",
          "Rigil Kentaurus",
          "Polaris",
          "Sirius",
          "Canopus",
          "Capella",
          "Barnard's Star",
          "Canopus",
          "Vega",
          "Spica",
          "Ross 154",
          "Achernar",
          "Ross 154",
          "Capella",
          "Spica",
          "Deneb",
          "Bellatrix",
          "Arcturus",
          "Alpha Centauri B",
          "Altair",
          "Canopus",
          "Lalande 21185",
          "Hadar",
          "Canopus",
          "Hadar",
          "Altair",
          "Castor",
          "Polaris",
          "Lalande 21185",
          "Canopus",
          "Spica",
          "Polaris",
          "Alpha Centauri B",
          "Lalande 21185",
          "Mira",
          "Rigel",
          "Castor",
          "Betelgeuse",
          "Mira",
          "Fomalhaut",
          "Polaris",
          "Hadar",
          "Antares",
          "Bellatrix",
          "Betelgeuse",
          "Achernar",
          "Polaris",
          "Mira",
          "Polaris",
          "Lalande 21185",
          "Deneb",
          "Polaris",
          "Vega",
          "Alpha Centauri B",
          "Sirius",
          "Alnilam",
          "Procyon",
          "Capella",
          "Bellatrix",
          "Lalande 21185",
          "Fomalhaut",
          "Alnilam",
          "Ross 154",
          "Mira",
          "Mira",
          "Rigil Kentaurus",
          "Altair",
          "Altair",
          "Alpha Centauri B",
          "Barnard's Star",
          "Acrux",
          "Achernar",
          "Hadar",
          "Arcturus",
          "Barnard's Star",
          "Fomalhaut",
          "Alnilam",
          "Wolf 359",
          "Barnard's Star",
          "Rigel",
          "Vega",
          "Alnilam",
          "Procyon",
          "Fomalhaut",
          "Ross 154",
          "Antares",
          "Hadar",
          "Altair",
          "Acrux",
          "Barnard's Star",
          "Spica",
          "Aldebaran",
          "Canopus",
          "Ross 154",
          "Fomalhaut",
          "Altair",
          "Barnard's Star",
          "Antares",
          "Altair",
          "Canopus",
          "Polaris",
          "Aldebaran",
          "Spica",
          "Arcturus",
          "Aldebaran",
          "Rigil Kentaurus",
          "Altair",
          "Capella",
          "Hadar",
          "Canopus",
          "Canopus",
          "Deneb",
          "Regulus",
          "Altair",
          "Lalande 21185",
          "Antares",
          "Procyon",
          "Rigil Kentaurus",
          "Bellatrix",
          "Capella",
          "Bellatrix",
          "Arcturus",
          "Arcturus",
          "Fomalhaut",
          "Procyon",
          "Mira",
          "Barnard's Star",
          "Ross 154",
          "Spica",
          "Betelgeuse",
          "Castor",
          "Bellatrix",
          "Mira",
          "Alpha Centauri B",
          "Bellatrix",
          "Ross 154",
          "Betelgeuse",
          "Ross 154",
          "Rigel",
          "Betelgeuse",
          "Rigel",
          "Regulus",
          "Ross 154",
          "Procyon",
          "Hadar",
          "Altair",
          "Mira",
          "Sirius",
          "Fomalhaut",
          "Wolf 359",
          "Achernar",
          "Capella",
          "Vega",
          "Deneb",
          "Ross 154",
          "Betelgeuse",
          "Altair",
          "Arcturus",
          "Ross 154",
          "Achernar",
          "Ross 154",
          "Hadar",
          "Hadar",
          "Ross 154",
          "Polaris",
          "Betelgeuse",
          "Castor",
          "Polaris",
          "Achernar",
          "Alnilam",
          "Capella",
          "Mira",
          "Canopus",
          "Achernar",
          "Castor",
          "Spica",
          "Hadar",
          "Acrux",
          "Sirius",
          "Rigil Kentaurus",
          "Betelgeuse",
          "Castor",
          "Mira",
          "Sirius",
          "Vega",
          "Achernar",
          "Altair",
          "Polaris",
          "Rigil Kentaurus",
          "Altair",
          "Barnard's Star",
          "Polaris",
          "Vega",
          "Barnard's Star",
          "Mira",
          "Arcturus",
          "Castor",
          "Aldebaran",
          "Vega",
          "Rigel",
          "Barnard's Star",
          "Deneb",
          "Betelgeuse",
          "Altair",
          "Spica",
          "Ross 154",
          "Regulus",
          "Fomalhaut",
          "Alnilam",
          "Deneb",
          "Polaris",
          "Achernar",
          "Sirius",
          "Rigel",
          "Fomalhaut",
          "Regulus",
          "Sirius",
          "Barnard's Star",
          "Mira",
          "Rigil Kentaurus",
          "Antares",
          "Rigil Kentaurus",
          "Sirius",
          "Arcturus",
          "Antares",
          "Procyon",
          "Sirius",
          "Alnilam",
          "Mira",
          "Alnilam",
          "Altair",
          "Altair",
          "Ross 154",
          "Rigil Kentaurus",
          "Antares",
          "Hadar",
          "Antares",
          "Arcturus",
          "Mira",
          "Vega",
          "Castor",
          "Vega",
          "Regulus",
          "Castor",
          "Procyon",
          "Barnard's Star",
          "Achernar",
          "Bellatrix",
          "Canopus",
          "Alnilam",
          "Polaris",
          "Ross 154",
          "Achernar",
          "Achernar",
          "Mira",
          "Betelgeuse",
          "Bellatrix",
          "Fomalhaut",
          "Achernar",
          "Sirius",
          "Altair",
          "Wolf 359",
          "Sirius",
          "Castor",
          "Procyon",
          "Aldebaran",
          "Spica",
          "Antares",
          "Sirius",
          "Wolf 359",
          "Canopus",
          "Altair",
          "Spica",
          "Altair",
          "Sirius",
          "Deneb",
          "Canopus",
          "Canopus",
          "Alnilam",
          "Ross 154",
          "Castor",
          "Altair",
          "Sirius",
          "Ross 154",
          "Deneb",
          "Achernar",
          "Fomalhaut",
          "Alpha Centauri B",
          "Altair",
          "Acrux",
          "Fomalhaut",
          "Capella",
          "Fomalhaut",
          "Regulus",
          "Altair",
          "Betelgeuse",
          "Bellatrix",
          "Capella",
          "Wolf 359",
          "Canopus",
          "Alnilam",
          "Mira",
          "Barnard's Star",
          "Deneb",
          "Alnilam",
          "Spica",
          "Hadar",
          "Castor",
          "Ross 154",
          "Mira",
          "Alnilam",
          "Betelgeuse",
          "Barnard's Star",
          "Lalande 21185",
          "Wolf 359",
          "Altair",
          "Betelgeuse",
          "Spica",
          "Ross 154",
          "Capella",
          "Hadar",
          "Alnilam",
          "Ross 154",
          "Lalande 21185",
          "Arcturus",
          "Castor",
          "Castor",
          "Rigil Kentaurus",
          "Mira",
          "Altair",
          "Polaris",
          "Castor",
          "Ross 154",
          "Castor",
          "Alnilam",
          "Canopus",
          "Sirius",
          "Canopus",
          "Vega",
          "Sirius",
          "Polaris",
          "Capella",
          "Antares",
          "Regulus",
          "Alpha Centauri B",
          "Canopus",
          "Altair",
          "Rigil Kentaurus",
          "Alnilam",
          "Canopus",
          "Canopus",
          "Hadar",
          "Alnilam",
          "Deneb",
          "Altair",
          "Acrux",
          "Procyon",
          "Spica",
          "Rigil Kentaurus",
          "Capella",
          "Antares",
          "Rigil Kentaurus",
          "Bellatrix",
          "Capella",
          "Acrux",
          "Barnard's Star",
          "Rigel",
          "Altair",
          "Rigel",
          "Acrux",
          "Regulus",
          "Regulus",
          "Canopus",
          "Bellatrix",
          "Regulus",
          "Altair",
          "Capella",
          "Rigel",
          "Hadar",
          "Ross 154",
          "Fomalhaut",
          "Arcturus",
          "Ross 154",
          "Arcturus",
          "Fomalhaut",
          "Barnard's Star",
          "Altair",
          "Regulus",
          "Canopus",
          "Capella",
          "Aldebaran",
          "Achernar",
          "Arcturus",
          "Bellatrix",
          "Spica",
          "Barnard's Star",
          "Canopus",
          "Betelgeuse",
          "Sirius",
          "Deneb",
          "Spica",
          "Alpha Centauri B",
          "Achernar",
          "Hadar",
          "Betelgeuse",
          "Fomalhaut",
          "Antares",
          "Rigil Kentaurus",
          "Aldebaran",
          "Wolf 359",
          "Wolf 359",
          "Polaris",
          "Betelgeuse",
          "Aldebaran",
          "Bellatrix",
          "Rigil Kentaurus",
          "Wolf 359",
          "Achernar",
          "Alnilam",
          "Betelgeuse",
          "Castor",
          "Rigil Kentaurus",
          "Procyon",
          "Spica",
          "Vega",
          "Ross 154",
          "Barnard's Star",
          "Ross 154",
          "Altair",
          "Achernar",
          "Alpha Centauri B",
          "Bellatrix",
          "Canopus",
          "Castor",
          "Arcturus",
          "Castor",
          "Hadar",
          "Barnard's Star",
          "Canopus",
          "Betelgeuse",
          "Hadar",
          "Spica",
          "Castor",
          "Castor",
          "Bellatrix",
          "Ross 154",
          "Mira",
          "Capella",
          "Wolf 359",
          "Aldebaran",
          "Antares",
          "Altair",
          "Wolf 359",
          "Acrux",
          "Arcturus",
          "Bellatrix",
          "Altair",
          "Canopus",
          "Arcturus",
          "Bellatrix",
          "Spica",
          "Procyon",
          "Capella",
          "Vega",
          "Acrux",
          "Procyon",
          "Alpha Centauri B",
          "Canopus",
          "Altair",
          "Vega",
          "Barnard's Star",
          "Altair",
          "Ross 154",
          "Wolf 359",
          "Vega",
          "Achernar",
          "Rigil Kentaurus",
          "Altair",
          "Antares",
          "Betelgeuse",
          "Sirius",
          "Procyon",
          "Ross 154",
          "Canopus",
          "Aldebaran",
          "Arcturus",
          "Antares",
          "Lalande 21185",
          "Barnard's Star",
          "Barnard's Star",
          "Castor",
          "Spica",
          "Acrux",
          "Spica",
          "Procyon",
          "Canopus",
          "Altair",
          "Rigil Kentaurus",
          "Vega",
          "Procyon",
          "Arcturus",
          "Canopus",
          "Altair",
          "Hadar",
          "Castor",
          "Antares",
          "Altair",
          "Ross 154",
          "Capella",
          "Castor",
          "Procyon",
          "Lalande 21185",
          "Mira",
          "Betelgeuse",
          "Betelgeuse",
          "Lalande 21185",
          "Altair",
          "Vega",
          "Mira",
          "Rigil Kentaurus",
          "Mira",
          "Altair",
          "Altair",
          "Deneb",
          "Rigel",
          "Altair",
          "Barnard's Star",
          "Wolf 359",
          "Hadar",
          "Bellatrix",
          "Alpha Centauri B",
          "Wolf 359"
         ],
         "xaxis": "x",
         "yaxis": "y"
        }
       ],
       "layout": {
        "barmode": "relative",
        "legend": {
         "tracegroupgap": 0
        },
        "template": {
         "data": {
          "bar": [
           {
            "error_x": {
             "color": "#2a3f5f"
            },
            "error_y": {
             "color": "#2a3f5f"
            },
            "marker": {
             "line": {
              "color": "#E5ECF6",
              "width": 0.5
             },
             "pattern": {
              "fillmode": "overlay",
              "size": 10,
              "solidity": 0.2
             }
            },
            "type": "bar"
           }
          ],
          "barpolar": [
           {
            "marker": {
             "line": {
              "color": "#E5ECF6",
              "width": 0.5
             },
             "pattern": {
              "fillmode": "overlay",
              "size": 10,
              "solidity": 0.2
             }
            },
            "type": "barpolar"
           }
          ],
          "carpet": [
           {
            "aaxis": {
             "endlinecolor": "#2a3f5f",
             "gridcolor": "white",
             "linecolor": "white",
             "minorgridcolor": "white",
             "startlinecolor": "#2a3f5f"
            },
            "baxis": {
             "endlinecolor": "#2a3f5f",
             "gridcolor": "white",
             "linecolor": "white",
             "minorgridcolor": "white",
             "startlinecolor": "#2a3f5f"
            },
            "type": "carpet"
           }
          ],
          "choropleth": [
           {
            "colorbar": {
             "outlinewidth": 0,
             "ticks": ""
            },
            "type": "choropleth"
           }
          ],
          "contour": [
           {
            "colorbar": {
             "outlinewidth": 0,
             "ticks": ""
            },
            "colorscale": [
             [
              0,
              "#0d0887"
             ],
             [
              0.1111111111111111,
              "#46039f"
             ],
             [
              0.2222222222222222,
              "#7201a8"
             ],
             [
              0.3333333333333333,
              "#9c179e"
             ],
             [
              0.4444444444444444,
              "#bd3786"
             ],
             [
              0.5555555555555556,
              "#d8576b"
             ],
             [
              0.6666666666666666,
              "#ed7953"
             ],
             [
              0.7777777777777778,
              "#fb9f3a"
             ],
             [
              0.8888888888888888,
              "#fdca26"
             ],
             [
              1,
              "#f0f921"
             ]
            ],
            "type": "contour"
           }
          ],
          "contourcarpet": [
           {
            "colorbar": {
             "outlinewidth": 0,
             "ticks": ""
            },
            "type": "contourcarpet"
           }
          ],
          "heatmap": [
           {
            "colorbar": {
             "outlinewidth": 0,
             "ticks": ""
            },
            "colorscale": [
             [
              0,
              "#0d0887"
             ],
             [
              0.1111111111111111,
              "#46039f"
             ],
             [
              0.2222222222222222,
              "#7201a8"
             ],
             [
              0.3333333333333333,
              "#9c179e"
             ],
             [
              0.4444444444444444,
              "#bd3786"
             ],
             [
              0.5555555555555556,
              "#d8576b"
             ],
             [
              0.6666666666666666,
              "#ed7953"
             ],
             [
              0.7777777777777778,
              "#fb9f3a"
             ],
             [
              0.8888888888888888,
              "#fdca26"
             ],
             [
              1,
              "#f0f921"
             ]
            ],
            "type": "heatmap"
           }
          ],
          "heatmapgl": [
           {
            "colorbar": {
             "outlinewidth": 0,
             "ticks": ""
            },
            "colorscale": [
             [
              0,
              "#0d0887"
             ],
             [
              0.1111111111111111,
              "#46039f"
             ],
             [
              0.2222222222222222,
              "#7201a8"
             ],
             [
              0.3333333333333333,
              "#9c179e"
             ],
             [
              0.4444444444444444,
              "#bd3786"
             ],
             [
              0.5555555555555556,
              "#d8576b"
             ],
             [
              0.6666666666666666,
              "#ed7953"
             ],
             [
              0.7777777777777778,
              "#fb9f3a"
             ],
             [
              0.8888888888888888,
              "#fdca26"
             ],
             [
              1,
              "#f0f921"
             ]
            ],
            "type": "heatmapgl"
           }
          ],
          "histogram": [
           {
            "marker": {
             "pattern": {
              "fillmode": "overlay",
              "size": 10,
              "solidity": 0.2
             }
            },
            "type": "histogram"
           }
          ],
          "histogram2d": [
           {
            "colorbar": {
             "outlinewidth": 0,
             "ticks": ""
            },
            "colorscale": [
             [
              0,
              "#0d0887"
             ],
             [
              0.1111111111111111,
              "#46039f"
             ],
             [
              0.2222222222222222,
              "#7201a8"
             ],
             [
              0.3333333333333333,
              "#9c179e"
             ],
             [
              0.4444444444444444,
              "#bd3786"
             ],
             [
              0.5555555555555556,
              "#d8576b"
             ],
             [
              0.6666666666666666,
              "#ed7953"
             ],
             [
              0.7777777777777778,
              "#fb9f3a"
             ],
             [
              0.8888888888888888,
              "#fdca26"
             ],
             [
              1,
              "#f0f921"
             ]
            ],
            "type": "histogram2d"
           }
          ],
          "histogram2dcontour": [
           {
            "colorbar": {
             "outlinewidth": 0,
             "ticks": ""
            },
            "colorscale": [
             [
              0,
              "#0d0887"
             ],
             [
              0.1111111111111111,
              "#46039f"
             ],
             [
              0.2222222222222222,
              "#7201a8"
             ],
             [
              0.3333333333333333,
              "#9c179e"
             ],
             [
              0.4444444444444444,
              "#bd3786"
             ],
             [
              0.5555555555555556,
              "#d8576b"
             ],
             [
              0.6666666666666666,
              "#ed7953"
             ],
             [
              0.7777777777777778,
              "#fb9f3a"
             ],
             [
              0.8888888888888888,
              "#fdca26"
             ],
             [
              1,
              "#f0f921"
             ]
            ],
            "type": "histogram2dcontour"
           }
          ],
          "mesh3d": [
           {
            "colorbar": {
             "outlinewidth": 0,
             "ticks": ""
            },
            "type": "mesh3d"
           }
          ],
          "parcoords": [
           {
            "line": {
             "colorbar": {
              "outlinewidth": 0,
              "ticks": ""
             }
            },
            "type": "parcoords"
           }
          ],
          "pie": [
           {
            "automargin": true,
            "type": "pie"
           }
          ],
          "scatter": [
           {
            "fillpattern": {
             "fillmode": "overlay",
             "size": 10,
             "solidity": 0.2
            },
            "type": "scatter"
           }
          ],
          "scatter3d": [
           {
            "line": {
             "colorbar": {
              "outlinewidth": 0,
              "ticks": ""
             }
            },
            "marker": {
             "colorbar": {
              "outlinewidth": 0,
              "ticks": ""
             }
            },
            "type": "scatter3d"
           }
          ],
          "scattercarpet": [
           {
            "marker": {
             "colorbar": {
              "outlinewidth": 0,
              "ticks": ""
             }
            },
            "type": "scattercarpet"
           }
          ],
          "scattergeo": [
           {
            "marker": {
             "colorbar": {
              "outlinewidth": 0,
              "ticks": ""
             }
            },
            "type": "scattergeo"
           }
          ],
          "scattergl": [
           {
            "marker": {
             "colorbar": {
              "outlinewidth": 0,
              "ticks": ""
             }
            },
            "type": "scattergl"
           }
          ],
          "scattermapbox": [
           {
            "marker": {
             "colorbar": {
              "outlinewidth": 0,
              "ticks": ""
             }
            },
            "type": "scattermapbox"
           }
          ],
          "scatterpolar": [
           {
            "marker": {
             "colorbar": {
              "outlinewidth": 0,
              "ticks": ""
             }
            },
            "type": "scatterpolar"
           }
          ],
          "scatterpolargl": [
           {
            "marker": {
             "colorbar": {
              "outlinewidth": 0,
              "ticks": ""
             }
            },
            "type": "scatterpolargl"
           }
          ],
          "scatterternary": [
           {
            "marker": {
             "colorbar": {
              "outlinewidth": 0,
              "ticks": ""
             }
            },
            "type": "scatterternary"
           }
          ],
          "surface": [
           {
            "colorbar": {
             "outlinewidth": 0,
             "ticks": ""
            },
            "colorscale": [
             [
              0,
              "#0d0887"
             ],
             [
              0.1111111111111111,
              "#46039f"
             ],
             [
              0.2222222222222222,
              "#7201a8"
             ],
             [
              0.3333333333333333,
              "#9c179e"
             ],
             [
              0.4444444444444444,
              "#bd3786"
             ],
             [
              0.5555555555555556,
              "#d8576b"
             ],
             [
              0.6666666666666666,
              "#ed7953"
             ],
             [
              0.7777777777777778,
              "#fb9f3a"
             ],
             [
              0.8888888888888888,
              "#fdca26"
             ],
             [
              1,
              "#f0f921"
             ]
            ],
            "type": "surface"
           }
          ],
          "table": [
           {
            "cells": {
             "fill": {
              "color": "#EBF0F8"
             },
             "line": {
              "color": "white"
             }
            },
            "header": {
             "fill": {
              "color": "#C8D4E3"
             },
             "line": {
              "color": "white"
             }
            },
            "type": "table"
           }
          ]
         },
         "layout": {
          "annotationdefaults": {
           "arrowcolor": "#2a3f5f",
           "arrowhead": 0,
           "arrowwidth": 1
          },
          "autotypenumbers": "strict",
          "coloraxis": {
           "colorbar": {
            "outlinewidth": 0,
            "ticks": ""
           }
          },
          "colorscale": {
           "diverging": [
            [
             0,
             "#8e0152"
            ],
            [
             0.1,
             "#c51b7d"
            ],
            [
             0.2,
             "#de77ae"
            ],
            [
             0.3,
             "#f1b6da"
            ],
            [
             0.4,
             "#fde0ef"
            ],
            [
             0.5,
             "#f7f7f7"
            ],
            [
             0.6,
             "#e6f5d0"
            ],
            [
             0.7,
             "#b8e186"
            ],
            [
             0.8,
             "#7fbc41"
            ],
            [
             0.9,
             "#4d9221"
            ],
            [
             1,
             "#276419"
            ]
           ],
           "sequential": [
            [
             0,
             "#0d0887"
            ],
            [
             0.1111111111111111,
             "#46039f"
            ],
            [
             0.2222222222222222,
             "#7201a8"
            ],
            [
             0.3333333333333333,
             "#9c179e"
            ],
            [
             0.4444444444444444,
             "#bd3786"
            ],
            [
             0.5555555555555556,
             "#d8576b"
            ],
            [
             0.6666666666666666,
             "#ed7953"
            ],
            [
             0.7777777777777778,
             "#fb9f3a"
            ],
            [
             0.8888888888888888,
             "#fdca26"
            ],
            [
             1,
             "#f0f921"
            ]
           ],
           "sequentialminus": [
            [
             0,
             "#0d0887"
            ],
            [
             0.1111111111111111,
             "#46039f"
            ],
            [
             0.2222222222222222,
             "#7201a8"
            ],
            [
             0.3333333333333333,
             "#9c179e"
            ],
            [
             0.4444444444444444,
             "#bd3786"
            ],
            [
             0.5555555555555556,
             "#d8576b"
            ],
            [
             0.6666666666666666,
             "#ed7953"
            ],
            [
             0.7777777777777778,
             "#fb9f3a"
            ],
            [
             0.8888888888888888,
             "#fdca26"
            ],
            [
             1,
             "#f0f921"
            ]
           ]
          },
          "colorway": [
           "#636efa",
           "#EF553B",
           "#00cc96",
           "#ab63fa",
           "#FFA15A",
           "#19d3f3",
           "#FF6692",
           "#B6E880",
           "#FF97FF",
           "#FECB52"
          ],
          "font": {
           "color": "#2a3f5f"
          },
          "geo": {
           "bgcolor": "white",
           "lakecolor": "white",
           "landcolor": "#E5ECF6",
           "showlakes": true,
           "showland": true,
           "subunitcolor": "white"
          },
          "hoverlabel": {
           "align": "left"
          },
          "hovermode": "closest",
          "mapbox": {
           "style": "light"
          },
          "paper_bgcolor": "white",
          "plot_bgcolor": "#E5ECF6",
          "polar": {
           "angularaxis": {
            "gridcolor": "white",
            "linecolor": "white",
            "ticks": ""
           },
           "bgcolor": "#E5ECF6",
           "radialaxis": {
            "gridcolor": "white",
            "linecolor": "white",
            "ticks": ""
           }
          },
          "scene": {
           "xaxis": {
            "backgroundcolor": "#E5ECF6",
            "gridcolor": "white",
            "gridwidth": 2,
            "linecolor": "white",
            "showbackground": true,
            "ticks": "",
            "zerolinecolor": "white"
           },
           "yaxis": {
            "backgroundcolor": "#E5ECF6",
            "gridcolor": "white",
            "gridwidth": 2,
            "linecolor": "white",
            "showbackground": true,
            "ticks": "",
            "zerolinecolor": "white"
           },
           "zaxis": {
            "backgroundcolor": "#E5ECF6",
            "gridcolor": "white",
            "gridwidth": 2,
            "linecolor": "white",
            "showbackground": true,
            "ticks": "",
            "zerolinecolor": "white"
           }
          },
          "shapedefaults": {
           "line": {
            "color": "#2a3f5f"
           }
          },
          "ternary": {
           "aaxis": {
            "gridcolor": "white",
            "linecolor": "white",
            "ticks": ""
           },
           "baxis": {
            "gridcolor": "white",
            "linecolor": "white",
            "ticks": ""
           },
           "bgcolor": "#E5ECF6",
           "caxis": {
            "gridcolor": "white",
            "linecolor": "white",
            "ticks": ""
           }
          },
          "title": {
           "x": 0.05
          },
          "xaxis": {
           "automargin": true,
           "gridcolor": "white",
           "linecolor": "white",
           "ticks": "",
           "title": {
            "standoff": 15
           },
           "zerolinecolor": "white",
           "zerolinewidth": 2
          },
          "yaxis": {
           "automargin": true,
           "gridcolor": "white",
           "linecolor": "white",
           "ticks": "",
           "title": {
            "standoff": 15
           },
           "zerolinecolor": "white",
           "zerolinewidth": 2
          }
         }
        },
        "title": {
         "text": "Histogram of Name column"
        },
        "xaxis": {
         "anchor": "y",
         "domain": [
          0,
          1
         ],
         "title": {
          "text": "Name"
         }
        },
        "yaxis": {
         "anchor": "x",
         "domain": [
          0,
          1
         ],
         "title": {
          "text": "count"
         }
        }
       }
      }
     },
     "metadata": {},
     "output_type": "display_data"
    },
    {
     "data": {
      "text/plain": [
       "<Figure size 1200x800 with 0 Axes>"
      ]
     },
     "metadata": {},
     "output_type": "display_data"
    }
   ],
   "source": [
    " # make a histogram of name column using plotly express:\n",
    "\n",
    "plt.figure(figsize=(12, 8))\n",
    "fig = px.histogram(df, x='Name', title='Histogram of Name column')\n",
    "fig.show()"
   ]
  },
  {
   "cell_type": "code",
   "execution_count": 19,
   "metadata": {},
   "outputs": [
    {
     "data": {
      "application/vnd.plotly.v1+json": {
       "config": {
        "plotlyServerURL": "https://plot.ly"
       },
       "data": [
        {
         "alignmentgroup": "True",
         "bingroup": "x",
         "hovertemplate": "Spectral Class=A7V<br>Name=%{x}<br>count=%{y}<extra></extra>",
         "legendgroup": "A7V",
         "marker": {
          "color": "#636efa",
          "pattern": {
           "shape": ""
          }
         },
         "name": "A7V",
         "offsetgroup": "A7V",
         "orientation": "v",
         "showlegend": true,
         "type": "histogram",
         "x": [
          "Altair",
          "Altair",
          "Altair",
          "Altair",
          "Altair",
          "Altair",
          "Altair",
          "Altair",
          "Altair",
          "Altair",
          "Altair",
          "Altair",
          "Altair",
          "Altair",
          "Altair",
          "Altair",
          "Altair",
          "Altair",
          "Altair",
          "Altair",
          "Altair",
          "Altair",
          "Altair",
          "Altair",
          "Altair",
          "Altair",
          "Altair",
          "Altair",
          "Altair",
          "Altair",
          "Altair",
          "Altair",
          "Altair",
          "Altair",
          "Altair",
          "Altair",
          "Altair",
          "Altair",
          "Altair",
          "Altair",
          "Altair",
          "Altair",
          "Altair",
          "Altair",
          "Altair",
          "Altair",
          "Altair",
          "Altair",
          "Altair",
          "Altair",
          "Altair",
          "Altair",
          "Altair",
          "Altair",
          "Altair",
          "Altair",
          "Altair",
          "Altair",
          "Altair",
          "Altair",
          "Altair",
          "Altair",
          "Altair",
          "Altair",
          "Altair",
          "Altair",
          "Altair",
          "Altair",
          "Altair",
          "Altair",
          "Altair",
          "Altair",
          "Altair",
          "Altair"
         ],
         "xaxis": "x",
         "yaxis": "y"
        },
        {
         "alignmentgroup": "True",
         "bingroup": "x",
         "hovertemplate": "Spectral Class=A2Ia<br>Name=%{x}<br>count=%{y}<extra></extra>",
         "legendgroup": "A2Ia",
         "marker": {
          "color": "#EF553B",
          "pattern": {
           "shape": ""
          }
         },
         "name": "A2Ia",
         "offsetgroup": "A2Ia",
         "orientation": "v",
         "showlegend": true,
         "type": "histogram",
         "x": [
          "Deneb",
          "Deneb",
          "Deneb",
          "Deneb",
          "Deneb",
          "Deneb",
          "Deneb",
          "Deneb",
          "Deneb",
          "Deneb",
          "Deneb",
          "Deneb",
          "Deneb",
          "Deneb",
          "Deneb",
          "Deneb",
          "Deneb",
          "Deneb",
          "Deneb",
          "Deneb",
          "Deneb",
          "Deneb",
          "Deneb",
          "Deneb",
          "Deneb"
         ],
         "xaxis": "x",
         "yaxis": "y"
        },
        {
         "alignmentgroup": "True",
         "bingroup": "x",
         "hovertemplate": "Spectral Class=M4Ve<br>Name=%{x}<br>count=%{y}<extra></extra>",
         "legendgroup": "M4Ve",
         "marker": {
          "color": "#00cc96",
          "pattern": {
           "shape": ""
          }
         },
         "name": "M4Ve",
         "offsetgroup": "M4Ve",
         "orientation": "v",
         "showlegend": true,
         "type": "histogram",
         "x": [
          "Barnard's Star",
          "Barnard's Star",
          "Barnard's Star",
          "Barnard's Star",
          "Barnard's Star",
          "Barnard's Star",
          "Barnard's Star",
          "Barnard's Star",
          "Barnard's Star",
          "Barnard's Star",
          "Barnard's Star",
          "Barnard's Star",
          "Barnard's Star",
          "Barnard's Star",
          "Barnard's Star",
          "Barnard's Star",
          "Barnard's Star",
          "Barnard's Star",
          "Barnard's Star",
          "Barnard's Star",
          "Barnard's Star",
          "Barnard's Star",
          "Barnard's Star",
          "Barnard's Star",
          "Barnard's Star",
          "Barnard's Star",
          "Barnard's Star",
          "Barnard's Star",
          "Barnard's Star",
          "Barnard's Star",
          "Barnard's Star",
          "Barnard's Star",
          "Barnard's Star",
          "Barnard's Star",
          "Barnard's Star",
          "Barnard's Star",
          "Barnard's Star",
          "Barnard's Star"
         ],
         "xaxis": "x",
         "yaxis": "y"
        },
        {
         "alignmentgroup": "True",
         "bingroup": "x",
         "hovertemplate": "Spectral Class=F7Ib<br>Name=%{x}<br>count=%{y}<extra></extra>",
         "legendgroup": "F7Ib",
         "marker": {
          "color": "#ab63fa",
          "pattern": {
           "shape": ""
          }
         },
         "name": "F7Ib",
         "offsetgroup": "F7Ib",
         "orientation": "v",
         "showlegend": true,
         "type": "histogram",
         "x": [
          "Polaris",
          "Polaris",
          "Polaris",
          "Polaris",
          "Polaris",
          "Polaris",
          "Polaris",
          "Polaris",
          "Polaris",
          "Polaris",
          "Polaris",
          "Polaris",
          "Polaris",
          "Polaris",
          "Polaris",
          "Polaris",
          "Polaris",
          "Polaris",
          "Polaris",
          "Polaris",
          "Polaris",
          "Polaris",
          "Polaris",
          "Polaris",
          "Polaris",
          "Polaris",
          "Polaris",
          "Polaris",
          "Polaris",
          "Polaris",
          "Polaris",
          "Polaris",
          "Polaris",
          "Polaris",
          "Polaris"
         ],
         "xaxis": "x",
         "yaxis": "y"
        },
        {
         "alignmentgroup": "True",
         "bingroup": "x",
         "hovertemplate": "Spectral Class=A1V<br>Name=%{x}<br>count=%{y}<extra></extra>",
         "legendgroup": "A1V",
         "marker": {
          "color": "#FFA15A",
          "pattern": {
           "shape": ""
          }
         },
         "name": "A1V",
         "offsetgroup": "A1V",
         "orientation": "v",
         "showlegend": true,
         "type": "histogram",
         "x": [
          "Sirius",
          "Castor",
          "Sirius",
          "Sirius",
          "Castor",
          "Castor",
          "Castor",
          "Castor",
          "Sirius",
          "Sirius",
          "Sirius",
          "Castor",
          "Sirius",
          "Sirius",
          "Sirius",
          "Castor",
          "Castor",
          "Castor",
          "Sirius",
          "Sirius",
          "Sirius",
          "Castor",
          "Castor",
          "Sirius",
          "Castor",
          "Sirius",
          "Castor",
          "Castor",
          "Castor",
          "Sirius",
          "Sirius",
          "Sirius",
          "Castor",
          "Castor",
          "Sirius",
          "Castor",
          "Sirius",
          "Castor",
          "Castor",
          "Sirius",
          "Castor",
          "Sirius",
          "Castor",
          "Sirius",
          "Sirius",
          "Sirius",
          "Sirius",
          "Castor",
          "Castor",
          "Sirius",
          "Sirius",
          "Castor",
          "Sirius",
          "Sirius",
          "Castor",
          "Sirius",
          "Castor",
          "Castor",
          "Castor",
          "Castor",
          "Castor",
          "Sirius",
          "Sirius",
          "Sirius",
          "Castor",
          "Castor",
          "Castor",
          "Castor",
          "Castor",
          "Sirius",
          "Castor",
          "Castor",
          "Castor"
         ],
         "xaxis": "x",
         "yaxis": "y"
        },
        {
         "alignmentgroup": "True",
         "bingroup": "x",
         "hovertemplate": "Spectral Class=A3V<br>Name=%{x}<br>count=%{y}<extra></extra>",
         "legendgroup": "A3V",
         "marker": {
          "color": "#19d3f3",
          "pattern": {
           "shape": ""
          }
         },
         "name": "A3V",
         "offsetgroup": "A3V",
         "orientation": "v",
         "showlegend": true,
         "type": "histogram",
         "x": [
          "Fomalhaut",
          "Fomalhaut",
          "Fomalhaut",
          "Fomalhaut",
          "Fomalhaut",
          "Fomalhaut",
          "Fomalhaut",
          "Fomalhaut",
          "Fomalhaut",
          "Fomalhaut",
          "Fomalhaut",
          "Fomalhaut",
          "Fomalhaut",
          "Fomalhaut",
          "Fomalhaut",
          "Fomalhaut",
          "Fomalhaut",
          "Fomalhaut",
          "Fomalhaut",
          "Fomalhaut",
          "Fomalhaut",
          "Fomalhaut",
          "Fomalhaut",
          "Fomalhaut",
          "Fomalhaut",
          "Fomalhaut",
          "Fomalhaut",
          "Fomalhaut",
          "Fomalhaut",
          "Fomalhaut",
          "Fomalhaut"
         ],
         "xaxis": "x",
         "yaxis": "y"
        },
        {
         "alignmentgroup": "True",
         "bingroup": "x",
         "hovertemplate": "Spectral Class=G8III<br>Name=%{x}<br>count=%{y}<extra></extra>",
         "legendgroup": "G8III",
         "marker": {
          "color": "#FF6692",
          "pattern": {
           "shape": ""
          }
         },
         "name": "G8III",
         "offsetgroup": "G8III",
         "orientation": "v",
         "showlegend": true,
         "type": "histogram",
         "x": [
          "Capella",
          "Capella",
          "Capella",
          "Capella",
          "Capella",
          "Capella",
          "Capella",
          "Capella",
          "Capella",
          "Capella",
          "Capella",
          "Capella",
          "Capella",
          "Capella",
          "Capella",
          "Capella",
          "Capella",
          "Capella",
          "Capella",
          "Capella",
          "Capella",
          "Capella",
          "Capella",
          "Capella",
          "Capella",
          "Capella",
          "Capella",
          "Capella",
          "Capella",
          "Capella",
          "Capella",
          "Capella",
          "Capella",
          "Capella",
          "Capella",
          "Capella",
          "Capella",
          "Capella",
          "Capella"
         ],
         "xaxis": "x",
         "yaxis": "y"
        },
        {
         "alignmentgroup": "True",
         "bingroup": "x",
         "hovertemplate": "Spectral Class=B2III<br>Name=%{x}<br>count=%{y}<extra></extra>",
         "legendgroup": "B2III",
         "marker": {
          "color": "#B6E880",
          "pattern": {
           "shape": ""
          }
         },
         "name": "B2III",
         "offsetgroup": "B2III",
         "orientation": "v",
         "showlegend": true,
         "type": "histogram",
         "x": [
          "Bellatrix",
          "Bellatrix",
          "Bellatrix",
          "Bellatrix",
          "Bellatrix",
          "Bellatrix",
          "Bellatrix",
          "Bellatrix",
          "Bellatrix",
          "Bellatrix",
          "Bellatrix",
          "Bellatrix",
          "Bellatrix",
          "Bellatrix",
          "Bellatrix",
          "Bellatrix",
          "Bellatrix",
          "Bellatrix",
          "Bellatrix",
          "Bellatrix",
          "Bellatrix",
          "Bellatrix",
          "Bellatrix",
          "Bellatrix",
          "Bellatrix",
          "Bellatrix",
          "Bellatrix",
          "Bellatrix",
          "Bellatrix",
          "Bellatrix",
          "Bellatrix",
          "Bellatrix",
          "Bellatrix",
          "Bellatrix",
          "Bellatrix",
          "Bellatrix",
          "Bellatrix"
         ],
         "xaxis": "x",
         "yaxis": "y"
        },
        {
         "alignmentgroup": "True",
         "bingroup": "x",
         "hovertemplate": "Spectral Class=B1III<br>Name=%{x}<br>count=%{y}<extra></extra>",
         "legendgroup": "B1III",
         "marker": {
          "color": "#FF97FF",
          "pattern": {
           "shape": ""
          }
         },
         "name": "B1III",
         "offsetgroup": "B1III",
         "orientation": "v",
         "showlegend": true,
         "type": "histogram",
         "x": [
          "Hadar",
          "Hadar",
          "Hadar",
          "Hadar",
          "Hadar",
          "Hadar",
          "Hadar",
          "Hadar",
          "Hadar",
          "Hadar",
          "Hadar",
          "Hadar",
          "Hadar",
          "Hadar",
          "Hadar",
          "Hadar",
          "Hadar",
          "Hadar",
          "Hadar",
          "Hadar",
          "Hadar",
          "Hadar",
          "Hadar",
          "Hadar",
          "Hadar",
          "Hadar",
          "Hadar",
          "Hadar",
          "Hadar",
          "Hadar",
          "Hadar",
          "Hadar",
          "Hadar",
          "Hadar",
          "Hadar",
          "Hadar",
          "Hadar",
          "Hadar",
          "Hadar",
          "Hadar",
          "Hadar",
          "Hadar",
          "Hadar",
          "Hadar",
          "Hadar"
         ],
         "xaxis": "x",
         "yaxis": "y"
        },
        {
         "alignmentgroup": "True",
         "bingroup": "x",
         "hovertemplate": "Spectral Class=M2Iab<br>Name=%{x}<br>count=%{y}<extra></extra>",
         "legendgroup": "M2Iab",
         "marker": {
          "color": "#FECB52",
          "pattern": {
           "shape": ""
          }
         },
         "name": "M2Iab",
         "offsetgroup": "M2Iab",
         "orientation": "v",
         "showlegend": true,
         "type": "histogram",
         "x": [
          "Betelgeuse",
          "Betelgeuse",
          "Betelgeuse",
          "Betelgeuse",
          "Betelgeuse",
          "Betelgeuse",
          "Betelgeuse",
          "Betelgeuse",
          "Betelgeuse",
          "Betelgeuse",
          "Betelgeuse",
          "Betelgeuse",
          "Betelgeuse",
          "Betelgeuse",
          "Betelgeuse",
          "Betelgeuse",
          "Betelgeuse",
          "Betelgeuse",
          "Betelgeuse",
          "Betelgeuse",
          "Betelgeuse",
          "Betelgeuse",
          "Betelgeuse",
          "Betelgeuse",
          "Betelgeuse",
          "Betelgeuse",
          "Betelgeuse",
          "Betelgeuse",
          "Betelgeuse",
          "Betelgeuse",
          "Betelgeuse",
          "Betelgeuse",
          "Betelgeuse",
          "Betelgeuse",
          "Betelgeuse",
          "Betelgeuse",
          "Betelgeuse",
          "Betelgeuse",
          "Betelgeuse",
          "Betelgeuse",
          "Betelgeuse",
          "Betelgeuse",
          "Betelgeuse",
          "Betelgeuse"
         ],
         "xaxis": "x",
         "yaxis": "y"
        },
        {
         "alignmentgroup": "True",
         "bingroup": "x",
         "hovertemplate": "Spectral Class=B7V<br>Name=%{x}<br>count=%{y}<extra></extra>",
         "legendgroup": "B7V",
         "marker": {
          "color": "#636efa",
          "pattern": {
           "shape": ""
          }
         },
         "name": "B7V",
         "offsetgroup": "B7V",
         "orientation": "v",
         "showlegend": true,
         "type": "histogram",
         "x": [
          "Regulus",
          "Regulus",
          "Regulus",
          "Regulus",
          "Regulus",
          "Regulus",
          "Regulus",
          "Regulus",
          "Regulus",
          "Regulus",
          "Regulus",
          "Regulus",
          "Regulus",
          "Regulus",
          "Regulus",
          "Regulus",
          "Regulus",
          "Regulus",
          "Regulus",
          "Regulus",
          "Regulus",
          "Regulus",
          "Regulus",
          "Regulus",
          "Regulus",
          "Regulus"
         ],
         "xaxis": "x",
         "yaxis": "y"
        },
        {
         "alignmentgroup": "True",
         "bingroup": "x",
         "hovertemplate": "Spectral Class=M7IIIe<br>Name=%{x}<br>count=%{y}<extra></extra>",
         "legendgroup": "M7IIIe",
         "marker": {
          "color": "#EF553B",
          "pattern": {
           "shape": ""
          }
         },
         "name": "M7IIIe",
         "offsetgroup": "M7IIIe",
         "orientation": "v",
         "showlegend": true,
         "type": "histogram",
         "x": [
          "Mira",
          "Mira",
          "Mira",
          "Mira",
          "Mira",
          "Mira",
          "Mira",
          "Mira",
          "Mira",
          "Mira",
          "Mira",
          "Mira",
          "Mira",
          "Mira",
          "Mira",
          "Mira",
          "Mira",
          "Mira",
          "Mira",
          "Mira",
          "Mira",
          "Mira",
          "Mira",
          "Mira",
          "Mira",
          "Mira",
          "Mira",
          "Mira",
          "Mira",
          "Mira",
          "Mira",
          "Mira",
          "Mira",
          "Mira",
          "Mira",
          "Mira",
          "Mira"
         ],
         "xaxis": "x",
         "yaxis": "y"
        },
        {
         "alignmentgroup": "True",
         "bingroup": "x",
         "hovertemplate": "Spectral Class=B0.5IV<br>Name=%{x}<br>count=%{y}<extra></extra>",
         "legendgroup": "B0.5IV",
         "marker": {
          "color": "#00cc96",
          "pattern": {
           "shape": ""
          }
         },
         "name": "B0.5IV",
         "offsetgroup": "B0.5IV",
         "orientation": "v",
         "showlegend": true,
         "type": "histogram",
         "x": [
          "Acrux",
          "Acrux",
          "Acrux",
          "Acrux",
          "Acrux",
          "Acrux",
          "Acrux",
          "Acrux",
          "Acrux",
          "Acrux",
          "Acrux",
          "Acrux",
          "Acrux",
          "Acrux",
          "Acrux",
          "Acrux",
          "Acrux",
          "Acrux",
          "Acrux",
          "Acrux",
          "Acrux",
          "Acrux",
          "Acrux",
          "Acrux",
          "Acrux",
          "Acrux",
          "Acrux",
          "Acrux",
          "Acrux",
          "Acrux"
         ],
         "xaxis": "x",
         "yaxis": "y"
        },
        {
         "alignmentgroup": "True",
         "bingroup": "x",
         "hovertemplate": "Spectral Class=A0V<br>Name=%{x}<br>count=%{y}<extra></extra>",
         "legendgroup": "A0V",
         "marker": {
          "color": "#ab63fa",
          "pattern": {
           "shape": ""
          }
         },
         "name": "A0V",
         "offsetgroup": "A0V",
         "orientation": "v",
         "showlegend": true,
         "type": "histogram",
         "x": [
          "Vega",
          "Vega",
          "Vega",
          "Vega",
          "Vega",
          "Vega",
          "Vega",
          "Vega",
          "Vega",
          "Vega",
          "Vega",
          "Vega",
          "Vega",
          "Vega",
          "Vega",
          "Vega",
          "Vega",
          "Vega",
          "Vega",
          "Vega",
          "Vega",
          "Vega",
          "Vega",
          "Vega",
          "Vega",
          "Vega",
          "Vega",
          "Vega",
          "Vega",
          "Vega",
          "Vega",
          "Vega",
          "Vega",
          "Vega",
          "Vega",
          "Vega",
          "Vega",
          "Vega"
         ],
         "xaxis": "x",
         "yaxis": "y"
        },
        {
         "alignmentgroup": "True",
         "bingroup": "x",
         "hovertemplate": "Spectral Class=M2.1V<br>Name=%{x}<br>count=%{y}<extra></extra>",
         "legendgroup": "M2.1V",
         "marker": {
          "color": "#FFA15A",
          "pattern": {
           "shape": ""
          }
         },
         "name": "M2.1V",
         "offsetgroup": "M2.1V",
         "orientation": "v",
         "showlegend": true,
         "type": "histogram",
         "x": [
          "Lalande 21185",
          "Lalande 21185",
          "Lalande 21185",
          "Lalande 21185",
          "Lalande 21185",
          "Lalande 21185",
          "Lalande 21185",
          "Lalande 21185",
          "Lalande 21185",
          "Lalande 21185",
          "Lalande 21185",
          "Lalande 21185",
          "Lalande 21185",
          "Lalande 21185",
          "Lalande 21185",
          "Lalande 21185",
          "Lalande 21185",
          "Lalande 21185",
          "Lalande 21185",
          "Lalande 21185",
          "Lalande 21185",
          "Lalande 21185",
          "Lalande 21185",
          "Lalande 21185",
          "Lalande 21185",
          "Lalande 21185",
          "Lalande 21185"
         ],
         "xaxis": "x",
         "yaxis": "y"
        },
        {
         "alignmentgroup": "True",
         "bingroup": "x",
         "hovertemplate": "Spectral Class=K1.5III<br>Name=%{x}<br>count=%{y}<extra></extra>",
         "legendgroup": "K1.5III",
         "marker": {
          "color": "#19d3f3",
          "pattern": {
           "shape": ""
          }
         },
         "name": "K1.5III",
         "offsetgroup": "K1.5III",
         "orientation": "v",
         "showlegend": true,
         "type": "histogram",
         "x": [
          "Arcturus",
          "Arcturus",
          "Arcturus",
          "Arcturus",
          "Arcturus",
          "Arcturus",
          "Arcturus",
          "Arcturus",
          "Arcturus",
          "Arcturus",
          "Arcturus",
          "Arcturus",
          "Arcturus",
          "Arcturus",
          "Arcturus",
          "Arcturus",
          "Arcturus",
          "Arcturus",
          "Arcturus",
          "Arcturus",
          "Arcturus",
          "Arcturus",
          "Arcturus",
          "Arcturus",
          "Arcturus",
          "Arcturus",
          "Arcturus",
          "Arcturus",
          "Arcturus",
          "Arcturus",
          "Arcturus",
          "Arcturus",
          "Arcturus",
          "Arcturus",
          "Arcturus",
          "Arcturus",
          "Arcturus",
          "Arcturus"
         ],
         "xaxis": "x",
         "yaxis": "y"
        },
        {
         "alignmentgroup": "True",
         "bingroup": "x",
         "hovertemplate": "Spectral Class=K1V<br>Name=%{x}<br>count=%{y}<extra></extra>",
         "legendgroup": "K1V",
         "marker": {
          "color": "#FF6692",
          "pattern": {
           "shape": ""
          }
         },
         "name": "K1V",
         "offsetgroup": "K1V",
         "orientation": "v",
         "showlegend": true,
         "type": "histogram",
         "x": [
          "Alpha Centauri B",
          "Alpha Centauri B",
          "Alpha Centauri B",
          "Alpha Centauri B",
          "Alpha Centauri B",
          "Alpha Centauri B",
          "Alpha Centauri B",
          "Alpha Centauri B",
          "Alpha Centauri B",
          "Alpha Centauri B",
          "Alpha Centauri B",
          "Alpha Centauri B",
          "Alpha Centauri B",
          "Alpha Centauri B",
          "Alpha Centauri B",
          "Alpha Centauri B",
          "Alpha Centauri B",
          "Alpha Centauri B",
          "Alpha Centauri B",
          "Alpha Centauri B",
          "Alpha Centauri B",
          "Alpha Centauri B",
          "Alpha Centauri B",
          "Alpha Centauri B"
         ],
         "xaxis": "x",
         "yaxis": "y"
        },
        {
         "alignmentgroup": "True",
         "bingroup": "x",
         "hovertemplate": "Spectral Class=M3.5V<br>Name=%{x}<br>count=%{y}<extra></extra>",
         "legendgroup": "M3.5V",
         "marker": {
          "color": "#B6E880",
          "pattern": {
           "shape": ""
          }
         },
         "name": "M3.5V",
         "offsetgroup": "M3.5V",
         "orientation": "v",
         "showlegend": true,
         "type": "histogram",
         "x": [
          "Ross 154",
          "Ross 154",
          "Ross 154",
          "Ross 154",
          "Ross 154",
          "Ross 154",
          "Ross 154",
          "Ross 154",
          "Ross 154",
          "Ross 154",
          "Ross 154",
          "Ross 154",
          "Ross 154",
          "Ross 154",
          "Ross 154",
          "Ross 154",
          "Ross 154",
          "Ross 154",
          "Ross 154",
          "Ross 154",
          "Ross 154",
          "Ross 154",
          "Ross 154",
          "Ross 154",
          "Ross 154",
          "Ross 154",
          "Ross 154",
          "Ross 154",
          "Ross 154",
          "Ross 154",
          "Ross 154",
          "Ross 154",
          "Ross 154",
          "Ross 154",
          "Ross 154",
          "Ross 154",
          "Ross 154",
          "Ross 154",
          "Ross 154",
          "Ross 154",
          "Ross 154",
          "Ross 154",
          "Ross 154",
          "Ross 154",
          "Ross 154"
         ],
         "xaxis": "x",
         "yaxis": "y"
        },
        {
         "alignmentgroup": "True",
         "bingroup": "x",
         "hovertemplate": "Spectral Class=A9II<br>Name=%{x}<br>count=%{y}<extra></extra>",
         "legendgroup": "A9II",
         "marker": {
          "color": "#FF97FF",
          "pattern": {
           "shape": ""
          }
         },
         "name": "A9II",
         "offsetgroup": "A9II",
         "orientation": "v",
         "showlegend": true,
         "type": "histogram",
         "x": [
          "Canopus",
          "Canopus",
          "Canopus",
          "Canopus",
          "Canopus",
          "Canopus",
          "Canopus",
          "Canopus",
          "Canopus",
          "Canopus",
          "Canopus",
          "Canopus",
          "Canopus",
          "Canopus",
          "Canopus",
          "Canopus",
          "Canopus",
          "Canopus",
          "Canopus",
          "Canopus",
          "Canopus",
          "Canopus",
          "Canopus",
          "Canopus",
          "Canopus",
          "Canopus",
          "Canopus",
          "Canopus",
          "Canopus",
          "Canopus",
          "Canopus",
          "Canopus",
          "Canopus",
          "Canopus",
          "Canopus",
          "Canopus",
          "Canopus",
          "Canopus",
          "Canopus",
          "Canopus",
          "Canopus",
          "Canopus",
          "Canopus",
          "Canopus",
          "Canopus",
          "Canopus",
          "Canopus",
          "Canopus"
         ],
         "xaxis": "x",
         "yaxis": "y"
        },
        {
         "alignmentgroup": "True",
         "bingroup": "x",
         "hovertemplate": "Spectral Class=F5IV-V<br>Name=%{x}<br>count=%{y}<extra></extra>",
         "legendgroup": "F5IV-V",
         "marker": {
          "color": "#FECB52",
          "pattern": {
           "shape": ""
          }
         },
         "name": "F5IV-V",
         "offsetgroup": "F5IV-V",
         "orientation": "v",
         "showlegend": true,
         "type": "histogram",
         "x": [
          "Procyon",
          "Procyon",
          "Procyon",
          "Procyon",
          "Procyon",
          "Procyon",
          "Procyon",
          "Procyon",
          "Procyon",
          "Procyon",
          "Procyon",
          "Procyon",
          "Procyon",
          "Procyon",
          "Procyon",
          "Procyon",
          "Procyon",
          "Procyon",
          "Procyon",
          "Procyon",
          "Procyon",
          "Procyon",
          "Procyon",
          "Procyon",
          "Procyon",
          "Procyon",
          "Procyon",
          "Procyon",
          "Procyon",
          "Procyon"
         ],
         "xaxis": "x",
         "yaxis": "y"
        },
        {
         "alignmentgroup": "True",
         "bingroup": "x",
         "hovertemplate": "Spectral Class=M6V<br>Name=%{x}<br>count=%{y}<extra></extra>",
         "legendgroup": "M6V",
         "marker": {
          "color": "#636efa",
          "pattern": {
           "shape": ""
          }
         },
         "name": "M6V",
         "offsetgroup": "M6V",
         "orientation": "v",
         "showlegend": true,
         "type": "histogram",
         "x": [
          "Wolf 359",
          "Wolf 359",
          "Wolf 359",
          "Wolf 359",
          "Wolf 359",
          "Wolf 359",
          "Wolf 359",
          "Wolf 359",
          "Wolf 359",
          "Wolf 359",
          "Wolf 359",
          "Wolf 359",
          "Wolf 359",
          "Wolf 359",
          "Wolf 359",
          "Wolf 359",
          "Wolf 359",
          "Wolf 359",
          "Wolf 359",
          "Wolf 359",
          "Wolf 359",
          "Wolf 359"
         ],
         "xaxis": "x",
         "yaxis": "y"
        },
        {
         "alignmentgroup": "True",
         "bingroup": "x",
         "hovertemplate": "Spectral Class=M1.5Iab<br>Name=%{x}<br>count=%{y}<extra></extra>",
         "legendgroup": "M1.5Iab",
         "marker": {
          "color": "#EF553B",
          "pattern": {
           "shape": ""
          }
         },
         "name": "M1.5Iab",
         "offsetgroup": "M1.5Iab",
         "orientation": "v",
         "showlegend": true,
         "type": "histogram",
         "x": [
          "Antares",
          "Antares",
          "Antares",
          "Antares",
          "Antares",
          "Antares",
          "Antares",
          "Antares",
          "Antares",
          "Antares",
          "Antares",
          "Antares",
          "Antares",
          "Antares",
          "Antares",
          "Antares",
          "Antares",
          "Antares",
          "Antares",
          "Antares",
          "Antares",
          "Antares",
          "Antares",
          "Antares",
          "Antares",
          "Antares"
         ],
         "xaxis": "x",
         "yaxis": "y"
        },
        {
         "alignmentgroup": "True",
         "bingroup": "x",
         "hovertemplate": "Spectral Class=B0Ia<br>Name=%{x}<br>count=%{y}<extra></extra>",
         "legendgroup": "B0Ia",
         "marker": {
          "color": "#00cc96",
          "pattern": {
           "shape": ""
          }
         },
         "name": "B0Ia",
         "offsetgroup": "B0Ia",
         "orientation": "v",
         "showlegend": true,
         "type": "histogram",
         "x": [
          "Alnilam",
          "Alnilam",
          "Alnilam",
          "Alnilam",
          "Alnilam",
          "Alnilam",
          "Alnilam",
          "Alnilam",
          "Alnilam",
          "Alnilam",
          "Alnilam",
          "Alnilam",
          "Alnilam",
          "Alnilam",
          "Alnilam",
          "Alnilam",
          "Alnilam",
          "Alnilam",
          "Alnilam",
          "Alnilam",
          "Alnilam",
          "Alnilam",
          "Alnilam",
          "Alnilam",
          "Alnilam",
          "Alnilam",
          "Alnilam",
          "Alnilam",
          "Alnilam",
          "Alnilam",
          "Alnilam",
          "Alnilam",
          "Alnilam",
          "Alnilam",
          "Alnilam",
          "Alnilam"
         ],
         "xaxis": "x",
         "yaxis": "y"
        },
        {
         "alignmentgroup": "True",
         "bingroup": "x",
         "hovertemplate": "Spectral Class=G2V<br>Name=%{x}<br>count=%{y}<extra></extra>",
         "legendgroup": "G2V",
         "marker": {
          "color": "#ab63fa",
          "pattern": {
           "shape": ""
          }
         },
         "name": "G2V",
         "offsetgroup": "G2V",
         "orientation": "v",
         "showlegend": true,
         "type": "histogram",
         "x": [
          "Rigil Kentaurus",
          "Rigil Kentaurus",
          "Rigil Kentaurus",
          "Rigil Kentaurus",
          "Rigil Kentaurus",
          "Rigil Kentaurus",
          "Rigil Kentaurus",
          "Rigil Kentaurus",
          "Rigil Kentaurus",
          "Rigil Kentaurus",
          "Rigil Kentaurus",
          "Rigil Kentaurus",
          "Rigil Kentaurus",
          "Rigil Kentaurus",
          "Rigil Kentaurus",
          "Rigil Kentaurus",
          "Rigil Kentaurus",
          "Rigil Kentaurus",
          "Rigil Kentaurus",
          "Rigil Kentaurus",
          "Rigil Kentaurus",
          "Rigil Kentaurus",
          "Rigil Kentaurus",
          "Rigil Kentaurus",
          "Rigil Kentaurus",
          "Rigil Kentaurus",
          "Rigil Kentaurus",
          "Rigil Kentaurus",
          "Rigil Kentaurus",
          "Rigil Kentaurus",
          "Rigil Kentaurus",
          "Rigil Kentaurus",
          "Rigil Kentaurus",
          "Rigil Kentaurus",
          "Rigil Kentaurus",
          "Rigil Kentaurus"
         ],
         "xaxis": "x",
         "yaxis": "y"
        },
        {
         "alignmentgroup": "True",
         "bingroup": "x",
         "hovertemplate": "Spectral Class=B1III-IV<br>Name=%{x}<br>count=%{y}<extra></extra>",
         "legendgroup": "B1III-IV",
         "marker": {
          "color": "#FFA15A",
          "pattern": {
           "shape": ""
          }
         },
         "name": "B1III-IV",
         "offsetgroup": "B1III-IV",
         "orientation": "v",
         "showlegend": true,
         "type": "histogram",
         "x": [
          "Spica",
          "Spica",
          "Spica",
          "Spica",
          "Spica",
          "Spica",
          "Spica",
          "Spica",
          "Spica",
          "Spica",
          "Spica",
          "Spica",
          "Spica",
          "Spica",
          "Spica",
          "Spica",
          "Spica",
          "Spica",
          "Spica",
          "Spica",
          "Spica",
          "Spica",
          "Spica",
          "Spica",
          "Spica",
          "Spica",
          "Spica",
          "Spica",
          "Spica",
          "Spica",
          "Spica",
          "Spica"
         ],
         "xaxis": "x",
         "yaxis": "y"
        },
        {
         "alignmentgroup": "True",
         "bingroup": "x",
         "hovertemplate": "Spectral Class=B6Vep<br>Name=%{x}<br>count=%{y}<extra></extra>",
         "legendgroup": "B6Vep",
         "marker": {
          "color": "#19d3f3",
          "pattern": {
           "shape": ""
          }
         },
         "name": "B6Vep",
         "offsetgroup": "B6Vep",
         "orientation": "v",
         "showlegend": true,
         "type": "histogram",
         "x": [
          "Achernar",
          "Achernar",
          "Achernar",
          "Achernar",
          "Achernar",
          "Achernar",
          "Achernar",
          "Achernar",
          "Achernar",
          "Achernar",
          "Achernar",
          "Achernar",
          "Achernar",
          "Achernar",
          "Achernar",
          "Achernar",
          "Achernar",
          "Achernar",
          "Achernar",
          "Achernar",
          "Achernar",
          "Achernar",
          "Achernar",
          "Achernar",
          "Achernar",
          "Achernar",
          "Achernar",
          "Achernar",
          "Achernar"
         ],
         "xaxis": "x",
         "yaxis": "y"
        },
        {
         "alignmentgroup": "True",
         "bingroup": "x",
         "hovertemplate": "Spectral Class=K5III<br>Name=%{x}<br>count=%{y}<extra></extra>",
         "legendgroup": "K5III",
         "marker": {
          "color": "#FF6692",
          "pattern": {
           "shape": ""
          }
         },
         "name": "K5III",
         "offsetgroup": "K5III",
         "orientation": "v",
         "showlegend": true,
         "type": "histogram",
         "x": [
          "Aldebaran",
          "Aldebaran",
          "Aldebaran",
          "Aldebaran",
          "Aldebaran",
          "Aldebaran",
          "Aldebaran",
          "Aldebaran",
          "Aldebaran",
          "Aldebaran",
          "Aldebaran",
          "Aldebaran",
          "Aldebaran",
          "Aldebaran",
          "Aldebaran",
          "Aldebaran",
          "Aldebaran",
          "Aldebaran"
         ],
         "xaxis": "x",
         "yaxis": "y"
        },
        {
         "alignmentgroup": "True",
         "bingroup": "x",
         "hovertemplate": "Spectral Class=B8Ia<br>Name=%{x}<br>count=%{y}<extra></extra>",
         "legendgroup": "B8Ia",
         "marker": {
          "color": "#B6E880",
          "pattern": {
           "shape": ""
          }
         },
         "name": "B8Ia",
         "offsetgroup": "B8Ia",
         "orientation": "v",
         "showlegend": true,
         "type": "histogram",
         "x": [
          "Rigel",
          "Rigel",
          "Rigel",
          "Rigel",
          "Rigel",
          "Rigel",
          "Rigel",
          "Rigel",
          "Rigel",
          "Rigel",
          "Rigel",
          "Rigel",
          "Rigel",
          "Rigel",
          "Rigel",
          "Rigel",
          "Rigel"
         ],
         "xaxis": "x",
         "yaxis": "y"
        }
       ],
       "layout": {
        "barmode": "relative",
        "legend": {
         "title": {
          "text": "Spectral Class"
         },
         "tracegroupgap": 0
        },
        "template": {
         "data": {
          "bar": [
           {
            "error_x": {
             "color": "#2a3f5f"
            },
            "error_y": {
             "color": "#2a3f5f"
            },
            "marker": {
             "line": {
              "color": "#E5ECF6",
              "width": 0.5
             },
             "pattern": {
              "fillmode": "overlay",
              "size": 10,
              "solidity": 0.2
             }
            },
            "type": "bar"
           }
          ],
          "barpolar": [
           {
            "marker": {
             "line": {
              "color": "#E5ECF6",
              "width": 0.5
             },
             "pattern": {
              "fillmode": "overlay",
              "size": 10,
              "solidity": 0.2
             }
            },
            "type": "barpolar"
           }
          ],
          "carpet": [
           {
            "aaxis": {
             "endlinecolor": "#2a3f5f",
             "gridcolor": "white",
             "linecolor": "white",
             "minorgridcolor": "white",
             "startlinecolor": "#2a3f5f"
            },
            "baxis": {
             "endlinecolor": "#2a3f5f",
             "gridcolor": "white",
             "linecolor": "white",
             "minorgridcolor": "white",
             "startlinecolor": "#2a3f5f"
            },
            "type": "carpet"
           }
          ],
          "choropleth": [
           {
            "colorbar": {
             "outlinewidth": 0,
             "ticks": ""
            },
            "type": "choropleth"
           }
          ],
          "contour": [
           {
            "colorbar": {
             "outlinewidth": 0,
             "ticks": ""
            },
            "colorscale": [
             [
              0,
              "#0d0887"
             ],
             [
              0.1111111111111111,
              "#46039f"
             ],
             [
              0.2222222222222222,
              "#7201a8"
             ],
             [
              0.3333333333333333,
              "#9c179e"
             ],
             [
              0.4444444444444444,
              "#bd3786"
             ],
             [
              0.5555555555555556,
              "#d8576b"
             ],
             [
              0.6666666666666666,
              "#ed7953"
             ],
             [
              0.7777777777777778,
              "#fb9f3a"
             ],
             [
              0.8888888888888888,
              "#fdca26"
             ],
             [
              1,
              "#f0f921"
             ]
            ],
            "type": "contour"
           }
          ],
          "contourcarpet": [
           {
            "colorbar": {
             "outlinewidth": 0,
             "ticks": ""
            },
            "type": "contourcarpet"
           }
          ],
          "heatmap": [
           {
            "colorbar": {
             "outlinewidth": 0,
             "ticks": ""
            },
            "colorscale": [
             [
              0,
              "#0d0887"
             ],
             [
              0.1111111111111111,
              "#46039f"
             ],
             [
              0.2222222222222222,
              "#7201a8"
             ],
             [
              0.3333333333333333,
              "#9c179e"
             ],
             [
              0.4444444444444444,
              "#bd3786"
             ],
             [
              0.5555555555555556,
              "#d8576b"
             ],
             [
              0.6666666666666666,
              "#ed7953"
             ],
             [
              0.7777777777777778,
              "#fb9f3a"
             ],
             [
              0.8888888888888888,
              "#fdca26"
             ],
             [
              1,
              "#f0f921"
             ]
            ],
            "type": "heatmap"
           }
          ],
          "heatmapgl": [
           {
            "colorbar": {
             "outlinewidth": 0,
             "ticks": ""
            },
            "colorscale": [
             [
              0,
              "#0d0887"
             ],
             [
              0.1111111111111111,
              "#46039f"
             ],
             [
              0.2222222222222222,
              "#7201a8"
             ],
             [
              0.3333333333333333,
              "#9c179e"
             ],
             [
              0.4444444444444444,
              "#bd3786"
             ],
             [
              0.5555555555555556,
              "#d8576b"
             ],
             [
              0.6666666666666666,
              "#ed7953"
             ],
             [
              0.7777777777777778,
              "#fb9f3a"
             ],
             [
              0.8888888888888888,
              "#fdca26"
             ],
             [
              1,
              "#f0f921"
             ]
            ],
            "type": "heatmapgl"
           }
          ],
          "histogram": [
           {
            "marker": {
             "pattern": {
              "fillmode": "overlay",
              "size": 10,
              "solidity": 0.2
             }
            },
            "type": "histogram"
           }
          ],
          "histogram2d": [
           {
            "colorbar": {
             "outlinewidth": 0,
             "ticks": ""
            },
            "colorscale": [
             [
              0,
              "#0d0887"
             ],
             [
              0.1111111111111111,
              "#46039f"
             ],
             [
              0.2222222222222222,
              "#7201a8"
             ],
             [
              0.3333333333333333,
              "#9c179e"
             ],
             [
              0.4444444444444444,
              "#bd3786"
             ],
             [
              0.5555555555555556,
              "#d8576b"
             ],
             [
              0.6666666666666666,
              "#ed7953"
             ],
             [
              0.7777777777777778,
              "#fb9f3a"
             ],
             [
              0.8888888888888888,
              "#fdca26"
             ],
             [
              1,
              "#f0f921"
             ]
            ],
            "type": "histogram2d"
           }
          ],
          "histogram2dcontour": [
           {
            "colorbar": {
             "outlinewidth": 0,
             "ticks": ""
            },
            "colorscale": [
             [
              0,
              "#0d0887"
             ],
             [
              0.1111111111111111,
              "#46039f"
             ],
             [
              0.2222222222222222,
              "#7201a8"
             ],
             [
              0.3333333333333333,
              "#9c179e"
             ],
             [
              0.4444444444444444,
              "#bd3786"
             ],
             [
              0.5555555555555556,
              "#d8576b"
             ],
             [
              0.6666666666666666,
              "#ed7953"
             ],
             [
              0.7777777777777778,
              "#fb9f3a"
             ],
             [
              0.8888888888888888,
              "#fdca26"
             ],
             [
              1,
              "#f0f921"
             ]
            ],
            "type": "histogram2dcontour"
           }
          ],
          "mesh3d": [
           {
            "colorbar": {
             "outlinewidth": 0,
             "ticks": ""
            },
            "type": "mesh3d"
           }
          ],
          "parcoords": [
           {
            "line": {
             "colorbar": {
              "outlinewidth": 0,
              "ticks": ""
             }
            },
            "type": "parcoords"
           }
          ],
          "pie": [
           {
            "automargin": true,
            "type": "pie"
           }
          ],
          "scatter": [
           {
            "fillpattern": {
             "fillmode": "overlay",
             "size": 10,
             "solidity": 0.2
            },
            "type": "scatter"
           }
          ],
          "scatter3d": [
           {
            "line": {
             "colorbar": {
              "outlinewidth": 0,
              "ticks": ""
             }
            },
            "marker": {
             "colorbar": {
              "outlinewidth": 0,
              "ticks": ""
             }
            },
            "type": "scatter3d"
           }
          ],
          "scattercarpet": [
           {
            "marker": {
             "colorbar": {
              "outlinewidth": 0,
              "ticks": ""
             }
            },
            "type": "scattercarpet"
           }
          ],
          "scattergeo": [
           {
            "marker": {
             "colorbar": {
              "outlinewidth": 0,
              "ticks": ""
             }
            },
            "type": "scattergeo"
           }
          ],
          "scattergl": [
           {
            "marker": {
             "colorbar": {
              "outlinewidth": 0,
              "ticks": ""
             }
            },
            "type": "scattergl"
           }
          ],
          "scattermapbox": [
           {
            "marker": {
             "colorbar": {
              "outlinewidth": 0,
              "ticks": ""
             }
            },
            "type": "scattermapbox"
           }
          ],
          "scatterpolar": [
           {
            "marker": {
             "colorbar": {
              "outlinewidth": 0,
              "ticks": ""
             }
            },
            "type": "scatterpolar"
           }
          ],
          "scatterpolargl": [
           {
            "marker": {
             "colorbar": {
              "outlinewidth": 0,
              "ticks": ""
             }
            },
            "type": "scatterpolargl"
           }
          ],
          "scatterternary": [
           {
            "marker": {
             "colorbar": {
              "outlinewidth": 0,
              "ticks": ""
             }
            },
            "type": "scatterternary"
           }
          ],
          "surface": [
           {
            "colorbar": {
             "outlinewidth": 0,
             "ticks": ""
            },
            "colorscale": [
             [
              0,
              "#0d0887"
             ],
             [
              0.1111111111111111,
              "#46039f"
             ],
             [
              0.2222222222222222,
              "#7201a8"
             ],
             [
              0.3333333333333333,
              "#9c179e"
             ],
             [
              0.4444444444444444,
              "#bd3786"
             ],
             [
              0.5555555555555556,
              "#d8576b"
             ],
             [
              0.6666666666666666,
              "#ed7953"
             ],
             [
              0.7777777777777778,
              "#fb9f3a"
             ],
             [
              0.8888888888888888,
              "#fdca26"
             ],
             [
              1,
              "#f0f921"
             ]
            ],
            "type": "surface"
           }
          ],
          "table": [
           {
            "cells": {
             "fill": {
              "color": "#EBF0F8"
             },
             "line": {
              "color": "white"
             }
            },
            "header": {
             "fill": {
              "color": "#C8D4E3"
             },
             "line": {
              "color": "white"
             }
            },
            "type": "table"
           }
          ]
         },
         "layout": {
          "annotationdefaults": {
           "arrowcolor": "#2a3f5f",
           "arrowhead": 0,
           "arrowwidth": 1
          },
          "autotypenumbers": "strict",
          "coloraxis": {
           "colorbar": {
            "outlinewidth": 0,
            "ticks": ""
           }
          },
          "colorscale": {
           "diverging": [
            [
             0,
             "#8e0152"
            ],
            [
             0.1,
             "#c51b7d"
            ],
            [
             0.2,
             "#de77ae"
            ],
            [
             0.3,
             "#f1b6da"
            ],
            [
             0.4,
             "#fde0ef"
            ],
            [
             0.5,
             "#f7f7f7"
            ],
            [
             0.6,
             "#e6f5d0"
            ],
            [
             0.7,
             "#b8e186"
            ],
            [
             0.8,
             "#7fbc41"
            ],
            [
             0.9,
             "#4d9221"
            ],
            [
             1,
             "#276419"
            ]
           ],
           "sequential": [
            [
             0,
             "#0d0887"
            ],
            [
             0.1111111111111111,
             "#46039f"
            ],
            [
             0.2222222222222222,
             "#7201a8"
            ],
            [
             0.3333333333333333,
             "#9c179e"
            ],
            [
             0.4444444444444444,
             "#bd3786"
            ],
            [
             0.5555555555555556,
             "#d8576b"
            ],
            [
             0.6666666666666666,
             "#ed7953"
            ],
            [
             0.7777777777777778,
             "#fb9f3a"
            ],
            [
             0.8888888888888888,
             "#fdca26"
            ],
            [
             1,
             "#f0f921"
            ]
           ],
           "sequentialminus": [
            [
             0,
             "#0d0887"
            ],
            [
             0.1111111111111111,
             "#46039f"
            ],
            [
             0.2222222222222222,
             "#7201a8"
            ],
            [
             0.3333333333333333,
             "#9c179e"
            ],
            [
             0.4444444444444444,
             "#bd3786"
            ],
            [
             0.5555555555555556,
             "#d8576b"
            ],
            [
             0.6666666666666666,
             "#ed7953"
            ],
            [
             0.7777777777777778,
             "#fb9f3a"
            ],
            [
             0.8888888888888888,
             "#fdca26"
            ],
            [
             1,
             "#f0f921"
            ]
           ]
          },
          "colorway": [
           "#636efa",
           "#EF553B",
           "#00cc96",
           "#ab63fa",
           "#FFA15A",
           "#19d3f3",
           "#FF6692",
           "#B6E880",
           "#FF97FF",
           "#FECB52"
          ],
          "font": {
           "color": "#2a3f5f"
          },
          "geo": {
           "bgcolor": "white",
           "lakecolor": "white",
           "landcolor": "#E5ECF6",
           "showlakes": true,
           "showland": true,
           "subunitcolor": "white"
          },
          "hoverlabel": {
           "align": "left"
          },
          "hovermode": "closest",
          "mapbox": {
           "style": "light"
          },
          "paper_bgcolor": "white",
          "plot_bgcolor": "#E5ECF6",
          "polar": {
           "angularaxis": {
            "gridcolor": "white",
            "linecolor": "white",
            "ticks": ""
           },
           "bgcolor": "#E5ECF6",
           "radialaxis": {
            "gridcolor": "white",
            "linecolor": "white",
            "ticks": ""
           }
          },
          "scene": {
           "xaxis": {
            "backgroundcolor": "#E5ECF6",
            "gridcolor": "white",
            "gridwidth": 2,
            "linecolor": "white",
            "showbackground": true,
            "ticks": "",
            "zerolinecolor": "white"
           },
           "yaxis": {
            "backgroundcolor": "#E5ECF6",
            "gridcolor": "white",
            "gridwidth": 2,
            "linecolor": "white",
            "showbackground": true,
            "ticks": "",
            "zerolinecolor": "white"
           },
           "zaxis": {
            "backgroundcolor": "#E5ECF6",
            "gridcolor": "white",
            "gridwidth": 2,
            "linecolor": "white",
            "showbackground": true,
            "ticks": "",
            "zerolinecolor": "white"
           }
          },
          "shapedefaults": {
           "line": {
            "color": "#2a3f5f"
           }
          },
          "ternary": {
           "aaxis": {
            "gridcolor": "white",
            "linecolor": "white",
            "ticks": ""
           },
           "baxis": {
            "gridcolor": "white",
            "linecolor": "white",
            "ticks": ""
           },
           "bgcolor": "#E5ECF6",
           "caxis": {
            "gridcolor": "white",
            "linecolor": "white",
            "ticks": ""
           }
          },
          "title": {
           "x": 0.05
          },
          "xaxis": {
           "automargin": true,
           "gridcolor": "white",
           "linecolor": "white",
           "ticks": "",
           "title": {
            "standoff": 15
           },
           "zerolinecolor": "white",
           "zerolinewidth": 2
          },
          "yaxis": {
           "automargin": true,
           "gridcolor": "white",
           "linecolor": "white",
           "ticks": "",
           "title": {
            "standoff": 15
           },
           "zerolinecolor": "white",
           "zerolinewidth": 2
          }
         }
        },
        "title": {
         "text": "Histogram of Name with respect to Spectral Class"
        },
        "xaxis": {
         "anchor": "y",
         "domain": [
          0,
          1
         ],
         "title": {
          "text": "Name"
         }
        },
        "yaxis": {
         "anchor": "x",
         "domain": [
          0,
          1
         ],
         "title": {
          "text": "count"
         }
        }
       }
      }
     },
     "metadata": {},
     "output_type": "display_data"
    }
   ],
   "source": [
    "# histogram of name with color spectral class using plotly:\n",
    "\n",
    "fig = px.histogram(df, x= 'Name', color='Spectral Class', title= 'Histogram of Name with respect to Spectral Class')\n",
    "fig.show()\n"
   ]
  },
  {
   "cell_type": "markdown",
   "metadata": {},
   "source": [
    "---\n",
    "#### **2. Distance Column:**\n",
    "--- "
   ]
  },
  {
   "cell_type": "code",
   "execution_count": 20,
   "metadata": {},
   "outputs": [
    {
     "data": {
      "image/png": "[encoded data removed]",
      "text/plain": [
       "<Figure size 1200x800 with 1 Axes>"
      ]
     },
     "metadata": {},
     "output_type": "display_data"
    }
   ],
   "source": [
    "# histogram of the Distance column:\n",
    "\n",
    "plt.figure(figsize=(12, 8))\n",
    "sns.histplot(df['Distance'], kde=True, color='gold')\n",
    "plt.title(\"Histogram of the Distance column\")\n",
    "plt.xlabel(\"Distance\")\n",
    "plt.ylabel(\"Frequency\")\n",
    "plt.show()"
   ]
  },
  {
   "cell_type": "code",
   "execution_count": 15,
   "metadata": {},
   "outputs": [
    {
     "data": {
      "image/png": "[encoded data removed]",
      "text/plain": [
       "<Figure size 1000x600 with 1 Axes>"
      ]
     },
     "metadata": {},
     "output_type": "display_data"
    }
   ],
   "source": [
    "plt.figure(figsize=(10, 6))\n",
    "sns.boxplot(x=df['Distance'], color = 'gold')\n",
    "plt.title('Boxplot of Distance')\n",
    "plt.xlabel('Luminosity')\n",
    "plt.show()"
   ]
  },
  {
   "cell_type": "code",
   "execution_count": 21,
   "metadata": {},
   "outputs": [
    {
     "data": {
      "application/vnd.plotly.v1+json": {
       "config": {
        "plotlyServerURL": "https://plot.ly"
       },
       "data": [
        {
         "alignmentgroup": "True",
         "bingroup": "x",
         "hovertemplate": "Name=Altair<br>Distance=%{x}<br>count=%{y}<extra></extra>",
         "legendgroup": "Altair",
         "marker": {
          "color": "#636efa",
          "pattern": {
           "shape": ""
          }
         },
         "name": "Altair",
         "offsetgroup": "Altair",
         "orientation": "v",
         "showlegend": true,
         "type": "histogram",
         "x": [
          16.59417123707501,
          16.324631801826886,
          16.97783483438638,
          16.481723812762002,
          17.004752557357463,
          16.790538913857493,
          17.114041468810747,
          16.342681874475897,
          16.515550441516513,
          16.650909255277465,
          16.90978103577815,
          16.673538512166857,
          17.031047210189243,
          16.334612838722375,
          17.126532940989705,
          16.841284457536943,
          16.73976423176716,
          16.30343825476463,
          16.817757811872315,
          16.775344887638514,
          16.962965725071445,
          16.305159249689783,
          16.428114807916586,
          16.650873710554336,
          16.754464460371924,
          16.723699215336318,
          17.07909134160172,
          16.431583556207517,
          16.597555199697663,
          16.80481859931867,
          16.413501979632134,
          16.688705570405098,
          16.69885844192648,
          16.515448932210074,
          16.5633005475685,
          16.304756370563133,
          16.37496066970492,
          16.93853726095821,
          16.738703832546104,
          17.19019344606041,
          16.652395810820618,
          16.427968131235406,
          16.79957336533521,
          16.865327747799885,
          16.28254828170139,
          16.586513640803055,
          16.84594097685513,
          16.259098046844812,
          17.02245126935604,
          16.23721181862846,
          16.48246411572928,
          16.693808179094987,
          16.815484644936603,
          16.384894337466907,
          16.720463318238917,
          16.775942941441293,
          16.68375873060525,
          16.474888428566707,
          16.964525968063487,
          17.142746638457286,
          17.15840501478534,
          17.11637322103638,
          16.517311315754984,
          16.81698343653392,
          16.56786756498236,
          16.546804536638334,
          16.40951171231661,
          16.933845755838053,
          16.70733129032844,
          16.5028339871533,
          17.15474181167015,
          17.111919168917005,
          16.874372018837036,
          17.12154390276971
         ],
         "xaxis": "x",
         "yaxis": "y"
        },
        {
         "alignmentgroup": "True",
         "bingroup": "x",
         "hovertemplate": "Name=Deneb<br>Distance=%{x}<br>count=%{y}<extra></extra>",
         "legendgroup": "Deneb",
         "marker": {
          "color": "#EF553B",
          "pattern": {
           "shape": ""
          }
         },
         "name": "Deneb",
         "offsetgroup": "Deneb",
         "orientation": "v",
         "showlegend": true,
         "type": "histogram",
         "x": [
          2600.4907228269035,
          2600.219144334045,
          2599.541671531891,
          2600.3849852172243,
          2600.203153160722,
          2600.054111698248,
          2599.531004708632,
          2599.843961974584,
          2600.1188300320887,
          2599.853939051221,
          2599.608738332849,
          2600.459947369687,
          2599.9450011255235,
          2599.918259573627,
          2599.839828825722,
          2600.154973128097,
          2599.9603466154435,
          2599.585898833314,
          2600.041523441383,
          2600.396323397126,
          2599.878637146332,
          2600.295553700053,
          2599.6979557308987,
          2599.9535579119542,
          2600.0030216501546
         ],
         "xaxis": "x",
         "yaxis": "y"
        },
        {
         "alignmentgroup": "True",
         "bingroup": "x",
         "hovertemplate": "Name=Barnard's Star<br>Distance=%{x}<br>count=%{y}<extra></extra>",
         "legendgroup": "Barnard's Star",
         "marker": {
          "color": "#00cc96",
          "pattern": {
           "shape": ""
          }
         },
         "name": "Barnard's Star",
         "offsetgroup": "Barnard's Star",
         "orientation": "v",
         "showlegend": true,
         "type": "histogram",
         "x": [
          6.052616358474774,
          5.902391663373468,
          6.274309005192113,
          6.210116619871699,
          5.5635565189978085,
          6.102187239521027,
          6.098594827311291,
          6.066146574141507,
          5.77531813296572,
          5.503354374007524,
          6.035977135751383,
          5.46425033457099,
          5.754938969408459,
          6.05724013797307,
          5.644066736935094,
          5.686720695342739,
          6.00647519555047,
          6.260851555777831,
          6.450229446881884,
          5.617672919304961,
          5.702119231490174,
          6.145792735966175,
          6.036902451485217,
          6.213758808682438,
          6.35870919542279,
          6.180499325090577,
          6.065584934966928,
          6.1037262692147225,
          6.178068736680354,
          6.378422052335232,
          5.628109879472458,
          5.702693106793509,
          5.671834859957071,
          5.901894921078882,
          5.9787983279270085,
          6.187165630701091,
          5.621799128520018,
          5.938951989691774
         ],
         "xaxis": "x",
         "yaxis": "y"
        },
        {
         "alignmentgroup": "True",
         "bingroup": "x",
         "hovertemplate": "Name=Polaris<br>Distance=%{x}<br>count=%{y}<extra></extra>",
         "legendgroup": "Polaris",
         "marker": {
          "color": "#ab63fa",
          "pattern": {
           "shape": ""
          }
         },
         "name": "Polaris",
         "offsetgroup": "Polaris",
         "orientation": "v",
         "showlegend": true,
         "type": "histogram",
         "x": [
          322.6010015236985,
          323.4890826975579,
          323.4772161689265,
          322.7090337593032,
          322.7829657396212,
          322.69367242714384,
          323.18740651993204,
          323.2942868029988,
          322.63039128938027,
          323.25830287505704,
          322.502155570597,
          322.5390777157187,
          322.5304351797596,
          322.93613956377834,
          323.3420917477968,
          322.6559353305563,
          322.61059291404024,
          322.5864706417702,
          323.0346750980348,
          323.4573642516834,
          322.7489734191514,
          323.407738492318,
          323.329059044209,
          323.2911371694931,
          323.04614166377024,
          322.6683138284829,
          322.8440108934349,
          323.0169808270724,
          322.9494783167867,
          322.96013716898085,
          323.17960144669274,
          323.46676302972094,
          322.62947492209986,
          322.9599285464444,
          322.9314640081101
         ],
         "xaxis": "x",
         "yaxis": "y"
        },
        {
         "alignmentgroup": "True",
         "bingroup": "x",
         "hovertemplate": "Name=Sirius<br>Distance=%{x}<br>count=%{y}<extra></extra>",
         "legendgroup": "Sirius",
         "marker": {
          "color": "#FFA15A",
          "pattern": {
           "shape": ""
          }
         },
         "name": "Sirius",
         "offsetgroup": "Sirius",
         "orientation": "v",
         "showlegend": true,
         "type": "histogram",
         "x": [
          8.370045208990435,
          8.997561546118135,
          8.790939416886154,
          8.40488504234644,
          8.178965638409595,
          9.003723782469484,
          8.42964716497559,
          8.97905760209878,
          8.910964990477838,
          8.95764006062001,
          8.22699804145759,
          8.581163580860268,
          8.650238632854773,
          8.592832833642735,
          8.872982082035527,
          8.792950012705772,
          8.355424038148003,
          8.161295441784544,
          8.441644923384983,
          8.217525695491645,
          8.514812239311194,
          8.294591987099164,
          8.165437979968027,
          8.450983252622061,
          8.696116019165396,
          8.125496220548296,
          8.131880808724219,
          8.417698116123512,
          8.99668874623692,
          8.609892014115287,
          8.786491000164645,
          8.52608695906616,
          8.322247873554318,
          8.153862547872297
         ],
         "xaxis": "x",
         "yaxis": "y"
        },
        {
         "alignmentgroup": "True",
         "bingroup": "x",
         "hovertemplate": "Name=Fomalhaut<br>Distance=%{x}<br>count=%{y}<extra></extra>",
         "legendgroup": "Fomalhaut",
         "marker": {
          "color": "#19d3f3",
          "pattern": {
           "shape": ""
          }
         },
         "name": "Fomalhaut",
         "offsetgroup": "Fomalhaut",
         "orientation": "v",
         "showlegend": true,
         "type": "histogram",
         "x": [
          25.42303189349805,
          25.040609497955693,
          24.739227835351564,
          24.94774315643359,
          25.376635374231352,
          25.395341516452056,
          25.132967410517995,
          24.908006486525945,
          24.63695818655648,
          25.291726752209044,
          24.787814094086,
          24.93993408396935,
          24.801334879905827,
          24.52798083660612,
          25.44873361843539,
          24.50867740612027,
          24.70632087566867,
          25.11565259218312,
          24.843117080136956,
          24.88012046688512,
          24.987398402267782,
          25.302837879907862,
          24.59512350793306,
          25.023792942363187,
          25.057041949883786,
          24.506784896336363,
          24.674402107140622,
          24.579087741348825,
          25.35547709191822,
          24.87807509525689,
          25.387269675813
         ],
         "xaxis": "x",
         "yaxis": "y"
        },
        {
         "alignmentgroup": "True",
         "bingroup": "x",
         "hovertemplate": "Name=Capella<br>Distance=%{x}<br>count=%{y}<extra></extra>",
         "legendgroup": "Capella",
         "marker": {
          "color": "#FF6692",
          "pattern": {
           "shape": ""
          }
         },
         "name": "Capella",
         "offsetgroup": "Capella",
         "orientation": "v",
         "showlegend": true,
         "type": "histogram",
         "x": [
          42.56957816453575,
          43.260858866113374,
          43.23983836385828,
          42.98764050809396,
          42.80414644083066,
          42.66191607008856,
          42.90883268003728,
          42.42640506726292,
          43.18977231526731,
          42.62172687540109,
          43.24996496461586,
          43.26898110439547,
          43.15465762520267,
          42.647659674923545,
          42.65444955623385,
          42.7217314040785,
          43.06712827854447,
          43.18112317773428,
          43.36976619606791,
          42.52419176794727,
          43.22182719528961,
          42.85177613657468,
          42.57067975593808,
          43.353461047980645,
          42.601051224886014,
          42.86175604553599,
          42.66974559185838,
          43.20824019631963,
          42.93959400923444,
          43.168855975372594,
          42.58145468080607,
          42.88148825879285,
          42.40535655093325,
          42.94182808506701,
          43.32463110238659,
          42.81063050433714,
          43.341857133248425,
          43.325316068120735,
          43.28991991209135
         ],
         "xaxis": "x",
         "yaxis": "y"
        },
        {
         "alignmentgroup": "True",
         "bingroup": "x",
         "hovertemplate": "Name=Bellatrix<br>Distance=%{x}<br>count=%{y}<extra></extra>",
         "legendgroup": "Bellatrix",
         "marker": {
          "color": "#B6E880",
          "pattern": {
           "shape": ""
          }
         },
         "name": "Bellatrix",
         "offsetgroup": "Bellatrix",
         "orientation": "v",
         "showlegend": true,
         "type": "histogram",
         "x": [
          239.8641071043128,
          240.396008875072,
          239.75802627864445,
          240.3505524329565,
          239.79573031544,
          240.30865829394963,
          239.8047158847297,
          239.7466586927296,
          240.11729164012905,
          240.38937400299517,
          239.8107170031412,
          239.93285610754845,
          239.69414728045675,
          239.678280484485,
          240.46546493984692,
          240.4177991738177,
          240.1604825490851,
          240.12473609943655,
          239.8922067354819,
          239.8768554783536,
          240.03574000164505,
          240.4175407764292,
          239.8303416160717,
          240.11588978221369,
          240.49816951913863,
          240.355324424342,
          240.0939753540742,
          239.8539329933873,
          239.93656975922684,
          239.62482417096467,
          239.83337339555476,
          239.59086023679924,
          239.77263433505863,
          240.00407319071869,
          240.3954565777999,
          239.66547315750975,
          239.7632940871353
         ],
         "xaxis": "x",
         "yaxis": "y"
        },
        {
         "alignmentgroup": "True",
         "bingroup": "x",
         "hovertemplate": "Name=Castor<br>Distance=%{x}<br>count=%{y}<extra></extra>",
         "legendgroup": "Castor",
         "marker": {
          "color": "#FF97FF",
          "pattern": {
           "shape": ""
          }
         },
         "name": "Castor",
         "offsetgroup": "Castor",
         "orientation": "v",
         "showlegend": true,
         "type": "histogram",
         "x": [
          51.57021005818902,
          52.3208563941243,
          51.687127344898485,
          52.31788545862922,
          51.78867651717732,
          51.78765008596086,
          51.65717046093253,
          52.33739487109884,
          52.15011540693591,
          51.96002579241676,
          52.22988431306953,
          52.11930609709243,
          51.63546472562079,
          51.6442785808902,
          51.524741869292015,
          52.23783288286487,
          52.00232623896764,
          51.92513481887208,
          52.16408562397163,
          51.71719885193044,
          51.69175345874459,
          51.70958451784467,
          52.05461972836282,
          52.131041124741245,
          52.457966963372506,
          51.65789051774216,
          52.32699048051961,
          51.57416859712489,
          52.008251054307145,
          51.630997393351066,
          52.201794739444864,
          52.29678817113823,
          52.3205784802262,
          51.511786774568165,
          51.98304877115079,
          51.75737010489582,
          51.71998908353143,
          51.94700108831837,
          51.72532804583004
         ],
         "xaxis": "x",
         "yaxis": "y"
        },
        {
         "alignmentgroup": "True",
         "bingroup": "x",
         "hovertemplate": "Name=Hadar<br>Distance=%{x}<br>count=%{y}<extra></extra>",
         "legendgroup": "Hadar",
         "marker": {
          "color": "#FECB52",
          "pattern": {
           "shape": ""
          }
         },
         "name": "Hadar",
         "offsetgroup": "Hadar",
         "orientation": "v",
         "showlegend": true,
         "type": "histogram",
         "x": [
          349.6510239295208,
          350.3393282903268,
          349.8378240849879,
          349.98072783140907,
          349.89703894408365,
          349.8618670626462,
          349.85840398022134,
          350.1211769454686,
          349.54803179030006,
          349.70525337779173,
          349.9265432643831,
          349.74627308407605,
          350.2825075248128,
          350.48265904666846,
          349.9233971467892,
          350.1548367045636,
          349.9762351065161,
          349.8025258945259,
          349.53181444637727,
          349.5763036550494,
          349.7007690438944,
          350.3462163095896,
          349.6884498607735,
          349.98310298123266,
          350.2597782764712,
          350.42067052185126,
          349.98215646428145,
          350.00026107700785,
          349.64750946004904,
          349.7751079221616,
          350.0482509324234,
          349.67138194692,
          350.3995833001828,
          350.4252257682298,
          349.9788637308732,
          350.25905864555745,
          349.9815410499482,
          349.6886337761157,
          349.625907898617,
          349.97949588756546,
          349.5488295994064,
          350.16977117417395,
          349.75553952552616,
          350.47273331783754,
          350.3016438778805
         ],
         "xaxis": "x",
         "yaxis": "y"
        },
        {
         "alignmentgroup": "True",
         "bingroup": "x",
         "hovertemplate": "Name=Betelgeuse<br>Distance=%{x}<br>count=%{y}<extra></extra>",
         "legendgroup": "Betelgeuse",
         "marker": {
          "color": "#636efa",
          "pattern": {
           "shape": ""
          }
         },
         "name": "Betelgeuse",
         "offsetgroup": "Betelgeuse",
         "orientation": "v",
         "showlegend": true,
         "type": "histogram",
         "x": [
          642.4036425044302,
          642.4501483192605,
          642.1986705590544,
          642.1530702565499,
          642.0262242230878,
          642.1523114825334,
          642.4002182709401,
          642.4314171166554,
          642.7132328379636,
          642.9734496672988,
          642.6457930899971,
          642.6088452768547,
          642.8715692674214,
          642.5531284859233,
          642.5688338268451,
          642.7606943182192,
          642.3796736220082,
          642.6993191749599,
          642.2406798816608,
          642.7086272299188,
          642.9528733444157,
          642.2465107194334,
          642.9357776183036,
          642.7417653348303,
          642.5351051185136,
          642.2829746395311,
          642.9649766370246,
          642.3397970219621,
          642.6428013612522,
          642.5944222595335,
          642.7547888998598,
          642.7994618404347,
          642.4543021202028,
          642.0286903282115,
          642.2428428824071,
          642.1508982777278,
          642.6498975327032,
          642.9972303663835,
          642.0106189270315,
          642.8476080979914,
          642.9028035649651,
          642.9506962383331,
          642.896853479847,
          642.1716997467348
         ],
         "xaxis": "x",
         "yaxis": "y"
        },
        {
         "alignmentgroup": "True",
         "bingroup": "x",
         "hovertemplate": "Name=Regulus<br>Distance=%{x}<br>count=%{y}<extra></extra>",
         "legendgroup": "Regulus",
         "marker": {
          "color": "#EF553B",
          "pattern": {
           "shape": ""
          }
         },
         "name": "Regulus",
         "offsetgroup": "Regulus",
         "orientation": "v",
         "showlegend": true,
         "type": "histogram",
         "x": [
          79.14834001968553,
          78.8696975851003,
          79.23841041664882,
          78.51275351482992,
          79.37549284128201,
          79.457885087804,
          78.84980314077531,
          78.6610515633756,
          78.60906106487893,
          79.46905039034043,
          78.52313741046954,
          79.02170301809184,
          79.38640904460017,
          79.24977426857156,
          79.3430014654726,
          79.25123296644107,
          78.53223893334071,
          79.22183035219693,
          78.7038439341687,
          79.03647559318077,
          79.26907248189737,
          79.18589591612577,
          78.7031566878579,
          79.2976565838651,
          79.08867706312137,
          78.57997164692497
         ],
         "xaxis": "x",
         "yaxis": "y"
        },
        {
         "alignmentgroup": "True",
         "bingroup": "x",
         "hovertemplate": "Name=Mira<br>Distance=%{x}<br>count=%{y}<extra></extra>",
         "legendgroup": "Mira",
         "marker": {
          "color": "#00cc96",
          "pattern": {
           "shape": ""
          }
         },
         "name": "Mira",
         "offsetgroup": "Mira",
         "orientation": "v",
         "showlegend": true,
         "type": "histogram",
         "x": [
          418.3541533597022,
          418.215323235124,
          417.73968452269605,
          418.4800274472216,
          417.96038900748766,
          418.2183952968461,
          418.17093478352064,
          417.69434190620393,
          417.7833122552771,
          418.0577769995517,
          417.9698200829036,
          417.8076208586674,
          418.2559404634954,
          418.2175842849551,
          418.40207144643017,
          417.5715531818814,
          418.19637656568926,
          417.73665480621816,
          417.5442981212012,
          418.3989107239932,
          418.1733391023294,
          418.027891124594,
          417.7473616627305,
          417.6635767540674,
          418.10374930422336,
          418.4812503161386,
          417.6039056772467,
          417.9030258925673,
          418.2024794852146,
          417.9005443831684,
          418.32320166950245,
          418.147076017426,
          417.540276775724,
          417.5275405223786,
          417.5482494592996,
          417.695788448091,
          418.4702428657292
         ],
         "xaxis": "x",
         "yaxis": "y"
        },
        {
         "alignmentgroup": "True",
         "bingroup": "x",
         "hovertemplate": "Name=Acrux<br>Distance=%{x}<br>count=%{y}<extra></extra>",
         "legendgroup": "Acrux",
         "marker": {
          "color": "#ab63fa",
          "pattern": {
           "shape": ""
          }
         },
         "name": "Acrux",
         "offsetgroup": "Acrux",
         "orientation": "v",
         "showlegend": true,
         "type": "histogram",
         "x": [
          320.95215250850816,
          320.53588050006994,
          321.3978818285302,
          320.5863393634801,
          321.1642531708573,
          320.6812154330032,
          321.0192431558176,
          321.1982673917823,
          321.12567330882814,
          320.74846067676384,
          321.0172738889805,
          320.60318172049745,
          320.5859634991353,
          320.9124461243215,
          321.40395624936485,
          320.5587773374703,
          320.88683059183285,
          320.65320185737164,
          320.95371916990314,
          321.20334861362505,
          321.1664335654021,
          320.7411078477193,
          320.7317413396748,
          321.3696466801406,
          321.457318249747,
          320.5286601685961,
          320.5295666259734,
          321.2232979091321,
          320.7563597238534,
          320.8089994295918
         ],
         "xaxis": "x",
         "yaxis": "y"
        },
        {
         "alignmentgroup": "True",
         "bingroup": "x",
         "hovertemplate": "Name=Vega<br>Distance=%{x}<br>count=%{y}<extra></extra>",
         "legendgroup": "Vega",
         "marker": {
          "color": "#FFA15A",
          "pattern": {
           "shape": ""
          }
         },
         "name": "Vega",
         "offsetgroup": "Vega",
         "orientation": "v",
         "showlegend": true,
         "type": "histogram",
         "x": [
          25.40728672741662,
          25.02265608280089,
          25.32510113537497,
          24.53113047299527,
          25.145088627017778,
          24.959311232910533,
          25.47379567716754,
          25.021842852433267,
          24.796722904603456,
          25.06659451671611,
          25.48267392461975,
          25.06973647278645,
          24.71555489176861,
          24.85754244367429,
          24.55054654226796,
          25.215375947746416,
          24.921386227437697,
          24.645193901214096,
          25.05044976403771,
          24.892157888712624,
          24.737344606764864,
          25.249302017870196,
          25.473262447093777,
          24.517236143400165,
          24.905127460760955,
          24.75073833045015,
          24.86912746311316,
          25.224131593103422,
          24.563347691310778,
          25.30909291443033,
          24.975018144839115,
          25.424516219453206,
          24.905854171943336,
          24.84278806610825,
          25.009785593624624,
          24.803162930467373,
          24.65390624701162,
          24.77663590827652
         ],
         "xaxis": "x",
         "yaxis": "y"
        },
        {
         "alignmentgroup": "True",
         "bingroup": "x",
         "hovertemplate": "Name=Lalande 21185<br>Distance=%{x}<br>count=%{y}<extra></extra>",
         "legendgroup": "Lalande 21185",
         "marker": {
          "color": "#19d3f3",
          "pattern": {
           "shape": ""
          }
         },
         "name": "Lalande 21185",
         "offsetgroup": "Lalande 21185",
         "orientation": "v",
         "showlegend": true,
         "type": "histogram",
         "x": [
          8.78389229917336,
          7.922999488356227,
          8.539132551448054,
          8.389619801046,
          8.657942790455385,
          8.600332846394044,
          8.552871356637239,
          8.326995952783522,
          8.16476186236918,
          8.268111532689437,
          8.383258213157267,
          8.144854579475982,
          8.778835112157529,
          8.399926954945043,
          8.287208290511906,
          8.26117326287019,
          8.649839719089691,
          7.976157703677068,
          8.459087059993356,
          8.787449488767088,
          8.34956214577482,
          8.080258523322932,
          8.172252612662689,
          8.728312637512095,
          8.439597133532216,
          8.703545490785453,
          8.731732298435377
         ],
         "xaxis": "x",
         "yaxis": "y"
        },
        {
         "alignmentgroup": "True",
         "bingroup": "x",
         "hovertemplate": "Name=Arcturus<br>Distance=%{x}<br>count=%{y}<extra></extra>",
         "legendgroup": "Arcturus",
         "marker": {
          "color": "#FF6692",
          "pattern": {
           "shape": ""
          }
         },
         "name": "Arcturus",
         "offsetgroup": "Arcturus",
         "orientation": "v",
         "showlegend": true,
         "type": "histogram",
         "x": [
          36.39116253215857,
          36.23014602060893,
          36.55940961200518,
          36.66414022992508,
          36.246122455758346,
          37.0649256344522,
          36.501673392977565,
          36.60944251909364,
          36.4667172645417,
          36.54392155384341,
          36.23103318743993,
          36.32229979885953,
          36.72859011150761,
          36.36893818169971,
          36.85515697959471,
          36.20354839373127,
          36.24569176751628,
          37.06140162916029,
          36.91845733608466,
          36.51826937834501,
          36.90991186856271,
          37.06384846154293,
          36.20180573285442,
          36.55163108724785,
          36.24521475154246,
          37.06149127837728,
          36.200295183387695,
          36.90817729219896,
          36.631716763839854,
          36.88591656890159,
          36.982286233375945,
          37.0014027891288,
          36.83263226386889,
          36.40617807718751,
          36.77774268440709,
          36.28589805029394,
          36.9062477505712,
          36.3693563748995
         ],
         "xaxis": "x",
         "yaxis": "y"
        },
        {
         "alignmentgroup": "True",
         "bingroup": "x",
         "hovertemplate": "Name=Alpha Centauri B<br>Distance=%{x}<br>count=%{y}<extra></extra>",
         "legendgroup": "Alpha Centauri B",
         "marker": {
          "color": "#B6E880",
          "pattern": {
           "shape": ""
          }
         },
         "name": "Alpha Centauri B",
         "offsetgroup": "Alpha Centauri B",
         "orientation": "v",
         "showlegend": true,
         "type": "histogram",
         "x": [
          3.9259386007692,
          3.996217713887833,
          4.661465963884386,
          4.191178428095684,
          4.604116282070338,
          4.233930259760326,
          4.603151026770734,
          3.927727273120638,
          4.500100880129606,
          3.879882255399028,
          3.8777984948209214,
          4.436330965784739,
          3.932656205796369,
          4.7356216586430016,
          4.105591040558226,
          4.292306288809428,
          4.416944668599744,
          4.048885138846404,
          3.9584080451775816,
          4.3968645150592645,
          4.734661764734593,
          4.808567597775965,
          3.96707536931122,
          4.044363778891645
         ],
         "xaxis": "x",
         "yaxis": "y"
        },
        {
         "alignmentgroup": "True",
         "bingroup": "x",
         "hovertemplate": "Name=Ross 154<br>Distance=%{x}<br>count=%{y}<extra></extra>",
         "legendgroup": "Ross 154",
         "marker": {
          "color": "#FF97FF",
          "pattern": {
           "shape": ""
          }
         },
         "name": "Ross 154",
         "offsetgroup": "Ross 154",
         "orientation": "v",
         "showlegend": true,
         "type": "histogram",
         "x": [
          9.584936005981074,
          9.93913784187845,
          9.61921476063749,
          9.762760206254509,
          9.457219736836048,
          10.114346873131268,
          9.48114273199893,
          9.907428254444897,
          9.979598917012972,
          10.082428468579502,
          9.509693473009362,
          9.613438425931394,
          9.38679526791198,
          9.26667513129312,
          9.744868120043323,
          9.261994125032585,
          9.553595958712544,
          9.413783915695811,
          9.395163970336052,
          9.620779679219527,
          9.69472307122112,
          9.323389346236947,
          10.01828345662197,
          10.17531367803396,
          9.958709975740945,
          9.338424894825856,
          9.6890022970437,
          9.343641962410093,
          9.42086549736674,
          9.54230139060007,
          9.394693710190698,
          9.73233499796961,
          9.66567571693894,
          9.50366119726744,
          9.25339808628094,
          9.540019221183613,
          10.043819467396546,
          9.404553220913916,
          9.423694155811315,
          9.389919670573615,
          9.386066440277858,
          9.496791091141016,
          10.01998897210816,
          9.452177745877758,
          9.195617903458349
         ],
         "xaxis": "x",
         "yaxis": "y"
        },
        {
         "alignmentgroup": "True",
         "bingroup": "x",
         "hovertemplate": "Name=Canopus<br>Distance=%{x}<br>count=%{y}<extra></extra>",
         "legendgroup": "Canopus",
         "marker": {
          "color": "#FECB52",
          "pattern": {
           "shape": ""
          }
         },
         "name": "Canopus",
         "offsetgroup": "Canopus",
         "orientation": "v",
         "showlegend": true,
         "type": "histogram",
         "x": [
          309.65595488089645,
          309.89434307337245,
          309.5332875345678,
          310.30248789941453,
          310.1123839470811,
          310.4339221913486,
          310.2691827891006,
          310.25752765758386,
          309.85247308584013,
          310.2172670982593,
          309.5953487649189,
          309.75776637760686,
          309.93058315209595,
          309.7226809100175,
          310.40561001383736,
          310.2208988524362,
          309.949279299694,
          309.5950008995232,
          309.7711209452154,
          310.0723523164608,
          310.3941896872438,
          309.5515680591836,
          309.745118342769,
          310.2130102878391,
          310.483900312148,
          309.59630094036703,
          310.4362927684538,
          310.4345692965066,
          310.4108600046048,
          309.87474133180893,
          309.6236031075072,
          310.48243578628234,
          309.91561703948685,
          310.44468131175495,
          310.4335412085039,
          309.6647970437859,
          309.92408716748804,
          310.1097294620209,
          309.7469731020621,
          309.79894282933685,
          309.70210821887525,
          309.9536271445739,
          309.7238415784254,
          309.85946184517417,
          310.38085606498896,
          310.1036731709541,
          309.78529838101207,
          310.35560420721504
         ],
         "xaxis": "x",
         "yaxis": "y"
        },
        {
         "alignmentgroup": "True",
         "bingroup": "x",
         "hovertemplate": "Name=Procyon<br>Distance=%{x}<br>count=%{y}<extra></extra>",
         "legendgroup": "Procyon",
         "marker": {
          "color": "#636efa",
          "pattern": {
           "shape": ""
          }
         },
         "name": "Procyon",
         "offsetgroup": "Procyon",
         "orientation": "v",
         "showlegend": true,
         "type": "histogram",
         "x": [
          11.361710078531988,
          10.930399214053107,
          11.548017997505934,
          11.232801031989052,
          11.734879069041147,
          11.811384418414272,
          11.853186614150347,
          11.633141363707043,
          11.729222953510115,
          11.221180880093732,
          11.099357364573128,
          11.561154029092972,
          11.37786080726909,
          11.678427502003084,
          11.282775707529195,
          10.90120355498424,
          11.652618800686213,
          11.27128784093913,
          11.462361693741704,
          11.856853389499038,
          11.71537044507152,
          11.717346818680609,
          11.519994192475885,
          11.337639813967616,
          11.183020782895095,
          11.377881859460956,
          11.533949262456211,
          10.920471755944988,
          11.146881937080314,
          11.591330421111849
         ],
         "xaxis": "x",
         "yaxis": "y"
        },
        {
         "alignmentgroup": "True",
         "bingroup": "x",
         "hovertemplate": "Name=Wolf 359<br>Distance=%{x}<br>count=%{y}<extra></extra>",
         "legendgroup": "Wolf 359",
         "marker": {
          "color": "#EF553B",
          "pattern": {
           "shape": ""
          }
         },
         "name": "Wolf 359",
         "offsetgroup": "Wolf 359",
         "orientation": "v",
         "showlegend": true,
         "type": "histogram",
         "x": [
          8.040322484690764,
          7.987098773049044,
          8.117918695659103,
          7.494513484605815,
          7.573447101024423,
          7.999848244547756,
          7.93457653564171,
          7.692989324958735,
          7.582497882510385,
          8.201477766291974,
          7.281173811634308,
          7.342543595813701,
          8.045698163666097,
          7.844657382582614,
          8.049625037667944,
          8.193452392455221,
          7.408588147182553,
          7.831985513140465,
          7.842217830165789,
          7.509380536781729,
          7.455714961927049,
          8.139786203659344
         ],
         "xaxis": "x",
         "yaxis": "y"
        },
        {
         "alignmentgroup": "True",
         "bingroup": "x",
         "hovertemplate": "Name=Antares<br>Distance=%{x}<br>count=%{y}<extra></extra>",
         "legendgroup": "Antares",
         "marker": {
          "color": "#00cc96",
          "pattern": {
           "shape": ""
          }
         },
         "name": "Antares",
         "offsetgroup": "Antares",
         "orientation": "v",
         "showlegend": true,
         "type": "histogram",
         "x": [
          549.8094446057289,
          550.3341533847138,
          550.2111451274665,
          550.0925105716918,
          549.6020841306806,
          550.0793115802902,
          550.4834100624427,
          549.6326078449839,
          549.8792884370044,
          549.6671549550567,
          549.601840549149,
          550.1496804937102,
          550.15747463314,
          549.7495418978335,
          549.5110445555379,
          550.3257829728522,
          549.6919169775477,
          549.5976615005139,
          549.9795888740322,
          550.2150054467941,
          549.9015809654044,
          550.3668196570269,
          550.0648277783677,
          550.3810400697355,
          549.9204623386546,
          549.8508372630931
         ],
         "xaxis": "x",
         "yaxis": "y"
        },
        {
         "alignmentgroup": "True",
         "bingroup": "x",
         "hovertemplate": "Name=Alnilam<br>Distance=%{x}<br>count=%{y}<extra></extra>",
         "legendgroup": "Alnilam",
         "marker": {
          "color": "#ab63fa",
          "pattern": {
           "shape": ""
          }
         },
         "name": "Alnilam",
         "offsetgroup": "Alnilam",
         "orientation": "v",
         "showlegend": true,
         "type": "histogram",
         "x": [
          1999.5922378259784,
          2000.3720438244095,
          2000.478992923653,
          1999.880482110407,
          2000.4968087684344,
          2000.254556921467,
          1999.9722500667908,
          2000.344809422834,
          1999.905476876984,
          2000.2311498588904,
          2000.0469500959855,
          2000.176215815057,
          1999.801046890608,
          2000.0880201642992,
          2000.377238593158,
          1999.87084484106,
          1999.819824183048,
          2000.37271159395,
          2000.0435647220493,
          2000.1010812868856,
          1999.772368135856,
          1999.6818716533849,
          2000.428234964036,
          2000.2993114511185,
          1999.771262670854,
          1999.847160965611,
          2000.019834141603,
          2000.087785793082,
          2000.138809353711,
          1999.8175025097764,
          1999.7698305372085,
          2000.3439769385384,
          1999.8175408088105,
          2000.37023690258,
          2000.4460408974744,
          2000.4345492686696
         ],
         "xaxis": "x",
         "yaxis": "y"
        },
        {
         "alignmentgroup": "True",
         "bingroup": "x",
         "hovertemplate": "Name=Rigil Kentaurus<br>Distance=%{x}<br>count=%{y}<extra></extra>",
         "legendgroup": "Rigil Kentaurus",
         "marker": {
          "color": "#FFA15A",
          "pattern": {
           "shape": ""
          }
         },
         "name": "Rigil Kentaurus",
         "offsetgroup": "Rigil Kentaurus",
         "orientation": "v",
         "showlegend": true,
         "type": "histogram",
         "x": [
          4.039455513108716,
          4.054202316650517,
          4.107727284195991,
          4.402094885920716,
          3.9786325410020655,
          4.088694603367449,
          4.00631598035014,
          4.684740783845968,
          4.009178210050658,
          4.472942767831179,
          4.75762801578623,
          4.142560356201541,
          4.5115107589995525,
          4.021572470121028,
          4.300779447953355,
          4.533255211906194,
          4.558961315570268,
          4.174610126906483,
          4.258882694615686,
          3.878440741323109,
          4.453129603173108,
          4.367149037495067,
          4.117935511045086,
          4.268672294663512,
          4.763026573907034,
          4.47272804209522,
          4.426806628560027,
          4.105156452641697,
          3.9157177266609406,
          4.267358434464539,
          4.475035634017177,
          4.379249967683409,
          4.384779238681924,
          4.770200191851383,
          4.608424065033049,
          3.996321706725146
         ],
         "xaxis": "x",
         "yaxis": "y"
        },
        {
         "alignmentgroup": "True",
         "bingroup": "x",
         "hovertemplate": "Name=Spica<br>Distance=%{x}<br>count=%{y}<extra></extra>",
         "legendgroup": "Spica",
         "marker": {
          "color": "#19d3f3",
          "pattern": {
           "shape": ""
          }
         },
         "name": "Spica",
         "offsetgroup": "Spica",
         "orientation": "v",
         "showlegend": true,
         "type": "histogram",
         "x": [
          250.4596817064251,
          250.3496408249325,
          250.1853696897831,
          249.71633706178963,
          249.7559118255533,
          250.2913089548481,
          249.835979449552,
          249.6956810552482,
          250.4057552155481,
          249.95600945257036,
          250.35860614560136,
          250.48787578507955,
          249.5804287349372,
          250.3907403268672,
          249.7542724733665,
          250.15638901295983,
          250.08854976539027,
          249.96142719523124,
          249.8172403555564,
          250.47669935243397,
          249.68138707151607,
          249.85189898596667,
          249.69579540727176,
          250.01953470530407,
          249.73242975661935,
          249.6676091992805,
          249.5219180074977,
          250.08391615971536,
          250.255634744821,
          250.2771634939656,
          250.40169225874865,
          249.8780687587576
         ],
         "xaxis": "x",
         "yaxis": "y"
        },
        {
         "alignmentgroup": "True",
         "bingroup": "x",
         "hovertemplate": "Name=Achernar<br>Distance=%{x}<br>count=%{y}<extra></extra>",
         "legendgroup": "Achernar",
         "marker": {
          "color": "#FF6692",
          "pattern": {
           "shape": ""
          }
         },
         "name": "Achernar",
         "offsetgroup": "Achernar",
         "orientation": "v",
         "showlegend": true,
         "type": "histogram",
         "x": [
          144.41347739924058,
          143.92295573741418,
          143.96369643781577,
          144.31905356616832,
          144.42696352608482,
          144.4397778356189,
          143.58377436946893,
          144.12328599301048,
          143.77764483165026,
          143.7208361441719,
          143.78027679343387,
          144.47209166466283,
          144.0426282760542,
          144.3182802277197,
          144.2578184530899,
          144.19189867653805,
          143.62996068798947,
          143.62812373331911,
          144.28801530852505,
          144.30522567719555,
          144.12082466595672,
          143.94387870463663,
          144.37545652663016,
          144.12897129708412,
          143.9947292602552,
          144.44176753543127,
          143.7260830353571,
          143.98542586931663,
          143.96622965338523
         ],
         "xaxis": "x",
         "yaxis": "y"
        },
        {
         "alignmentgroup": "True",
         "bingroup": "x",
         "hovertemplate": "Name=Aldebaran<br>Distance=%{x}<br>count=%{y}<extra></extra>",
         "legendgroup": "Aldebaran",
         "marker": {
          "color": "#B6E880",
          "pattern": {
           "shape": ""
          }
         },
         "name": "Aldebaran",
         "offsetgroup": "Aldebaran",
         "orientation": "v",
         "showlegend": true,
         "type": "histogram",
         "x": [
          65.1820343113461,
          64.86663507615103,
          65.27837547917696,
          64.5902948982921,
          65.0148671399861,
          65.12504717981578,
          64.9102918076204,
          65.22314745573473,
          64.61409509358059,
          65.47022713417984,
          65.40799412250136,
          65.02609193401285,
          65.18136662184412,
          65.06561799990496,
          65.00813676993866,
          64.69365732542286,
          65.18394244057998,
          64.67223541528165
         ],
         "xaxis": "x",
         "yaxis": "y"
        },
        {
         "alignmentgroup": "True",
         "bingroup": "x",
         "hovertemplate": "Name=Rigel<br>Distance=%{x}<br>count=%{y}<extra></extra>",
         "legendgroup": "Rigel",
         "marker": {
          "color": "#FF97FF",
          "pattern": {
           "shape": ""
          }
         },
         "name": "Rigel",
         "offsetgroup": "Rigel",
         "orientation": "v",
         "showlegend": true,
         "type": "histogram",
         "x": [
          859.8736693721206,
          860.3299817159254,
          860.351094890128,
          859.9824983681953,
          860.0446487167943,
          860.3779303884187,
          859.8658746857441,
          859.7605775728495,
          860.1545306223537,
          860.3803983161446,
          860.203922875534,
          859.5517800045906,
          860.1589940381065,
          859.7391892037019,
          860.2515676737628,
          860.1419899425256,
          860.4364002835275
         ],
         "xaxis": "x",
         "yaxis": "y"
        }
       ],
       "layout": {
        "barmode": "relative",
        "legend": {
         "title": {
          "text": "Name"
         },
         "tracegroupgap": 0
        },
        "template": {
         "data": {
          "bar": [
           {
            "error_x": {
             "color": "#2a3f5f"
            },
            "error_y": {
             "color": "#2a3f5f"
            },
            "marker": {
             "line": {
              "color": "#E5ECF6",
              "width": 0.5
             },
             "pattern": {
              "fillmode": "overlay",
              "size": 10,
              "solidity": 0.2
             }
            },
            "type": "bar"
           }
          ],
          "barpolar": [
           {
            "marker": {
             "line": {
              "color": "#E5ECF6",
              "width": 0.5
             },
             "pattern": {
              "fillmode": "overlay",
              "size": 10,
              "solidity": 0.2
             }
            },
            "type": "barpolar"
           }
          ],
          "carpet": [
           {
            "aaxis": {
             "endlinecolor": "#2a3f5f",
             "gridcolor": "white",
             "linecolor": "white",
             "minorgridcolor": "white",
             "startlinecolor": "#2a3f5f"
            },
            "baxis": {
             "endlinecolor": "#2a3f5f",
             "gridcolor": "white",
             "linecolor": "white",
             "minorgridcolor": "white",
             "startlinecolor": "#2a3f5f"
            },
            "type": "carpet"
           }
          ],
          "choropleth": [
           {
            "colorbar": {
             "outlinewidth": 0,
             "ticks": ""
            },
            "type": "choropleth"
           }
          ],
          "contour": [
           {
            "colorbar": {
             "outlinewidth": 0,
             "ticks": ""
            },
            "colorscale": [
             [
              0,
              "#0d0887"
             ],
             [
              0.1111111111111111,
              "#46039f"
             ],
             [
              0.2222222222222222,
              "#7201a8"
             ],
             [
              0.3333333333333333,
              "#9c179e"
             ],
             [
              0.4444444444444444,
              "#bd3786"
             ],
             [
              0.5555555555555556,
              "#d8576b"
             ],
             [
              0.6666666666666666,
              "#ed7953"
             ],
             [
              0.7777777777777778,
              "#fb9f3a"
             ],
             [
              0.8888888888888888,
              "#fdca26"
             ],
             [
              1,
              "#f0f921"
             ]
            ],
            "type": "contour"
           }
          ],
          "contourcarpet": [
           {
            "colorbar": {
             "outlinewidth": 0,
             "ticks": ""
            },
            "type": "contourcarpet"
           }
          ],
          "heatmap": [
           {
            "colorbar": {
             "outlinewidth": 0,
             "ticks": ""
            },
            "colorscale": [
             [
              0,
              "#0d0887"
             ],
             [
              0.1111111111111111,
              "#46039f"
             ],
             [
              0.2222222222222222,
              "#7201a8"
             ],
             [
              0.3333333333333333,
              "#9c179e"
             ],
             [
              0.4444444444444444,
              "#bd3786"
             ],
             [
              0.5555555555555556,
              "#d8576b"
             ],
             [
              0.6666666666666666,
              "#ed7953"
             ],
             [
              0.7777777777777778,
              "#fb9f3a"
             ],
             [
              0.8888888888888888,
              "#fdca26"
             ],
             [
              1,
              "#f0f921"
             ]
            ],
            "type": "heatmap"
           }
          ],
          "heatmapgl": [
           {
            "colorbar": {
             "outlinewidth": 0,
             "ticks": ""
            },
            "colorscale": [
             [
              0,
              "#0d0887"
             ],
             [
              0.1111111111111111,
              "#46039f"
             ],
             [
              0.2222222222222222,
              "#7201a8"
             ],
             [
              0.3333333333333333,
              "#9c179e"
             ],
             [
              0.4444444444444444,
              "#bd3786"
             ],
             [
              0.5555555555555556,
              "#d8576b"
             ],
             [
              0.6666666666666666,
              "#ed7953"
             ],
             [
              0.7777777777777778,
              "#fb9f3a"
             ],
             [
              0.8888888888888888,
              "#fdca26"
             ],
             [
              1,
              "#f0f921"
             ]
            ],
            "type": "heatmapgl"
           }
          ],
          "histogram": [
           {
            "marker": {
             "pattern": {
              "fillmode": "overlay",
              "size": 10,
              "solidity": 0.2
             }
            },
            "type": "histogram"
           }
          ],
          "histogram2d": [
           {
            "colorbar": {
             "outlinewidth": 0,
             "ticks": ""
            },
            "colorscale": [
             [
              0,
              "#0d0887"
             ],
             [
              0.1111111111111111,
              "#46039f"
             ],
             [
              0.2222222222222222,
              "#7201a8"
             ],
             [
              0.3333333333333333,
              "#9c179e"
             ],
             [
              0.4444444444444444,
              "#bd3786"
             ],
             [
              0.5555555555555556,
              "#d8576b"
             ],
             [
              0.6666666666666666,
              "#ed7953"
             ],
             [
              0.7777777777777778,
              "#fb9f3a"
             ],
             [
              0.8888888888888888,
              "#fdca26"
             ],
             [
              1,
              "#f0f921"
             ]
            ],
            "type": "histogram2d"
           }
          ],
          "histogram2dcontour": [
           {
            "colorbar": {
             "outlinewidth": 0,
             "ticks": ""
            },
            "colorscale": [
             [
              0,
              "#0d0887"
             ],
             [
              0.1111111111111111,
              "#46039f"
             ],
             [
              0.2222222222222222,
              "#7201a8"
             ],
             [
              0.3333333333333333,
              "#9c179e"
             ],
             [
              0.4444444444444444,
              "#bd3786"
             ],
             [
              0.5555555555555556,
              "#d8576b"
             ],
             [
              0.6666666666666666,
              "#ed7953"
             ],
             [
              0.7777777777777778,
              "#fb9f3a"
             ],
             [
              0.8888888888888888,
              "#fdca26"
             ],
             [
              1,
              "#f0f921"
             ]
            ],
            "type": "histogram2dcontour"
           }
          ],
          "mesh3d": [
           {
            "colorbar": {
             "outlinewidth": 0,
             "ticks": ""
            },
            "type": "mesh3d"
           }
          ],
          "parcoords": [
           {
            "line": {
             "colorbar": {
              "outlinewidth": 0,
              "ticks": ""
             }
            },
            "type": "parcoords"
           }
          ],
          "pie": [
           {
            "automargin": true,
            "type": "pie"
           }
          ],
          "scatter": [
           {
            "fillpattern": {
             "fillmode": "overlay",
             "size": 10,
             "solidity": 0.2
            },
            "type": "scatter"
           }
          ],
          "scatter3d": [
           {
            "line": {
             "colorbar": {
              "outlinewidth": 0,
              "ticks": ""
             }
            },
            "marker": {
             "colorbar": {
              "outlinewidth": 0,
              "ticks": ""
             }
            },
            "type": "scatter3d"
           }
          ],
          "scattercarpet": [
           {
            "marker": {
             "colorbar": {
              "outlinewidth": 0,
              "ticks": ""
             }
            },
            "type": "scattercarpet"
           }
          ],
          "scattergeo": [
           {
            "marker": {
             "colorbar": {
              "outlinewidth": 0,
              "ticks": ""
             }
            },
            "type": "scattergeo"
           }
          ],
          "scattergl": [
           {
            "marker": {
             "colorbar": {
              "outlinewidth": 0,
              "ticks": ""
             }
            },
            "type": "scattergl"
           }
          ],
          "scattermapbox": [
           {
            "marker": {
             "colorbar": {
              "outlinewidth": 0,
              "ticks": ""
             }
            },
            "type": "scattermapbox"
           }
          ],
          "scatterpolar": [
           {
            "marker": {
             "colorbar": {
              "outlinewidth": 0,
              "ticks": ""
             }
            },
            "type": "scatterpolar"
           }
          ],
          "scatterpolargl": [
           {
            "marker": {
             "colorbar": {
              "outlinewidth": 0,
              "ticks": ""
             }
            },
            "type": "scatterpolargl"
           }
          ],
          "scatterternary": [
           {
            "marker": {
             "colorbar": {
              "outlinewidth": 0,
              "ticks": ""
             }
            },
            "type": "scatterternary"
           }
          ],
          "surface": [
           {
            "colorbar": {
             "outlinewidth": 0,
             "ticks": ""
            },
            "colorscale": [
             [
              0,
              "#0d0887"
             ],
             [
              0.1111111111111111,
              "#46039f"
             ],
             [
              0.2222222222222222,
              "#7201a8"
             ],
             [
              0.3333333333333333,
              "#9c179e"
             ],
             [
              0.4444444444444444,
              "#bd3786"
             ],
             [
              0.5555555555555556,
              "#d8576b"
             ],
             [
              0.6666666666666666,
              "#ed7953"
             ],
             [
              0.7777777777777778,
              "#fb9f3a"
             ],
             [
              0.8888888888888888,
              "#fdca26"
             ],
             [
              1,
              "#f0f921"
             ]
            ],
            "type": "surface"
           }
          ],
          "table": [
           {
            "cells": {
             "fill": {
              "color": "#EBF0F8"
             },
             "line": {
              "color": "white"
             }
            },
            "header": {
             "fill": {
              "color": "#C8D4E3"
             },
             "line": {
              "color": "white"
             }
            },
            "type": "table"
           }
          ]
         },
         "layout": {
          "annotationdefaults": {
           "arrowcolor": "#2a3f5f",
           "arrowhead": 0,
           "arrowwidth": 1
          },
          "autotypenumbers": "strict",
          "coloraxis": {
           "colorbar": {
            "outlinewidth": 0,
            "ticks": ""
           }
          },
          "colorscale": {
           "diverging": [
            [
             0,
             "#8e0152"
            ],
            [
             0.1,
             "#c51b7d"
            ],
            [
             0.2,
             "#de77ae"
            ],
            [
             0.3,
             "#f1b6da"
            ],
            [
             0.4,
             "#fde0ef"
            ],
            [
             0.5,
             "#f7f7f7"
            ],
            [
             0.6,
             "#e6f5d0"
            ],
            [
             0.7,
             "#b8e186"
            ],
            [
             0.8,
             "#7fbc41"
            ],
            [
             0.9,
             "#4d9221"
            ],
            [
             1,
             "#276419"
            ]
           ],
           "sequential": [
            [
             0,
             "#0d0887"
            ],
            [
             0.1111111111111111,
             "#46039f"
            ],
            [
             0.2222222222222222,
             "#7201a8"
            ],
            [
             0.3333333333333333,
             "#9c179e"
            ],
            [
             0.4444444444444444,
             "#bd3786"
            ],
            [
             0.5555555555555556,
             "#d8576b"
            ],
            [
             0.6666666666666666,
             "#ed7953"
            ],
            [
             0.7777777777777778,
             "#fb9f3a"
            ],
            [
             0.8888888888888888,
             "#fdca26"
            ],
            [
             1,
             "#f0f921"
            ]
           ],
           "sequentialminus": [
            [
             0,
             "#0d0887"
            ],
            [
             0.1111111111111111,
             "#46039f"
            ],
            [
             0.2222222222222222,
             "#7201a8"
            ],
            [
             0.3333333333333333,
             "#9c179e"
            ],
            [
             0.4444444444444444,
             "#bd3786"
            ],
            [
             0.5555555555555556,
             "#d8576b"
            ],
            [
             0.6666666666666666,
             "#ed7953"
            ],
            [
             0.7777777777777778,
             "#fb9f3a"
            ],
            [
             0.8888888888888888,
             "#fdca26"
            ],
            [
             1,
             "#f0f921"
            ]
           ]
          },
          "colorway": [
           "#636efa",
           "#EF553B",
           "#00cc96",
           "#ab63fa",
           "#FFA15A",
           "#19d3f3",
           "#FF6692",
           "#B6E880",
           "#FF97FF",
           "#FECB52"
          ],
          "font": {
           "color": "#2a3f5f"
          },
          "geo": {
           "bgcolor": "white",
           "lakecolor": "white",
           "landcolor": "#E5ECF6",
           "showlakes": true,
           "showland": true,
           "subunitcolor": "white"
          },
          "hoverlabel": {
           "align": "left"
          },
          "hovermode": "closest",
          "mapbox": {
           "style": "light"
          },
          "paper_bgcolor": "white",
          "plot_bgcolor": "#E5ECF6",
          "polar": {
           "angularaxis": {
            "gridcolor": "white",
            "linecolor": "white",
            "ticks": ""
           },
           "bgcolor": "#E5ECF6",
           "radialaxis": {
            "gridcolor": "white",
            "linecolor": "white",
            "ticks": ""
           }
          },
          "scene": {
           "xaxis": {
            "backgroundcolor": "#E5ECF6",
            "gridcolor": "white",
            "gridwidth": 2,
            "linecolor": "white",
            "showbackground": true,
            "ticks": "",
            "zerolinecolor": "white"
           },
           "yaxis": {
            "backgroundcolor": "#E5ECF6",
            "gridcolor": "white",
            "gridwidth": 2,
            "linecolor": "white",
            "showbackground": true,
            "ticks": "",
            "zerolinecolor": "white"
           },
           "zaxis": {
            "backgroundcolor": "#E5ECF6",
            "gridcolor": "white",
            "gridwidth": 2,
            "linecolor": "white",
            "showbackground": true,
            "ticks": "",
            "zerolinecolor": "white"
           }
          },
          "shapedefaults": {
           "line": {
            "color": "#2a3f5f"
           }
          },
          "ternary": {
           "aaxis": {
            "gridcolor": "white",
            "linecolor": "white",
            "ticks": ""
           },
           "baxis": {
            "gridcolor": "white",
            "linecolor": "white",
            "ticks": ""
           },
           "bgcolor": "#E5ECF6",
           "caxis": {
            "gridcolor": "white",
            "linecolor": "white",
            "ticks": ""
           }
          },
          "title": {
           "x": 0.05
          },
          "xaxis": {
           "automargin": true,
           "gridcolor": "white",
           "linecolor": "white",
           "ticks": "",
           "title": {
            "standoff": 15
           },
           "zerolinecolor": "white",
           "zerolinewidth": 2
          },
          "yaxis": {
           "automargin": true,
           "gridcolor": "white",
           "linecolor": "white",
           "ticks": "",
           "title": {
            "standoff": 15
           },
           "zerolinecolor": "white",
           "zerolinewidth": 2
          }
         }
        },
        "title": {
         "text": "Histogram of Distance with respect to Name"
        },
        "xaxis": {
         "anchor": "y",
         "domain": [
          0,
          1
         ],
         "title": {
          "text": "Distance"
         }
        },
        "yaxis": {
         "anchor": "x",
         "domain": [
          0,
          1
         ],
         "title": {
          "text": "count"
         }
        }
       }
      }
     },
     "metadata": {},
     "output_type": "display_data"
    }
   ],
   "source": [
    "# histogram of Distance column with respect to Name Class using plotly:\n",
    "\n",
    "fig = px.histogram(df, x='Distance', color='Name', title='Histogram of Distance with respect to Name')\n",
    "fig.show()"
   ]
  },
  {
   "cell_type": "code",
   "execution_count": 22,
   "metadata": {},
   "outputs": [
    {
     "data": {
      "text/plain": [
       "np.int64(1000)"
      ]
     },
     "execution_count": 22,
     "metadata": {},
     "output_type": "execute_result"
    }
   ],
   "source": [
    "df['Distance'].value_counts().sum()"
   ]
  },
  {
   "cell_type": "code",
   "execution_count": 23,
   "metadata": {},
   "outputs": [
    {
     "data": {
      "text/plain": [
       "np.int64(0)"
      ]
     },
     "execution_count": 23,
     "metadata": {},
     "output_type": "execute_result"
    }
   ],
   "source": [
    "df['Distance'].duplicated().sum()"
   ]
  },
  {
   "cell_type": "code",
   "execution_count": 23,
   "metadata": {},
   "outputs": [
    {
     "name": "stdout",
     "output_type": "stream",
     "text": [
      "The minimum distance of star from Earth in Light Year is :3.88 (light year)\n",
      "The maximum distance of star from Earth in Light Year is :2600.49 (light year)\n"
     ]
    }
   ],
   "source": [
    "# round the distance column to 2 decimal places:\n",
    "\n",
    "print(f\"The minimum distance of star from Earth in Light Year is :{df['Distance'].min().round(2)} (light year)\")\n",
    "print(f\"The maximum distance of star from Earth in Light Year is :{df['Distance'].max().round(2)} (light year)\") "
   ]
  },
  {
   "cell_type": "markdown",
   "metadata": {},
   "source": [
    "---\n",
    "#### **3. Luminosity:**\n",
    "---"
   ]
  },
  {
   "cell_type": "code",
   "execution_count": 34,
   "metadata": {},
   "outputs": [
    {
     "data": {
      "text/plain": [
       "np.int64(0)"
      ]
     },
     "execution_count": 34,
     "metadata": {},
     "output_type": "execute_result"
    }
   ],
   "source": [
    "df['Luminosity'].duplicated().sum()"
   ]
  },
  {
   "cell_type": "code",
   "execution_count": 29,
   "metadata": {},
   "outputs": [
    {
     "data": {
      "text/plain": [
       "count      1000.000000\n",
       "mean      19644.909442\n",
       "std       42223.595017\n",
       "min          -4.993141\n",
       "25%          10.441039\n",
       "50%         171.097809\n",
       "75%       10500.577117\n",
       "max      196004.854081\n",
       "Name: Luminosity, dtype: float64"
      ]
     },
     "execution_count": 29,
     "metadata": {},
     "output_type": "execute_result"
    }
   ],
   "source": [
    "df['Luminosity'].describe()"
   ]
  },
  {
   "cell_type": "markdown",
   "metadata": {},
   "source": [
    "The minimum luminosity of star is `-4.993141` and maximum luminosity of star is `196004.854081`.\n",
    "but which stars have the minimum and maximum luminosity? What are their names? We will find out."
   ]
  },
  {
   "cell_type": "markdown",
   "metadata": {},
   "source": [
    "As the limunosity column has no duplicates, it means it has all unique values."
   ]
  },
  {
   "cell_type": "code",
   "execution_count": 45,
   "metadata": {},
   "outputs": [
    {
     "data": {
      "text/plain": [
       "Name              Luminosity    \n",
       "Wolf 359           4.928127         1\n",
       "Achernar           3145.067171      1\n",
       "                   3145.594289      1\n",
       "                   3145.670632      1\n",
       "                   3146.170451      1\n",
       "                   3146.480171      1\n",
       "                   3146.621300      1\n",
       "                   3147.122215      1\n",
       "Wolf 359          -4.435101         1\n",
       "                  -4.811599         1\n",
       "                  -4.903358         1\n",
       "                  -4.932927         1\n",
       "                  -4.935053         1\n",
       "                  -4.993141         1\n",
       "Vega               45.026400        1\n",
       "                   45.016619        1\n",
       "                   44.873022        1\n",
       "                   44.820505        1\n",
       "                   44.656729        1\n",
       "                   44.606275        1\n",
       "                   44.096088        1\n",
       "                   44.019567        1\n",
       "                   43.804967        1\n",
       "                   43.662377        1\n",
       "Acrux              24999.574394     1\n",
       "                   24999.476778     1\n",
       "                   24999.132923     1\n",
       "                   24998.550381     1\n",
       "                   24998.437364     1\n",
       "                   24997.637920     1\n",
       "                   24997.624279     1\n",
       "                   24996.390155     1\n",
       "                   24996.031504     1\n",
       "                   24995.853352     1\n",
       "                   24995.384020     1\n",
       "Achernar           3154.434597      1\n",
       "                   3154.323621      1\n",
       "                   3154.094333      1\n",
       "                   3153.991524      1\n",
       "                   3153.619898      1\n",
       "Acrux              25004.514480     1\n",
       "                   25004.094559     1\n",
       "                   25004.062565     1\n",
       "                   25003.596442     1\n",
       "                   25003.204340     1\n",
       "                   25002.574738     1\n",
       "                   25002.451305     1\n",
       "                   25001.973790     1\n",
       "                   25001.511999     1\n",
       "                   25001.439696     1\n",
       "                   25001.131959     1\n",
       "                   25000.424960     1\n",
       "                   25000.378673     1\n",
       "                   25000.175524     1\n",
       "                   24999.998219     1\n",
       "                   24999.882212     1\n",
       "Aldebaran          519.337232       1\n",
       "                   518.712049       1\n",
       "                   518.671200       1\n",
       "                   517.379336       1\n",
       "                   516.787416       1\n",
       "                   516.541222       1\n",
       "                   515.954299       1\n",
       "                   515.916145       1\n",
       "                   515.883144       1\n",
       "                   515.388477       1\n",
       "                   514.814824       1\n",
       "                   514.394038       1\n",
       "                   513.802473       1\n",
       "Acrux              25004.963251     1\n",
       "                   25004.818724     1\n",
       "                   25004.660143     1\n",
       "Alnilam            53697.717502     1\n",
       "                   53697.570906     1\n",
       "                   53697.142960     1\n",
       "                   53696.713104     1\n",
       "                   53696.046872     1\n",
       "                   53695.971759     1\n",
       "                   53695.721651     1\n",
       "                   53695.577226     1\n",
       "                   53695.463420     1\n",
       "                   53695.258770     1\n",
       "                   53695.108958     1\n",
       "Aldebaran          522.163163       1\n",
       "                   521.834776       1\n",
       "                   521.724479       1\n",
       "                   520.833069       1\n",
       "                   519.575525       1\n",
       "Alnilam            53702.761967     1\n",
       "                   53702.724724     1\n",
       "                   53702.063495     1\n",
       "                   53701.727754     1\n",
       "                   53701.629607     1\n",
       "                   53701.239086     1\n",
       "                   53700.915273     1\n",
       "                   53700.347634     1\n",
       "                   53700.313322     1\n",
       "                   53700.100064     1\n",
       "                   53700.024456     1\n",
       "                   53699.796947     1\n",
       "                   53698.854158     1\n",
       "                   53698.690915     1\n",
       "                   53698.491214     1\n",
       "                   53698.010636     1\n",
       "Alpha Centauri B  -2.598882         1\n",
       "                  -2.897159         1\n",
       "                  -3.297188         1\n",
       "                  -3.312681         1\n",
       "                  -3.801803         1\n",
       "                  -3.850902         1\n",
       "                  -4.549088         1\n",
       "Alnilam            53704.645711     1\n",
       "                   53704.550222     1\n",
       "                   53704.238070     1\n",
       "                   53704.098589     1\n",
       "                   53703.811722     1\n",
       "                   53703.682324     1\n",
       "                   53703.284563     1\n",
       "                   53702.880731     1\n",
       "                   53702.788267     1\n",
       "Alpha Centauri B   5.437406         1\n",
       "                   4.695040         1\n",
       "                   4.336678         1\n",
       "                   4.036718         1\n",
       "                   3.683968         1\n",
       "                   3.150213         1\n",
       "                   3.037717         1\n",
       "                   2.379878         1\n",
       "                   0.953966         1\n",
       "                   0.791047         1\n",
       "                   0.721429         1\n",
       "                  -0.194870         1\n",
       "                  -1.764617         1\n",
       "                  -1.867504         1\n",
       "                  -2.182645         1\n",
       "                  -2.512424         1\n",
       "Altair             7.453788         1\n",
       "                   7.394939         1\n",
       "                   7.297870         1\n",
       "                   7.079212         1\n",
       "                   7.001586         1\n",
       "                   6.975772         1\n",
       "                   6.884996         1\n",
       "                   6.616855         1\n",
       "                   6.046501         1\n",
       "                   5.998471         1\n",
       "                   5.997889         1\n",
       "                   5.933266         1\n",
       "                   5.905362         1\n",
       "                   5.862809         1\n",
       "                   5.689355         1\n",
       "Alpha Centauri B   5.439103         1\n",
       "Altair             9.796254         1\n",
       "                   9.747816         1\n",
       "                   9.554276         1\n",
       "                   9.448611         1\n",
       "                   9.420448         1\n",
       "                   8.978259         1\n",
       "                   8.864437         1\n",
       "                   8.344845         1\n",
       "                   8.305907         1\n",
       "                   8.298348         1\n",
       "                   7.967578         1\n",
       "                   7.948794         1\n",
       "                   7.834659         1\n",
       "                   7.755496         1\n",
       "                   7.660100         1\n",
       "                   7.518899         1\n",
       "                   11.602180        1\n",
       "                   11.204367        1\n",
       "                   11.105627        1\n",
       "                   10.994983        1\n",
       "                   10.780866        1\n",
       "                   10.654505        1\n",
       "                   10.481826        1\n",
       "                   10.457079        1\n",
       "                   10.391013        1\n",
       "                   10.378557        1\n",
       "                   10.124008        1\n",
       "                   10.100106        1\n",
       "                   10.045330        1\n",
       "                   10.000669        1\n",
       "                   9.979192         1\n",
       "                   9.844031         1\n",
       "                   13.816754        1\n",
       "                   13.804523        1\n",
       "                   13.765521        1\n",
       "                   13.692070        1\n",
       "                   13.659401        1\n",
       "                   12.877132        1\n",
       "                   12.845622        1\n",
       "                   12.700496        1\n",
       "                   12.635282        1\n",
       "                   12.402581        1\n",
       "                   12.344819        1\n",
       "                   12.098291        1\n",
       "                   11.923057        1\n",
       "                   11.776187        1\n",
       "                   11.676241        1\n",
       "                   11.624212        1\n",
       "Antares            9996.784007      1\n",
       "                   9996.691025      1\n",
       "                   9996.300623      1\n",
       "                   9995.999325      1\n",
       "                   9995.650236      1\n",
       "Altair             15.509654        1\n",
       "                   15.008535        1\n",
       "                   14.955319        1\n",
       "                   14.705711        1\n",
       "                   14.701676        1\n",
       "                   14.591181        1\n",
       "                   14.390176        1\n",
       "                   14.245028        1\n",
       "                   13.984384        1\n",
       "                   13.936623        1\n",
       "                   13.846836        1\n",
       "Antares            10003.583240     1\n",
       "                   10003.242024     1\n",
       "                   10003.064239     1\n",
       "                   10002.393406     1\n",
       "                   10001.944640     1\n",
       "                   10001.257064     1\n",
       "                   10001.124556     1\n",
       "                   10001.091528     1\n",
       "                   10000.569395     1\n",
       "                   10000.229128     1\n",
       "                   9999.116102      1\n",
       "                   9998.673327      1\n",
       "                   9998.226736      1\n",
       "                   9997.611310      1\n",
       "                   9997.105347      1\n",
       "                   9997.044095      1\n",
       "Arcturus           169.033681       1\n",
       "                   167.965490       1\n",
       "                   167.952864       1\n",
       "                   167.898695       1\n",
       "                   167.679680       1\n",
       "                   167.577704       1\n",
       "                   166.922166       1\n",
       "                   166.154445       1\n",
       "                   165.959137       1\n",
       "                   165.821952       1\n",
       "                   165.743666       1\n",
       "Antares            10004.888893     1\n",
       "                   10004.657720     1\n",
       "                   10004.598267     1\n",
       "                   10004.217631     1\n",
       "                   10003.850363     1\n",
       "Arcturus           172.627209       1\n",
       "                   172.011755       1\n",
       "                   171.138425       1\n",
       "                   171.105676       1\n",
       "                   171.089942       1\n",
       "                   171.065238       1\n",
       "                   170.483409       1\n",
       "                   170.392606       1\n",
       "                   170.201576       1\n",
       "                   170.045414       1\n",
       "                   169.661029       1\n",
       "                   169.519420       1\n",
       "                   169.475695       1\n",
       "                   169.234543       1\n",
       "                   169.174102       1\n",
       "                   169.134513       1\n",
       "Barnard's Star    -4.202962         1\n",
       "                  -4.366184         1\n",
       "                  -4.382996         1\n",
       "                  -4.612504         1\n",
       "                  -4.630583         1\n",
       "Arcturus           174.733292       1\n",
       "                   174.502247       1\n",
       "                   174.472621       1\n",
       "                   174.126792       1\n",
       "                   174.011003       1\n",
       "                   173.917353       1\n",
       "                   173.392963       1\n",
       "                   173.118654       1\n",
       "                   173.085282       1\n",
       "                   172.842833       1\n",
       "                   172.628351       1\n",
       "Barnard's Star    -0.123944         1\n",
       "                  -0.603704         1\n",
       "                  -0.690555         1\n",
       "                  -0.968492         1\n",
       "                  -1.241340         1\n",
       "                  -1.284094         1\n",
       "                  -1.426137         1\n",
       "                  -1.496486         1\n",
       "                  -1.947614         1\n",
       "                  -2.107158         1\n",
       "                  -2.186897         1\n",
       "                  -2.245814         1\n",
       "                  -3.172254         1\n",
       "                  -3.211389         1\n",
       "                  -3.330310         1\n",
       "                  -3.458955         1\n",
       "                   4.893716         1\n",
       "                   4.492662         1\n",
       "                   4.339781         1\n",
       "                   4.261529         1\n",
       "                   3.922475         1\n",
       "                   3.776002         1\n",
       "                   3.630472         1\n",
       "                   3.443944         1\n",
       "                   3.219269         1\n",
       "                   3.101682         1\n",
       "                   2.784927         1\n",
       "                   2.205629         1\n",
       "                   1.517268         1\n",
       "                   1.224627         1\n",
       "                   0.578286         1\n",
       "                   0.552562         1\n",
       "Bellatrix          6399.167734      1\n",
       "                   6398.706400      1\n",
       "                   6398.615401      1\n",
       "                   6398.402468      1\n",
       "                   6397.660532      1\n",
       "                   6397.415458      1\n",
       "                   6397.123276      1\n",
       "                   6397.114822      1\n",
       "                   6397.076712      1\n",
       "                   6397.020159      1\n",
       "                   6396.904485      1\n",
       "                   6396.460554      1\n",
       "                   6396.281240      1\n",
       "                   6395.945729      1\n",
       "                   6395.265173      1\n",
       "Barnard's Star     4.956944         1\n",
       "Bellatrix          6403.267170      1\n",
       "                   6402.769655      1\n",
       "                   6402.532053      1\n",
       "                   6401.703523      1\n",
       "                   6401.595201      1\n",
       "                   6401.369852      1\n",
       "                   6401.125654      1\n",
       "                   6401.015853      1\n",
       "                   6400.714790      1\n",
       "                   6400.687653      1\n",
       "                   6400.473393      1\n",
       "                   6400.468603      1\n",
       "                   6400.045563      1\n",
       "                   6399.860708      1\n",
       "                   6399.823852      1\n",
       "                   6399.344000      1\n",
       "Betelgeuse         125998.070974    1\n",
       "                   125997.821938    1\n",
       "                   125997.209100    1\n",
       "                   125996.533517    1\n",
       "                   125996.399822    1\n",
       "                   125996.078990    1\n",
       "                   125995.740185    1\n",
       "                   125995.415182    1\n",
       "                   125995.182672    1\n",
       "                   125995.073259    1\n",
       "Bellatrix          6404.804362      1\n",
       "                   6403.986083      1\n",
       "                   6403.889347      1\n",
       "                   6403.880676      1\n",
       "                   6403.603919      1\n",
       "                   6403.480527      1\n",
       "Betelgeuse         126001.746862    1\n",
       "                   126001.695091    1\n",
       "                   126001.595265    1\n",
       "                   126001.053241    1\n",
       "                   126000.914260    1\n",
       "                   126000.790959    1\n",
       "                   126000.703935    1\n",
       "                   126000.567046    1\n",
       "                   126000.101505    1\n",
       "                   125999.937680    1\n",
       "                   125999.823016    1\n",
       "                   125999.705849    1\n",
       "                   125999.465543    1\n",
       "                   125998.595097    1\n",
       "                   125998.302835    1\n",
       "                   125998.158110    1\n",
       "                   126004.684696    1\n",
       "                   126004.556730    1\n",
       "                   126004.330115    1\n",
       "                   126004.178046    1\n",
       "                   126003.923585    1\n",
       "                   126003.579411    1\n",
       "                   126003.277178    1\n",
       "                   126002.959582    1\n",
       "                   126002.764846    1\n",
       "                   126002.669831    1\n",
       "                   126002.638137    1\n",
       "                   126002.555803    1\n",
       "                   126002.121389    1\n",
       "                   126002.019387    1\n",
       "                   126001.975932    1\n",
       "                   126001.850357    1\n",
       "Canopus            10497.817757     1\n",
       "                   10497.613821     1\n",
       "                   10497.374642     1\n",
       "                   10497.145991     1\n",
       "                   10496.598466     1\n",
       "                   10496.355537     1\n",
       "                   10496.344181     1\n",
       "                   10496.179326     1\n",
       "                   10496.109676     1\n",
       "                   10496.030200     1\n",
       "                   10495.918761     1\n",
       "                   10495.782503     1\n",
       "                   10495.295033     1\n",
       "                   10495.060417     1\n",
       "Betelgeuse         126004.907815    1\n",
       "                   126004.806521    1\n",
       "Canopus            10500.987580     1\n",
       "                   10500.971727     1\n",
       "                   10500.701090     1\n",
       "                   10500.535792     1\n",
       "                   10500.304364     1\n",
       "                   10500.157515     1\n",
       "                   10500.111324     1\n",
       "                   10500.052905     1\n",
       "                   10499.979018     1\n",
       "                   10499.900138     1\n",
       "                   10499.855075     1\n",
       "                   10499.697005     1\n",
       "                   10499.655074     1\n",
       "                   10499.510031     1\n",
       "                   10499.156949     1\n",
       "                   10497.838208     1\n",
       "                   10504.519240     1\n",
       "                   10504.380310     1\n",
       "                   10504.274063     1\n",
       "                   10504.088260     1\n",
       "                   10504.045242     1\n",
       "                   10503.548510     1\n",
       "                   10503.437169     1\n",
       "                   10503.310302     1\n",
       "                   10502.983511     1\n",
       "                   10502.614220     1\n",
       "                   10502.148873     1\n",
       "                   10501.834765     1\n",
       "                   10501.356418     1\n",
       "                   10501.328054     1\n",
       "                   10501.282994     1\n",
       "                   10501.168802     1\n",
       "Capella            78.467868        1\n",
       "                   78.428064        1\n",
       "                   78.159285        1\n",
       "                   77.899964        1\n",
       "                   77.741979        1\n",
       "                   77.466547        1\n",
       "                   76.753975        1\n",
       "                   76.531377        1\n",
       "                   75.852046        1\n",
       "                   75.665653        1\n",
       "                   74.823246        1\n",
       "                   74.589870        1\n",
       "                   74.308424        1\n",
       "                   73.794465        1\n",
       "Canopus            10504.654048     1\n",
       "                   10504.636229     1\n",
       "Capella            81.331874        1\n",
       "                   81.289074        1\n",
       "                   80.956481        1\n",
       "                   80.735908        1\n",
       "                   80.556100        1\n",
       "                   80.536114        1\n",
       "                   80.318934        1\n",
       "                   80.156218        1\n",
       "                   79.811766        1\n",
       "                   79.438656        1\n",
       "                   79.251355        1\n",
       "                   79.236390        1\n",
       "                   78.998886        1\n",
       "                   78.782595        1\n",
       "                   78.626162        1\n",
       "                   78.477587        1\n",
       "Castor             51.988033        1\n",
       "                   51.875004        1\n",
       "                   51.510819        1\n",
       "                   50.973168        1\n",
       "                   50.927863        1\n",
       "                   50.774583        1\n",
       "                   50.441412        1\n",
       "Capella            83.532136        1\n",
       "                   82.800475        1\n",
       "                   82.714230        1\n",
       "                   82.181796        1\n",
       "                   82.128008        1\n",
       "                   81.975418        1\n",
       "                   81.768509        1\n",
       "                   81.732078        1\n",
       "                   81.668975        1\n",
       "Castor             56.219924        1\n",
       "                   55.540035        1\n",
       "                   55.151385        1\n",
       "                   54.099527        1\n",
       "                   54.098680        1\n",
       "                   53.895187        1\n",
       "                   53.777560        1\n",
       "                   53.548360        1\n",
       "                   53.420925        1\n",
       "                   53.151036        1\n",
       "                   52.949967        1\n",
       "                   52.942817        1\n",
       "                   52.552392        1\n",
       "                   52.464602        1\n",
       "                   52.385291        1\n",
       "                   52.029091        1\n",
       "                   59.933642        1\n",
       "                   59.507991        1\n",
       "                   59.275553        1\n",
       "                   59.204882        1\n",
       "                   59.035587        1\n",
       "                   58.302495        1\n",
       "                   58.004812        1\n",
       "                   57.749109        1\n",
       "                   57.726940        1\n",
       "                   57.564078        1\n",
       "                   57.522388        1\n",
       "                   57.406140        1\n",
       "                   57.401302        1\n",
       "                   56.683555        1\n",
       "                   56.548507        1\n",
       "                   56.467827        1\n",
       "Deneb              196001.271260    1\n",
       "                   196000.737766    1\n",
       "                   196000.711311    1\n",
       "                   196000.601933    1\n",
       "                   195999.368180    1\n",
       "                   195998.904137    1\n",
       "                   195998.678674    1\n",
       "                   195998.320084    1\n",
       "                   195997.377312    1\n",
       "                   195997.224026    1\n",
       "                   195996.936393    1\n",
       "                   195996.442778    1\n",
       "                   195996.365363    1\n",
       "                   195995.588732    1\n",
       "                   195995.447483    1\n",
       "                   195995.099218    1\n",
       "Fomalhaut          15.012058        1\n",
       "                   13.958971        1\n",
       "                   13.703942        1\n",
       "                   13.070028        1\n",
       "                   13.002826        1\n",
       "                   12.761777        1\n",
       "                   12.367105        1\n",
       "Deneb              196004.854081    1\n",
       "                   196004.342401    1\n",
       "                   196003.734874    1\n",
       "                   196003.524624    1\n",
       "                   196002.778310    1\n",
       "                   196002.627856    1\n",
       "                   196002.047522    1\n",
       "                   196001.993837    1\n",
       "                   196001.818288    1\n",
       "Fomalhaut          19.078458        1\n",
       "                   19.023125        1\n",
       "                   18.947503        1\n",
       "                   18.722897        1\n",
       "                   18.708421        1\n",
       "                   18.072115        1\n",
       "                   17.721002        1\n",
       "                   17.659083        1\n",
       "                   16.742595        1\n",
       "                   16.575587        1\n",
       "                   16.135837        1\n",
       "                   15.872779        1\n",
       "                   15.639550        1\n",
       "                   15.593329        1\n",
       "                   15.472855        1\n",
       "                   15.016026        1\n",
       "Hadar              49995.776344     1\n",
       "                   49995.770381     1\n",
       "                   49995.749619     1\n",
       "                   49995.726695     1\n",
       "                   49995.691816     1\n",
       "                   49995.662558     1\n",
       "                   49995.528986     1\n",
       "                   49995.528304     1\n",
       "Fomalhaut          21.436023        1\n",
       "                   21.015848        1\n",
       "                   20.863466        1\n",
       "                   20.805224        1\n",
       "                   20.469150        1\n",
       "                   19.653662        1\n",
       "                   19.314803        1\n",
       "                   19.240019        1\n",
       "Hadar              50000.693040     1\n",
       "                   50000.281669     1\n",
       "                   49999.830353     1\n",
       "                   49999.436214     1\n",
       "                   49999.058015     1\n",
       "                   49998.718286     1\n",
       "                   49998.338389     1\n",
       "                   49998.069527     1\n",
       "                   49997.883639     1\n",
       "                   49997.805725     1\n",
       "                   49997.506591     1\n",
       "                   49997.251394     1\n",
       "                   49997.021367     1\n",
       "                   49996.936060     1\n",
       "                   49996.408084     1\n",
       "                   49995.847809     1\n",
       "                   50003.437435     1\n",
       "                   50003.298606     1\n",
       "                   50003.184458     1\n",
       "                   50002.885001     1\n",
       "                   50002.654896     1\n",
       "                   50002.603893     1\n",
       "                   50002.534526     1\n",
       "                   50002.194257     1\n",
       "                   50002.064659     1\n",
       "                   50001.855266     1\n",
       "                   50001.545619     1\n",
       "                   50001.515338     1\n",
       "                   50001.308489     1\n",
       "                   50001.208946     1\n",
       "                   50001.103952     1\n",
       "                   50000.756330     1\n",
       "Lalande 21185     -0.938189         1\n",
       "                  -1.018409         1\n",
       "                  -1.028154         1\n",
       "                  -1.495380         1\n",
       "                  -1.528761         1\n",
       "                  -1.642021         1\n",
       "                  -1.982318         1\n",
       "                  -2.730811         1\n",
       "                  -2.808370         1\n",
       "                  -3.116117         1\n",
       "                  -4.850542         1\n",
       "Hadar              50004.948951     1\n",
       "                   50004.815879     1\n",
       "                   50004.780639     1\n",
       "                   50003.865646     1\n",
       "                   50003.560167     1\n",
       "Lalande 21185      4.786238         1\n",
       "                   4.389365         1\n",
       "                   4.295887         1\n",
       "                   4.276646         1\n",
       "                   3.948917         1\n",
       "                   3.354701         1\n",
       "                   3.255451         1\n",
       "                   2.900090         1\n",
       "                   2.681120         1\n",
       "                   2.643371         1\n",
       "                   1.803850         1\n",
       "                   1.557075         1\n",
       "                   0.966120         1\n",
       "                   0.930615         1\n",
       "                   0.406679         1\n",
       "                  -0.638258         1\n",
       "Mira               8699.480337      1\n",
       "                   8699.459630      1\n",
       "                   8699.413953      1\n",
       "                   8698.967658      1\n",
       "                   8698.681151      1\n",
       "                   8698.019963      1\n",
       "                   8697.873320      1\n",
       "                   8697.785041      1\n",
       "                   8697.641481      1\n",
       "                   8697.462717      1\n",
       "                   8695.765422      1\n",
       "                   8695.589846      1\n",
       "                   8695.339912      1\n",
       "                   8695.285930      1\n",
       "                   8695.237869      1\n",
       "                   8695.087925      1\n",
       "                   8702.983016      1\n",
       "                   8702.919446      1\n",
       "                   8702.898481      1\n",
       "                   8702.813861      1\n",
       "                   8702.747825      1\n",
       "                   8702.628166      1\n",
       "                   8702.202834      1\n",
       "                   8701.972675      1\n",
       "                   8701.822618      1\n",
       "                   8701.315925      1\n",
       "                   8701.197586      1\n",
       "                   8700.674612      1\n",
       "                   8700.567411      1\n",
       "                   8700.111885      1\n",
       "                   8700.068257      1\n",
       "                   8699.858563      1\n",
       "Polaris            2197.757467      1\n",
       "                   2197.484655      1\n",
       "                   2197.457994      1\n",
       "                   2197.339351      1\n",
       "                   2196.241934      1\n",
       "                   2196.226916      1\n",
       "                   2196.099265      1\n",
       "                   2195.186971      1\n",
       "                   2195.067221      1\n",
       "                   2195.050035      1\n",
       "                   2195.008536      1\n",
       "Mira               8704.780650      1\n",
       "                   8704.185432      1\n",
       "                   8704.173393      1\n",
       "                   8704.120456      1\n",
       "                   8703.371449      1\n",
       "Polaris            2203.005804      1\n",
       "                   2202.925953      1\n",
       "                   2202.748591      1\n",
       "                   2202.453954      1\n",
       "                   2202.304505      1\n",
       "                   2202.271429      1\n",
       "                   2202.003328      1\n",
       "                   2201.614559      1\n",
       "                   2201.568276      1\n",
       "                   2201.189534      1\n",
       "                   2200.884555      1\n",
       "                   2199.635236      1\n",
       "                   2199.089388      1\n",
       "                   2198.722890      1\n",
       "                   2198.194030      1\n",
       "                   2198.062243      1\n",
       "Procyon            4.578402         1\n",
       "                   4.568259         1\n",
       "                   4.454009         1\n",
       "                   4.204794         1\n",
       "                   4.084635         1\n",
       "                   4.046193         1\n",
       "                   3.939341         1\n",
       "                   3.161935         1\n",
       "Polaris            2204.974152      1\n",
       "                   2204.774413      1\n",
       "                   2204.373103      1\n",
       "                   2204.140987      1\n",
       "                   2203.945872      1\n",
       "                   2203.512057      1\n",
       "                   2203.214693      1\n",
       "                   2203.051863      1\n",
       "Procyon            11.111696        1\n",
       "                   11.098919        1\n",
       "                   11.034531        1\n",
       "                   10.772367        1\n",
       "                   10.449553        1\n",
       "                   10.415498        1\n",
       "                   10.356550        1\n",
       "                   9.344710         1\n",
       "                   9.101577         1\n",
       "                   8.573241         1\n",
       "                   8.557846         1\n",
       "                   7.100257         1\n",
       "                   6.549661         1\n",
       "                   5.556791         1\n",
       "                   4.935288         1\n",
       "                   4.769496         1\n",
       "Regulus            287.594294       1\n",
       "                   287.247241       1\n",
       "                   286.900263       1\n",
       "                   286.126220       1\n",
       "                   284.611318       1\n",
       "                   284.307584       1\n",
       "                   284.013158       1\n",
       "                   283.801233       1\n",
       "                   283.331307       1\n",
       "                   283.151843       1\n",
       "Procyon            12.218862        1\n",
       "                   11.923796        1\n",
       "                   11.684858        1\n",
       "                   11.483008        1\n",
       "                   11.179784        1\n",
       "                   11.127636        1\n",
       "Regulus            292.777139       1\n",
       "                   292.293094       1\n",
       "                   291.897969       1\n",
       "                   291.624202       1\n",
       "                   291.538088       1\n",
       "                   291.319877       1\n",
       "                   291.231016       1\n",
       "                   291.105604       1\n",
       "                   290.753428       1\n",
       "                   290.700250       1\n",
       "                   290.581027       1\n",
       "                   290.367908       1\n",
       "                   289.649445       1\n",
       "                   289.349881       1\n",
       "                   289.104680       1\n",
       "                   288.348038       1\n",
       "Rigel              120004.134951    1\n",
       "                   120002.145312    1\n",
       "                   120001.176533    1\n",
       "                   120000.671435    1\n",
       "                   120000.520311    1\n",
       "                   120000.071315    1\n",
       "                   119999.157958    1\n",
       "                   119998.911592    1\n",
       "                   119998.622991    1\n",
       "                   119998.581997    1\n",
       "                   119998.513928    1\n",
       "                   119996.415515    1\n",
       "                   119995.968836    1\n",
       "                   119995.896408    1\n",
       "                   119995.728028    1\n",
       "                   119995.558672    1\n",
       "Rigil Kentaurus    1.062298         1\n",
       "                   0.482073         1\n",
       "                   0.305073         1\n",
       "                   0.275721         1\n",
       "                   0.264410         1\n",
       "                   0.262056         1\n",
       "                   0.151097         1\n",
       "                   0.124993         1\n",
       "                  -0.886571         1\n",
       "                  -1.162515         1\n",
       "                  -1.300643         1\n",
       "                  -1.461878         1\n",
       "                  -2.119236         1\n",
       "                  -2.702275         1\n",
       "                  -3.409764         1\n",
       "Rigel              120004.722830    1\n",
       "Rigil Kentaurus    5.317357         1\n",
       "                   5.091763         1\n",
       "                   5.004726         1\n",
       "                   4.719481         1\n",
       "                   4.520953         1\n",
       "                   4.237437         1\n",
       "                   4.099369         1\n",
       "                   3.343284         1\n",
       "                   3.255889         1\n",
       "                   2.899348         1\n",
       "                   2.757814         1\n",
       "                   2.729759         1\n",
       "                   2.046545         1\n",
       "                   2.040615         1\n",
       "                   1.626552         1\n",
       "                   1.505516         1\n",
       "Ross 154          -3.105421         1\n",
       "                  -3.391034         1\n",
       "                  -3.572032         1\n",
       "                  -3.647141         1\n",
       "                  -3.719699         1\n",
       "                  -3.802993         1\n",
       "                  -3.867374         1\n",
       "                  -4.258300         1\n",
       "                  -4.321045         1\n",
       "                  -4.657914         1\n",
       "                  -4.904825         1\n",
       "Rigil Kentaurus    6.496998         1\n",
       "                   6.221479         1\n",
       "                   6.022386         1\n",
       "                   5.469163         1\n",
       "                   5.414416         1\n",
       "Ross 154           0.661848         1\n",
       "                   0.232251         1\n",
       "                   0.036707         1\n",
       "                  -0.136640         1\n",
       "                  -0.166358         1\n",
       "                  -0.225965         1\n",
       "                  -0.262213         1\n",
       "                  -0.575855         1\n",
       "                  -1.214128         1\n",
       "                  -1.754888         1\n",
       "                  -1.757407         1\n",
       "                  -1.872245         1\n",
       "                  -1.989756         1\n",
       "                  -2.101628         1\n",
       "                  -2.197465         1\n",
       "                  -2.891394         1\n",
       "                   4.882884         1\n",
       "                   4.825137         1\n",
       "                   4.593224         1\n",
       "                   4.204083         1\n",
       "                   4.002523         1\n",
       "                   3.743348         1\n",
       "                   3.555811         1\n",
       "                   3.220604         1\n",
       "                   2.567655         1\n",
       "                   2.325661         1\n",
       "                   2.188663         1\n",
       "                   1.562948         1\n",
       "                   1.316545         1\n",
       "                   1.297217         1\n",
       "                   1.127222         1\n",
       "                   1.116188         1\n",
       "Sirius             24.461618        1\n",
       "                   24.170119        1\n",
       "                   23.937962        1\n",
       "                   23.776853        1\n",
       "                   23.565768        1\n",
       "                   23.405388        1\n",
       "                   23.052796        1\n",
       "                   23.018883        1\n",
       "                   22.572764        1\n",
       "                   21.885734        1\n",
       "                   21.835288        1\n",
       "                   21.657048        1\n",
       "                   21.290730        1\n",
       "                   20.848040        1\n",
       "Ross 154           4.995795         1\n",
       "                   4.972744         1\n",
       "Sirius             29.618484        1\n",
       "                   29.618064        1\n",
       "                   29.163574        1\n",
       "                   28.842978        1\n",
       "                   28.766218        1\n",
       "                   28.426852        1\n",
       "                   28.370755        1\n",
       "                   27.883155        1\n",
       "                   27.612291        1\n",
       "                   27.290896        1\n",
       "                   27.268082        1\n",
       "                   26.458827        1\n",
       "                   26.254899        1\n",
       "                   25.625363        1\n",
       "                   25.384186        1\n",
       "                   25.317214        1\n",
       "Spica              21999.440257     1\n",
       "                   21998.653500     1\n",
       "                   21998.184803     1\n",
       "                   21997.980595     1\n",
       "                   21997.467782     1\n",
       "                   21997.275141     1\n",
       "                   21996.342338     1\n",
       "                   21996.281908     1\n",
       "                   21995.941108     1\n",
       "                   21995.883723     1\n",
       "                   21995.518330     1\n",
       "                   21995.249403     1\n",
       "Sirius             30.363212        1\n",
       "                   29.994667        1\n",
       "                   29.685053        1\n",
       "                   29.619565        1\n",
       "Spica              22003.593457     1\n",
       "                   22003.006083     1\n",
       "                   22002.946770     1\n",
       "                   22002.935831     1\n",
       "                   22002.814935     1\n",
       "                   22002.012842     1\n",
       "                   22001.578767     1\n",
       "                   22001.029515     1\n",
       "                   22000.991539     1\n",
       "                   22000.712539     1\n",
       "                   22000.379541     1\n",
       "                   22000.294091     1\n",
       "                   22000.264676     1\n",
       "                   21999.873328     1\n",
       "                   21999.578519     1\n",
       "                   21999.508808     1\n",
       "Vega               40.515481        1\n",
       "                   39.769434        1\n",
       "                   38.832271        1\n",
       "                   38.236535        1\n",
       "                   38.189066        1\n",
       "                   38.008914        1\n",
       "                   37.541718        1\n",
       "                   36.159276        1\n",
       "                   35.693487        1\n",
       "                   35.637090        1\n",
       "                   35.271531        1\n",
       "                   35.238722        1\n",
       "Spica              22004.594797     1\n",
       "                   22004.512851     1\n",
       "                   22004.270594     1\n",
       "                   22003.822501     1\n",
       "Vega               43.364775        1\n",
       "                   43.235487        1\n",
       "                   43.213334        1\n",
       "                   43.204180        1\n",
       "                   43.181655        1\n",
       "                   43.143005        1\n",
       "                   42.619167        1\n",
       "                   42.580739        1\n",
       "                   42.416157        1\n",
       "                   42.208650        1\n",
       "                   41.948837        1\n",
       "                   41.897633        1\n",
       "                   41.842432        1\n",
       "                   41.610427        1\n",
       "                   41.495368        1\n",
       "                   40.700304        1\n",
       "Achernar           3147.427280      1\n",
       "Wolf 359           4.649197         1\n",
       "                   4.371105         1\n",
       "                   3.936432         1\n",
       "                   3.518165         1\n",
       "                   3.484205         1\n",
       "                   3.143583         1\n",
       "                   2.266088         1\n",
       "                   1.235204         1\n",
       "                   0.244504         1\n",
       "                  -0.523752         1\n",
       "                  -1.563248         1\n",
       "                  -2.350003         1\n",
       "                  -2.548241         1\n",
       "                  -2.699303         1\n",
       "                  -4.305229         1\n",
       "Achernar           3153.448869      1\n",
       "                   3153.375674      1\n",
       "                   3151.380063      1\n",
       "                   3151.110906      1\n",
       "                   3151.068660      1\n",
       "                   3150.941261      1\n",
       "                   3150.683862      1\n",
       "                   3150.417786      1\n",
       "                   3150.176564      1\n",
       "                   3149.584717      1\n",
       "                   3149.125520      1\n",
       "                   3149.043659      1\n",
       "                   3148.560877      1\n",
       "                   3148.316089      1\n",
       "                   3147.710568      1\n",
       "                   3147.519403      1\n",
       "Name: count, dtype: int64"
      ]
     },
     "execution_count": 45,
     "metadata": {},
     "output_type": "execute_result"
    }
   ],
   "source": [
    "# lets check out Luminosity column with respect to Name column: \n",
    "df.groupby('Name')['Luminosity'].value_counts().sort_values(ascending=False)"
   ]
  },
  {
   "cell_type": "code",
   "execution_count": 39,
   "metadata": {},
   "outputs": [
    {
     "data": {
      "image/png": "[encoded data removed]",
      "text/plain": [
       "<Figure size 1200x900 with 1 Axes>"
      ]
     },
     "metadata": {},
     "output_type": "display_data"
    }
   ],
   "source": [
    "# lets make histogram of Luminosity column with respect to Name column using matplotlib:\n",
    "\n",
    "plt.figure(figsize=(12, 9))\n",
    "plt.hist(df['Luminosity'], bins=20, color='gold')\n",
    "plt.title(\"Histogram of Luminosity column\")\n",
    "plt.xlabel(\"Luminosity\")\n",
    "plt.ylabel(\"Frequency\")\n",
    "plt.show()"
   ]
  },
  {
   "cell_type": "code",
   "execution_count": 40,
   "metadata": {},
   "outputs": [
    {
     "data": {
      "image/png": "[encoded data removed]",
      "text/plain": [
       "<Figure size 2000x1400 with 1 Axes>"
      ]
     },
     "metadata": {},
     "output_type": "display_data"
    }
   ],
   "source": [
    "# lets make a histogram of `Luminosity` column with respect to `Name` column using seaborn:\n",
    "\n",
    "plt.figure(figsize=(20, 14))\n",
    "sns.histplot(df, x='Luminosity', hue='Name', kde=True, color='gold')\n",
    "plt.title(\"Histogram of Luminosity with respect to Name\")\n",
    "plt.xlabel(\"Luminosity\")\n",
    "plt.ylabel(\"Frequency\")\n",
    "plt.show()"
   ]
  },
  {
   "cell_type": "code",
   "execution_count": 41,
   "metadata": {},
   "outputs": [
    {
     "data": {
      "application/vnd.plotly.v1+json": {
       "config": {
        "plotlyServerURL": "https://plot.ly"
       },
       "data": [
        {
         "alignmentgroup": "True",
         "bingroup": "x",
         "hovertemplate": "Name=Altair<br>Luminosity=%{x}<br>count=%{y}<extra></extra>",
         "legendgroup": "Altair",
         "marker": {
          "color": "#636efa",
          "pattern": {
           "shape": ""
          }
         },
         "name": "Altair",
         "offsetgroup": "Altair",
         "orientation": "v",
         "showlegend": true,
         "type": "histogram",
         "x": [
          9.979192445462427,
          10.45707878952248,
          8.978258642897934,
          10.654505105436735,
          15.509653584166164,
          7.001586190285418,
          7.967577662722815,
          14.591181440400176,
          7.453787627075437,
          13.984383744732718,
          5.93326550747497,
          11.923057499670024,
          9.420447881017374,
          5.9053618375213,
          13.81675388246157,
          7.660100373406077,
          14.245027690727095,
          9.448611058586202,
          6.6168551339155055,
          13.692070293109474,
          12.700496302235546,
          10.12400801898782,
          7.5188985941992765,
          6.046501288662712,
          5.99788943061886,
          7.755495987710255,
          11.10562694107954,
          13.936622867381304,
          9.796254335014924,
          10.780866248875247,
          11.624212298411338,
          10.481825565277513,
          10.045330164781657,
          10.994983045438705,
          7.297870303573438,
          9.844031209497734,
          12.09829147440001,
          13.80452322428447,
          12.635282043125049,
          10.37855747391968,
          13.76552132295723,
          7.07921158123882,
          11.204367428023977,
          14.955319493691704,
          12.877132083863422,
          10.000669193136112,
          8.305906773624343,
          13.8468363143854,
          8.864437316819597,
          12.344819495591512,
          9.747816453214009,
          5.862808829513872,
          11.676240801306768,
          8.298347815555948,
          13.65940052736991,
          10.10010584380826,
          7.394938938729514,
          7.834658999592028,
          14.701676306464837,
          6.884995985017756,
          7.948793884207701,
          14.390175657466854,
          14.705710668003098,
          8.34484508306073,
          12.40258131836179,
          11.60218007055768,
          5.689354655912254,
          12.845622466715568,
          9.554275564559855,
          15.00853497168282,
          6.975771781193093,
          10.39101273787362,
          5.998470578062234,
          11.776186568379096
         ],
         "xaxis": "x",
         "yaxis": "y"
        },
        {
         "alignmentgroup": "True",
         "bingroup": "x",
         "hovertemplate": "Name=Deneb<br>Luminosity=%{x}<br>count=%{y}<extra></extra>",
         "legendgroup": "Deneb",
         "marker": {
          "color": "#EF553B",
          "pattern": {
           "shape": ""
          }
         },
         "name": "Deneb",
         "offsetgroup": "Deneb",
         "orientation": "v",
         "showlegend": true,
         "type": "histogram",
         "x": [
          196002.62785575088,
          195996.44277808975,
          195998.9041368802,
          195997.22402582655,
          196001.99383714548,
          196004.85408062232,
          196000.71131056777,
          196001.81828846317,
          196003.7348740918,
          196002.77831016888,
          195999.36817978608,
          195998.6786735644,
          195996.93639287664,
          195998.3200841476,
          196003.52462449897,
          196000.6019332607,
          196004.3424013923,
          195996.36536262257,
          196002.04752224212,
          196001.2712595682,
          196000.73776624585,
          195995.5887320421,
          195995.0992175819,
          195997.37731195983,
          195995.4474828539
         ],
         "xaxis": "x",
         "yaxis": "y"
        },
        {
         "alignmentgroup": "True",
         "bingroup": "x",
         "hovertemplate": "Name=Barnard's Star<br>Luminosity=%{x}<br>count=%{y}<extra></extra>",
         "legendgroup": "Barnard's Star",
         "marker": {
          "color": "#00cc96",
          "pattern": {
           "shape": ""
          }
         },
         "name": "Barnard's Star",
         "offsetgroup": "Barnard's Star",
         "orientation": "v",
         "showlegend": true,
         "type": "histogram",
         "x": [
          4.893715684187678,
          -1.496486252327392,
          -4.612503609841812,
          3.922475110995184,
          -3.458954828068621,
          -0.6905551570802375,
          -3.3303098730228937,
          -4.202962127667188,
          -1.9476137463014969,
          -1.4261367429859866,
          2.784926734236038,
          3.1016816563223246,
          0.5782857917849586,
          3.630472409736576,
          -2.1071580871904065,
          -4.382996087407797,
          4.339780518389593,
          4.2615291791448895,
          -2.18689689184772,
          -1.2413399237183214,
          3.219268580719352,
          -0.9684916387749308,
          1.224626677565773,
          -0.1239438734321857,
          -1.2840939008158352,
          0.552561765814839,
          -2.2458142045094536,
          3.443943758367646,
          -3.2113888363806904,
          1.5172684861294066,
          -0.6037036495492716,
          -4.366184134543582,
          4.492661755525925,
          -4.630582788127063,
          2.2056294360251103,
          4.956944233778123,
          3.776002236769029,
          -3.172253923292721
         ],
         "xaxis": "x",
         "yaxis": "y"
        },
        {
         "alignmentgroup": "True",
         "bingroup": "x",
         "hovertemplate": "Name=Polaris<br>Luminosity=%{x}<br>count=%{y}<extra></extra>",
         "legendgroup": "Polaris",
         "marker": {
          "color": "#ab63fa",
          "pattern": {
           "shape": ""
          }
         },
         "name": "Polaris",
         "offsetgroup": "Polaris",
         "orientation": "v",
         "showlegend": true,
         "type": "histogram",
         "x": [
          2196.241933606857,
          2197.4846549730764,
          2202.925953103468,
          2201.18953421918,
          2197.4579935613187,
          2203.214692898426,
          2195.0085355638607,
          2197.339350822904,
          2202.3045046501984,
          2203.005803953794,
          2203.051863296195,
          2202.7485906334337,
          2198.062243311905,
          2203.945872499883,
          2198.72289037108,
          2200.8845552906755,
          2202.2714289370924,
          2204.140987050643,
          2204.9741518094293,
          2196.226916249681,
          2204.7744128785384,
          2198.194030166668,
          2199.635235827846,
          2195.067221132704,
          2195.050035386478,
          2196.0992646991317,
          2199.089387691352,
          2195.186971182001,
          2202.0033277855146,
          2203.512057055408,
          2201.6145592702355,
          2201.568275855691,
          2197.7574673579934,
          2204.3731029077067,
          2202.453953629112
         ],
         "xaxis": "x",
         "yaxis": "y"
        },
        {
         "alignmentgroup": "True",
         "bingroup": "x",
         "hovertemplate": "Name=Sirius<br>Luminosity=%{x}<br>count=%{y}<extra></extra>",
         "legendgroup": "Sirius",
         "marker": {
          "color": "#FFA15A",
          "pattern": {
           "shape": ""
          }
         },
         "name": "Sirius",
         "offsetgroup": "Sirius",
         "orientation": "v",
         "showlegend": true,
         "type": "histogram",
         "x": [
          25.62536254052454,
          27.612290603452436,
          29.685053444507503,
          30.363211555162465,
          23.018882776264523,
          25.31721426439794,
          28.76621832359772,
          24.461618038155763,
          27.883155142457618,
          29.619564748597867,
          26.254898678554596,
          23.56576836319067,
          25.384186490272075,
          29.16357398996048,
          20.84804006058376,
          27.26808229601517,
          23.40538815530837,
          28.426852478106365,
          28.84297765497225,
          21.290729913681044,
          27.29089566573881,
          21.835288048407183,
          29.99466737200932,
          22.57276367080033,
          26.458827123826996,
          29.618483550540468,
          23.77685282217612,
          29.61806382751717,
          23.052795889147824,
          21.8857341790593,
          21.65704825246408,
          23.937961722565305,
          28.370754902069887,
          24.17011927398116
         ],
         "xaxis": "x",
         "yaxis": "y"
        },
        {
         "alignmentgroup": "True",
         "bingroup": "x",
         "hovertemplate": "Name=Fomalhaut<br>Luminosity=%{x}<br>count=%{y}<extra></extra>",
         "legendgroup": "Fomalhaut",
         "marker": {
          "color": "#19d3f3",
          "pattern": {
           "shape": ""
          }
         },
         "name": "Fomalhaut",
         "offsetgroup": "Fomalhaut",
         "orientation": "v",
         "showlegend": true,
         "type": "histogram",
         "x": [
          19.314803198342823,
          20.8052240111299,
          12.761776780006509,
          19.078458000505695,
          15.012057956491532,
          20.46915048265418,
          20.863466303473007,
          18.9475032580188,
          19.023124550190577,
          15.472854803761289,
          19.240019388477,
          18.708421317411396,
          15.639550015309691,
          12.367104855009664,
          13.070027808524156,
          18.07211473917685,
          19.65366201902202,
          15.593328911780318,
          21.436023244445632,
          21.01584823433142,
          16.74259464502824,
          16.57558732704546,
          15.016026009991702,
          18.722897335306826,
          17.721002225949256,
          16.135837070261726,
          13.7039415589256,
          13.95897110941888,
          13.00282551613866,
          17.6590827182039,
          15.87277895997164
         ],
         "xaxis": "x",
         "yaxis": "y"
        },
        {
         "alignmentgroup": "True",
         "bingroup": "x",
         "hovertemplate": "Name=Capella<br>Luminosity=%{x}<br>count=%{y}<extra></extra>",
         "legendgroup": "Capella",
         "marker": {
          "color": "#FF6692",
          "pattern": {
           "shape": ""
          }
         },
         "name": "Capella",
         "offsetgroup": "Capella",
         "orientation": "v",
         "showlegend": true,
         "type": "histogram",
         "x": [
          77.46654686278187,
          76.75397466518646,
          78.47758735453107,
          80.53611367039014,
          77.7419793077256,
          80.31893393586179,
          81.73207831773567,
          78.6261618921119,
          78.15928520691827,
          82.18179589209237,
          74.3084242293209,
          83.53213620184849,
          80.9564806125028,
          75.85204596899882,
          77.89996416831873,
          82.71423020357825,
          76.53137693582548,
          79.81176567485554,
          75.6656528468021,
          79.236390220434,
          80.1562183943607,
          81.33187389246322,
          79.25135468067211,
          81.76850910449821,
          80.55609974454067,
          82.12800808127493,
          78.78259516215284,
          74.82324607778462,
          82.8004754713212,
          78.99888567363215,
          74.5898698350332,
          81.66897522329074,
          73.79446502380395,
          80.73590843810881,
          81.9754180341863,
          81.28907430396127,
          78.46786794169049,
          79.43865609980435,
          78.42806415411815
         ],
         "xaxis": "x",
         "yaxis": "y"
        },
        {
         "alignmentgroup": "True",
         "bingroup": "x",
         "hovertemplate": "Name=Bellatrix<br>Luminosity=%{x}<br>count=%{y}<extra></extra>",
         "legendgroup": "Bellatrix",
         "marker": {
          "color": "#B6E880",
          "pattern": {
           "shape": ""
          }
         },
         "name": "Bellatrix",
         "offsetgroup": "Bellatrix",
         "orientation": "v",
         "showlegend": true,
         "type": "histogram",
         "x": [
          6399.344000391582,
          6396.460553762988,
          6402.532053023128,
          6403.480526616087,
          6401.125654435876,
          6398.706399629343,
          6400.473393470613,
          6400.045563495309,
          6401.703522703113,
          6400.6876528621815,
          6403.26717033482,
          6397.415458459581,
          6396.281240197269,
          6398.615400878229,
          6397.076711841578,
          6401.595201030681,
          6399.823852098992,
          6398.402468120222,
          6403.986083369588,
          6399.860707647494,
          6396.904484917012,
          6401.369851611912,
          6403.880675893539,
          6395.26517269466,
          6397.660532171655,
          6402.769654543594,
          6395.94572852049,
          6397.123276113184,
          6397.114822384684,
          6403.603918761972,
          6400.46860322045,
          6399.16773375399,
          6404.804362304079,
          6400.714790021413,
          6403.889346672703,
          6401.015853487317,
          6397.02015894308
         ],
         "xaxis": "x",
         "yaxis": "y"
        },
        {
         "alignmentgroup": "True",
         "bingroup": "x",
         "hovertemplate": "Name=Castor<br>Luminosity=%{x}<br>count=%{y}<extra></extra>",
         "legendgroup": "Castor",
         "marker": {
          "color": "#FF97FF",
          "pattern": {
           "shape": ""
          }
         },
         "name": "Castor",
         "offsetgroup": "Castor",
         "orientation": "v",
         "showlegend": true,
         "type": "histogram",
         "x": [
          59.93364175572123,
          52.46460236565418,
          57.564078324527344,
          54.098680128048926,
          57.40613996148579,
          52.55239172717802,
          59.20488222648442,
          52.38529121936184,
          58.00481211390884,
          50.77458294296149,
          54.099526820783055,
          56.54850720582925,
          59.0355874758756,
          56.21992365681511,
          59.50799082713559,
          55.54003542527262,
          52.94996722654462,
          57.74910943563771,
          52.94281733759341,
          59.27555252752218,
          57.72693991417189,
          56.46782683458471,
          50.973167617405885,
          52.029091298701935,
          51.98803266275879,
          53.5483598096434,
          53.420925001184415,
          53.77756011373539,
          57.40130214754959,
          51.875004243619685,
          50.44141160659301,
          53.89518718567312,
          55.15138478627919,
          58.30249455419998,
          50.92786348408169,
          57.52238849379824,
          53.15103578649683,
          51.51081940941651,
          56.68355462603443
         ],
         "xaxis": "x",
         "yaxis": "y"
        },
        {
         "alignmentgroup": "True",
         "bingroup": "x",
         "hovertemplate": "Name=Hadar<br>Luminosity=%{x}<br>count=%{y}<extra></extra>",
         "legendgroup": "Hadar",
         "marker": {
          "color": "#FECB52",
          "pattern": {
           "shape": ""
          }
         },
         "name": "Hadar",
         "offsetgroup": "Hadar",
         "orientation": "v",
         "showlegend": true,
         "type": "histogram",
         "x": [
          49995.691816097984,
          50002.88500095002,
          50002.53452639178,
          50000.69303998948,
          50003.29860598514,
          50004.94895125297,
          49998.71828587879,
          49995.72669531548,
          50003.437434998974,
          50004.815878851376,
          49997.88363907442,
          49999.43621440881,
          50001.855266313454,
          49995.66255771765,
          50003.18445783784,
          49996.93606004356,
          49997.02136689043,
          49998.0695274668,
          49997.805725309554,
          50000.28166873743,
          50001.10395171099,
          49997.251393633545,
          49999.05801525981,
          50000.7563298815,
          50002.65489578048,
          49995.52898582493,
          50001.54561858535,
          49999.83035343599,
          50001.30848857186,
          50004.78063934145,
          50003.86564599455,
          49995.77634359074,
          50002.19425747596,
          49996.40808398428,
          50001.5153382736,
          50001.20894607176,
          49995.77038141611,
          49995.74961911704,
          49995.52830393315,
          50003.56016712869,
          49995.84780935522,
          50002.60389297427,
          49998.3383894348,
          50002.06465870077,
          49997.50659083093
         ],
         "xaxis": "x",
         "yaxis": "y"
        },
        {
         "alignmentgroup": "True",
         "bingroup": "x",
         "hovertemplate": "Name=Betelgeuse<br>Luminosity=%{x}<br>count=%{y}<extra></extra>",
         "legendgroup": "Betelgeuse",
         "marker": {
          "color": "#636efa",
          "pattern": {
           "shape": ""
          }
         },
         "name": "Betelgeuse",
         "offsetgroup": "Betelgeuse",
         "orientation": "v",
         "showlegend": true,
         "type": "histogram",
         "x": [
          125997.20910038544,
          125997.82193788076,
          125995.18267169304,
          126000.10150499652,
          125998.59509722542,
          125996.07898971764,
          125995.07325895016,
          126001.74686159294,
          126004.80652062806,
          126004.1780460636,
          125998.30283452646,
          126002.55580263576,
          126000.7909588918,
          126003.277178296,
          126001.59526536078,
          125996.53351669673,
          126000.56704612002,
          126004.33011528917,
          125995.74018464192,
          125998.15810975224,
          126004.556729769,
          126000.91426019296,
          126002.95958230011,
          126003.57941062372,
          125999.7058492993,
          125998.07097370524,
          125999.82301556024,
          125999.46554318476,
          126000.70393546818,
          126001.85035674136,
          126004.9078150664,
          126003.923585333,
          125995.41518186204,
          126002.66983139454,
          126002.01938722764,
          125999.93767974032,
          126001.05324147757,
          126001.97593175896,
          125996.3998222032,
          126002.76484556652,
          126002.63813670116,
          126002.12138920804,
          126004.68469642336,
          126001.69509064496
         ],
         "xaxis": "x",
         "yaxis": "y"
        },
        {
         "alignmentgroup": "True",
         "bingroup": "x",
         "hovertemplate": "Name=Regulus<br>Luminosity=%{x}<br>count=%{y}<extra></extra>",
         "legendgroup": "Regulus",
         "marker": {
          "color": "#EF553B",
          "pattern": {
           "shape": ""
          }
         },
         "name": "Regulus",
         "offsetgroup": "Regulus",
         "orientation": "v",
         "showlegend": true,
         "type": "histogram",
         "x": [
          290.3679076360734,
          292.77713927994625,
          283.3313068914609,
          289.1046797165257,
          287.2472405244145,
          284.3075843561486,
          283.1518425898611,
          286.1262199301582,
          291.3198765189602,
          291.53808793659346,
          287.59429416197145,
          290.5810269103057,
          286.9002630101488,
          291.6242019956963,
          291.897968511475,
          284.6113183408361,
          290.753427669009,
          284.0131576044764,
          289.64944522566566,
          283.8012330687599,
          288.3480381307577,
          291.23101596438744,
          292.2930937776625,
          290.70024983213216,
          291.10560374811564,
          289.3498810069176
         ],
         "xaxis": "x",
         "yaxis": "y"
        },
        {
         "alignmentgroup": "True",
         "bingroup": "x",
         "hovertemplate": "Name=Mira<br>Luminosity=%{x}<br>count=%{y}<extra></extra>",
         "legendgroup": "Mira",
         "marker": {
          "color": "#00cc96",
          "pattern": {
           "shape": ""
          }
         },
         "name": "Mira",
         "offsetgroup": "Mira",
         "orientation": "v",
         "showlegend": true,
         "type": "histogram",
         "x": [
          8700.111885115977,
          8697.78504078488,
          8702.983016446178,
          8699.413953474097,
          8697.873320471392,
          8704.780649511065,
          8699.459630086449,
          8695.76542169597,
          8702.919445956213,
          8702.628165997337,
          8702.747824718203,
          8700.674611535678,
          8695.285930090933,
          8700.5674109947,
          8699.480336707316,
          8695.087924765674,
          8701.972674557059,
          8701.822617753161,
          8695.33991203142,
          8701.315925356654,
          8695.589846031997,
          8704.120455744414,
          8699.858562700023,
          8700.068256603763,
          8698.967657743355,
          8698.01996291219,
          8702.813860527409,
          8698.681150673214,
          8695.237868855855,
          8702.202833665075,
          8701.197585745507,
          8703.371448664344,
          8704.173393016803,
          8697.462716703521,
          8697.641481122131,
          8704.185431731014,
          8702.898481160859
         ],
         "xaxis": "x",
         "yaxis": "y"
        },
        {
         "alignmentgroup": "True",
         "bingroup": "x",
         "hovertemplate": "Name=Acrux<br>Luminosity=%{x}<br>count=%{y}<extra></extra>",
         "legendgroup": "Acrux",
         "marker": {
          "color": "#ab63fa",
          "pattern": {
           "shape": ""
          }
         },
         "name": "Acrux",
         "offsetgroup": "Acrux",
         "orientation": "v",
         "showlegend": true,
         "type": "histogram",
         "x": [
          24995.85335225056,
          25000.424960003416,
          25002.45130495005,
          24997.637919736644,
          25001.97379001607,
          24999.998219227884,
          24999.47677803858,
          25004.094559395624,
          24995.384020357043,
          24999.882212098997,
          25000.175523659404,
          25004.818724393608,
          25001.51199891072,
          25003.204339520365,
          25001.13195855457,
          24999.132922504472,
          25003.59644188548,
          24998.5503809941,
          24996.03150391452,
          25004.06256504029,
          24997.62427883933,
          25004.514480134185,
          25000.378673015985,
          24996.39015491464,
          24999.57439378584,
          25004.963250979177,
          25002.57473766397,
          24998.437363538746,
          25001.43969557513,
          25004.66014302425
         ],
         "xaxis": "x",
         "yaxis": "y"
        },
        {
         "alignmentgroup": "True",
         "bingroup": "x",
         "hovertemplate": "Name=Vega<br>Luminosity=%{x}<br>count=%{y}<extra></extra>",
         "legendgroup": "Vega",
         "marker": {
          "color": "#FFA15A",
          "pattern": {
           "shape": ""
          }
         },
         "name": "Vega",
         "offsetgroup": "Vega",
         "orientation": "v",
         "showlegend": true,
         "type": "histogram",
         "x": [
          45.02639994513558,
          43.21333423901169,
          44.01956664255118,
          38.00891382001232,
          35.23872230380841,
          38.236535117812586,
          41.94883657141961,
          44.096087879563065,
          38.83227073761078,
          44.65672904821405,
          43.14300490476892,
          42.58073946132156,
          37.54171812892304,
          43.36477472469677,
          40.70030429351264,
          42.41615685855492,
          40.515480684043176,
          35.63708969609756,
          41.84243236145427,
          35.69348717683239,
          41.89763252503265,
          43.804966691716544,
          43.66237658662158,
          44.820504619636765,
          43.18165538748461,
          38.18906551332613,
          43.204179984989,
          45.0166194805538,
          44.60627511934049,
          42.20864976295121,
          36.15927611791007,
          39.76943362972408,
          43.235486536521336,
          44.87302213093578,
          42.61916652521285,
          41.49536785067348,
          41.61042724473538,
          35.27153115019188
         ],
         "xaxis": "x",
         "yaxis": "y"
        },
        {
         "alignmentgroup": "True",
         "bingroup": "x",
         "hovertemplate": "Name=Lalande 21185<br>Luminosity=%{x}<br>count=%{y}<extra></extra>",
         "legendgroup": "Lalande 21185",
         "marker": {
          "color": "#19d3f3",
          "pattern": {
           "shape": ""
          }
         },
         "name": "Lalande 21185",
         "offsetgroup": "Lalande 21185",
         "orientation": "v",
         "showlegend": true,
         "type": "histogram",
         "x": [
          0.9306154071042486,
          2.681120395944034,
          -1.0184094871245468,
          -1.6420207674531937,
          1.5570754937375668,
          4.389365061208859,
          3.3547011813311096,
          -3.116117283278311,
          -1.5287605534413269,
          0.4066786400028192,
          -0.9381894217595698,
          -1.4953798799163285,
          0.9661196267349228,
          4.276646419296911,
          -2.730810514509012,
          -1.9823179200068184,
          4.295886834209269,
          -2.808369984959966,
          -0.6382579849313171,
          -4.850542159255809,
          2.9000896987662736,
          1.803849972144676,
          -1.028153800053883,
          3.9489165851514327,
          2.6433710990737387,
          3.2554514372729964,
          4.786238308759169
         ],
         "xaxis": "x",
         "yaxis": "y"
        },
        {
         "alignmentgroup": "True",
         "bingroup": "x",
         "hovertemplate": "Name=Arcturus<br>Luminosity=%{x}<br>count=%{y}<extra></extra>",
         "legendgroup": "Arcturus",
         "marker": {
          "color": "#FF6692",
          "pattern": {
           "shape": ""
          }
         },
         "name": "Arcturus",
         "offsetgroup": "Arcturus",
         "orientation": "v",
         "showlegend": true,
         "type": "histogram",
         "x": [
          169.47569492442693,
          167.67967953475542,
          173.1186537350129,
          171.1056762518648,
          165.8219515674998,
          169.13451268871574,
          165.9591367981943,
          166.92216610675578,
          173.39296258557283,
          169.2345433964546,
          172.6283509663686,
          172.62720869691438,
          169.17410203086075,
          173.91735348449976,
          170.39260600268693,
          174.01100320067363,
          170.20157618905327,
          171.13842474554625,
          169.0336812528439,
          167.8986947873451,
          169.51942011897793,
          170.0454143979509,
          174.7332915546677,
          167.96548996936522,
          171.06523787104854,
          171.08994172322014,
          166.1544445734457,
          174.5022470890357,
          165.74366585402294,
          174.47262087336912,
          173.085282002199,
          172.842832715623,
          167.9528635926058,
          170.48340920473868,
          174.12679191284548,
          169.66102859243858,
          172.01175458304988,
          167.57770365212474
         ],
         "xaxis": "x",
         "yaxis": "y"
        },
        {
         "alignmentgroup": "True",
         "bingroup": "x",
         "hovertemplate": "Name=Alpha Centauri B<br>Luminosity=%{x}<br>count=%{y}<extra></extra>",
         "legendgroup": "Alpha Centauri B",
         "marker": {
          "color": "#B6E880",
          "pattern": {
           "shape": ""
          }
         },
         "name": "Alpha Centauri B",
         "offsetgroup": "Alpha Centauri B",
         "orientation": "v",
         "showlegend": true,
         "type": "histogram",
         "x": [
          -2.512423881556089,
          -2.5988815711687474,
          3.6839683429692047,
          -0.1948696275282258,
          4.336677893186863,
          0.9539660997456004,
          -1.7646167713238146,
          2.379877854751113,
          -1.8675040449466287,
          0.7910473169383339,
          4.0367179142966485,
          -2.897159041753857,
          -3.8018034621926975,
          5.4391034605528645,
          -2.182644939476517,
          -3.312680860880921,
          5.437406368831601,
          4.695039829686282,
          -3.297187675128017,
          3.150212948153516,
          0.7214286156354033,
          3.037716850015165,
          -3.8509017236860665,
          -4.549088213039762
         ],
         "xaxis": "x",
         "yaxis": "y"
        },
        {
         "alignmentgroup": "True",
         "bingroup": "x",
         "hovertemplate": "Name=Ross 154<br>Luminosity=%{x}<br>count=%{y}<extra></extra>",
         "legendgroup": "Ross 154",
         "marker": {
          "color": "#FF97FF",
          "pattern": {
           "shape": ""
          }
         },
         "name": "Ross 154",
         "offsetgroup": "Ross 154",
         "orientation": "v",
         "showlegend": true,
         "type": "histogram",
         "x": [
          -0.2622128873565414,
          -3.6471413928808327,
          -3.572031571628307,
          -0.2259653731579062,
          3.5558108313769368,
          -1.8722454742468064,
          1.5629475832181847,
          -1.7548883850025496,
          4.882884323074658,
          1.1272223547577958,
          4.593223791929575,
          -1.2141279074839573,
          1.2972165822975552,
          2.5676550292690377,
          -1.9897561424831247,
          -1.7574069302212032,
          -3.719698732023374,
          -2.891393672737218,
          -2.197465144382473,
          4.204083163586541,
          0.2322507343030513,
          4.995794616096258,
          -4.25830044406204,
          2.325660828881204,
          -3.8029930871625424,
          -3.1054206734561505,
          0.6618484621567702,
          1.1161883918936018,
          -2.1016283109970986,
          2.1886629377110567,
          4.825136716868186,
          -0.136639504031176,
          -0.5758550149259771,
          3.220604016862652,
          0.0367068671568043,
          -3.391033640909636,
          -4.321045206678933,
          -3.867373936810584,
          -4.657914346992305,
          -4.904825044713256,
          3.743348217944461,
          1.316544666952884,
          -0.1663578165081136,
          4.97274435570182,
          4.002523195559234
         ],
         "xaxis": "x",
         "yaxis": "y"
        },
        {
         "alignmentgroup": "True",
         "bingroup": "x",
         "hovertemplate": "Name=Canopus<br>Luminosity=%{x}<br>count=%{y}<extra></extra>",
         "legendgroup": "Canopus",
         "marker": {
          "color": "#FECB52",
          "pattern": {
           "shape": ""
          }
         },
         "name": "Canopus",
         "offsetgroup": "Canopus",
         "orientation": "v",
         "showlegend": true,
         "type": "histogram",
         "x": [
          10500.304364175136,
          10497.613821111012,
          10502.614219521176,
          10501.328054061814,
          10496.34418086692,
          10500.701090322544,
          10496.17932647521,
          10500.535791916333,
          10495.295032892276,
          10496.35553659274,
          10501.356418248894,
          10501.282994165453,
          10499.156949397066,
          10504.045242465518,
          10495.91876068068,
          10495.782502652297,
          10502.983510922511,
          10500.971727121856,
          10499.979018032229,
          10496.598466117017,
          10497.81775664668,
          10501.834765231311,
          10499.510031335703,
          10504.654048072583,
          10504.519240373207,
          10504.380309759488,
          10499.900137740964,
          10500.98757952869,
          10504.27406349011,
          10501.168802287524,
          10504.088259861765,
          10497.8382083774,
          10499.655074189855,
          10496.030199977424,
          10504.63622854095,
          10503.548509647142,
          10499.8550745283,
          10502.148872748416,
          10499.697004945498,
          10497.145990895167,
          10503.31030234475,
          10500.111323871244,
          10503.437168869666,
          10497.374642244886,
          10500.157515440253,
          10496.109676275262,
          10500.052904901882,
          10495.060417002824
         ],
         "xaxis": "x",
         "yaxis": "y"
        },
        {
         "alignmentgroup": "True",
         "bingroup": "x",
         "hovertemplate": "Name=Procyon<br>Luminosity=%{x}<br>count=%{y}<extra></extra>",
         "legendgroup": "Procyon",
         "marker": {
          "color": "#636efa",
          "pattern": {
           "shape": ""
          }
         },
         "name": "Procyon",
         "offsetgroup": "Procyon",
         "orientation": "v",
         "showlegend": true,
         "type": "histogram",
         "x": [
          11.09891870112007,
          8.573241191737985,
          11.179783704362094,
          11.483008311297528,
          11.03453099609397,
          5.556790524669831,
          4.568259386078665,
          4.578402287038895,
          10.41549792084328,
          4.454008562762063,
          4.046192932336076,
          11.127636055713175,
          11.111696301057986,
          3.939340636647584,
          4.76949576438661,
          10.449552952648414,
          10.356550330420028,
          8.557845789578323,
          9.344709778320803,
          4.084635008945639,
          4.204794097541385,
          7.10025729213628,
          9.101577122041768,
          6.549661020142606,
          11.684858374677258,
          3.161934538336132,
          10.77236733632881,
          4.935287891672165,
          12.218862119908533,
          11.923795878328828
         ],
         "xaxis": "x",
         "yaxis": "y"
        },
        {
         "alignmentgroup": "True",
         "bingroup": "x",
         "hovertemplate": "Name=Wolf 359<br>Luminosity=%{x}<br>count=%{y}<extra></extra>",
         "legendgroup": "Wolf 359",
         "marker": {
          "color": "#EF553B",
          "pattern": {
           "shape": ""
          }
         },
         "name": "Wolf 359",
         "offsetgroup": "Wolf 359",
         "orientation": "v",
         "showlegend": true,
         "type": "histogram",
         "x": [
          3.518164733709185,
          -4.9033579226853,
          0.2445037639812341,
          -0.5237519388581489,
          4.928126803872541,
          2.266088270736416,
          -2.6993031727412533,
          3.1435833625883096,
          -1.5632476218580127,
          -2.54824077781722,
          4.649196811314523,
          3.936431623279447,
          -4.932927078405668,
          4.371104753943822,
          -4.811598694045935,
          -2.3500029874210884,
          1.2352036190162132,
          -4.99314130236977,
          -4.305228812321653,
          -4.935052823532525,
          -4.43510093589817,
          3.484204727275103
         ],
         "xaxis": "x",
         "yaxis": "y"
        },
        {
         "alignmentgroup": "True",
         "bingroup": "x",
         "hovertemplate": "Name=Antares<br>Luminosity=%{x}<br>count=%{y}<extra></extra>",
         "legendgroup": "Antares",
         "marker": {
          "color": "#00cc96",
          "pattern": {
           "shape": ""
          }
         },
         "name": "Antares",
         "offsetgroup": "Antares",
         "orientation": "v",
         "showlegend": true,
         "type": "histogram",
         "x": [
          10004.888893429816,
          9997.61131020143,
          9999.116102372378,
          9997.105346601093,
          10003.583240374615,
          9998.673327093757,
          9995.999324590084,
          10003.064238945664,
          10001.944639646785,
          9996.784007026225,
          10003.85036307666,
          10004.657720081826,
          10004.598266981331,
          10003.242024216936,
          9997.044095222524,
          10000.229128287729,
          9996.300622803004,
          10004.217631330948,
          10001.091527688566,
          10001.124556352735,
          10000.56939462944,
          9996.691025435097,
          9998.226736233071,
          10002.393406132604,
          9995.650236150686,
          10001.25706401134
         ],
         "xaxis": "x",
         "yaxis": "y"
        },
        {
         "alignmentgroup": "True",
         "bingroup": "x",
         "hovertemplate": "Name=Alnilam<br>Luminosity=%{x}<br>count=%{y}<extra></extra>",
         "legendgroup": "Alnilam",
         "marker": {
          "color": "#ab63fa",
          "pattern": {
           "shape": ""
          }
         },
         "name": "Alnilam",
         "offsetgroup": "Alnilam",
         "orientation": "v",
         "showlegend": true,
         "type": "histogram",
         "x": [
          53697.14296034396,
          53702.88073058354,
          53701.23908573748,
          53695.72165124452,
          53700.915273161765,
          53704.6457106366,
          53695.46342027454,
          53697.71750208001,
          53698.01063562469,
          53703.68232367893,
          53704.55022172194,
          53700.02445566662,
          53702.72472446624,
          53702.76196695219,
          53702.78826659873,
          53703.28456261201,
          53704.23807043841,
          53696.71310418253,
          53695.97175932085,
          53695.57722624778,
          53703.81172242812,
          53700.10006419756,
          53700.31332169274,
          53701.62960708246,
          53699.79694685788,
          53701.72775373246,
          53700.34763389309,
          53696.04687161677,
          53697.570906096975,
          53704.09858897733,
          53702.0634950232,
          53698.49121410144,
          53695.258770385415,
          53695.10895794736,
          53698.85415842255,
          53698.69091540687
         ],
         "xaxis": "x",
         "yaxis": "y"
        },
        {
         "alignmentgroup": "True",
         "bingroup": "x",
         "hovertemplate": "Name=Rigil Kentaurus<br>Luminosity=%{x}<br>count=%{y}<extra></extra>",
         "legendgroup": "Rigil Kentaurus",
         "marker": {
          "color": "#FFA15A",
          "pattern": {
           "shape": ""
          }
         },
         "name": "Rigil Kentaurus",
         "offsetgroup": "Rigil Kentaurus",
         "orientation": "v",
         "showlegend": true,
         "type": "histogram",
         "x": [
          0.2620564024777934,
          5.317356537778736,
          2.046544781002844,
          3.255888946307942,
          -2.119236183448141,
          0.3050731636559065,
          4.719480891220876,
          0.4820732837390491,
          4.52095272104491,
          6.496997674070276,
          0.1249931536835606,
          -3.409763574323616,
          5.469163180881795,
          4.237437376579976,
          2.899348455421122,
          1.0622984187908109,
          1.5055163896454722,
          -0.8865713991311825,
          0.1510968115511939,
          6.022386273451476,
          5.091762720240075,
          -2.702274636517478,
          2.757813672726318,
          6.221478664884197,
          0.2644097525168283,
          4.099368934735667,
          -1.4618778575732707,
          5.414415558348379,
          2.729758830183819,
          3.343284346674393,
          0.2757210086922075,
          2.040615487087289,
          -1.3006426880404602,
          -1.162514750656564,
          5.00472601467677,
          1.626551918000496
         ],
         "xaxis": "x",
         "yaxis": "y"
        },
        {
         "alignmentgroup": "True",
         "bingroup": "x",
         "hovertemplate": "Name=Spica<br>Luminosity=%{x}<br>count=%{y}<extra></extra>",
         "legendgroup": "Spica",
         "marker": {
          "color": "#19d3f3",
          "pattern": {
           "shape": ""
          }
         },
         "name": "Spica",
         "offsetgroup": "Spica",
         "orientation": "v",
         "showlegend": true,
         "type": "histogram",
         "x": [
          21996.281907685272,
          22004.59479708713,
          22002.94677024924,
          22000.712538786636,
          21997.46778221041,
          21998.65350042777,
          21995.249403313665,
          21999.44025694579,
          22003.00608335897,
          21997.27514055534,
          22000.991538788872,
          21999.873328203877,
          22002.01284198614,
          22001.02951453293,
          22003.822501147264,
          21995.941108441966,
          22001.57876745712,
          22000.29409057748,
          22002.81493518628,
          21996.342337509686,
          21998.184803287884,
          21995.883722726558,
          22004.5128505599,
          22000.26467615668,
          21997.98059477522,
          21999.50880771162,
          22004.27059391161,
          21995.51832953527,
          22000.37954083398,
          21999.57851900184,
          22002.935830741622,
          22003.593457133506
         ],
         "xaxis": "x",
         "yaxis": "y"
        },
        {
         "alignmentgroup": "True",
         "bingroup": "x",
         "hovertemplate": "Name=Achernar<br>Luminosity=%{x}<br>count=%{y}<extra></extra>",
         "legendgroup": "Achernar",
         "marker": {
          "color": "#FF6692",
          "pattern": {
           "shape": ""
          }
         },
         "name": "Achernar",
         "offsetgroup": "Achernar",
         "orientation": "v",
         "showlegend": true,
         "type": "histogram",
         "x": [
          3145.670632301648,
          3151.3800629399616,
          3153.448869022427,
          3145.0671706093503,
          3149.043659334665,
          3153.6198983288955,
          3154.0943334053554,
          3150.1765636444493,
          3148.316088852544,
          3146.170451383516,
          3154.3236207651003,
          3145.594288832824,
          3149.5847166204003,
          3146.480170764414,
          3147.1222148999486,
          3153.3756737430845,
          3154.434596715594,
          3147.519402614194,
          3147.7105681972444,
          3150.683861798941,
          3146.6213001471715,
          3150.9412614052767,
          3153.991524139571,
          3151.110905749236,
          3148.5608771151096,
          3147.427280159967,
          3151.0686597665717,
          3149.1255196486118,
          3150.4177861539374
         ],
         "xaxis": "x",
         "yaxis": "y"
        },
        {
         "alignmentgroup": "True",
         "bingroup": "x",
         "hovertemplate": "Name=Aldebaran<br>Luminosity=%{x}<br>count=%{y}<extra></extra>",
         "legendgroup": "Aldebaran",
         "marker": {
          "color": "#B6E880",
          "pattern": {
           "shape": ""
          }
         },
         "name": "Aldebaran",
         "offsetgroup": "Aldebaran",
         "orientation": "v",
         "showlegend": true,
         "type": "histogram",
         "x": [
          515.388476668136,
          516.5412218579359,
          516.7874159559605,
          519.3372320256896,
          520.8330693802092,
          513.8024725995764,
          515.8831436751786,
          514.3940375429517,
          518.6712000572877,
          515.9542990912557,
          519.5755247353721,
          517.3793363363512,
          514.8148240807491,
          515.9161452954957,
          521.7244786179083,
          522.1631626285894,
          521.8347764947245,
          518.712049240274
         ],
         "xaxis": "x",
         "yaxis": "y"
        },
        {
         "alignmentgroup": "True",
         "bingroup": "x",
         "hovertemplate": "Name=Rigel<br>Luminosity=%{x}<br>count=%{y}<extra></extra>",
         "legendgroup": "Rigel",
         "marker": {
          "color": "#FF97FF",
          "pattern": {
           "shape": ""
          }
         },
         "name": "Rigel",
         "offsetgroup": "Rigel",
         "orientation": "v",
         "showlegend": true,
         "type": "histogram",
         "x": [
          119998.91159177457,
          119999.15795806012,
          120000.67143455558,
          119998.62299140116,
          119995.72802782974,
          119998.5139278143,
          120000.07131490987,
          119995.96883648894,
          120004.13495106822,
          120004.72283034294,
          119996.4155145593,
          120002.14531240136,
          119998.58199670308,
          120001.17653277425,
          119995.55867207544,
          119995.89640814654,
          120000.52031072111
         ],
         "xaxis": "x",
         "yaxis": "y"
        }
       ],
       "layout": {
        "barmode": "relative",
        "legend": {
         "title": {
          "text": "Name"
         },
         "tracegroupgap": 0
        },
        "template": {
         "data": {
          "bar": [
           {
            "error_x": {
             "color": "#2a3f5f"
            },
            "error_y": {
             "color": "#2a3f5f"
            },
            "marker": {
             "line": {
              "color": "#E5ECF6",
              "width": 0.5
             },
             "pattern": {
              "fillmode": "overlay",
              "size": 10,
              "solidity": 0.2
             }
            },
            "type": "bar"
           }
          ],
          "barpolar": [
           {
            "marker": {
             "line": {
              "color": "#E5ECF6",
              "width": 0.5
             },
             "pattern": {
              "fillmode": "overlay",
              "size": 10,
              "solidity": 0.2
             }
            },
            "type": "barpolar"
           }
          ],
          "carpet": [
           {
            "aaxis": {
             "endlinecolor": "#2a3f5f",
             "gridcolor": "white",
             "linecolor": "white",
             "minorgridcolor": "white",
             "startlinecolor": "#2a3f5f"
            },
            "baxis": {
             "endlinecolor": "#2a3f5f",
             "gridcolor": "white",
             "linecolor": "white",
             "minorgridcolor": "white",
             "startlinecolor": "#2a3f5f"
            },
            "type": "carpet"
           }
          ],
          "choropleth": [
           {
            "colorbar": {
             "outlinewidth": 0,
             "ticks": ""
            },
            "type": "choropleth"
           }
          ],
          "contour": [
           {
            "colorbar": {
             "outlinewidth": 0,
             "ticks": ""
            },
            "colorscale": [
             [
              0,
              "#0d0887"
             ],
             [
              0.1111111111111111,
              "#46039f"
             ],
             [
              0.2222222222222222,
              "#7201a8"
             ],
             [
              0.3333333333333333,
              "#9c179e"
             ],
             [
              0.4444444444444444,
              "#bd3786"
             ],
             [
              0.5555555555555556,
              "#d8576b"
             ],
             [
              0.6666666666666666,
              "#ed7953"
             ],
             [
              0.7777777777777778,
              "#fb9f3a"
             ],
             [
              0.8888888888888888,
              "#fdca26"
             ],
             [
              1,
              "#f0f921"
             ]
            ],
            "type": "contour"
           }
          ],
          "contourcarpet": [
           {
            "colorbar": {
             "outlinewidth": 0,
             "ticks": ""
            },
            "type": "contourcarpet"
           }
          ],
          "heatmap": [
           {
            "colorbar": {
             "outlinewidth": 0,
             "ticks": ""
            },
            "colorscale": [
             [
              0,
              "#0d0887"
             ],
             [
              0.1111111111111111,
              "#46039f"
             ],
             [
              0.2222222222222222,
              "#7201a8"
             ],
             [
              0.3333333333333333,
              "#9c179e"
             ],
             [
              0.4444444444444444,
              "#bd3786"
             ],
             [
              0.5555555555555556,
              "#d8576b"
             ],
             [
              0.6666666666666666,
              "#ed7953"
             ],
             [
              0.7777777777777778,
              "#fb9f3a"
             ],
             [
              0.8888888888888888,
              "#fdca26"
             ],
             [
              1,
              "#f0f921"
             ]
            ],
            "type": "heatmap"
           }
          ],
          "heatmapgl": [
           {
            "colorbar": {
             "outlinewidth": 0,
             "ticks": ""
            },
            "colorscale": [
             [
              0,
              "#0d0887"
             ],
             [
              0.1111111111111111,
              "#46039f"
             ],
             [
              0.2222222222222222,
              "#7201a8"
             ],
             [
              0.3333333333333333,
              "#9c179e"
             ],
             [
              0.4444444444444444,
              "#bd3786"
             ],
             [
              0.5555555555555556,
              "#d8576b"
             ],
             [
              0.6666666666666666,
              "#ed7953"
             ],
             [
              0.7777777777777778,
              "#fb9f3a"
             ],
             [
              0.8888888888888888,
              "#fdca26"
             ],
             [
              1,
              "#f0f921"
             ]
            ],
            "type": "heatmapgl"
           }
          ],
          "histogram": [
           {
            "marker": {
             "pattern": {
              "fillmode": "overlay",
              "size": 10,
              "solidity": 0.2
             }
            },
            "type": "histogram"
           }
          ],
          "histogram2d": [
           {
            "colorbar": {
             "outlinewidth": 0,
             "ticks": ""
            },
            "colorscale": [
             [
              0,
              "#0d0887"
             ],
             [
              0.1111111111111111,
              "#46039f"
             ],
             [
              0.2222222222222222,
              "#7201a8"
             ],
             [
              0.3333333333333333,
              "#9c179e"
             ],
             [
              0.4444444444444444,
              "#bd3786"
             ],
             [
              0.5555555555555556,
              "#d8576b"
             ],
             [
              0.6666666666666666,
              "#ed7953"
             ],
             [
              0.7777777777777778,
              "#fb9f3a"
             ],
             [
              0.8888888888888888,
              "#fdca26"
             ],
             [
              1,
              "#f0f921"
             ]
            ],
            "type": "histogram2d"
           }
          ],
          "histogram2dcontour": [
           {
            "colorbar": {
             "outlinewidth": 0,
             "ticks": ""
            },
            "colorscale": [
             [
              0,
              "#0d0887"
             ],
             [
              0.1111111111111111,
              "#46039f"
             ],
             [
              0.2222222222222222,
              "#7201a8"
             ],
             [
              0.3333333333333333,
              "#9c179e"
             ],
             [
              0.4444444444444444,
              "#bd3786"
             ],
             [
              0.5555555555555556,
              "#d8576b"
             ],
             [
              0.6666666666666666,
              "#ed7953"
             ],
             [
              0.7777777777777778,
              "#fb9f3a"
             ],
             [
              0.8888888888888888,
              "#fdca26"
             ],
             [
              1,
              "#f0f921"
             ]
            ],
            "type": "histogram2dcontour"
           }
          ],
          "mesh3d": [
           {
            "colorbar": {
             "outlinewidth": 0,
             "ticks": ""
            },
            "type": "mesh3d"
           }
          ],
          "parcoords": [
           {
            "line": {
             "colorbar": {
              "outlinewidth": 0,
              "ticks": ""
             }
            },
            "type": "parcoords"
           }
          ],
          "pie": [
           {
            "automargin": true,
            "type": "pie"
           }
          ],
          "scatter": [
           {
            "fillpattern": {
             "fillmode": "overlay",
             "size": 10,
             "solidity": 0.2
            },
            "type": "scatter"
           }
          ],
          "scatter3d": [
           {
            "line": {
             "colorbar": {
              "outlinewidth": 0,
              "ticks": ""
             }
            },
            "marker": {
             "colorbar": {
              "outlinewidth": 0,
              "ticks": ""
             }
            },
            "type": "scatter3d"
           }
          ],
          "scattercarpet": [
           {
            "marker": {
             "colorbar": {
              "outlinewidth": 0,
              "ticks": ""
             }
            },
            "type": "scattercarpet"
           }
          ],
          "scattergeo": [
           {
            "marker": {
             "colorbar": {
              "outlinewidth": 0,
              "ticks": ""
             }
            },
            "type": "scattergeo"
           }
          ],
          "scattergl": [
           {
            "marker": {
             "colorbar": {
              "outlinewidth": 0,
              "ticks": ""
             }
            },
            "type": "scattergl"
           }
          ],
          "scattermapbox": [
           {
            "marker": {
             "colorbar": {
              "outlinewidth": 0,
              "ticks": ""
             }
            },
            "type": "scattermapbox"
           }
          ],
          "scatterpolar": [
           {
            "marker": {
             "colorbar": {
              "outlinewidth": 0,
              "ticks": ""
             }
            },
            "type": "scatterpolar"
           }
          ],
          "scatterpolargl": [
           {
            "marker": {
             "colorbar": {
              "outlinewidth": 0,
              "ticks": ""
             }
            },
            "type": "scatterpolargl"
           }
          ],
          "scatterternary": [
           {
            "marker": {
             "colorbar": {
              "outlinewidth": 0,
              "ticks": ""
             }
            },
            "type": "scatterternary"
           }
          ],
          "surface": [
           {
            "colorbar": {
             "outlinewidth": 0,
             "ticks": ""
            },
            "colorscale": [
             [
              0,
              "#0d0887"
             ],
             [
              0.1111111111111111,
              "#46039f"
             ],
             [
              0.2222222222222222,
              "#7201a8"
             ],
             [
              0.3333333333333333,
              "#9c179e"
             ],
             [
              0.4444444444444444,
              "#bd3786"
             ],
             [
              0.5555555555555556,
              "#d8576b"
             ],
             [
              0.6666666666666666,
              "#ed7953"
             ],
             [
              0.7777777777777778,
              "#fb9f3a"
             ],
             [
              0.8888888888888888,
              "#fdca26"
             ],
             [
              1,
              "#f0f921"
             ]
            ],
            "type": "surface"
           }
          ],
          "table": [
           {
            "cells": {
             "fill": {
              "color": "#EBF0F8"
             },
             "line": {
              "color": "white"
             }
            },
            "header": {
             "fill": {
              "color": "#C8D4E3"
             },
             "line": {
              "color": "white"
             }
            },
            "type": "table"
           }
          ]
         },
         "layout": {
          "annotationdefaults": {
           "arrowcolor": "#2a3f5f",
           "arrowhead": 0,
           "arrowwidth": 1
          },
          "autotypenumbers": "strict",
          "coloraxis": {
           "colorbar": {
            "outlinewidth": 0,
            "ticks": ""
           }
          },
          "colorscale": {
           "diverging": [
            [
             0,
             "#8e0152"
            ],
            [
             0.1,
             "#c51b7d"
            ],
            [
             0.2,
             "#de77ae"
            ],
            [
             0.3,
             "#f1b6da"
            ],
            [
             0.4,
             "#fde0ef"
            ],
            [
             0.5,
             "#f7f7f7"
            ],
            [
             0.6,
             "#e6f5d0"
            ],
            [
             0.7,
             "#b8e186"
            ],
            [
             0.8,
             "#7fbc41"
            ],
            [
             0.9,
             "#4d9221"
            ],
            [
             1,
             "#276419"
            ]
           ],
           "sequential": [
            [
             0,
             "#0d0887"
            ],
            [
             0.1111111111111111,
             "#46039f"
            ],
            [
             0.2222222222222222,
             "#7201a8"
            ],
            [
             0.3333333333333333,
             "#9c179e"
            ],
            [
             0.4444444444444444,
             "#bd3786"
            ],
            [
             0.5555555555555556,
             "#d8576b"
            ],
            [
             0.6666666666666666,
             "#ed7953"
            ],
            [
             0.7777777777777778,
             "#fb9f3a"
            ],
            [
             0.8888888888888888,
             "#fdca26"
            ],
            [
             1,
             "#f0f921"
            ]
           ],
           "sequentialminus": [
            [
             0,
             "#0d0887"
            ],
            [
             0.1111111111111111,
             "#46039f"
            ],
            [
             0.2222222222222222,
             "#7201a8"
            ],
            [
             0.3333333333333333,
             "#9c179e"
            ],
            [
             0.4444444444444444,
             "#bd3786"
            ],
            [
             0.5555555555555556,
             "#d8576b"
            ],
            [
             0.6666666666666666,
             "#ed7953"
            ],
            [
             0.7777777777777778,
             "#fb9f3a"
            ],
            [
             0.8888888888888888,
             "#fdca26"
            ],
            [
             1,
             "#f0f921"
            ]
           ]
          },
          "colorway": [
           "#636efa",
           "#EF553B",
           "#00cc96",
           "#ab63fa",
           "#FFA15A",
           "#19d3f3",
           "#FF6692",
           "#B6E880",
           "#FF97FF",
           "#FECB52"
          ],
          "font": {
           "color": "#2a3f5f"
          },
          "geo": {
           "bgcolor": "white",
           "lakecolor": "white",
           "landcolor": "#E5ECF6",
           "showlakes": true,
           "showland": true,
           "subunitcolor": "white"
          },
          "hoverlabel": {
           "align": "left"
          },
          "hovermode": "closest",
          "mapbox": {
           "style": "light"
          },
          "paper_bgcolor": "white",
          "plot_bgcolor": "#E5ECF6",
          "polar": {
           "angularaxis": {
            "gridcolor": "white",
            "linecolor": "white",
            "ticks": ""
           },
           "bgcolor": "#E5ECF6",
           "radialaxis": {
            "gridcolor": "white",
            "linecolor": "white",
            "ticks": ""
           }
          },
          "scene": {
           "xaxis": {
            "backgroundcolor": "#E5ECF6",
            "gridcolor": "white",
            "gridwidth": 2,
            "linecolor": "white",
            "showbackground": true,
            "ticks": "",
            "zerolinecolor": "white"
           },
           "yaxis": {
            "backgroundcolor": "#E5ECF6",
            "gridcolor": "white",
            "gridwidth": 2,
            "linecolor": "white",
            "showbackground": true,
            "ticks": "",
            "zerolinecolor": "white"
           },
           "zaxis": {
            "backgroundcolor": "#E5ECF6",
            "gridcolor": "white",
            "gridwidth": 2,
            "linecolor": "white",
            "showbackground": true,
            "ticks": "",
            "zerolinecolor": "white"
           }
          },
          "shapedefaults": {
           "line": {
            "color": "#2a3f5f"
           }
          },
          "ternary": {
           "aaxis": {
            "gridcolor": "white",
            "linecolor": "white",
            "ticks": ""
           },
           "baxis": {
            "gridcolor": "white",
            "linecolor": "white",
            "ticks": ""
           },
           "bgcolor": "#E5ECF6",
           "caxis": {
            "gridcolor": "white",
            "linecolor": "white",
            "ticks": ""
           }
          },
          "title": {
           "x": 0.05
          },
          "xaxis": {
           "automargin": true,
           "gridcolor": "white",
           "linecolor": "white",
           "ticks": "",
           "title": {
            "standoff": 15
           },
           "zerolinecolor": "white",
           "zerolinewidth": 2
          },
          "yaxis": {
           "automargin": true,
           "gridcolor": "white",
           "linecolor": "white",
           "ticks": "",
           "title": {
            "standoff": 15
           },
           "zerolinecolor": "white",
           "zerolinewidth": 2
          }
         }
        },
        "title": {
         "text": "Histogram of Luminosity with respect to Name"
        },
        "xaxis": {
         "anchor": "y",
         "domain": [
          0,
          1
         ],
         "title": {
          "text": "Luminosity"
         }
        },
        "yaxis": {
         "anchor": "x",
         "domain": [
          0,
          1
         ],
         "title": {
          "text": "count"
         }
        }
       }
      }
     },
     "metadata": {},
     "output_type": "display_data"
    },
    {
     "data": {
      "text/plain": [
       "<Figure size 1200x800 with 0 Axes>"
      ]
     },
     "metadata": {},
     "output_type": "display_data"
    }
   ],
   "source": [
    "# lets try the same plot using plotly:\n",
    "\n",
    "fig = plt.figure(figsize=(12, 8))\n",
    "fig = px.histogram(df, x='Luminosity', color='Name', title='Histogram of Luminosity with respect to Name')\n",
    "fig.show()\n"
   ]
  },
  {
   "cell_type": "code",
   "execution_count": 52,
   "metadata": {},
   "outputs": [
    {
     "name": "stdout",
     "output_type": "stream",
     "text": [
      "Deben star has the Maximum Luminosity as compared to Earth and that is :196004.85 (Light year)\n",
      "Earth star has the Minimum Luminosity as compared to Earth and that is :-4.99 (Light year)\n"
     ]
    }
   ],
   "source": [
    "print(f\"Deben star has the Maximum Luminosity as compared to Earth and that is :{df['Luminosity'].max().round(2)} (Light year)\")\n",
    "print(f\"Earth star has the Minimum Luminosity as compared to Earth and that is :{df['Luminosity'].min().round(2)} (Light year)\")"
   ]
  },
  {
   "cell_type": "markdown",
   "metadata": {},
   "source": [
    "We have found these stars! 🌌\\\n",
    "Excited to know? \\\n",
    "Check out the respective column outputs to find out. 🌟 "
   ]
  },
  {
   "cell_type": "code",
   "execution_count": 51,
   "metadata": {},
   "outputs": [
    {
     "data": {
      "text/plain": [
       "Distance     Name              Luminosity    \n",
       "2600.490723  Deneb              196002.627856    1\n",
       "3.877798     Alpha Centauri B   4.036718         1\n",
       "3.878441     Rigil Kentaurus    6.022386         1\n",
       "3.879882     Alpha Centauri B   0.791047         1\n",
       "3.915718     Rigil Kentaurus    2.729759         1\n",
       "3.925939     Alpha Centauri B  -2.512424         1\n",
       "3.927727     Alpha Centauri B   2.379878         1\n",
       "3.932656     Alpha Centauri B  -3.801803         1\n",
       "2599.878637  Deneb              196000.737766    1\n",
       "2599.853939  Deneb              196002.778310    1\n",
       "2599.843962  Deneb              196001.818288    1\n",
       "2599.839829  Deneb              196003.524624    1\n",
       "2599.697956  Deneb              195995.099218    1\n",
       "2599.608738  Deneb              195999.368180    1\n",
       "2599.585899  Deneb              195996.365363    1\n",
       "2599.541672  Deneb              195998.904137    1\n",
       "2599.531005  Deneb              196000.711311    1\n",
       "2000.496809  Alnilam            53700.915273     1\n",
       "2000.478993  Alnilam            53701.239086     1\n",
       "2000.446041  Alnilam            53698.854158     1\n",
       "2000.434549  Alnilam            53698.690915     1\n",
       "2000.428235  Alnilam            53700.313322     1\n",
       "2000.377239  Alnilam            53702.788267     1\n",
       "2000.372712  Alnilam            53696.713104     1\n",
       "4.426807     Rigil Kentaurus   -1.461878         1\n",
       "4.416945     Alpha Centauri B   5.437406         1\n",
       "4.402095     Rigil Kentaurus    3.255889         1\n",
       "4.396865     Alpha Centauri B   3.150213         1\n",
       "4.384779     Rigil Kentaurus   -1.300643         1\n",
       "4.379250     Rigil Kentaurus    2.040615         1\n",
       "4.367149     Rigil Kentaurus   -2.702275         1\n",
       "4.300779     Rigil Kentaurus    2.899348         1\n",
       "4.292306     Alpha Centauri B  -3.312681         1\n",
       "4.268672     Rigil Kentaurus    6.221479         1\n",
       "4.267358     Rigil Kentaurus    3.343284         1\n",
       "4.258883     Rigil Kentaurus    0.151097         1\n",
       "4.233930     Alpha Centauri B   0.953966         1\n",
       "4.191178     Alpha Centauri B  -0.194870         1\n",
       "4.174610     Rigil Kentaurus   -0.886571         1\n",
       "4.142560     Rigil Kentaurus   -3.409764         1\n",
       "4.735622     Alpha Centauri B   5.439103         1\n",
       "4.734662     Alpha Centauri B   0.721429         1\n",
       "4.684741     Rigil Kentaurus    0.482073         1\n",
       "4.661466     Alpha Centauri B   3.683968         1\n",
       "4.608424     Rigil Kentaurus    5.004726         1\n",
       "4.604116     Alpha Centauri B   4.336678         1\n",
       "4.603151     Alpha Centauri B  -1.764617         1\n",
       "4.558961     Rigil Kentaurus    1.505516         1\n",
       "4.533255     Rigil Kentaurus    1.062298         1\n",
       "4.511511     Rigil Kentaurus    5.469163         1\n",
       "4.500101     Alpha Centauri B  -1.867504         1\n",
       "4.475036     Rigil Kentaurus    0.275721         1\n",
       "4.472943     Rigil Kentaurus    6.496998         1\n",
       "4.472728     Rigil Kentaurus    4.099369         1\n",
       "4.453130     Rigil Kentaurus    5.091763         1\n",
       "4.436331     Alpha Centauri B  -2.897159         1\n",
       "5.754939     Barnard's Star     0.578286         1\n",
       "5.702693     Barnard's Star    -4.366184         1\n",
       "5.702119     Barnard's Star     3.219269         1\n",
       "5.686721     Barnard's Star    -4.382996         1\n",
       "5.671835     Barnard's Star     4.492662         1\n",
       "5.644067     Barnard's Star    -2.107158         1\n",
       "5.628110     Barnard's Star    -0.603704         1\n",
       "5.621799     Barnard's Star     3.776002         1\n",
       "5.617673     Barnard's Star    -1.241340         1\n",
       "5.563557     Barnard's Star    -3.458955         1\n",
       "5.503354     Barnard's Star    -1.426137         1\n",
       "5.464250     Barnard's Star     3.101682         1\n",
       "4.808568     Alpha Centauri B   3.037717         1\n",
       "4.770200     Rigil Kentaurus   -1.162515         1\n",
       "4.763027     Rigil Kentaurus    0.264410         1\n",
       "4.757628     Rigil Kentaurus    0.124993         1\n",
       "6.145793     Barnard's Star    -0.968492         1\n",
       "6.103726     Barnard's Star     3.443944         1\n",
       "6.102187     Barnard's Star    -0.690555         1\n",
       "6.098595     Barnard's Star    -3.330310         1\n",
       "6.066147     Barnard's Star    -4.202962         1\n",
       "6.065585     Barnard's Star    -2.245814         1\n",
       "6.057240     Barnard's Star     3.630472         1\n",
       "6.052616     Barnard's Star     4.893716         1\n",
       "6.036902     Barnard's Star     1.224627         1\n",
       "6.035977     Barnard's Star     2.784927         1\n",
       "6.006475     Barnard's Star     4.339781         1\n",
       "5.978798     Barnard's Star     2.205629         1\n",
       "5.938952     Barnard's Star    -3.172254         1\n",
       "5.902392     Barnard's Star    -1.496486         1\n",
       "5.901895     Barnard's Star    -4.630583         1\n",
       "5.775318     Barnard's Star    -1.947614         1\n",
       "7.509381     Wolf 359          -4.935053         1\n",
       "7.494513     Wolf 359          -0.523752         1\n",
       "7.455715     Wolf 359          -4.435101         1\n",
       "7.408588     Wolf 359           1.235204         1\n",
       "7.342544     Wolf 359           3.936432         1\n",
       "7.281174     Wolf 359           4.649197         1\n",
       "6.450229     Barnard's Star    -2.186897         1\n",
       "6.378422     Barnard's Star     1.517268         1\n",
       "6.358709     Barnard's Star    -1.284094         1\n",
       "6.274309     Barnard's Star    -4.612504         1\n",
       "6.260852     Barnard's Star     4.261529         1\n",
       "6.213759     Barnard's Star    -0.123944         1\n",
       "6.210117     Barnard's Star     3.922475         1\n",
       "6.187166     Barnard's Star     4.956944         1\n",
       "6.180499     Barnard's Star     0.552562         1\n",
       "6.178069     Barnard's Star    -3.211389         1\n",
       "8.117919     Wolf 359           0.244504         1\n",
       "8.080259     Lalande 21185      1.803850         1\n",
       "8.049625     Wolf 359          -4.811599         1\n",
       "8.045698     Wolf 359          -4.932927         1\n",
       "8.040322     Wolf 359           3.518165         1\n",
       "7.999848     Wolf 359           2.266088         1\n",
       "7.987099     Wolf 359          -4.903358         1\n",
       "7.976158     Lalande 21185     -2.808370         1\n",
       "7.934577     Wolf 359          -2.699303         1\n",
       "7.922999     Lalande 21185      2.681120         1\n",
       "7.844657     Wolf 359           4.371105         1\n",
       "7.842218     Wolf 359          -4.305229         1\n",
       "7.831986     Wolf 359          -4.993141         1\n",
       "7.692989     Wolf 359           3.143583         1\n",
       "7.582498     Wolf 359          -1.563248         1\n",
       "7.573447     Wolf 359           4.928127         1\n",
       "8.268112     Lalande 21185      0.406679         1\n",
       "8.261173     Lalande 21185     -1.982318         1\n",
       "8.226998     Sirius             26.254899        1\n",
       "8.217526     Sirius             21.290730        1\n",
       "8.201478     Wolf 359          -2.548241         1\n",
       "8.193452     Wolf 359          -2.350003         1\n",
       "8.178966     Sirius             23.018883        1\n",
       "8.172253     Lalande 21185     -1.028154         1\n",
       "8.165438     Sirius             29.994667        1\n",
       "8.164762     Lalande 21185     -1.528761         1\n",
       "8.161295     Sirius             28.426852        1\n",
       "8.153863     Sirius             24.170119        1\n",
       "8.144855     Lalande 21185     -1.495380         1\n",
       "8.139786     Wolf 359           3.484205         1\n",
       "8.131881     Sirius             23.776853        1\n",
       "8.125496     Sirius             29.618484        1\n",
       "8.450983     Sirius             22.572764        1\n",
       "8.441645     Sirius             28.842978        1\n",
       "8.439597     Lalande 21185      2.643371         1\n",
       "8.429647     Sirius             28.766218        1\n",
       "8.417698     Sirius             29.618064        1\n",
       "8.404885     Sirius             30.363212        1\n",
       "8.399927     Lalande 21185      4.276646         1\n",
       "8.389620     Lalande 21185     -1.642021         1\n",
       "8.383258     Lalande 21185     -0.938189         1\n",
       "8.370045     Sirius             25.625363        1\n",
       "8.355424     Sirius             23.405388        1\n",
       "8.349562     Lalande 21185      2.900090         1\n",
       "8.326996     Lalande 21185     -3.116117         1\n",
       "8.322248     Sirius             28.370755        1\n",
       "8.294592     Sirius             21.835288        1\n",
       "8.287208     Lalande 21185     -2.730811         1\n",
       "8.731732     Lalande 21185      4.786238         1\n",
       "8.728313     Lalande 21185      3.948917         1\n",
       "8.703545     Lalande 21185      3.255451         1\n",
       "8.696116     Sirius             26.458827        1\n",
       "8.657943     Lalande 21185      1.557075         1\n",
       "8.650239     Sirius             25.384186        1\n",
       "8.649840     Lalande 21185      4.295887         1\n",
       "8.609892     Sirius             21.885734        1\n",
       "8.600333     Lalande 21185      4.389365         1\n",
       "8.592833     Sirius             29.163574        1\n",
       "8.581164     Sirius             23.565768        1\n",
       "8.552871     Lalande 21185      3.354701         1\n",
       "8.539133     Lalande 21185     -1.018409         1\n",
       "8.526087     Sirius             23.937962        1\n",
       "8.514812     Sirius             27.290896        1\n",
       "8.459087     Lalande 21185     -0.638258         1\n",
       "9.261994     Ross 154          -1.757407         1\n",
       "9.253398     Ross 154           0.036707         1\n",
       "9.195618     Ross 154           4.002523         1\n",
       "9.003724     Sirius             25.317214        1\n",
       "8.997562     Sirius             27.612291        1\n",
       "8.996689     Sirius             23.052796        1\n",
       "8.979058     Sirius             24.461618        1\n",
       "8.957640     Sirius             29.619565        1\n",
       "8.910965     Sirius             27.883155        1\n",
       "8.872982     Sirius             20.848040        1\n",
       "8.792950     Sirius             27.268082        1\n",
       "8.790939     Sirius             29.685053        1\n",
       "8.787449     Lalande 21185     -4.850542         1\n",
       "8.786491     Sirius             21.657048        1\n",
       "8.783892     Lalande 21185      0.930615         1\n",
       "8.778835     Lalande 21185      0.966120         1\n",
       "9.481143     Ross 154           1.562948         1\n",
       "9.457220     Ross 154           3.555811         1\n",
       "9.452178     Ross 154           4.972744         1\n",
       "9.423694     Ross 154          -4.657914         1\n",
       "9.420865     Ross 154          -2.101628         1\n",
       "9.413784     Ross 154          -2.891394         1\n",
       "9.404553     Ross 154          -3.867374         1\n",
       "9.395164     Ross 154          -2.197465         1\n",
       "9.394694     Ross 154           4.825137         1\n",
       "9.389920     Ross 154          -4.904825         1\n",
       "9.386795     Ross 154           1.297217         1\n",
       "9.386066     Ross 154           3.743348         1\n",
       "9.343642     Ross 154           1.116188         1\n",
       "9.338425     Ross 154          -3.105421         1\n",
       "9.323389     Ross 154           4.995795         1\n",
       "9.266675     Ross 154           2.567655         1\n",
       "9.762760     Ross 154          -0.225965         1\n",
       "9.744868     Ross 154          -1.989756         1\n",
       "9.732335     Ross 154          -0.136640         1\n",
       "9.694723     Ross 154           0.232251         1\n",
       "9.689002     Ross 154           0.661848         1\n",
       "9.665676     Ross 154          -0.575855         1\n",
       "9.620780     Ross 154           4.204083         1\n",
       "9.619215     Ross 154          -3.572032         1\n",
       "9.613438     Ross 154          -1.214128         1\n",
       "9.584936     Ross 154          -0.262213         1\n",
       "9.553596     Ross 154          -3.719699         1\n",
       "9.542301     Ross 154           2.188663         1\n",
       "9.540019     Ross 154          -3.391034         1\n",
       "9.509693     Ross 154           4.593224         1\n",
       "9.503661     Ross 154           3.220604         1\n",
       "9.496791     Ross 154           1.316545         1\n",
       "11.183021    Procyon            11.684858        1\n",
       "11.146882    Procyon            12.218862        1\n",
       "11.099357    Procyon            4.046193         1\n",
       "10.930399    Procyon            8.573241         1\n",
       "10.920472    Procyon            4.935288         1\n",
       "10.901204    Procyon            10.449553        1\n",
       "10.175314    Ross 154           2.325661         1\n",
       "10.114347    Ross 154          -1.872245         1\n",
       "10.082428    Ross 154           1.127222         1\n",
       "10.043819    Ross 154          -4.321045         1\n",
       "10.019989    Ross 154          -0.166358         1\n",
       "10.018283    Ross 154          -4.258300         1\n",
       "9.979599     Ross 154           4.882884         1\n",
       "9.958710     Ross 154          -3.802993         1\n",
       "9.939138     Ross 154          -3.647141         1\n",
       "9.907428     Ross 154          -1.754888         1\n",
       "11.652619    Procyon            10.356550        1\n",
       "11.633141    Procyon            4.578402         1\n",
       "11.591330    Procyon            11.923796        1\n",
       "11.561154    Procyon            11.127636        1\n",
       "11.548018    Procyon            11.179784        1\n",
       "11.533949    Procyon            10.772367        1\n",
       "11.519994    Procyon            9.101577         1\n",
       "11.462362    Procyon            9.344710         1\n",
       "11.377882    Procyon            3.161935         1\n",
       "11.377861    Procyon            11.111696        1\n",
       "11.361710    Procyon            11.098919        1\n",
       "11.337640    Procyon            6.549661         1\n",
       "11.282776    Procyon            4.769496         1\n",
       "11.271288    Procyon            8.557846         1\n",
       "11.232801    Procyon            11.483008        1\n",
       "11.221181    Procyon            4.454009         1\n",
       "16.334613    Altair             5.905362         1\n",
       "16.324632    Altair             10.457079        1\n",
       "16.305159    Altair             10.124008        1\n",
       "16.304756    Altair             9.844031         1\n",
       "16.303438    Altair             9.448611         1\n",
       "16.282548    Altair             12.877132        1\n",
       "16.259098    Altair             13.846836        1\n",
       "16.237212    Altair             12.344819        1\n",
       "11.856853    Procyon            4.084635         1\n",
       "11.853187    Procyon            4.568259         1\n",
       "11.811384    Procyon            5.556791         1\n",
       "11.734879    Procyon            11.034531        1\n",
       "11.729223    Procyon            10.415498        1\n",
       "11.717347    Procyon            7.100257         1\n",
       "11.715370    Procyon            4.204794         1\n",
       "11.678428    Procyon            3.939341         1\n",
       "16.546805    Altair             11.602180        1\n",
       "16.517311    Altair             14.705711        1\n",
       "16.515550    Altair             7.453788         1\n",
       "16.515449    Altair             10.994983        1\n",
       "16.502834    Altair             15.008535        1\n",
       "16.482464    Altair             9.747816         1\n",
       "16.481724    Altair             10.654505        1\n",
       "16.474888    Altair             7.834659         1\n",
       "16.431584    Altair             13.936623        1\n",
       "16.428115    Altair             7.518899         1\n",
       "16.427968    Altair             7.079212         1\n",
       "16.413502    Altair             11.624212        1\n",
       "16.409512    Altair             5.689355         1\n",
       "16.384894    Altair             8.298348         1\n",
       "16.374961    Altair             12.098291        1\n",
       "16.342682    Altair             14.591181        1\n",
       "16.723699    Altair             7.755496         1\n",
       "16.720463    Altair             13.659401        1\n",
       "16.707331    Altair             9.554276         1\n",
       "16.698858    Altair             10.045330        1\n",
       "16.693808    Altair             5.862809         1\n",
       "16.688706    Altair             10.481826        1\n",
       "16.683759    Altair             7.394939         1\n",
       "16.673539    Altair             11.923057        1\n",
       "16.652396    Altair             13.765521        1\n",
       "16.650909    Altair             13.984384        1\n",
       "16.650874    Altair             6.046501         1\n",
       "16.597555    Altair             9.796254         1\n",
       "16.594171    Altair             9.979192         1\n",
       "16.586514    Altair             10.000669        1\n",
       "16.567868    Altair             12.402581        1\n",
       "16.563301    Altair             7.297870         1\n",
       "16.909781    Altair             5.933266         1\n",
       "16.874372    Altair             5.998471         1\n",
       "16.865328    Altair             14.955319        1\n",
       "16.845941    Altair             8.305907         1\n",
       "16.841284    Altair             7.660100         1\n",
       "16.817758    Altair             6.616855         1\n",
       "16.816983    Altair             8.344845         1\n",
       "16.815485    Altair             11.676241        1\n",
       "16.804819    Altair             10.780866        1\n",
       "16.799573    Altair             11.204367        1\n",
       "16.790539    Altair             7.001586         1\n",
       "16.775943    Altair             10.100106        1\n",
       "16.775345    Altair             13.692070        1\n",
       "16.754464    Altair             5.997889         1\n",
       "16.739764    Altair             14.245028        1\n",
       "16.738704    Altair             12.635282        1\n",
       "17.154742    Altair             6.975772         1\n",
       "17.142747    Altair             6.884996         1\n",
       "17.126533    Altair             13.816754        1\n",
       "17.121544    Altair             11.776187        1\n",
       "17.116373    Altair             14.390176        1\n",
       "17.114041    Altair             7.967578         1\n",
       "17.111919    Altair             10.391013        1\n",
       "17.079091    Altair             11.105627        1\n",
       "17.031047    Altair             9.420448         1\n",
       "17.022451    Altair             8.864437         1\n",
       "17.004753    Altair             15.509654        1\n",
       "16.977835    Altair             8.978259         1\n",
       "16.964526    Altair             14.701676        1\n",
       "16.962966    Altair             12.700496        1\n",
       "16.938537    Altair             13.804523        1\n",
       "16.933846    Altair             12.845622        1\n",
       "24.706321    Fomalhaut          19.653662        1\n",
       "24.674402    Fomalhaut          13.703942        1\n",
       "24.653906    Vega               41.610427        1\n",
       "24.645194    Vega               35.637090        1\n",
       "24.636958    Fomalhaut          19.023125        1\n",
       "24.595124    Fomalhaut          15.016026        1\n",
       "24.579088    Fomalhaut          13.958971        1\n",
       "24.563348    Vega               44.606275        1\n",
       "24.550547    Vega               40.700304        1\n",
       "24.531130    Vega               38.008914        1\n",
       "24.527981    Fomalhaut          12.367105        1\n",
       "24.517236    Vega               44.820505        1\n",
       "24.508677    Fomalhaut          18.072115        1\n",
       "24.506785    Fomalhaut          16.135837        1\n",
       "17.190193    Altair             10.378557        1\n",
       "17.158405    Altair             7.948794         1\n",
       "24.892158    Vega               35.693487        1\n",
       "24.880120    Fomalhaut          21.015848        1\n",
       "24.878075    Fomalhaut          17.659083        1\n",
       "24.869127    Vega               43.204180        1\n",
       "24.857542    Vega               43.364775        1\n",
       "24.843117    Fomalhaut          21.436023        1\n",
       "24.842788    Vega               44.873022        1\n",
       "24.803163    Vega               41.495368        1\n",
       "24.801335    Fomalhaut          15.639550        1\n",
       "24.796723    Vega               38.832271        1\n",
       "24.787814    Fomalhaut          19.240019        1\n",
       "24.776636    Vega               35.271531        1\n",
       "24.750738    Vega               38.189066        1\n",
       "24.739228    Fomalhaut          12.761777        1\n",
       "24.737345    Vega               41.897633        1\n",
       "24.715555    Vega               37.541718        1\n",
       "25.057042    Fomalhaut          17.721002        1\n",
       "25.050450    Vega               41.842432        1\n",
       "25.040609    Fomalhaut          20.805224        1\n",
       "25.023793    Fomalhaut          18.722897        1\n",
       "25.022656    Vega               43.213334        1\n",
       "25.021843    Vega               44.096088        1\n",
       "25.009786    Vega               42.619167        1\n",
       "24.987398    Fomalhaut          16.742595        1\n",
       "24.975018    Vega               36.159276        1\n",
       "24.959311    Vega               38.236535        1\n",
       "24.947743    Fomalhaut          19.078458        1\n",
       "24.939934    Fomalhaut          18.708421        1\n",
       "24.921386    Vega               40.515481        1\n",
       "24.908006    Fomalhaut          18.947503        1\n",
       "24.905854    Vega               43.235487        1\n",
       "24.905127    Vega               43.181655        1\n",
       "25.395342    Fomalhaut          20.469150        1\n",
       "25.387270    Fomalhaut          15.872779        1\n",
       "25.376635    Fomalhaut          15.012058        1\n",
       "25.355477    Fomalhaut          13.002826        1\n",
       "25.325101    Vega               44.019567        1\n",
       "25.309093    Vega               42.208650        1\n",
       "25.302838    Fomalhaut          16.575587        1\n",
       "25.291727    Fomalhaut          15.472855        1\n",
       "25.249302    Vega               43.804967        1\n",
       "25.224132    Vega               45.016619        1\n",
       "25.215376    Vega               42.416157        1\n",
       "25.145089    Vega               35.238722        1\n",
       "25.132967    Fomalhaut          20.863466        1\n",
       "25.115653    Fomalhaut          15.593329        1\n",
       "25.069736    Vega               42.580739        1\n",
       "25.066595    Vega               44.656729        1\n",
       "36.285898    Arcturus           169.661029       1\n",
       "36.246122    Arcturus           165.821952       1\n",
       "36.245692    Arcturus           170.201576       1\n",
       "36.245215    Arcturus           171.065238       1\n",
       "36.231033    Arcturus           172.628351       1\n",
       "36.230146    Arcturus           167.679680       1\n",
       "36.203548    Arcturus           174.011003       1\n",
       "36.201806    Arcturus           174.733292       1\n",
       "36.200295    Arcturus           166.154445       1\n",
       "25.482674    Vega               43.143005        1\n",
       "25.473796    Vega               41.948837        1\n",
       "25.473262    Vega               43.662377        1\n",
       "25.448734    Fomalhaut          13.070028        1\n",
       "25.424516    Vega               39.769434        1\n",
       "25.423032    Fomalhaut          19.314803        1\n",
       "25.407287    Vega               45.026400        1\n",
       "36.777743    Arcturus           174.126792       1\n",
       "36.728590    Arcturus           169.174102       1\n",
       "36.664140    Arcturus           171.105676       1\n",
       "36.631717    Arcturus           165.743666       1\n",
       "36.609443    Arcturus           166.922166       1\n",
       "36.559410    Arcturus           173.118654       1\n",
       "36.551631    Arcturus           167.965490       1\n",
       "36.543922    Arcturus           169.234543       1\n",
       "36.518269    Arcturus           167.898695       1\n",
       "36.501673    Arcturus           165.959137       1\n",
       "36.466717    Arcturus           173.392963       1\n",
       "36.406178    Arcturus           170.483409       1\n",
       "36.391163    Arcturus           169.475695       1\n",
       "36.369356    Arcturus           167.577704       1\n",
       "36.368938    Arcturus           173.917353       1\n",
       "36.322300    Arcturus           172.627209       1\n",
       "42.524192    Capella            79.236390        1\n",
       "42.426405    Capella            78.626162        1\n",
       "42.405357    Capella            73.794465        1\n",
       "37.064926    Arcturus           169.134513       1\n",
       "37.063848    Arcturus           170.045414       1\n",
       "37.061491    Arcturus           171.089942       1\n",
       "37.061402    Arcturus           171.138425       1\n",
       "37.001403    Arcturus           172.842833       1\n",
       "36.982286    Arcturus           173.085282       1\n",
       "36.918457    Arcturus           169.033681       1\n",
       "36.909912    Arcturus           169.519420       1\n",
       "36.908177    Arcturus           174.502247       1\n",
       "36.906248    Arcturus           172.011755       1\n",
       "36.885917    Arcturus           174.472621       1\n",
       "36.855157    Arcturus           170.392606       1\n",
       "36.832632    Arcturus           167.952864       1\n",
       "42.908833    Capella            81.732078        1\n",
       "42.881488    Capella            81.668975        1\n",
       "42.861756    Capella            82.128008        1\n",
       "42.851776    Capella            81.331874        1\n",
       "42.810631    Capella            81.289074        1\n",
       "42.804146    Capella            77.741979        1\n",
       "42.721731    Capella            82.714230        1\n",
       "42.669746    Capella            78.782595        1\n",
       "42.661916    Capella            80.318934        1\n",
       "42.654450    Capella            77.899964        1\n",
       "42.647660    Capella            75.852046        1\n",
       "42.621727    Capella            82.181796        1\n",
       "42.601051    Capella            80.556100        1\n",
       "42.581455    Capella            74.589870        1\n",
       "42.570680    Capella            79.251355        1\n",
       "42.569578    Capella            77.466547        1\n",
       "43.324631    Capella            81.975418        1\n",
       "43.289920    Capella            78.428064        1\n",
       "43.268981    Capella            83.532136        1\n",
       "43.260859    Capella            76.753975        1\n",
       "43.249965    Capella            74.308424        1\n",
       "43.239838    Capella            78.477587        1\n",
       "43.221827    Capella            80.156218        1\n",
       "43.208240    Capella            74.823246        1\n",
       "43.189772    Capella            78.159285        1\n",
       "43.181123    Capella            79.811766        1\n",
       "43.168856    Capella            78.998886        1\n",
       "43.154658    Capella            80.956481        1\n",
       "43.067128    Capella            76.531377        1\n",
       "42.987641    Capella            80.536114        1\n",
       "42.941828    Capella            80.735908        1\n",
       "42.939594    Capella            82.800475        1\n",
       "51.709585    Castor             56.467827        1\n",
       "51.691753    Castor             57.726940        1\n",
       "51.687127    Castor             57.564078        1\n",
       "51.657891    Castor             53.548360        1\n",
       "51.657170    Castor             59.204882        1\n",
       "51.644279    Castor             56.219924        1\n",
       "51.635465    Castor             59.035587        1\n",
       "51.630997    Castor             51.875004        1\n",
       "51.574169    Castor             53.777560        1\n",
       "51.570210    Castor             59.933642        1\n",
       "51.524742    Castor             59.507991        1\n",
       "51.511787    Castor             58.302495        1\n",
       "43.369766    Capella            75.665653        1\n",
       "43.353461    Capella            81.768509        1\n",
       "43.341857    Capella            78.467868        1\n",
       "43.325316    Capella            79.438656        1\n",
       "52.150115    Castor             58.004812        1\n",
       "52.131041    Castor             52.029091        1\n",
       "52.119306    Castor             56.548507        1\n",
       "52.054620    Castor             50.973168        1\n",
       "52.008251    Castor             57.401302        1\n",
       "52.002326    Castor             52.949967        1\n",
       "51.983049    Castor             50.927863        1\n",
       "51.960026    Castor             50.774583        1\n",
       "51.947001    Castor             51.510819        1\n",
       "51.925135    Castor             57.749109        1\n",
       "51.788677    Castor             57.406140        1\n",
       "51.787650    Castor             52.552392        1\n",
       "51.757370    Castor             57.522388        1\n",
       "51.725328    Castor             56.683555        1\n",
       "51.719989    Castor             53.151036        1\n",
       "51.717199    Castor             59.275553        1\n",
       "64.866635    Aldebaran          516.541222       1\n",
       "64.693657    Aldebaran          522.163163       1\n",
       "64.672235    Aldebaran          518.712049       1\n",
       "64.614095    Aldebaran          518.671200       1\n",
       "64.590295    Aldebaran          519.337232       1\n",
       "52.457967    Castor             51.988033        1\n",
       "52.337395    Castor             52.385291        1\n",
       "52.326990    Castor             53.420925        1\n",
       "52.320856    Castor             52.464602        1\n",
       "52.320578    Castor             55.151385        1\n",
       "52.317885    Castor             54.098680        1\n",
       "52.296788    Castor             53.895187        1\n",
       "52.237833    Castor             55.540035        1\n",
       "52.229884    Castor             54.099527        1\n",
       "52.201795    Castor             50.441412        1\n",
       "52.164086    Castor             52.942817        1\n",
       "78.532239    Regulus            290.753428       1\n",
       "78.523137    Regulus            287.594294       1\n",
       "78.512754    Regulus            289.104680       1\n",
       "65.470227    Aldebaran          515.954299       1\n",
       "65.407994    Aldebaran          519.575525       1\n",
       "65.278375    Aldebaran          516.787416       1\n",
       "65.223147    Aldebaran          514.394038       1\n",
       "65.183942    Aldebaran          521.834776       1\n",
       "65.182034    Aldebaran          515.388477       1\n",
       "65.181367    Aldebaran          514.814824       1\n",
       "65.125047    Aldebaran          513.802473       1\n",
       "65.065618    Aldebaran          515.916145       1\n",
       "65.026092    Aldebaran          517.379336       1\n",
       "65.014867    Aldebaran          520.833069       1\n",
       "65.008137    Aldebaran          521.724479       1\n",
       "64.910292    Aldebaran          515.883144       1\n",
       "79.251233    Regulus            284.611318       1\n",
       "79.249774    Regulus            291.624202       1\n",
       "79.238410    Regulus            283.331307       1\n",
       "79.221830    Regulus            284.013158       1\n",
       "79.185896    Regulus            291.231016       1\n",
       "79.148340    Regulus            290.367908       1\n",
       "79.088677    Regulus            291.105604       1\n",
       "79.036476    Regulus            283.801233       1\n",
       "79.021703    Regulus            290.581027       1\n",
       "78.869698    Regulus            292.777139       1\n",
       "78.849803    Regulus            283.151843       1\n",
       "78.703844    Regulus            289.649445       1\n",
       "78.703157    Regulus            292.293094       1\n",
       "78.661052    Regulus            286.126220       1\n",
       "78.609061    Regulus            291.319877       1\n",
       "78.579972    Regulus            289.349881       1\n",
       "143.943879   Achernar           3150.941261      1\n",
       "143.922956   Achernar           3151.380063      1\n",
       "143.780277   Achernar           3154.323621      1\n",
       "143.777645   Achernar           3148.316089      1\n",
       "143.726083   Achernar           3151.068660      1\n",
       "143.720836   Achernar           3146.170451      1\n",
       "143.629961   Achernar           3154.434597      1\n",
       "143.628124   Achernar           3147.519403      1\n",
       "143.583774   Achernar           3154.094333      1\n",
       "79.469050    Regulus            291.538088       1\n",
       "79.457885    Regulus            284.307584       1\n",
       "79.386409    Regulus            286.900263       1\n",
       "79.375493    Regulus            287.247241       1\n",
       "79.343001    Regulus            291.897969       1\n",
       "79.297657    Regulus            290.700250       1\n",
       "79.269072    Regulus            288.348038       1\n",
       "144.413477   Achernar           3145.670632      1\n",
       "144.375457   Achernar           3153.991524      1\n",
       "144.319054   Achernar           3145.067171      1\n",
       "144.318280   Achernar           3146.480171      1\n",
       "144.305226   Achernar           3150.683862      1\n",
       "144.288015   Achernar           3147.710568      1\n",
       "144.257818   Achernar           3147.122215      1\n",
       "144.191899   Achernar           3153.375674      1\n",
       "144.128971   Achernar           3151.110906      1\n",
       "144.123286   Achernar           3150.176564      1\n",
       "144.120825   Achernar           3146.621300      1\n",
       "144.042628   Achernar           3149.584717      1\n",
       "143.994729   Achernar           3148.560877      1\n",
       "143.985426   Achernar           3149.125520      1\n",
       "143.966230   Achernar           3150.417786      1\n",
       "143.963696   Achernar           3153.448869      1\n",
       "239.810717   Bellatrix          6403.267170      1\n",
       "239.804716   Bellatrix          6400.473393      1\n",
       "239.795730   Bellatrix          6401.125654      1\n",
       "239.772634   Bellatrix          6404.804362      1\n",
       "239.763294   Bellatrix          6397.020159      1\n",
       "239.758026   Bellatrix          6402.532053      1\n",
       "239.746659   Bellatrix          6400.045563      1\n",
       "239.694147   Bellatrix          6396.281240      1\n",
       "239.678280   Bellatrix          6398.615401      1\n",
       "239.665473   Bellatrix          6401.015853      1\n",
       "239.624824   Bellatrix          6403.603919      1\n",
       "239.590860   Bellatrix          6399.167734      1\n",
       "144.472092   Achernar           3145.594289      1\n",
       "144.441768   Achernar           3147.427280      1\n",
       "144.439778   Achernar           3153.619898      1\n",
       "144.426964   Achernar           3149.043659      1\n",
       "240.308658   Bellatrix          6398.706400      1\n",
       "240.160483   Bellatrix          6399.823852      1\n",
       "240.124736   Bellatrix          6398.402468      1\n",
       "240.117292   Bellatrix          6401.703523      1\n",
       "240.115890   Bellatrix          6395.265173      1\n",
       "240.093975   Bellatrix          6395.945729      1\n",
       "240.035740   Bellatrix          6396.904485      1\n",
       "240.004073   Bellatrix          6400.714790      1\n",
       "239.936570   Bellatrix          6397.114822      1\n",
       "239.932856   Bellatrix          6397.415458      1\n",
       "239.892207   Bellatrix          6403.986083      1\n",
       "239.876855   Bellatrix          6399.860708      1\n",
       "239.864107   Bellatrix          6399.344000      1\n",
       "239.853933   Bellatrix          6397.123276      1\n",
       "239.833373   Bellatrix          6400.468603      1\n",
       "239.830342   Bellatrix          6403.880676      1\n",
       "249.716337   Spica              22000.712539     1\n",
       "249.695795   Spica              22004.512851     1\n",
       "249.695681   Spica              21999.440257     1\n",
       "249.681387   Spica              21998.184803     1\n",
       "249.667609   Spica              21999.508808     1\n",
       "249.580429   Spica              22002.012842     1\n",
       "249.521918   Spica              22004.270594     1\n",
       "240.498170   Bellatrix          6397.660532      1\n",
       "240.465465   Bellatrix          6397.076712      1\n",
       "240.417799   Bellatrix          6401.595201      1\n",
       "240.417541   Bellatrix          6401.369852      1\n",
       "240.396009   Bellatrix          6396.460554      1\n",
       "240.395457   Bellatrix          6403.889347      1\n",
       "240.389374   Bellatrix          6400.687653      1\n",
       "240.355324   Bellatrix          6402.769655      1\n",
       "240.350552   Bellatrix          6403.480527      1\n",
       "250.277163   Spica              21999.578519     1\n",
       "250.255635   Spica              22000.379541     1\n",
       "250.185370   Spica              22002.946770     1\n",
       "250.156389   Spica              21995.941108     1\n",
       "250.088550   Spica              22001.578767     1\n",
       "250.083916   Spica              21995.518330     1\n",
       "250.019535   Spica              22000.264676     1\n",
       "249.961427   Spica              22000.294091     1\n",
       "249.956009   Spica              21997.275141     1\n",
       "249.878069   Spica              22003.593457     1\n",
       "249.851899   Spica              21995.883723     1\n",
       "249.835979   Spica              21995.249403     1\n",
       "249.817240   Spica              22002.814935     1\n",
       "249.755912   Spica              21997.467782     1\n",
       "249.754272   Spica              22003.822501     1\n",
       "249.732430   Spica              21997.980595     1\n",
       "309.655955   Canopus            10500.304364     1\n",
       "309.623603   Canopus            10504.088260     1\n",
       "309.596301   Canopus            10504.380310     1\n",
       "309.595349   Canopus            10501.356418     1\n",
       "309.595001   Canopus            10500.971727     1\n",
       "309.551568   Canopus            10501.834765     1\n",
       "309.533288   Canopus            10502.614220     1\n",
       "250.487876   Spica              21999.873328     1\n",
       "250.476699   Spica              21996.342338     1\n",
       "250.459682   Spica              21996.281908     1\n",
       "250.405755   Spica              22003.006083     1\n",
       "250.401692   Spica              22002.935831     1\n",
       "250.390740   Spica              22001.029515     1\n",
       "250.358606   Spica              22000.991539     1\n",
       "250.349641   Spica              22004.594797     1\n",
       "250.291309   Spica              21998.653500     1\n",
       "309.924087   Canopus            10499.855075     1\n",
       "309.915617   Canopus            10499.655074     1\n",
       "309.894343   Canopus            10497.613821     1\n",
       "309.874741   Canopus            10501.168802     1\n",
       "309.859462   Canopus            10497.374642     1\n",
       "309.852473   Canopus            10495.295033     1\n",
       "309.798943   Canopus            10497.145991     1\n",
       "309.785298   Canopus            10500.052905     1\n",
       "309.771121   Canopus            10499.979018     1\n",
       "309.757766   Canopus            10501.282994     1\n",
       "309.746973   Canopus            10499.697005     1\n",
       "309.745118   Canopus            10499.510031     1\n",
       "309.723842   Canopus            10503.437169     1\n",
       "309.722681   Canopus            10504.045242     1\n",
       "309.702108   Canopus            10503.310302     1\n",
       "309.664797   Canopus            10503.548510     1\n",
       "310.394190   Canopus            10497.817757     1\n",
       "310.380856   Canopus            10500.157515     1\n",
       "310.355604   Canopus            10495.060417     1\n",
       "310.302488   Canopus            10501.328054     1\n",
       "310.269183   Canopus            10496.179326     1\n",
       "310.257528   Canopus            10500.535792     1\n",
       "310.220899   Canopus            10495.782503     1\n",
       "310.217267   Canopus            10496.355537     1\n",
       "310.213010   Canopus            10504.654048     1\n",
       "310.112384   Canopus            10496.344181     1\n",
       "310.109729   Canopus            10502.148873     1\n",
       "310.103673   Canopus            10496.109676     1\n",
       "310.072352   Canopus            10496.598466     1\n",
       "309.953627   Canopus            10500.111324     1\n",
       "309.949279   Canopus            10502.983511     1\n",
       "309.930583   Canopus            10499.156949     1\n",
       "320.603182   Acrux              25004.818724     1\n",
       "320.586339   Acrux              24997.637920     1\n",
       "320.585963   Acrux              25001.511999     1\n",
       "320.558777   Acrux              24999.132923     1\n",
       "320.535881   Acrux              25000.424960     1\n",
       "320.529567   Acrux              25002.574738     1\n",
       "320.528660   Acrux              25004.963251     1\n",
       "310.483900   Canopus            10504.519240     1\n",
       "310.482436   Canopus            10497.838208     1\n",
       "310.444681   Canopus            10496.030200     1\n",
       "310.436293   Canopus            10499.900138     1\n",
       "310.434569   Canopus            10500.987580     1\n",
       "310.433922   Canopus            10500.701090     1\n",
       "310.433541   Canopus            10504.636229     1\n",
       "310.410860   Canopus            10504.274063     1\n",
       "310.405610   Canopus            10495.918761     1\n",
       "321.166434   Acrux              24997.624279     1\n",
       "321.164253   Acrux              25001.973790     1\n",
       "321.125673   Acrux              24995.384020     1\n",
       "321.019243   Acrux              24999.476778     1\n",
       "321.017274   Acrux              25000.175524     1\n",
       "320.953719   Acrux              24996.031504     1\n",
       "320.952153   Acrux              24995.853352     1\n",
       "320.912446   Acrux              25003.204340     1\n",
       "320.886831   Acrux              25003.596442     1\n",
       "320.808999   Acrux              25004.660143     1\n",
       "320.756360   Acrux              25001.439696     1\n",
       "320.748461   Acrux              24999.882212     1\n",
       "320.741108   Acrux              25004.514480     1\n",
       "320.731741   Acrux              25000.378673     1\n",
       "320.681215   Acrux              24999.998219     1\n",
       "320.653202   Acrux              24998.550381     1\n",
       "322.655935   Polaris            2200.884555      1\n",
       "322.630391   Polaris            2202.304505      1\n",
       "322.629475   Polaris            2197.757467      1\n",
       "322.610593   Polaris            2202.271429      1\n",
       "322.601002   Polaris            2196.241934      1\n",
       "322.586471   Polaris            2204.140987      1\n",
       "322.539078   Polaris            2202.748591      1\n",
       "322.530435   Polaris            2198.062243      1\n",
       "322.502156   Polaris            2203.051863      1\n",
       "321.457318   Acrux              24999.574394     1\n",
       "321.403956   Acrux              25001.131959     1\n",
       "321.397882   Acrux              25002.451305     1\n",
       "321.369647   Acrux              24996.390155     1\n",
       "321.223298   Acrux              24998.437364     1\n",
       "321.203349   Acrux              25004.062565     1\n",
       "321.198267   Acrux              25004.094559     1\n",
       "323.187407   Polaris            2195.008536      1\n",
       "323.179601   Polaris            2201.614559      1\n",
       "323.046142   Polaris            2195.050035      1\n",
       "323.034675   Polaris            2204.974152      1\n",
       "323.016981   Polaris            2195.186971      1\n",
       "322.960137   Polaris            2203.512057      1\n",
       "322.959929   Polaris            2204.373103      1\n",
       "322.949478   Polaris            2202.003328      1\n",
       "322.936140   Polaris            2203.945872      1\n",
       "322.931464   Polaris            2202.453954      1\n",
       "322.844011   Polaris            2199.089388      1\n",
       "322.782966   Polaris            2197.457994      1\n",
       "322.748973   Polaris            2204.774413      1\n",
       "322.709034   Polaris            2201.189534      1\n",
       "322.693672   Polaris            2203.214693      1\n",
       "322.668314   Polaris            2196.099265      1\n",
       "349.647509   Hadar              50001.308489     1\n",
       "349.625908   Hadar              49995.528304     1\n",
       "349.576304   Hadar              50000.281669     1\n",
       "349.548830   Hadar              49995.847809     1\n",
       "349.548032   Hadar              50003.437435     1\n",
       "349.531814   Hadar              49997.805725     1\n",
       "323.489083   Polaris            2197.484655      1\n",
       "323.477216   Polaris            2202.925953      1\n",
       "323.466763   Polaris            2201.568276      1\n",
       "323.457364   Polaris            2196.226916      1\n",
       "323.407738   Polaris            2198.194030      1\n",
       "323.342092   Polaris            2198.722890      1\n",
       "323.329059   Polaris            2199.635236      1\n",
       "323.294287   Polaris            2197.339351      1\n",
       "323.291137   Polaris            2195.067221      1\n",
       "323.258303   Polaris            2203.005804      1\n",
       "349.926543   Hadar              49997.883639     1\n",
       "349.923397   Hadar              50003.184458     1\n",
       "349.897039   Hadar              50003.298606     1\n",
       "349.861867   Hadar              50004.948951     1\n",
       "349.858404   Hadar              49998.718286     1\n",
       "349.837824   Hadar              50002.534526     1\n",
       "349.802526   Hadar              49998.069527     1\n",
       "349.775108   Hadar              50004.780639     1\n",
       "349.755540   Hadar              49998.338389     1\n",
       "349.746273   Hadar              49999.436214     1\n",
       "349.705253   Hadar              50004.815879     1\n",
       "349.700769   Hadar              50001.103952     1\n",
       "349.688634   Hadar              49995.749619     1\n",
       "349.688450   Hadar              49999.058015     1\n",
       "349.671382   Hadar              49995.776344     1\n",
       "349.651024   Hadar              49995.691816     1\n",
       "350.301644   Hadar              49997.506591     1\n",
       "350.282508   Hadar              50001.855266     1\n",
       "350.259778   Hadar              50002.654896     1\n",
       "350.259059   Hadar              50001.208946     1\n",
       "350.169771   Hadar              50002.603893     1\n",
       "350.154837   Hadar              49996.936060     1\n",
       "350.121177   Hadar              49995.726695     1\n",
       "350.048251   Hadar              50003.865646     1\n",
       "350.000261   Hadar              49999.830353     1\n",
       "349.983103   Hadar              50000.756330     1\n",
       "349.982156   Hadar              50001.545619     1\n",
       "349.981541   Hadar              49995.770381     1\n",
       "349.980728   Hadar              50000.693040     1\n",
       "349.979496   Hadar              50003.560167     1\n",
       "349.978864   Hadar              50001.515338     1\n",
       "349.976235   Hadar              49997.021367     1\n",
       "417.695788   Mira               8704.185432      1\n",
       "417.694342   Mira               8695.765422      1\n",
       "417.663577   Mira               8700.068257      1\n",
       "417.603906   Mira               8702.813861      1\n",
       "417.571553   Mira               8695.087925      1\n",
       "417.548249   Mira               8697.641481      1\n",
       "417.544298   Mira               8695.339912      1\n",
       "417.540277   Mira               8704.173393      1\n",
       "417.527541   Mira               8697.462717      1\n",
       "350.482659   Hadar              49995.662558     1\n",
       "350.472733   Hadar              50002.064659     1\n",
       "350.425226   Hadar              49996.408084     1\n",
       "350.420671   Hadar              49995.528986     1\n",
       "350.399583   Hadar              50002.194257     1\n",
       "350.346216   Hadar              49997.251394     1\n",
       "350.339328   Hadar              50002.885001     1\n",
       "418.196377   Mira               8701.972675      1\n",
       "418.173339   Mira               8695.589846      1\n",
       "418.170935   Mira               8699.459630      1\n",
       "418.147076   Mira               8703.371449      1\n",
       "418.103749   Mira               8698.967658      1\n",
       "418.057777   Mira               8702.628166      1\n",
       "418.027891   Mira               8704.120456      1\n",
       "417.969820   Mira               8702.747825      1\n",
       "417.960389   Mira               8697.873320      1\n",
       "417.903026   Mira               8698.681151      1\n",
       "417.900544   Mira               8702.202834      1\n",
       "417.807621   Mira               8700.674612      1\n",
       "417.783312   Mira               8702.919446      1\n",
       "417.747362   Mira               8699.858563      1\n",
       "417.739685   Mira               8702.983016      1\n",
       "417.736655   Mira               8701.822618      1\n",
       "549.602084   Antares            10003.583240     1\n",
       "549.601841   Antares            10003.850363     1\n",
       "549.597662   Antares            10004.217631     1\n",
       "549.511045   Antares            9997.044095      1\n",
       "418.481250   Mira               8698.019963      1\n",
       "418.480027   Mira               8699.413953      1\n",
       "418.470243   Mira               8702.898481      1\n",
       "418.402071   Mira               8699.480337      1\n",
       "418.398911   Mira               8701.315925      1\n",
       "418.354153   Mira               8700.111885      1\n",
       "418.323202   Mira               8701.197586      1\n",
       "418.255940   Mira               8695.285930      1\n",
       "418.218395   Mira               8704.780650      1\n",
       "418.217584   Mira               8700.567411      1\n",
       "418.215323   Mira               8697.785041      1\n",
       "418.202479   Mira               8695.237869      1\n",
       "550.211145   Antares            9999.116102      1\n",
       "550.157475   Antares            10004.598267     1\n",
       "550.149680   Antares            10004.657720     1\n",
       "550.092511   Antares            9997.105347      1\n",
       "550.079312   Antares            9998.673327      1\n",
       "550.064828   Antares            9998.226736      1\n",
       "549.979589   Antares            10001.091528     1\n",
       "549.920462   Antares            9995.650236      1\n",
       "549.901581   Antares            10000.569395     1\n",
       "549.879288   Antares            10001.944640     1\n",
       "549.850837   Antares            10001.257064     1\n",
       "549.809445   Antares            10004.888893     1\n",
       "549.749542   Antares            10003.242024     1\n",
       "549.691917   Antares            9996.300623      1\n",
       "549.667155   Antares            9996.784007      1\n",
       "549.632608   Antares            10003.064239     1\n",
       "642.242843   Betelgeuse         126002.019387    1\n",
       "642.240680   Betelgeuse         125995.740185    1\n",
       "642.198671   Betelgeuse         125995.182672    1\n",
       "642.171700   Betelgeuse         126001.695091    1\n",
       "642.153070   Betelgeuse         126000.101505    1\n",
       "642.152311   Betelgeuse         125996.078990    1\n",
       "642.150898   Betelgeuse         125999.937680    1\n",
       "642.028690   Betelgeuse         126002.669831    1\n",
       "642.026224   Betelgeuse         125998.595097    1\n",
       "642.010619   Betelgeuse         125996.399822    1\n",
       "550.483410   Antares            9995.999325      1\n",
       "550.381040   Antares            10002.393406     1\n",
       "550.366820   Antares            9996.691025      1\n",
       "550.334153   Antares            9997.611310      1\n",
       "550.325783   Antares            10000.229128     1\n",
       "550.215005   Antares            10001.124556     1\n",
       "642.645793   Betelgeuse         125998.302835    1\n",
       "642.642801   Betelgeuse         126000.703935    1\n",
       "642.608845   Betelgeuse         126002.555803    1\n",
       "642.594422   Betelgeuse         126001.850357    1\n",
       "642.568834   Betelgeuse         126001.595265    1\n",
       "642.553128   Betelgeuse         126003.277178    1\n",
       "642.535105   Betelgeuse         125999.705849    1\n",
       "642.454302   Betelgeuse         125995.415182    1\n",
       "642.450148   Betelgeuse         125997.821938    1\n",
       "642.431417   Betelgeuse         126001.746862    1\n",
       "642.403643   Betelgeuse         125997.209100    1\n",
       "642.400218   Betelgeuse         125995.073259    1\n",
       "642.379674   Betelgeuse         126000.567046    1\n",
       "642.339797   Betelgeuse         125999.465543    1\n",
       "642.282975   Betelgeuse         125998.070974    1\n",
       "642.246511   Betelgeuse         126000.914260    1\n",
       "642.964977   Betelgeuse         125999.823016    1\n",
       "642.952873   Betelgeuse         126004.556730    1\n",
       "642.950696   Betelgeuse         126002.121389    1\n",
       "642.935778   Betelgeuse         126002.959582    1\n",
       "642.902804   Betelgeuse         126002.638137    1\n",
       "642.896853   Betelgeuse         126004.684696    1\n",
       "642.871569   Betelgeuse         126000.790959    1\n",
       "642.847608   Betelgeuse         126002.764846    1\n",
       "642.799462   Betelgeuse         126003.923585    1\n",
       "642.760694   Betelgeuse         125996.533517    1\n",
       "642.754789   Betelgeuse         126004.907815    1\n",
       "642.741765   Betelgeuse         126003.579411    1\n",
       "642.713233   Betelgeuse         126004.806521    1\n",
       "642.708627   Betelgeuse         125998.158110    1\n",
       "642.699319   Betelgeuse         126004.330115    1\n",
       "642.649898   Betelgeuse         126001.053241    1\n",
       "860.351095   Rigel              120000.671435    1\n",
       "860.329982   Rigel              119999.157958    1\n",
       "860.251568   Rigel              119995.558672    1\n",
       "860.203923   Rigel              119996.415515    1\n",
       "860.158994   Rigel              119998.581997    1\n",
       "860.154531   Rigel              120004.134951    1\n",
       "860.141990   Rigel              119995.896408    1\n",
       "860.044649   Rigel              119995.728028    1\n",
       "859.982498   Rigel              119998.622991    1\n",
       "859.873669   Rigel              119998.911592    1\n",
       "859.865875   Rigel              120000.071315    1\n",
       "859.760578   Rigel              119995.968836    1\n",
       "859.739189   Rigel              120001.176533    1\n",
       "859.551780   Rigel              120002.145312    1\n",
       "642.997230   Betelgeuse         126001.975932    1\n",
       "642.973450   Betelgeuse         126004.178046    1\n",
       "1999.905477  Alnilam            53698.010636     1\n",
       "1999.880482  Alnilam            53695.721651     1\n",
       "1999.870845  Alnilam            53703.284563     1\n",
       "1999.847161  Alnilam            53701.727754     1\n",
       "1999.819824  Alnilam            53704.238070     1\n",
       "1999.817541  Alnilam            53695.258770     1\n",
       "1999.817503  Alnilam            53704.098589     1\n",
       "1999.801047  Alnilam            53702.724724     1\n",
       "1999.772368  Alnilam            53703.811722     1\n",
       "1999.771263  Alnilam            53699.796947     1\n",
       "1999.769831  Alnilam            53702.063495     1\n",
       "1999.681872  Alnilam            53700.100064     1\n",
       "1999.592238  Alnilam            53697.142960     1\n",
       "860.436400   Rigel              120000.520311    1\n",
       "860.380398   Rigel              120004.722830    1\n",
       "860.377930   Rigel              119998.513928    1\n",
       "2000.372044  Alnilam            53702.880731     1\n",
       "2000.370237  Alnilam            53695.108958     1\n",
       "2000.344809  Alnilam            53697.717502     1\n",
       "2000.343977  Alnilam            53698.491214     1\n",
       "2000.299311  Alnilam            53701.629607     1\n",
       "2000.254557  Alnilam            53704.645711     1\n",
       "2000.231150  Alnilam            53703.682324     1\n",
       "2000.176216  Alnilam            53700.024456     1\n",
       "2000.138809  Alnilam            53697.570906     1\n",
       "2000.101081  Alnilam            53695.577226     1\n",
       "2000.088020  Alnilam            53702.761967     1\n",
       "2000.087786  Alnilam            53696.046872     1\n",
       "2000.046950  Alnilam            53704.550222     1\n",
       "2000.043565  Alnilam            53695.971759     1\n",
       "2000.019834  Alnilam            53700.347634     1\n",
       "1999.972250  Alnilam            53695.463420     1\n",
       "3.958408     Alpha Centauri B  -3.297188         1\n",
       "2600.459947  Deneb              195998.678674    1\n",
       "2600.396323  Deneb              196001.271260    1\n",
       "2600.384985  Deneb              195997.224026    1\n",
       "2600.295554  Deneb              195995.588732    1\n",
       "2600.219144  Deneb              195996.442778    1\n",
       "2600.203153  Deneb              196001.993837    1\n",
       "2600.154973  Deneb              196000.601933    1\n",
       "2600.118830  Deneb              196003.734874    1\n",
       "2600.054112  Deneb              196004.854081    1\n",
       "2600.041523  Deneb              196002.047522    1\n",
       "2600.003022  Deneb              195995.447483    1\n",
       "2599.960347  Deneb              196004.342401    1\n",
       "2599.953558  Deneb              195997.377312    1\n",
       "2599.945001  Deneb              195996.936393    1\n",
       "2599.918260  Deneb              195998.320084    1\n",
       "4.117936     Rigil Kentaurus    2.757814         1\n",
       "4.107727     Rigil Kentaurus    2.046545         1\n",
       "4.105591     Alpha Centauri B  -2.182645         1\n",
       "4.105156     Rigil Kentaurus    5.414416         1\n",
       "4.088695     Rigil Kentaurus    0.305073         1\n",
       "4.054202     Rigil Kentaurus    5.317357         1\n",
       "4.048885     Alpha Centauri B   4.695040         1\n",
       "4.044364     Alpha Centauri B  -4.549088         1\n",
       "4.039456     Rigil Kentaurus    0.262056         1\n",
       "4.021572     Rigil Kentaurus    4.237437         1\n",
       "4.009178     Rigil Kentaurus    4.520953         1\n",
       "4.006316     Rigil Kentaurus    4.719481         1\n",
       "3.996322     Rigil Kentaurus    1.626552         1\n",
       "3.996218     Alpha Centauri B  -2.598882         1\n",
       "3.978633     Rigil Kentaurus   -2.119236         1\n",
       "3.967075     Alpha Centauri B  -3.850902         1\n",
       "Name: count, dtype: int64"
      ]
     },
     "execution_count": 51,
     "metadata": {},
     "output_type": "execute_result"
    }
   ],
   "source": [
    "# lets see the luminosity column with respect to Distance column:\n",
    "\n",
    "df.groupby('Distance')[['Name', 'Luminosity']].value_counts().sort_values(ascending=False)"
   ]
  },
  {
   "cell_type": "code",
   "execution_count": 54,
   "metadata": {},
   "outputs": [
    {
     "data": {
      "image/png": "[encoded data removed]",
      "text/plain": [
       "<Figure size 1200x800 with 1 Axes>"
      ]
     },
     "metadata": {},
     "output_type": "display_data"
    }
   ],
   "source": [
    "# lets try to make a scatter plot of Luminosity with respect to Distance using matplotlib:\n",
    "\n",
    "plt.figure(figsize=(12, 8))\n",
    "plt.scatter(df['Luminosity'], df['Distance'], color='gold')\n",
    "plt.title(\"Scatter plot of Luminosity with respect to Distance\")\n",
    "plt.xlabel(\"Luminosity\")\n",
    "plt.ylabel(\"Distance\")\n",
    "plt.show()"
   ]
  },
  {
   "cell_type": "markdown",
   "metadata": {},
   "source": [
    "But the scatter plot is not clear, lets try to make a scatter plot using plotly so we can interact with the plot and can see each point clearly:\n"
   ]
  },
  {
   "cell_type": "code",
   "execution_count": 55,
   "metadata": {},
   "outputs": [
    {
     "data": {
      "image/png": "[encoded data removed]",
      "text/plain": [
       "<Figure size 1200x800 with 1 Axes>"
      ]
     },
     "metadata": {},
     "output_type": "display_data"
    }
   ],
   "source": [
    "plt.figure(figsize=(12, 8))\n",
    "fig.scatter(data=df, x='Luminosity', y='Distance', hue= 'Name', color='gold')\n",
    "plt.title(\"Scatter plot of Luminosity with respect to Distance\")\n",
    "plt.xlabel(\"Luminosity\")\n",
    "plt.ylabel(\"Distance\")\n",
    "plt.show()"
   ]
  },
  {
   "cell_type": "markdown",
   "metadata": {},
   "source": [
    "I've found another useful insight:\n",
    "\n",
    "* The **Deben star** has a luminosity of `2600.49` and  is `196.0026K` lights years away from the Earth.\n",
    "* The **Altair star** has a luminosity of `5.68` and is `3.877` lights years away from the Earth."
   ]
  },
  {
   "cell_type": "code",
   "execution_count": 56,
   "metadata": {},
   "outputs": [
    {
     "data": {
      "application/vnd.plotly.v1+json": {
       "config": {
        "plotlyServerURL": "https://plot.ly"
       },
       "data": [
        {
         "hovertemplate": "Name=Altair<br>Luminosity=%{x}<br>Distance=%{y}<extra></extra>",
         "legendgroup": "Altair",
         "marker": {
          "color": "#636efa",
          "symbol": "circle"
         },
         "mode": "markers",
         "name": "Altair",
         "orientation": "v",
         "showlegend": true,
         "type": "scatter",
         "x": [
          9.979192445462427,
          10.45707878952248,
          8.978258642897934,
          10.654505105436735,
          15.509653584166164,
          7.001586190285418,
          7.967577662722815,
          14.591181440400176,
          7.453787627075437,
          13.984383744732718,
          5.93326550747497,
          11.923057499670024,
          9.420447881017374,
          5.9053618375213,
          13.81675388246157,
          7.660100373406077,
          14.245027690727095,
          9.448611058586202,
          6.6168551339155055,
          13.692070293109474,
          12.700496302235546,
          10.12400801898782,
          7.5188985941992765,
          6.046501288662712,
          5.99788943061886,
          7.755495987710255,
          11.10562694107954,
          13.936622867381304,
          9.796254335014924,
          10.780866248875247,
          11.624212298411338,
          10.481825565277513,
          10.045330164781657,
          10.994983045438705,
          7.297870303573438,
          9.844031209497734,
          12.09829147440001,
          13.80452322428447,
          12.635282043125049,
          10.37855747391968,
          13.76552132295723,
          7.07921158123882,
          11.204367428023977,
          14.955319493691704,
          12.877132083863422,
          10.000669193136112,
          8.305906773624343,
          13.8468363143854,
          8.864437316819597,
          12.344819495591512,
          9.747816453214009,
          5.862808829513872,
          11.676240801306768,
          8.298347815555948,
          13.65940052736991,
          10.10010584380826,
          7.394938938729514,
          7.834658999592028,
          14.701676306464837,
          6.884995985017756,
          7.948793884207701,
          14.390175657466854,
          14.705710668003098,
          8.34484508306073,
          12.40258131836179,
          11.60218007055768,
          5.689354655912254,
          12.845622466715568,
          9.554275564559855,
          15.00853497168282,
          6.975771781193093,
          10.39101273787362,
          5.998470578062234,
          11.776186568379096
         ],
         "xaxis": "x",
         "y": [
          16.59417123707501,
          16.324631801826886,
          16.97783483438638,
          16.481723812762002,
          17.004752557357463,
          16.790538913857493,
          17.114041468810747,
          16.342681874475897,
          16.515550441516513,
          16.650909255277465,
          16.90978103577815,
          16.673538512166857,
          17.031047210189243,
          16.334612838722375,
          17.126532940989705,
          16.841284457536943,
          16.73976423176716,
          16.30343825476463,
          16.817757811872315,
          16.775344887638514,
          16.962965725071445,
          16.305159249689783,
          16.428114807916586,
          16.650873710554336,
          16.754464460371924,
          16.723699215336318,
          17.07909134160172,
          16.431583556207517,
          16.597555199697663,
          16.80481859931867,
          16.413501979632134,
          16.688705570405098,
          16.69885844192648,
          16.515448932210074,
          16.5633005475685,
          16.304756370563133,
          16.37496066970492,
          16.93853726095821,
          16.738703832546104,
          17.19019344606041,
          16.652395810820618,
          16.427968131235406,
          16.79957336533521,
          16.865327747799885,
          16.28254828170139,
          16.586513640803055,
          16.84594097685513,
          16.259098046844812,
          17.02245126935604,
          16.23721181862846,
          16.48246411572928,
          16.693808179094987,
          16.815484644936603,
          16.384894337466907,
          16.720463318238917,
          16.775942941441293,
          16.68375873060525,
          16.474888428566707,
          16.964525968063487,
          17.142746638457286,
          17.15840501478534,
          17.11637322103638,
          16.517311315754984,
          16.81698343653392,
          16.56786756498236,
          16.546804536638334,
          16.40951171231661,
          16.933845755838053,
          16.70733129032844,
          16.5028339871533,
          17.15474181167015,
          17.111919168917005,
          16.874372018837036,
          17.12154390276971
         ],
         "yaxis": "y"
        },
        {
         "hovertemplate": "Name=Deneb<br>Luminosity=%{x}<br>Distance=%{y}<extra></extra>",
         "legendgroup": "Deneb",
         "marker": {
          "color": "#EF553B",
          "symbol": "circle"
         },
         "mode": "markers",
         "name": "Deneb",
         "orientation": "v",
         "showlegend": true,
         "type": "scatter",
         "x": [
          196002.62785575088,
          195996.44277808975,
          195998.9041368802,
          195997.22402582655,
          196001.99383714548,
          196004.85408062232,
          196000.71131056777,
          196001.81828846317,
          196003.7348740918,
          196002.77831016888,
          195999.36817978608,
          195998.6786735644,
          195996.93639287664,
          195998.3200841476,
          196003.52462449897,
          196000.6019332607,
          196004.3424013923,
          195996.36536262257,
          196002.04752224212,
          196001.2712595682,
          196000.73776624585,
          195995.5887320421,
          195995.0992175819,
          195997.37731195983,
          195995.4474828539
         ],
         "xaxis": "x",
         "y": [
          2600.4907228269035,
          2600.219144334045,
          2599.541671531891,
          2600.3849852172243,
          2600.203153160722,
          2600.054111698248,
          2599.531004708632,
          2599.843961974584,
          2600.1188300320887,
          2599.853939051221,
          2599.608738332849,
          2600.459947369687,
          2599.9450011255235,
          2599.918259573627,
          2599.839828825722,
          2600.154973128097,
          2599.9603466154435,
          2599.585898833314,
          2600.041523441383,
          2600.396323397126,
          2599.878637146332,
          2600.295553700053,
          2599.6979557308987,
          2599.9535579119542,
          2600.0030216501546
         ],
         "yaxis": "y"
        },
        {
         "hovertemplate": "Name=Barnard's Star<br>Luminosity=%{x}<br>Distance=%{y}<extra></extra>",
         "legendgroup": "Barnard's Star",
         "marker": {
          "color": "#00cc96",
          "symbol": "circle"
         },
         "mode": "markers",
         "name": "Barnard's Star",
         "orientation": "v",
         "showlegend": true,
         "type": "scatter",
         "x": [
          4.893715684187678,
          -1.496486252327392,
          -4.612503609841812,
          3.922475110995184,
          -3.458954828068621,
          -0.6905551570802375,
          -3.3303098730228937,
          -4.202962127667188,
          -1.9476137463014969,
          -1.4261367429859866,
          2.784926734236038,
          3.1016816563223246,
          0.5782857917849586,
          3.630472409736576,
          -2.1071580871904065,
          -4.382996087407797,
          4.339780518389593,
          4.2615291791448895,
          -2.18689689184772,
          -1.2413399237183214,
          3.219268580719352,
          -0.9684916387749308,
          1.224626677565773,
          -0.1239438734321857,
          -1.2840939008158352,
          0.552561765814839,
          -2.2458142045094536,
          3.443943758367646,
          -3.2113888363806904,
          1.5172684861294066,
          -0.6037036495492716,
          -4.366184134543582,
          4.492661755525925,
          -4.630582788127063,
          2.2056294360251103,
          4.956944233778123,
          3.776002236769029,
          -3.172253923292721
         ],
         "xaxis": "x",
         "y": [
          6.052616358474774,
          5.902391663373468,
          6.274309005192113,
          6.210116619871699,
          5.5635565189978085,
          6.102187239521027,
          6.098594827311291,
          6.066146574141507,
          5.77531813296572,
          5.503354374007524,
          6.035977135751383,
          5.46425033457099,
          5.754938969408459,
          6.05724013797307,
          5.644066736935094,
          5.686720695342739,
          6.00647519555047,
          6.260851555777831,
          6.450229446881884,
          5.617672919304961,
          5.702119231490174,
          6.145792735966175,
          6.036902451485217,
          6.213758808682438,
          6.35870919542279,
          6.180499325090577,
          6.065584934966928,
          6.1037262692147225,
          6.178068736680354,
          6.378422052335232,
          5.628109879472458,
          5.702693106793509,
          5.671834859957071,
          5.901894921078882,
          5.9787983279270085,
          6.187165630701091,
          5.621799128520018,
          5.938951989691774
         ],
         "yaxis": "y"
        },
        {
         "hovertemplate": "Name=Polaris<br>Luminosity=%{x}<br>Distance=%{y}<extra></extra>",
         "legendgroup": "Polaris",
         "marker": {
          "color": "#ab63fa",
          "symbol": "circle"
         },
         "mode": "markers",
         "name": "Polaris",
         "orientation": "v",
         "showlegend": true,
         "type": "scatter",
         "x": [
          2196.241933606857,
          2197.4846549730764,
          2202.925953103468,
          2201.18953421918,
          2197.4579935613187,
          2203.214692898426,
          2195.0085355638607,
          2197.339350822904,
          2202.3045046501984,
          2203.005803953794,
          2203.051863296195,
          2202.7485906334337,
          2198.062243311905,
          2203.945872499883,
          2198.72289037108,
          2200.8845552906755,
          2202.2714289370924,
          2204.140987050643,
          2204.9741518094293,
          2196.226916249681,
          2204.7744128785384,
          2198.194030166668,
          2199.635235827846,
          2195.067221132704,
          2195.050035386478,
          2196.0992646991317,
          2199.089387691352,
          2195.186971182001,
          2202.0033277855146,
          2203.512057055408,
          2201.6145592702355,
          2201.568275855691,
          2197.7574673579934,
          2204.3731029077067,
          2202.453953629112
         ],
         "xaxis": "x",
         "y": [
          322.6010015236985,
          323.4890826975579,
          323.4772161689265,
          322.7090337593032,
          322.7829657396212,
          322.69367242714384,
          323.18740651993204,
          323.2942868029988,
          322.63039128938027,
          323.25830287505704,
          322.502155570597,
          322.5390777157187,
          322.5304351797596,
          322.93613956377834,
          323.3420917477968,
          322.6559353305563,
          322.61059291404024,
          322.5864706417702,
          323.0346750980348,
          323.4573642516834,
          322.7489734191514,
          323.407738492318,
          323.329059044209,
          323.2911371694931,
          323.04614166377024,
          322.6683138284829,
          322.8440108934349,
          323.0169808270724,
          322.9494783167867,
          322.96013716898085,
          323.17960144669274,
          323.46676302972094,
          322.62947492209986,
          322.9599285464444,
          322.9314640081101
         ],
         "yaxis": "y"
        },
        {
         "hovertemplate": "Name=Sirius<br>Luminosity=%{x}<br>Distance=%{y}<extra></extra>",
         "legendgroup": "Sirius",
         "marker": {
          "color": "#FFA15A",
          "symbol": "circle"
         },
         "mode": "markers",
         "name": "Sirius",
         "orientation": "v",
         "showlegend": true,
         "type": "scatter",
         "x": [
          25.62536254052454,
          27.612290603452436,
          29.685053444507503,
          30.363211555162465,
          23.018882776264523,
          25.31721426439794,
          28.76621832359772,
          24.461618038155763,
          27.883155142457618,
          29.619564748597867,
          26.254898678554596,
          23.56576836319067,
          25.384186490272075,
          29.16357398996048,
          20.84804006058376,
          27.26808229601517,
          23.40538815530837,
          28.426852478106365,
          28.84297765497225,
          21.290729913681044,
          27.29089566573881,
          21.835288048407183,
          29.99466737200932,
          22.57276367080033,
          26.458827123826996,
          29.618483550540468,
          23.77685282217612,
          29.61806382751717,
          23.052795889147824,
          21.8857341790593,
          21.65704825246408,
          23.937961722565305,
          28.370754902069887,
          24.17011927398116
         ],
         "xaxis": "x",
         "y": [
          8.370045208990435,
          8.997561546118135,
          8.790939416886154,
          8.40488504234644,
          8.178965638409595,
          9.003723782469484,
          8.42964716497559,
          8.97905760209878,
          8.910964990477838,
          8.95764006062001,
          8.22699804145759,
          8.581163580860268,
          8.650238632854773,
          8.592832833642735,
          8.872982082035527,
          8.792950012705772,
          8.355424038148003,
          8.161295441784544,
          8.441644923384983,
          8.217525695491645,
          8.514812239311194,
          8.294591987099164,
          8.165437979968027,
          8.450983252622061,
          8.696116019165396,
          8.125496220548296,
          8.131880808724219,
          8.417698116123512,
          8.99668874623692,
          8.609892014115287,
          8.786491000164645,
          8.52608695906616,
          8.322247873554318,
          8.153862547872297
         ],
         "yaxis": "y"
        },
        {
         "hovertemplate": "Name=Fomalhaut<br>Luminosity=%{x}<br>Distance=%{y}<extra></extra>",
         "legendgroup": "Fomalhaut",
         "marker": {
          "color": "#19d3f3",
          "symbol": "circle"
         },
         "mode": "markers",
         "name": "Fomalhaut",
         "orientation": "v",
         "showlegend": true,
         "type": "scatter",
         "x": [
          19.314803198342823,
          20.8052240111299,
          12.761776780006509,
          19.078458000505695,
          15.012057956491532,
          20.46915048265418,
          20.863466303473007,
          18.9475032580188,
          19.023124550190577,
          15.472854803761289,
          19.240019388477,
          18.708421317411396,
          15.639550015309691,
          12.367104855009664,
          13.070027808524156,
          18.07211473917685,
          19.65366201902202,
          15.593328911780318,
          21.436023244445632,
          21.01584823433142,
          16.74259464502824,
          16.57558732704546,
          15.016026009991702,
          18.722897335306826,
          17.721002225949256,
          16.135837070261726,
          13.7039415589256,
          13.95897110941888,
          13.00282551613866,
          17.6590827182039,
          15.87277895997164
         ],
         "xaxis": "x",
         "y": [
          25.42303189349805,
          25.040609497955693,
          24.739227835351564,
          24.94774315643359,
          25.376635374231352,
          25.395341516452056,
          25.132967410517995,
          24.908006486525945,
          24.63695818655648,
          25.291726752209044,
          24.787814094086,
          24.93993408396935,
          24.801334879905827,
          24.52798083660612,
          25.44873361843539,
          24.50867740612027,
          24.70632087566867,
          25.11565259218312,
          24.843117080136956,
          24.88012046688512,
          24.987398402267782,
          25.302837879907862,
          24.59512350793306,
          25.023792942363187,
          25.057041949883786,
          24.506784896336363,
          24.674402107140622,
          24.579087741348825,
          25.35547709191822,
          24.87807509525689,
          25.387269675813
         ],
         "yaxis": "y"
        },
        {
         "hovertemplate": "Name=Capella<br>Luminosity=%{x}<br>Distance=%{y}<extra></extra>",
         "legendgroup": "Capella",
         "marker": {
          "color": "#FF6692",
          "symbol": "circle"
         },
         "mode": "markers",
         "name": "Capella",
         "orientation": "v",
         "showlegend": true,
         "type": "scatter",
         "x": [
          77.46654686278187,
          76.75397466518646,
          78.47758735453107,
          80.53611367039014,
          77.7419793077256,
          80.31893393586179,
          81.73207831773567,
          78.6261618921119,
          78.15928520691827,
          82.18179589209237,
          74.3084242293209,
          83.53213620184849,
          80.9564806125028,
          75.85204596899882,
          77.89996416831873,
          82.71423020357825,
          76.53137693582548,
          79.81176567485554,
          75.6656528468021,
          79.236390220434,
          80.1562183943607,
          81.33187389246322,
          79.25135468067211,
          81.76850910449821,
          80.55609974454067,
          82.12800808127493,
          78.78259516215284,
          74.82324607778462,
          82.8004754713212,
          78.99888567363215,
          74.5898698350332,
          81.66897522329074,
          73.79446502380395,
          80.73590843810881,
          81.9754180341863,
          81.28907430396127,
          78.46786794169049,
          79.43865609980435,
          78.42806415411815
         ],
         "xaxis": "x",
         "y": [
          42.56957816453575,
          43.260858866113374,
          43.23983836385828,
          42.98764050809396,
          42.80414644083066,
          42.66191607008856,
          42.90883268003728,
          42.42640506726292,
          43.18977231526731,
          42.62172687540109,
          43.24996496461586,
          43.26898110439547,
          43.15465762520267,
          42.647659674923545,
          42.65444955623385,
          42.7217314040785,
          43.06712827854447,
          43.18112317773428,
          43.36976619606791,
          42.52419176794727,
          43.22182719528961,
          42.85177613657468,
          42.57067975593808,
          43.353461047980645,
          42.601051224886014,
          42.86175604553599,
          42.66974559185838,
          43.20824019631963,
          42.93959400923444,
          43.168855975372594,
          42.58145468080607,
          42.88148825879285,
          42.40535655093325,
          42.94182808506701,
          43.32463110238659,
          42.81063050433714,
          43.341857133248425,
          43.325316068120735,
          43.28991991209135
         ],
         "yaxis": "y"
        },
        {
         "hovertemplate": "Name=Bellatrix<br>Luminosity=%{x}<br>Distance=%{y}<extra></extra>",
         "legendgroup": "Bellatrix",
         "marker": {
          "color": "#B6E880",
          "symbol": "circle"
         },
         "mode": "markers",
         "name": "Bellatrix",
         "orientation": "v",
         "showlegend": true,
         "type": "scatter",
         "x": [
          6399.344000391582,
          6396.460553762988,
          6402.532053023128,
          6403.480526616087,
          6401.125654435876,
          6398.706399629343,
          6400.473393470613,
          6400.045563495309,
          6401.703522703113,
          6400.6876528621815,
          6403.26717033482,
          6397.415458459581,
          6396.281240197269,
          6398.615400878229,
          6397.076711841578,
          6401.595201030681,
          6399.823852098992,
          6398.402468120222,
          6403.986083369588,
          6399.860707647494,
          6396.904484917012,
          6401.369851611912,
          6403.880675893539,
          6395.26517269466,
          6397.660532171655,
          6402.769654543594,
          6395.94572852049,
          6397.123276113184,
          6397.114822384684,
          6403.603918761972,
          6400.46860322045,
          6399.16773375399,
          6404.804362304079,
          6400.714790021413,
          6403.889346672703,
          6401.015853487317,
          6397.02015894308
         ],
         "xaxis": "x",
         "y": [
          239.8641071043128,
          240.396008875072,
          239.75802627864445,
          240.3505524329565,
          239.79573031544,
          240.30865829394963,
          239.8047158847297,
          239.7466586927296,
          240.11729164012905,
          240.38937400299517,
          239.8107170031412,
          239.93285610754845,
          239.69414728045675,
          239.678280484485,
          240.46546493984692,
          240.4177991738177,
          240.1604825490851,
          240.12473609943655,
          239.8922067354819,
          239.8768554783536,
          240.03574000164505,
          240.4175407764292,
          239.8303416160717,
          240.11588978221369,
          240.49816951913863,
          240.355324424342,
          240.0939753540742,
          239.8539329933873,
          239.93656975922684,
          239.62482417096467,
          239.83337339555476,
          239.59086023679924,
          239.77263433505863,
          240.00407319071869,
          240.3954565777999,
          239.66547315750975,
          239.7632940871353
         ],
         "yaxis": "y"
        },
        {
         "hovertemplate": "Name=Castor<br>Luminosity=%{x}<br>Distance=%{y}<extra></extra>",
         "legendgroup": "Castor",
         "marker": {
          "color": "#FF97FF",
          "symbol": "circle"
         },
         "mode": "markers",
         "name": "Castor",
         "orientation": "v",
         "showlegend": true,
         "type": "scatter",
         "x": [
          59.93364175572123,
          52.46460236565418,
          57.564078324527344,
          54.098680128048926,
          57.40613996148579,
          52.55239172717802,
          59.20488222648442,
          52.38529121936184,
          58.00481211390884,
          50.77458294296149,
          54.099526820783055,
          56.54850720582925,
          59.0355874758756,
          56.21992365681511,
          59.50799082713559,
          55.54003542527262,
          52.94996722654462,
          57.74910943563771,
          52.94281733759341,
          59.27555252752218,
          57.72693991417189,
          56.46782683458471,
          50.973167617405885,
          52.029091298701935,
          51.98803266275879,
          53.5483598096434,
          53.420925001184415,
          53.77756011373539,
          57.40130214754959,
          51.875004243619685,
          50.44141160659301,
          53.89518718567312,
          55.15138478627919,
          58.30249455419998,
          50.92786348408169,
          57.52238849379824,
          53.15103578649683,
          51.51081940941651,
          56.68355462603443
         ],
         "xaxis": "x",
         "y": [
          51.57021005818902,
          52.3208563941243,
          51.687127344898485,
          52.31788545862922,
          51.78867651717732,
          51.78765008596086,
          51.65717046093253,
          52.33739487109884,
          52.15011540693591,
          51.96002579241676,
          52.22988431306953,
          52.11930609709243,
          51.63546472562079,
          51.6442785808902,
          51.524741869292015,
          52.23783288286487,
          52.00232623896764,
          51.92513481887208,
          52.16408562397163,
          51.71719885193044,
          51.69175345874459,
          51.70958451784467,
          52.05461972836282,
          52.131041124741245,
          52.457966963372506,
          51.65789051774216,
          52.32699048051961,
          51.57416859712489,
          52.008251054307145,
          51.630997393351066,
          52.201794739444864,
          52.29678817113823,
          52.3205784802262,
          51.511786774568165,
          51.98304877115079,
          51.75737010489582,
          51.71998908353143,
          51.94700108831837,
          51.72532804583004
         ],
         "yaxis": "y"
        },
        {
         "hovertemplate": "Name=Hadar<br>Luminosity=%{x}<br>Distance=%{y}<extra></extra>",
         "legendgroup": "Hadar",
         "marker": {
          "color": "#FECB52",
          "symbol": "circle"
         },
         "mode": "markers",
         "name": "Hadar",
         "orientation": "v",
         "showlegend": true,
         "type": "scatter",
         "x": [
          49995.691816097984,
          50002.88500095002,
          50002.53452639178,
          50000.69303998948,
          50003.29860598514,
          50004.94895125297,
          49998.71828587879,
          49995.72669531548,
          50003.437434998974,
          50004.815878851376,
          49997.88363907442,
          49999.43621440881,
          50001.855266313454,
          49995.66255771765,
          50003.18445783784,
          49996.93606004356,
          49997.02136689043,
          49998.0695274668,
          49997.805725309554,
          50000.28166873743,
          50001.10395171099,
          49997.251393633545,
          49999.05801525981,
          50000.7563298815,
          50002.65489578048,
          49995.52898582493,
          50001.54561858535,
          49999.83035343599,
          50001.30848857186,
          50004.78063934145,
          50003.86564599455,
          49995.77634359074,
          50002.19425747596,
          49996.40808398428,
          50001.5153382736,
          50001.20894607176,
          49995.77038141611,
          49995.74961911704,
          49995.52830393315,
          50003.56016712869,
          49995.84780935522,
          50002.60389297427,
          49998.3383894348,
          50002.06465870077,
          49997.50659083093
         ],
         "xaxis": "x",
         "y": [
          349.6510239295208,
          350.3393282903268,
          349.8378240849879,
          349.98072783140907,
          349.89703894408365,
          349.8618670626462,
          349.85840398022134,
          350.1211769454686,
          349.54803179030006,
          349.70525337779173,
          349.9265432643831,
          349.74627308407605,
          350.2825075248128,
          350.48265904666846,
          349.9233971467892,
          350.1548367045636,
          349.9762351065161,
          349.8025258945259,
          349.53181444637727,
          349.5763036550494,
          349.7007690438944,
          350.3462163095896,
          349.6884498607735,
          349.98310298123266,
          350.2597782764712,
          350.42067052185126,
          349.98215646428145,
          350.00026107700785,
          349.64750946004904,
          349.7751079221616,
          350.0482509324234,
          349.67138194692,
          350.3995833001828,
          350.4252257682298,
          349.9788637308732,
          350.25905864555745,
          349.9815410499482,
          349.6886337761157,
          349.625907898617,
          349.97949588756546,
          349.5488295994064,
          350.16977117417395,
          349.75553952552616,
          350.47273331783754,
          350.3016438778805
         ],
         "yaxis": "y"
        },
        {
         "hovertemplate": "Name=Betelgeuse<br>Luminosity=%{x}<br>Distance=%{y}<extra></extra>",
         "legendgroup": "Betelgeuse",
         "marker": {
          "color": "#636efa",
          "symbol": "circle"
         },
         "mode": "markers",
         "name": "Betelgeuse",
         "orientation": "v",
         "showlegend": true,
         "type": "scatter",
         "x": [
          125997.20910038544,
          125997.82193788076,
          125995.18267169304,
          126000.10150499652,
          125998.59509722542,
          125996.07898971764,
          125995.07325895016,
          126001.74686159294,
          126004.80652062806,
          126004.1780460636,
          125998.30283452646,
          126002.55580263576,
          126000.7909588918,
          126003.277178296,
          126001.59526536078,
          125996.53351669673,
          126000.56704612002,
          126004.33011528917,
          125995.74018464192,
          125998.15810975224,
          126004.556729769,
          126000.91426019296,
          126002.95958230011,
          126003.57941062372,
          125999.7058492993,
          125998.07097370524,
          125999.82301556024,
          125999.46554318476,
          126000.70393546818,
          126001.85035674136,
          126004.9078150664,
          126003.923585333,
          125995.41518186204,
          126002.66983139454,
          126002.01938722764,
          125999.93767974032,
          126001.05324147757,
          126001.97593175896,
          125996.3998222032,
          126002.76484556652,
          126002.63813670116,
          126002.12138920804,
          126004.68469642336,
          126001.69509064496
         ],
         "xaxis": "x",
         "y": [
          642.4036425044302,
          642.4501483192605,
          642.1986705590544,
          642.1530702565499,
          642.0262242230878,
          642.1523114825334,
          642.4002182709401,
          642.4314171166554,
          642.7132328379636,
          642.9734496672988,
          642.6457930899971,
          642.6088452768547,
          642.8715692674214,
          642.5531284859233,
          642.5688338268451,
          642.7606943182192,
          642.3796736220082,
          642.6993191749599,
          642.2406798816608,
          642.7086272299188,
          642.9528733444157,
          642.2465107194334,
          642.9357776183036,
          642.7417653348303,
          642.5351051185136,
          642.2829746395311,
          642.9649766370246,
          642.3397970219621,
          642.6428013612522,
          642.5944222595335,
          642.7547888998598,
          642.7994618404347,
          642.4543021202028,
          642.0286903282115,
          642.2428428824071,
          642.1508982777278,
          642.6498975327032,
          642.9972303663835,
          642.0106189270315,
          642.8476080979914,
          642.9028035649651,
          642.9506962383331,
          642.896853479847,
          642.1716997467348
         ],
         "yaxis": "y"
        },
        {
         "hovertemplate": "Name=Regulus<br>Luminosity=%{x}<br>Distance=%{y}<extra></extra>",
         "legendgroup": "Regulus",
         "marker": {
          "color": "#EF553B",
          "symbol": "circle"
         },
         "mode": "markers",
         "name": "Regulus",
         "orientation": "v",
         "showlegend": true,
         "type": "scatter",
         "x": [
          290.3679076360734,
          292.77713927994625,
          283.3313068914609,
          289.1046797165257,
          287.2472405244145,
          284.3075843561486,
          283.1518425898611,
          286.1262199301582,
          291.3198765189602,
          291.53808793659346,
          287.59429416197145,
          290.5810269103057,
          286.9002630101488,
          291.6242019956963,
          291.897968511475,
          284.6113183408361,
          290.753427669009,
          284.0131576044764,
          289.64944522566566,
          283.8012330687599,
          288.3480381307577,
          291.23101596438744,
          292.2930937776625,
          290.70024983213216,
          291.10560374811564,
          289.3498810069176
         ],
         "xaxis": "x",
         "y": [
          79.14834001968553,
          78.8696975851003,
          79.23841041664882,
          78.51275351482992,
          79.37549284128201,
          79.457885087804,
          78.84980314077531,
          78.6610515633756,
          78.60906106487893,
          79.46905039034043,
          78.52313741046954,
          79.02170301809184,
          79.38640904460017,
          79.24977426857156,
          79.3430014654726,
          79.25123296644107,
          78.53223893334071,
          79.22183035219693,
          78.7038439341687,
          79.03647559318077,
          79.26907248189737,
          79.18589591612577,
          78.7031566878579,
          79.2976565838651,
          79.08867706312137,
          78.57997164692497
         ],
         "yaxis": "y"
        },
        {
         "hovertemplate": "Name=Mira<br>Luminosity=%{x}<br>Distance=%{y}<extra></extra>",
         "legendgroup": "Mira",
         "marker": {
          "color": "#00cc96",
          "symbol": "circle"
         },
         "mode": "markers",
         "name": "Mira",
         "orientation": "v",
         "showlegend": true,
         "type": "scatter",
         "x": [
          8700.111885115977,
          8697.78504078488,
          8702.983016446178,
          8699.413953474097,
          8697.873320471392,
          8704.780649511065,
          8699.459630086449,
          8695.76542169597,
          8702.919445956213,
          8702.628165997337,
          8702.747824718203,
          8700.674611535678,
          8695.285930090933,
          8700.5674109947,
          8699.480336707316,
          8695.087924765674,
          8701.972674557059,
          8701.822617753161,
          8695.33991203142,
          8701.315925356654,
          8695.589846031997,
          8704.120455744414,
          8699.858562700023,
          8700.068256603763,
          8698.967657743355,
          8698.01996291219,
          8702.813860527409,
          8698.681150673214,
          8695.237868855855,
          8702.202833665075,
          8701.197585745507,
          8703.371448664344,
          8704.173393016803,
          8697.462716703521,
          8697.641481122131,
          8704.185431731014,
          8702.898481160859
         ],
         "xaxis": "x",
         "y": [
          418.3541533597022,
          418.215323235124,
          417.73968452269605,
          418.4800274472216,
          417.96038900748766,
          418.2183952968461,
          418.17093478352064,
          417.69434190620393,
          417.7833122552771,
          418.0577769995517,
          417.9698200829036,
          417.8076208586674,
          418.2559404634954,
          418.2175842849551,
          418.40207144643017,
          417.5715531818814,
          418.19637656568926,
          417.73665480621816,
          417.5442981212012,
          418.3989107239932,
          418.1733391023294,
          418.027891124594,
          417.7473616627305,
          417.6635767540674,
          418.10374930422336,
          418.4812503161386,
          417.6039056772467,
          417.9030258925673,
          418.2024794852146,
          417.9005443831684,
          418.32320166950245,
          418.147076017426,
          417.540276775724,
          417.5275405223786,
          417.5482494592996,
          417.695788448091,
          418.4702428657292
         ],
         "yaxis": "y"
        },
        {
         "hovertemplate": "Name=Acrux<br>Luminosity=%{x}<br>Distance=%{y}<extra></extra>",
         "legendgroup": "Acrux",
         "marker": {
          "color": "#ab63fa",
          "symbol": "circle"
         },
         "mode": "markers",
         "name": "Acrux",
         "orientation": "v",
         "showlegend": true,
         "type": "scatter",
         "x": [
          24995.85335225056,
          25000.424960003416,
          25002.45130495005,
          24997.637919736644,
          25001.97379001607,
          24999.998219227884,
          24999.47677803858,
          25004.094559395624,
          24995.384020357043,
          24999.882212098997,
          25000.175523659404,
          25004.818724393608,
          25001.51199891072,
          25003.204339520365,
          25001.13195855457,
          24999.132922504472,
          25003.59644188548,
          24998.5503809941,
          24996.03150391452,
          25004.06256504029,
          24997.62427883933,
          25004.514480134185,
          25000.378673015985,
          24996.39015491464,
          24999.57439378584,
          25004.963250979177,
          25002.57473766397,
          24998.437363538746,
          25001.43969557513,
          25004.66014302425
         ],
         "xaxis": "x",
         "y": [
          320.95215250850816,
          320.53588050006994,
          321.3978818285302,
          320.5863393634801,
          321.1642531708573,
          320.6812154330032,
          321.0192431558176,
          321.1982673917823,
          321.12567330882814,
          320.74846067676384,
          321.0172738889805,
          320.60318172049745,
          320.5859634991353,
          320.9124461243215,
          321.40395624936485,
          320.5587773374703,
          320.88683059183285,
          320.65320185737164,
          320.95371916990314,
          321.20334861362505,
          321.1664335654021,
          320.7411078477193,
          320.7317413396748,
          321.3696466801406,
          321.457318249747,
          320.5286601685961,
          320.5295666259734,
          321.2232979091321,
          320.7563597238534,
          320.8089994295918
         ],
         "yaxis": "y"
        },
        {
         "hovertemplate": "Name=Vega<br>Luminosity=%{x}<br>Distance=%{y}<extra></extra>",
         "legendgroup": "Vega",
         "marker": {
          "color": "#FFA15A",
          "symbol": "circle"
         },
         "mode": "markers",
         "name": "Vega",
         "orientation": "v",
         "showlegend": true,
         "type": "scatter",
         "x": [
          45.02639994513558,
          43.21333423901169,
          44.01956664255118,
          38.00891382001232,
          35.23872230380841,
          38.236535117812586,
          41.94883657141961,
          44.096087879563065,
          38.83227073761078,
          44.65672904821405,
          43.14300490476892,
          42.58073946132156,
          37.54171812892304,
          43.36477472469677,
          40.70030429351264,
          42.41615685855492,
          40.515480684043176,
          35.63708969609756,
          41.84243236145427,
          35.69348717683239,
          41.89763252503265,
          43.804966691716544,
          43.66237658662158,
          44.820504619636765,
          43.18165538748461,
          38.18906551332613,
          43.204179984989,
          45.0166194805538,
          44.60627511934049,
          42.20864976295121,
          36.15927611791007,
          39.76943362972408,
          43.235486536521336,
          44.87302213093578,
          42.61916652521285,
          41.49536785067348,
          41.61042724473538,
          35.27153115019188
         ],
         "xaxis": "x",
         "y": [
          25.40728672741662,
          25.02265608280089,
          25.32510113537497,
          24.53113047299527,
          25.145088627017778,
          24.959311232910533,
          25.47379567716754,
          25.021842852433267,
          24.796722904603456,
          25.06659451671611,
          25.48267392461975,
          25.06973647278645,
          24.71555489176861,
          24.85754244367429,
          24.55054654226796,
          25.215375947746416,
          24.921386227437697,
          24.645193901214096,
          25.05044976403771,
          24.892157888712624,
          24.737344606764864,
          25.249302017870196,
          25.473262447093777,
          24.517236143400165,
          24.905127460760955,
          24.75073833045015,
          24.86912746311316,
          25.224131593103422,
          24.563347691310778,
          25.30909291443033,
          24.975018144839115,
          25.424516219453206,
          24.905854171943336,
          24.84278806610825,
          25.009785593624624,
          24.803162930467373,
          24.65390624701162,
          24.77663590827652
         ],
         "yaxis": "y"
        },
        {
         "hovertemplate": "Name=Lalande 21185<br>Luminosity=%{x}<br>Distance=%{y}<extra></extra>",
         "legendgroup": "Lalande 21185",
         "marker": {
          "color": "#19d3f3",
          "symbol": "circle"
         },
         "mode": "markers",
         "name": "Lalande 21185",
         "orientation": "v",
         "showlegend": true,
         "type": "scatter",
         "x": [
          0.9306154071042486,
          2.681120395944034,
          -1.0184094871245468,
          -1.6420207674531937,
          1.5570754937375668,
          4.389365061208859,
          3.3547011813311096,
          -3.116117283278311,
          -1.5287605534413269,
          0.4066786400028192,
          -0.9381894217595698,
          -1.4953798799163285,
          0.9661196267349228,
          4.276646419296911,
          -2.730810514509012,
          -1.9823179200068184,
          4.295886834209269,
          -2.808369984959966,
          -0.6382579849313171,
          -4.850542159255809,
          2.9000896987662736,
          1.803849972144676,
          -1.028153800053883,
          3.9489165851514327,
          2.6433710990737387,
          3.2554514372729964,
          4.786238308759169
         ],
         "xaxis": "x",
         "y": [
          8.78389229917336,
          7.922999488356227,
          8.539132551448054,
          8.389619801046,
          8.657942790455385,
          8.600332846394044,
          8.552871356637239,
          8.326995952783522,
          8.16476186236918,
          8.268111532689437,
          8.383258213157267,
          8.144854579475982,
          8.778835112157529,
          8.399926954945043,
          8.287208290511906,
          8.26117326287019,
          8.649839719089691,
          7.976157703677068,
          8.459087059993356,
          8.787449488767088,
          8.34956214577482,
          8.080258523322932,
          8.172252612662689,
          8.728312637512095,
          8.439597133532216,
          8.703545490785453,
          8.731732298435377
         ],
         "yaxis": "y"
        },
        {
         "hovertemplate": "Name=Arcturus<br>Luminosity=%{x}<br>Distance=%{y}<extra></extra>",
         "legendgroup": "Arcturus",
         "marker": {
          "color": "#FF6692",
          "symbol": "circle"
         },
         "mode": "markers",
         "name": "Arcturus",
         "orientation": "v",
         "showlegend": true,
         "type": "scatter",
         "x": [
          169.47569492442693,
          167.67967953475542,
          173.1186537350129,
          171.1056762518648,
          165.8219515674998,
          169.13451268871574,
          165.9591367981943,
          166.92216610675578,
          173.39296258557283,
          169.2345433964546,
          172.6283509663686,
          172.62720869691438,
          169.17410203086075,
          173.91735348449976,
          170.39260600268693,
          174.01100320067363,
          170.20157618905327,
          171.13842474554625,
          169.0336812528439,
          167.8986947873451,
          169.51942011897793,
          170.0454143979509,
          174.7332915546677,
          167.96548996936522,
          171.06523787104854,
          171.08994172322014,
          166.1544445734457,
          174.5022470890357,
          165.74366585402294,
          174.47262087336912,
          173.085282002199,
          172.842832715623,
          167.9528635926058,
          170.48340920473868,
          174.12679191284548,
          169.66102859243858,
          172.01175458304988,
          167.57770365212474
         ],
         "xaxis": "x",
         "y": [
          36.39116253215857,
          36.23014602060893,
          36.55940961200518,
          36.66414022992508,
          36.246122455758346,
          37.0649256344522,
          36.501673392977565,
          36.60944251909364,
          36.4667172645417,
          36.54392155384341,
          36.23103318743993,
          36.32229979885953,
          36.72859011150761,
          36.36893818169971,
          36.85515697959471,
          36.20354839373127,
          36.24569176751628,
          37.06140162916029,
          36.91845733608466,
          36.51826937834501,
          36.90991186856271,
          37.06384846154293,
          36.20180573285442,
          36.55163108724785,
          36.24521475154246,
          37.06149127837728,
          36.200295183387695,
          36.90817729219896,
          36.631716763839854,
          36.88591656890159,
          36.982286233375945,
          37.0014027891288,
          36.83263226386889,
          36.40617807718751,
          36.77774268440709,
          36.28589805029394,
          36.9062477505712,
          36.3693563748995
         ],
         "yaxis": "y"
        },
        {
         "hovertemplate": "Name=Alpha Centauri B<br>Luminosity=%{x}<br>Distance=%{y}<extra></extra>",
         "legendgroup": "Alpha Centauri B",
         "marker": {
          "color": "#B6E880",
          "symbol": "circle"
         },
         "mode": "markers",
         "name": "Alpha Centauri B",
         "orientation": "v",
         "showlegend": true,
         "type": "scatter",
         "x": [
          -2.512423881556089,
          -2.5988815711687474,
          3.6839683429692047,
          -0.1948696275282258,
          4.336677893186863,
          0.9539660997456004,
          -1.7646167713238146,
          2.379877854751113,
          -1.8675040449466287,
          0.7910473169383339,
          4.0367179142966485,
          -2.897159041753857,
          -3.8018034621926975,
          5.4391034605528645,
          -2.182644939476517,
          -3.312680860880921,
          5.437406368831601,
          4.695039829686282,
          -3.297187675128017,
          3.150212948153516,
          0.7214286156354033,
          3.037716850015165,
          -3.8509017236860665,
          -4.549088213039762
         ],
         "xaxis": "x",
         "y": [
          3.9259386007692,
          3.996217713887833,
          4.661465963884386,
          4.191178428095684,
          4.604116282070338,
          4.233930259760326,
          4.603151026770734,
          3.927727273120638,
          4.500100880129606,
          3.879882255399028,
          3.8777984948209214,
          4.436330965784739,
          3.932656205796369,
          4.7356216586430016,
          4.105591040558226,
          4.292306288809428,
          4.416944668599744,
          4.048885138846404,
          3.9584080451775816,
          4.3968645150592645,
          4.734661764734593,
          4.808567597775965,
          3.96707536931122,
          4.044363778891645
         ],
         "yaxis": "y"
        },
        {
         "hovertemplate": "Name=Ross 154<br>Luminosity=%{x}<br>Distance=%{y}<extra></extra>",
         "legendgroup": "Ross 154",
         "marker": {
          "color": "#FF97FF",
          "symbol": "circle"
         },
         "mode": "markers",
         "name": "Ross 154",
         "orientation": "v",
         "showlegend": true,
         "type": "scatter",
         "x": [
          -0.2622128873565414,
          -3.6471413928808327,
          -3.572031571628307,
          -0.2259653731579062,
          3.5558108313769368,
          -1.8722454742468064,
          1.5629475832181847,
          -1.7548883850025496,
          4.882884323074658,
          1.1272223547577958,
          4.593223791929575,
          -1.2141279074839573,
          1.2972165822975552,
          2.5676550292690377,
          -1.9897561424831247,
          -1.7574069302212032,
          -3.719698732023374,
          -2.891393672737218,
          -2.197465144382473,
          4.204083163586541,
          0.2322507343030513,
          4.995794616096258,
          -4.25830044406204,
          2.325660828881204,
          -3.8029930871625424,
          -3.1054206734561505,
          0.6618484621567702,
          1.1161883918936018,
          -2.1016283109970986,
          2.1886629377110567,
          4.825136716868186,
          -0.136639504031176,
          -0.5758550149259771,
          3.220604016862652,
          0.0367068671568043,
          -3.391033640909636,
          -4.321045206678933,
          -3.867373936810584,
          -4.657914346992305,
          -4.904825044713256,
          3.743348217944461,
          1.316544666952884,
          -0.1663578165081136,
          4.97274435570182,
          4.002523195559234
         ],
         "xaxis": "x",
         "y": [
          9.584936005981074,
          9.93913784187845,
          9.61921476063749,
          9.762760206254509,
          9.457219736836048,
          10.114346873131268,
          9.48114273199893,
          9.907428254444897,
          9.979598917012972,
          10.082428468579502,
          9.509693473009362,
          9.613438425931394,
          9.38679526791198,
          9.26667513129312,
          9.744868120043323,
          9.261994125032585,
          9.553595958712544,
          9.413783915695811,
          9.395163970336052,
          9.620779679219527,
          9.69472307122112,
          9.323389346236947,
          10.01828345662197,
          10.17531367803396,
          9.958709975740945,
          9.338424894825856,
          9.6890022970437,
          9.343641962410093,
          9.42086549736674,
          9.54230139060007,
          9.394693710190698,
          9.73233499796961,
          9.66567571693894,
          9.50366119726744,
          9.25339808628094,
          9.540019221183613,
          10.043819467396546,
          9.404553220913916,
          9.423694155811315,
          9.389919670573615,
          9.386066440277858,
          9.496791091141016,
          10.01998897210816,
          9.452177745877758,
          9.195617903458349
         ],
         "yaxis": "y"
        },
        {
         "hovertemplate": "Name=Canopus<br>Luminosity=%{x}<br>Distance=%{y}<extra></extra>",
         "legendgroup": "Canopus",
         "marker": {
          "color": "#FECB52",
          "symbol": "circle"
         },
         "mode": "markers",
         "name": "Canopus",
         "orientation": "v",
         "showlegend": true,
         "type": "scatter",
         "x": [
          10500.304364175136,
          10497.613821111012,
          10502.614219521176,
          10501.328054061814,
          10496.34418086692,
          10500.701090322544,
          10496.17932647521,
          10500.535791916333,
          10495.295032892276,
          10496.35553659274,
          10501.356418248894,
          10501.282994165453,
          10499.156949397066,
          10504.045242465518,
          10495.91876068068,
          10495.782502652297,
          10502.983510922511,
          10500.971727121856,
          10499.979018032229,
          10496.598466117017,
          10497.81775664668,
          10501.834765231311,
          10499.510031335703,
          10504.654048072583,
          10504.519240373207,
          10504.380309759488,
          10499.900137740964,
          10500.98757952869,
          10504.27406349011,
          10501.168802287524,
          10504.088259861765,
          10497.8382083774,
          10499.655074189855,
          10496.030199977424,
          10504.63622854095,
          10503.548509647142,
          10499.8550745283,
          10502.148872748416,
          10499.697004945498,
          10497.145990895167,
          10503.31030234475,
          10500.111323871244,
          10503.437168869666,
          10497.374642244886,
          10500.157515440253,
          10496.109676275262,
          10500.052904901882,
          10495.060417002824
         ],
         "xaxis": "x",
         "y": [
          309.65595488089645,
          309.89434307337245,
          309.5332875345678,
          310.30248789941453,
          310.1123839470811,
          310.4339221913486,
          310.2691827891006,
          310.25752765758386,
          309.85247308584013,
          310.2172670982593,
          309.5953487649189,
          309.75776637760686,
          309.93058315209595,
          309.7226809100175,
          310.40561001383736,
          310.2208988524362,
          309.949279299694,
          309.5950008995232,
          309.7711209452154,
          310.0723523164608,
          310.3941896872438,
          309.5515680591836,
          309.745118342769,
          310.2130102878391,
          310.483900312148,
          309.59630094036703,
          310.4362927684538,
          310.4345692965066,
          310.4108600046048,
          309.87474133180893,
          309.6236031075072,
          310.48243578628234,
          309.91561703948685,
          310.44468131175495,
          310.4335412085039,
          309.6647970437859,
          309.92408716748804,
          310.1097294620209,
          309.7469731020621,
          309.79894282933685,
          309.70210821887525,
          309.9536271445739,
          309.7238415784254,
          309.85946184517417,
          310.38085606498896,
          310.1036731709541,
          309.78529838101207,
          310.35560420721504
         ],
         "yaxis": "y"
        },
        {
         "hovertemplate": "Name=Procyon<br>Luminosity=%{x}<br>Distance=%{y}<extra></extra>",
         "legendgroup": "Procyon",
         "marker": {
          "color": "#636efa",
          "symbol": "circle"
         },
         "mode": "markers",
         "name": "Procyon",
         "orientation": "v",
         "showlegend": true,
         "type": "scatter",
         "x": [
          11.09891870112007,
          8.573241191737985,
          11.179783704362094,
          11.483008311297528,
          11.03453099609397,
          5.556790524669831,
          4.568259386078665,
          4.578402287038895,
          10.41549792084328,
          4.454008562762063,
          4.046192932336076,
          11.127636055713175,
          11.111696301057986,
          3.939340636647584,
          4.76949576438661,
          10.449552952648414,
          10.356550330420028,
          8.557845789578323,
          9.344709778320803,
          4.084635008945639,
          4.204794097541385,
          7.10025729213628,
          9.101577122041768,
          6.549661020142606,
          11.684858374677258,
          3.161934538336132,
          10.77236733632881,
          4.935287891672165,
          12.218862119908533,
          11.923795878328828
         ],
         "xaxis": "x",
         "y": [
          11.361710078531988,
          10.930399214053107,
          11.548017997505934,
          11.232801031989052,
          11.734879069041147,
          11.811384418414272,
          11.853186614150347,
          11.633141363707043,
          11.729222953510115,
          11.221180880093732,
          11.099357364573128,
          11.561154029092972,
          11.37786080726909,
          11.678427502003084,
          11.282775707529195,
          10.90120355498424,
          11.652618800686213,
          11.27128784093913,
          11.462361693741704,
          11.856853389499038,
          11.71537044507152,
          11.717346818680609,
          11.519994192475885,
          11.337639813967616,
          11.183020782895095,
          11.377881859460956,
          11.533949262456211,
          10.920471755944988,
          11.146881937080314,
          11.591330421111849
         ],
         "yaxis": "y"
        },
        {
         "hovertemplate": "Name=Wolf 359<br>Luminosity=%{x}<br>Distance=%{y}<extra></extra>",
         "legendgroup": "Wolf 359",
         "marker": {
          "color": "#EF553B",
          "symbol": "circle"
         },
         "mode": "markers",
         "name": "Wolf 359",
         "orientation": "v",
         "showlegend": true,
         "type": "scatter",
         "x": [
          3.518164733709185,
          -4.9033579226853,
          0.2445037639812341,
          -0.5237519388581489,
          4.928126803872541,
          2.266088270736416,
          -2.6993031727412533,
          3.1435833625883096,
          -1.5632476218580127,
          -2.54824077781722,
          4.649196811314523,
          3.936431623279447,
          -4.932927078405668,
          4.371104753943822,
          -4.811598694045935,
          -2.3500029874210884,
          1.2352036190162132,
          -4.99314130236977,
          -4.305228812321653,
          -4.935052823532525,
          -4.43510093589817,
          3.484204727275103
         ],
         "xaxis": "x",
         "y": [
          8.040322484690764,
          7.987098773049044,
          8.117918695659103,
          7.494513484605815,
          7.573447101024423,
          7.999848244547756,
          7.93457653564171,
          7.692989324958735,
          7.582497882510385,
          8.201477766291974,
          7.281173811634308,
          7.342543595813701,
          8.045698163666097,
          7.844657382582614,
          8.049625037667944,
          8.193452392455221,
          7.408588147182553,
          7.831985513140465,
          7.842217830165789,
          7.509380536781729,
          7.455714961927049,
          8.139786203659344
         ],
         "yaxis": "y"
        },
        {
         "hovertemplate": "Name=Antares<br>Luminosity=%{x}<br>Distance=%{y}<extra></extra>",
         "legendgroup": "Antares",
         "marker": {
          "color": "#00cc96",
          "symbol": "circle"
         },
         "mode": "markers",
         "name": "Antares",
         "orientation": "v",
         "showlegend": true,
         "type": "scatter",
         "x": [
          10004.888893429816,
          9997.61131020143,
          9999.116102372378,
          9997.105346601093,
          10003.583240374615,
          9998.673327093757,
          9995.999324590084,
          10003.064238945664,
          10001.944639646785,
          9996.784007026225,
          10003.85036307666,
          10004.657720081826,
          10004.598266981331,
          10003.242024216936,
          9997.044095222524,
          10000.229128287729,
          9996.300622803004,
          10004.217631330948,
          10001.091527688566,
          10001.124556352735,
          10000.56939462944,
          9996.691025435097,
          9998.226736233071,
          10002.393406132604,
          9995.650236150686,
          10001.25706401134
         ],
         "xaxis": "x",
         "y": [
          549.8094446057289,
          550.3341533847138,
          550.2111451274665,
          550.0925105716918,
          549.6020841306806,
          550.0793115802902,
          550.4834100624427,
          549.6326078449839,
          549.8792884370044,
          549.6671549550567,
          549.601840549149,
          550.1496804937102,
          550.15747463314,
          549.7495418978335,
          549.5110445555379,
          550.3257829728522,
          549.6919169775477,
          549.5976615005139,
          549.9795888740322,
          550.2150054467941,
          549.9015809654044,
          550.3668196570269,
          550.0648277783677,
          550.3810400697355,
          549.9204623386546,
          549.8508372630931
         ],
         "yaxis": "y"
        },
        {
         "hovertemplate": "Name=Alnilam<br>Luminosity=%{x}<br>Distance=%{y}<extra></extra>",
         "legendgroup": "Alnilam",
         "marker": {
          "color": "#ab63fa",
          "symbol": "circle"
         },
         "mode": "markers",
         "name": "Alnilam",
         "orientation": "v",
         "showlegend": true,
         "type": "scatter",
         "x": [
          53697.14296034396,
          53702.88073058354,
          53701.23908573748,
          53695.72165124452,
          53700.915273161765,
          53704.6457106366,
          53695.46342027454,
          53697.71750208001,
          53698.01063562469,
          53703.68232367893,
          53704.55022172194,
          53700.02445566662,
          53702.72472446624,
          53702.76196695219,
          53702.78826659873,
          53703.28456261201,
          53704.23807043841,
          53696.71310418253,
          53695.97175932085,
          53695.57722624778,
          53703.81172242812,
          53700.10006419756,
          53700.31332169274,
          53701.62960708246,
          53699.79694685788,
          53701.72775373246,
          53700.34763389309,
          53696.04687161677,
          53697.570906096975,
          53704.09858897733,
          53702.0634950232,
          53698.49121410144,
          53695.258770385415,
          53695.10895794736,
          53698.85415842255,
          53698.69091540687
         ],
         "xaxis": "x",
         "y": [
          1999.5922378259784,
          2000.3720438244095,
          2000.478992923653,
          1999.880482110407,
          2000.4968087684344,
          2000.254556921467,
          1999.9722500667908,
          2000.344809422834,
          1999.905476876984,
          2000.2311498588904,
          2000.0469500959855,
          2000.176215815057,
          1999.801046890608,
          2000.0880201642992,
          2000.377238593158,
          1999.87084484106,
          1999.819824183048,
          2000.37271159395,
          2000.0435647220493,
          2000.1010812868856,
          1999.772368135856,
          1999.6818716533849,
          2000.428234964036,
          2000.2993114511185,
          1999.771262670854,
          1999.847160965611,
          2000.019834141603,
          2000.087785793082,
          2000.138809353711,
          1999.8175025097764,
          1999.7698305372085,
          2000.3439769385384,
          1999.8175408088105,
          2000.37023690258,
          2000.4460408974744,
          2000.4345492686696
         ],
         "yaxis": "y"
        },
        {
         "hovertemplate": "Name=Rigil Kentaurus<br>Luminosity=%{x}<br>Distance=%{y}<extra></extra>",
         "legendgroup": "Rigil Kentaurus",
         "marker": {
          "color": "#FFA15A",
          "symbol": "circle"
         },
         "mode": "markers",
         "name": "Rigil Kentaurus",
         "orientation": "v",
         "showlegend": true,
         "type": "scatter",
         "x": [
          0.2620564024777934,
          5.317356537778736,
          2.046544781002844,
          3.255888946307942,
          -2.119236183448141,
          0.3050731636559065,
          4.719480891220876,
          0.4820732837390491,
          4.52095272104491,
          6.496997674070276,
          0.1249931536835606,
          -3.409763574323616,
          5.469163180881795,
          4.237437376579976,
          2.899348455421122,
          1.0622984187908109,
          1.5055163896454722,
          -0.8865713991311825,
          0.1510968115511939,
          6.022386273451476,
          5.091762720240075,
          -2.702274636517478,
          2.757813672726318,
          6.221478664884197,
          0.2644097525168283,
          4.099368934735667,
          -1.4618778575732707,
          5.414415558348379,
          2.729758830183819,
          3.343284346674393,
          0.2757210086922075,
          2.040615487087289,
          -1.3006426880404602,
          -1.162514750656564,
          5.00472601467677,
          1.626551918000496
         ],
         "xaxis": "x",
         "y": [
          4.039455513108716,
          4.054202316650517,
          4.107727284195991,
          4.402094885920716,
          3.9786325410020655,
          4.088694603367449,
          4.00631598035014,
          4.684740783845968,
          4.009178210050658,
          4.472942767831179,
          4.75762801578623,
          4.142560356201541,
          4.5115107589995525,
          4.021572470121028,
          4.300779447953355,
          4.533255211906194,
          4.558961315570268,
          4.174610126906483,
          4.258882694615686,
          3.878440741323109,
          4.453129603173108,
          4.367149037495067,
          4.117935511045086,
          4.268672294663512,
          4.763026573907034,
          4.47272804209522,
          4.426806628560027,
          4.105156452641697,
          3.9157177266609406,
          4.267358434464539,
          4.475035634017177,
          4.379249967683409,
          4.384779238681924,
          4.770200191851383,
          4.608424065033049,
          3.996321706725146
         ],
         "yaxis": "y"
        },
        {
         "hovertemplate": "Name=Spica<br>Luminosity=%{x}<br>Distance=%{y}<extra></extra>",
         "legendgroup": "Spica",
         "marker": {
          "color": "#19d3f3",
          "symbol": "circle"
         },
         "mode": "markers",
         "name": "Spica",
         "orientation": "v",
         "showlegend": true,
         "type": "scatter",
         "x": [
          21996.281907685272,
          22004.59479708713,
          22002.94677024924,
          22000.712538786636,
          21997.46778221041,
          21998.65350042777,
          21995.249403313665,
          21999.44025694579,
          22003.00608335897,
          21997.27514055534,
          22000.991538788872,
          21999.873328203877,
          22002.01284198614,
          22001.02951453293,
          22003.822501147264,
          21995.941108441966,
          22001.57876745712,
          22000.29409057748,
          22002.81493518628,
          21996.342337509686,
          21998.184803287884,
          21995.883722726558,
          22004.5128505599,
          22000.26467615668,
          21997.98059477522,
          21999.50880771162,
          22004.27059391161,
          21995.51832953527,
          22000.37954083398,
          21999.57851900184,
          22002.935830741622,
          22003.593457133506
         ],
         "xaxis": "x",
         "y": [
          250.4596817064251,
          250.3496408249325,
          250.1853696897831,
          249.71633706178963,
          249.7559118255533,
          250.2913089548481,
          249.835979449552,
          249.6956810552482,
          250.4057552155481,
          249.95600945257036,
          250.35860614560136,
          250.48787578507955,
          249.5804287349372,
          250.3907403268672,
          249.7542724733665,
          250.15638901295983,
          250.08854976539027,
          249.96142719523124,
          249.8172403555564,
          250.47669935243397,
          249.68138707151607,
          249.85189898596667,
          249.69579540727176,
          250.01953470530407,
          249.73242975661935,
          249.6676091992805,
          249.5219180074977,
          250.08391615971536,
          250.255634744821,
          250.2771634939656,
          250.40169225874865,
          249.8780687587576
         ],
         "yaxis": "y"
        },
        {
         "hovertemplate": "Name=Achernar<br>Luminosity=%{x}<br>Distance=%{y}<extra></extra>",
         "legendgroup": "Achernar",
         "marker": {
          "color": "#FF6692",
          "symbol": "circle"
         },
         "mode": "markers",
         "name": "Achernar",
         "orientation": "v",
         "showlegend": true,
         "type": "scatter",
         "x": [
          3145.670632301648,
          3151.3800629399616,
          3153.448869022427,
          3145.0671706093503,
          3149.043659334665,
          3153.6198983288955,
          3154.0943334053554,
          3150.1765636444493,
          3148.316088852544,
          3146.170451383516,
          3154.3236207651003,
          3145.594288832824,
          3149.5847166204003,
          3146.480170764414,
          3147.1222148999486,
          3153.3756737430845,
          3154.434596715594,
          3147.519402614194,
          3147.7105681972444,
          3150.683861798941,
          3146.6213001471715,
          3150.9412614052767,
          3153.991524139571,
          3151.110905749236,
          3148.5608771151096,
          3147.427280159967,
          3151.0686597665717,
          3149.1255196486118,
          3150.4177861539374
         ],
         "xaxis": "x",
         "y": [
          144.41347739924058,
          143.92295573741418,
          143.96369643781577,
          144.31905356616832,
          144.42696352608482,
          144.4397778356189,
          143.58377436946893,
          144.12328599301048,
          143.77764483165026,
          143.7208361441719,
          143.78027679343387,
          144.47209166466283,
          144.0426282760542,
          144.3182802277197,
          144.2578184530899,
          144.19189867653805,
          143.62996068798947,
          143.62812373331911,
          144.28801530852505,
          144.30522567719555,
          144.12082466595672,
          143.94387870463663,
          144.37545652663016,
          144.12897129708412,
          143.9947292602552,
          144.44176753543127,
          143.7260830353571,
          143.98542586931663,
          143.96622965338523
         ],
         "yaxis": "y"
        },
        {
         "hovertemplate": "Name=Aldebaran<br>Luminosity=%{x}<br>Distance=%{y}<extra></extra>",
         "legendgroup": "Aldebaran",
         "marker": {
          "color": "#B6E880",
          "symbol": "circle"
         },
         "mode": "markers",
         "name": "Aldebaran",
         "orientation": "v",
         "showlegend": true,
         "type": "scatter",
         "x": [
          515.388476668136,
          516.5412218579359,
          516.7874159559605,
          519.3372320256896,
          520.8330693802092,
          513.8024725995764,
          515.8831436751786,
          514.3940375429517,
          518.6712000572877,
          515.9542990912557,
          519.5755247353721,
          517.3793363363512,
          514.8148240807491,
          515.9161452954957,
          521.7244786179083,
          522.1631626285894,
          521.8347764947245,
          518.712049240274
         ],
         "xaxis": "x",
         "y": [
          65.1820343113461,
          64.86663507615103,
          65.27837547917696,
          64.5902948982921,
          65.0148671399861,
          65.12504717981578,
          64.9102918076204,
          65.22314745573473,
          64.61409509358059,
          65.47022713417984,
          65.40799412250136,
          65.02609193401285,
          65.18136662184412,
          65.06561799990496,
          65.00813676993866,
          64.69365732542286,
          65.18394244057998,
          64.67223541528165
         ],
         "yaxis": "y"
        },
        {
         "hovertemplate": "Name=Rigel<br>Luminosity=%{x}<br>Distance=%{y}<extra></extra>",
         "legendgroup": "Rigel",
         "marker": {
          "color": "#FF97FF",
          "symbol": "circle"
         },
         "mode": "markers",
         "name": "Rigel",
         "orientation": "v",
         "showlegend": true,
         "type": "scatter",
         "x": [
          119998.91159177457,
          119999.15795806012,
          120000.67143455558,
          119998.62299140116,
          119995.72802782974,
          119998.5139278143,
          120000.07131490987,
          119995.96883648894,
          120004.13495106822,
          120004.72283034294,
          119996.4155145593,
          120002.14531240136,
          119998.58199670308,
          120001.17653277425,
          119995.55867207544,
          119995.89640814654,
          120000.52031072111
         ],
         "xaxis": "x",
         "y": [
          859.8736693721206,
          860.3299817159254,
          860.351094890128,
          859.9824983681953,
          860.0446487167943,
          860.3779303884187,
          859.8658746857441,
          859.7605775728495,
          860.1545306223537,
          860.3803983161446,
          860.203922875534,
          859.5517800045906,
          860.1589940381065,
          859.7391892037019,
          860.2515676737628,
          860.1419899425256,
          860.4364002835275
         ],
         "yaxis": "y"
        }
       ],
       "layout": {
        "legend": {
         "title": {
          "text": "Name"
         },
         "tracegroupgap": 0
        },
        "template": {
         "data": {
          "bar": [
           {
            "error_x": {
             "color": "#2a3f5f"
            },
            "error_y": {
             "color": "#2a3f5f"
            },
            "marker": {
             "line": {
              "color": "#E5ECF6",
              "width": 0.5
             },
             "pattern": {
              "fillmode": "overlay",
              "size": 10,
              "solidity": 0.2
             }
            },
            "type": "bar"
           }
          ],
          "barpolar": [
           {
            "marker": {
             "line": {
              "color": "#E5ECF6",
              "width": 0.5
             },
             "pattern": {
              "fillmode": "overlay",
              "size": 10,
              "solidity": 0.2
             }
            },
            "type": "barpolar"
           }
          ],
          "carpet": [
           {
            "aaxis": {
             "endlinecolor": "#2a3f5f",
             "gridcolor": "white",
             "linecolor": "white",
             "minorgridcolor": "white",
             "startlinecolor": "#2a3f5f"
            },
            "baxis": {
             "endlinecolor": "#2a3f5f",
             "gridcolor": "white",
             "linecolor": "white",
             "minorgridcolor": "white",
             "startlinecolor": "#2a3f5f"
            },
            "type": "carpet"
           }
          ],
          "choropleth": [
           {
            "colorbar": {
             "outlinewidth": 0,
             "ticks": ""
            },
            "type": "choropleth"
           }
          ],
          "contour": [
           {
            "colorbar": {
             "outlinewidth": 0,
             "ticks": ""
            },
            "colorscale": [
             [
              0,
              "#0d0887"
             ],
             [
              0.1111111111111111,
              "#46039f"
             ],
             [
              0.2222222222222222,
              "#7201a8"
             ],
             [
              0.3333333333333333,
              "#9c179e"
             ],
             [
              0.4444444444444444,
              "#bd3786"
             ],
             [
              0.5555555555555556,
              "#d8576b"
             ],
             [
              0.6666666666666666,
              "#ed7953"
             ],
             [
              0.7777777777777778,
              "#fb9f3a"
             ],
             [
              0.8888888888888888,
              "#fdca26"
             ],
             [
              1,
              "#f0f921"
             ]
            ],
            "type": "contour"
           }
          ],
          "contourcarpet": [
           {
            "colorbar": {
             "outlinewidth": 0,
             "ticks": ""
            },
            "type": "contourcarpet"
           }
          ],
          "heatmap": [
           {
            "colorbar": {
             "outlinewidth": 0,
             "ticks": ""
            },
            "colorscale": [
             [
              0,
              "#0d0887"
             ],
             [
              0.1111111111111111,
              "#46039f"
             ],
             [
              0.2222222222222222,
              "#7201a8"
             ],
             [
              0.3333333333333333,
              "#9c179e"
             ],
             [
              0.4444444444444444,
              "#bd3786"
             ],
             [
              0.5555555555555556,
              "#d8576b"
             ],
             [
              0.6666666666666666,
              "#ed7953"
             ],
             [
              0.7777777777777778,
              "#fb9f3a"
             ],
             [
              0.8888888888888888,
              "#fdca26"
             ],
             [
              1,
              "#f0f921"
             ]
            ],
            "type": "heatmap"
           }
          ],
          "heatmapgl": [
           {
            "colorbar": {
             "outlinewidth": 0,
             "ticks": ""
            },
            "colorscale": [
             [
              0,
              "#0d0887"
             ],
             [
              0.1111111111111111,
              "#46039f"
             ],
             [
              0.2222222222222222,
              "#7201a8"
             ],
             [
              0.3333333333333333,
              "#9c179e"
             ],
             [
              0.4444444444444444,
              "#bd3786"
             ],
             [
              0.5555555555555556,
              "#d8576b"
             ],
             [
              0.6666666666666666,
              "#ed7953"
             ],
             [
              0.7777777777777778,
              "#fb9f3a"
             ],
             [
              0.8888888888888888,
              "#fdca26"
             ],
             [
              1,
              "#f0f921"
             ]
            ],
            "type": "heatmapgl"
           }
          ],
          "histogram": [
           {
            "marker": {
             "pattern": {
              "fillmode": "overlay",
              "size": 10,
              "solidity": 0.2
             }
            },
            "type": "histogram"
           }
          ],
          "histogram2d": [
           {
            "colorbar": {
             "outlinewidth": 0,
             "ticks": ""
            },
            "colorscale": [
             [
              0,
              "#0d0887"
             ],
             [
              0.1111111111111111,
              "#46039f"
             ],
             [
              0.2222222222222222,
              "#7201a8"
             ],
             [
              0.3333333333333333,
              "#9c179e"
             ],
             [
              0.4444444444444444,
              "#bd3786"
             ],
             [
              0.5555555555555556,
              "#d8576b"
             ],
             [
              0.6666666666666666,
              "#ed7953"
             ],
             [
              0.7777777777777778,
              "#fb9f3a"
             ],
             [
              0.8888888888888888,
              "#fdca26"
             ],
             [
              1,
              "#f0f921"
             ]
            ],
            "type": "histogram2d"
           }
          ],
          "histogram2dcontour": [
           {
            "colorbar": {
             "outlinewidth": 0,
             "ticks": ""
            },
            "colorscale": [
             [
              0,
              "#0d0887"
             ],
             [
              0.1111111111111111,
              "#46039f"
             ],
             [
              0.2222222222222222,
              "#7201a8"
             ],
             [
              0.3333333333333333,
              "#9c179e"
             ],
             [
              0.4444444444444444,
              "#bd3786"
             ],
             [
              0.5555555555555556,
              "#d8576b"
             ],
             [
              0.6666666666666666,
              "#ed7953"
             ],
             [
              0.7777777777777778,
              "#fb9f3a"
             ],
             [
              0.8888888888888888,
              "#fdca26"
             ],
             [
              1,
              "#f0f921"
             ]
            ],
            "type": "histogram2dcontour"
           }
          ],
          "mesh3d": [
           {
            "colorbar": {
             "outlinewidth": 0,
             "ticks": ""
            },
            "type": "mesh3d"
           }
          ],
          "parcoords": [
           {
            "line": {
             "colorbar": {
              "outlinewidth": 0,
              "ticks": ""
             }
            },
            "type": "parcoords"
           }
          ],
          "pie": [
           {
            "automargin": true,
            "type": "pie"
           }
          ],
          "scatter": [
           {
            "fillpattern": {
             "fillmode": "overlay",
             "size": 10,
             "solidity": 0.2
            },
            "type": "scatter"
           }
          ],
          "scatter3d": [
           {
            "line": {
             "colorbar": {
              "outlinewidth": 0,
              "ticks": ""
             }
            },
            "marker": {
             "colorbar": {
              "outlinewidth": 0,
              "ticks": ""
             }
            },
            "type": "scatter3d"
           }
          ],
          "scattercarpet": [
           {
            "marker": {
             "colorbar": {
              "outlinewidth": 0,
              "ticks": ""
             }
            },
            "type": "scattercarpet"
           }
          ],
          "scattergeo": [
           {
            "marker": {
             "colorbar": {
              "outlinewidth": 0,
              "ticks": ""
             }
            },
            "type": "scattergeo"
           }
          ],
          "scattergl": [
           {
            "marker": {
             "colorbar": {
              "outlinewidth": 0,
              "ticks": ""
             }
            },
            "type": "scattergl"
           }
          ],
          "scattermapbox": [
           {
            "marker": {
             "colorbar": {
              "outlinewidth": 0,
              "ticks": ""
             }
            },
            "type": "scattermapbox"
           }
          ],
          "scatterpolar": [
           {
            "marker": {
             "colorbar": {
              "outlinewidth": 0,
              "ticks": ""
             }
            },
            "type": "scatterpolar"
           }
          ],
          "scatterpolargl": [
           {
            "marker": {
             "colorbar": {
              "outlinewidth": 0,
              "ticks": ""
             }
            },
            "type": "scatterpolargl"
           }
          ],
          "scatterternary": [
           {
            "marker": {
             "colorbar": {
              "outlinewidth": 0,
              "ticks": ""
             }
            },
            "type": "scatterternary"
           }
          ],
          "surface": [
           {
            "colorbar": {
             "outlinewidth": 0,
             "ticks": ""
            },
            "colorscale": [
             [
              0,
              "#0d0887"
             ],
             [
              0.1111111111111111,
              "#46039f"
             ],
             [
              0.2222222222222222,
              "#7201a8"
             ],
             [
              0.3333333333333333,
              "#9c179e"
             ],
             [
              0.4444444444444444,
              "#bd3786"
             ],
             [
              0.5555555555555556,
              "#d8576b"
             ],
             [
              0.6666666666666666,
              "#ed7953"
             ],
             [
              0.7777777777777778,
              "#fb9f3a"
             ],
             [
              0.8888888888888888,
              "#fdca26"
             ],
             [
              1,
              "#f0f921"
             ]
            ],
            "type": "surface"
           }
          ],
          "table": [
           {
            "cells": {
             "fill": {
              "color": "#EBF0F8"
             },
             "line": {
              "color": "white"
             }
            },
            "header": {
             "fill": {
              "color": "#C8D4E3"
             },
             "line": {
              "color": "white"
             }
            },
            "type": "table"
           }
          ]
         },
         "layout": {
          "annotationdefaults": {
           "arrowcolor": "#2a3f5f",
           "arrowhead": 0,
           "arrowwidth": 1
          },
          "autotypenumbers": "strict",
          "coloraxis": {
           "colorbar": {
            "outlinewidth": 0,
            "ticks": ""
           }
          },
          "colorscale": {
           "diverging": [
            [
             0,
             "#8e0152"
            ],
            [
             0.1,
             "#c51b7d"
            ],
            [
             0.2,
             "#de77ae"
            ],
            [
             0.3,
             "#f1b6da"
            ],
            [
             0.4,
             "#fde0ef"
            ],
            [
             0.5,
             "#f7f7f7"
            ],
            [
             0.6,
             "#e6f5d0"
            ],
            [
             0.7,
             "#b8e186"
            ],
            [
             0.8,
             "#7fbc41"
            ],
            [
             0.9,
             "#4d9221"
            ],
            [
             1,
             "#276419"
            ]
           ],
           "sequential": [
            [
             0,
             "#0d0887"
            ],
            [
             0.1111111111111111,
             "#46039f"
            ],
            [
             0.2222222222222222,
             "#7201a8"
            ],
            [
             0.3333333333333333,
             "#9c179e"
            ],
            [
             0.4444444444444444,
             "#bd3786"
            ],
            [
             0.5555555555555556,
             "#d8576b"
            ],
            [
             0.6666666666666666,
             "#ed7953"
            ],
            [
             0.7777777777777778,
             "#fb9f3a"
            ],
            [
             0.8888888888888888,
             "#fdca26"
            ],
            [
             1,
             "#f0f921"
            ]
           ],
           "sequentialminus": [
            [
             0,
             "#0d0887"
            ],
            [
             0.1111111111111111,
             "#46039f"
            ],
            [
             0.2222222222222222,
             "#7201a8"
            ],
            [
             0.3333333333333333,
             "#9c179e"
            ],
            [
             0.4444444444444444,
             "#bd3786"
            ],
            [
             0.5555555555555556,
             "#d8576b"
            ],
            [
             0.6666666666666666,
             "#ed7953"
            ],
            [
             0.7777777777777778,
             "#fb9f3a"
            ],
            [
             0.8888888888888888,
             "#fdca26"
            ],
            [
             1,
             "#f0f921"
            ]
           ]
          },
          "colorway": [
           "#636efa",
           "#EF553B",
           "#00cc96",
           "#ab63fa",
           "#FFA15A",
           "#19d3f3",
           "#FF6692",
           "#B6E880",
           "#FF97FF",
           "#FECB52"
          ],
          "font": {
           "color": "#2a3f5f"
          },
          "geo": {
           "bgcolor": "white",
           "lakecolor": "white",
           "landcolor": "#E5ECF6",
           "showlakes": true,
           "showland": true,
           "subunitcolor": "white"
          },
          "hoverlabel": {
           "align": "left"
          },
          "hovermode": "closest",
          "mapbox": {
           "style": "light"
          },
          "paper_bgcolor": "white",
          "plot_bgcolor": "#E5ECF6",
          "polar": {
           "angularaxis": {
            "gridcolor": "white",
            "linecolor": "white",
            "ticks": ""
           },
           "bgcolor": "#E5ECF6",
           "radialaxis": {
            "gridcolor": "white",
            "linecolor": "white",
            "ticks": ""
           }
          },
          "scene": {
           "xaxis": {
            "backgroundcolor": "#E5ECF6",
            "gridcolor": "white",
            "gridwidth": 2,
            "linecolor": "white",
            "showbackground": true,
            "ticks": "",
            "zerolinecolor": "white"
           },
           "yaxis": {
            "backgroundcolor": "#E5ECF6",
            "gridcolor": "white",
            "gridwidth": 2,
            "linecolor": "white",
            "showbackground": true,
            "ticks": "",
            "zerolinecolor": "white"
           },
           "zaxis": {
            "backgroundcolor": "#E5ECF6",
            "gridcolor": "white",
            "gridwidth": 2,
            "linecolor": "white",
            "showbackground": true,
            "ticks": "",
            "zerolinecolor": "white"
           }
          },
          "shapedefaults": {
           "line": {
            "color": "#2a3f5f"
           }
          },
          "ternary": {
           "aaxis": {
            "gridcolor": "white",
            "linecolor": "white",
            "ticks": ""
           },
           "baxis": {
            "gridcolor": "white",
            "linecolor": "white",
            "ticks": ""
           },
           "bgcolor": "#E5ECF6",
           "caxis": {
            "gridcolor": "white",
            "linecolor": "white",
            "ticks": ""
           }
          },
          "title": {
           "x": 0.05
          },
          "xaxis": {
           "automargin": true,
           "gridcolor": "white",
           "linecolor": "white",
           "ticks": "",
           "title": {
            "standoff": 15
           },
           "zerolinecolor": "white",
           "zerolinewidth": 2
          },
          "yaxis": {
           "automargin": true,
           "gridcolor": "white",
           "linecolor": "white",
           "ticks": "",
           "title": {
            "standoff": 15
           },
           "zerolinecolor": "white",
           "zerolinewidth": 2
          }
         }
        },
        "title": {
         "text": "Scatter plot of Luminosity with respect to Distance"
        },
        "xaxis": {
         "anchor": "y",
         "domain": [
          0,
          1
         ],
         "title": {
          "text": "Luminosity"
         }
        },
        "yaxis": {
         "anchor": "x",
         "domain": [
          0,
          1
         ],
         "title": {
          "text": "Distance"
         }
        }
       }
      }
     },
     "metadata": {},
     "output_type": "display_data"
    }
   ],
   "source": [
    "# lets try the same plot using plotly:\n",
    "\n",
    "fig = px.scatter(df, x='Luminosity', y='Distance', color='Name', title='Scatter plot of Luminosity with respect to Distance')\n",
    "fig.show()"
   ]
  },
  {
   "cell_type": "markdown",
   "metadata": {},
   "source": [
    "# Outputs:\n",
    "## Name Column:\n",
    "1. the name column represents the unique identifiers of stars. \n",
    "2. the name column has `29 unique` star names.\n",
    "   - The star Altair has the highest count of `74` having spectral class `A7V`. \n",
    "   - The star Rigel has the lowest count of `17` having spectral class `B8la`.\n",
    "## Distance Column:\n",
    "3. The distance column represents the distance of the star from Earth in light-years.\n",
    "4. The distance column has `1000 unique` values.\n",
    "5. The distance column has a minimum value of `3.877` and a maximum value of `2600.49` which means:\n",
    "   - The **Altair** star has the minimum distance is `3.877` light-years away from Earth.\n",
    "   - The **Deben** star has the maximum distance is `2600.49` light-years away from Earth.\n",
    "## Luminosity Column:\n",
    "6. The luminosity column represents the luminosity of the star compared to that of the Sun.\n",
    "7. The luminosity column has `1000 unique` values.\n",
    "8. The minimum luminosity of star is `-4.993141` and maximum luminosity of star is `196004.854081`\n",
    "   - The **Wolf 359** star has the minimum luminosity.\n",
    "   - The **Deben** star has the maximum luminosity.\n",
    "9. If we see the distance of **Deben** Star, it has the `maximum distace` among all the other stars, which is  `2600.49` Light years away from the Earth, with a limunosity of `196004.854081`.\n",
    "10. The **Wolf 359** star has the minimum luminosity of `-4.993141` and is `7.831986` light years away from the Earth."
   ]
  },
  {
   "cell_type": "code",
   "execution_count": null,
   "metadata": {},
   "outputs": [],
   "source": []
  },
  {
   "cell_type": "code",
   "execution_count": 16,
   "metadata": {},
   "outputs": [
    {
     "data": {
      "image/png": "[encoded data removed]",
      "text/plain": [
       "<Figure size 2000x1000 with 1 Axes>"
      ]
     },
     "metadata": {},
     "output_type": "display_data"
    }
   ],
   "source": [
    "plt.figure(figsize=(20, 10))\n",
    "sns.violinplot(x='Spectral_Class', y='Temperature', data=df)\n",
    "plt.title('Temperature Distribution by Spectral Class')\n",
    "plt.xlabel('Spectral Class')\n",
    "plt.ylabel('Temperature')\n",
    "plt.show()"
   ]
  },
  {
   "cell_type": "code",
   "execution_count": null,
   "metadata": {},
   "outputs": [],
   "source": []
  }
 ],
 "metadata": {
  "kernelspec": {
   "display_name": "python_machinelearning",
   "language": "python",
   "name": "python3"
  },
  "language_info": {
   "codemirror_mode": {
    "name": "ipython",
    "version": 3
   },
   "file_extension": ".py",
   "mimetype": "text/x-python",
   "name": "python",
   "nbconvert_exporter": "python",
   "pygments_lexer": "ipython3",
   "version": "3.12.4"
  }
 },
 "nbformat": 4,
 "nbformat_minor": 2
}
