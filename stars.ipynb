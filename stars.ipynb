{
 "cells": [
  {
   "cell_type": "markdown",
   "metadata": {},
   "source": [
    "---\n",
    "# **Stars Analysis and Prediction:**\n",
    "Mapping Stars with Intelligence\n"
   ]
  },
  {
   "cell_type": "markdown",
   "metadata": {},
   "source": [
    "<div >\n",
    "  <img src=\"https://res.cloudinary.com/dhditogyd/image/upload/v1725305778/pexels-alex-andrews-271121-3805983_nwekq9.jpg\" width=\"100%\" height=\" 800%;\"/>\n",
    "</div>\n",
    "\n",
    "---"
   ]
  },
  {
   "cell_type": "markdown",
   "metadata": {},
   "source": [
    "\n",
    "\n",
    "Author: [Muhammad Faizan](https://www.linkedin.com/in/mrfaizanyousaf/)\n",
    "\n",
    "<div >\n",
    "  <img src=\"https://res.cloudinary.com/dk0hm8t43/image/upload/v1723543716/Faizan/cxhm4yhcpmponfjgjfct.jpg\" width=\"20%\" height=\" 20%;\"/>\n",
    "</div>\n",
    "\n",
    "## Muhammad Faizan\n",
    "\n",
    "🎓 **3rd Year BS Computer Science** student at the **University of Agriculture, Faisalabad**  \n",
    "💻 Enthusiast in **Machine Learning, Data Engineering, and Data Analytics**\n",
    "\n",
    "\n",
    "### 🌐 Connect with Me\n",
    "\n",
    "[Kaggle](https://www.kaggle.com/faizanyousafonly/) | [LinkedIn](https://www.linkedin.com/in/mrfaizanyousaf/) | [GitHub](https://github.com/faizan-yousaf/)  \n",
    "\n",
    "\n",
    "\n",
    "\n",
    "### 💬 Contact Me\n",
    "- **Email:** faizanyousaf815@gmail.com\n",
    "- **WhatsApp:** [+92 306 537 5389](https://wa.me/923065375389)\n",
    "\n",
    "\n",
    "🔗 **Let’s Collaborate:**  \n",
    "I'm always open to queries, collaborations, and discussions. Let's build something amazing together!\n"
   ]
  },
  {
   "cell_type": "markdown",
   "metadata": {},
   "source": [
    "## Meta-Data (About Dataset)"
   ]
  },
  {
   "cell_type": "markdown",
   "metadata": {},
   "source": [
    "## Context: \n",
    "* This dataset offers a `detailed collection of information` about `various stars` in our galaxy. It includes key characteristics such as stellar temperature, luminosity, radius, and spectral class, providing a comprehensive view of different types of stars.\n",
    "\n",
    "* The data is structured to help astronomers, researchers, and enthusiasts explore the `relationships` between these `stellar attributes` and better understand the `diversity of stars` in the universe. Each entry in the dataset represents a `unique star`, with `data sourced from astronomical surveys and observations`.\n",
    "\n",
    "* Whether you're interested in studying the life cycle of stars, their physical properties, or just exploring the vastness of space, this dataset serves as a valuable resource for all things celestial. Dive in and discover the wonders of the stars!\n",
    "\n",
    "### Content:\n",
    "\n",
    "#### Column Descriptions:\n",
    "\n",
    "* `Name:` A unique identifier for each star.\n",
    "* `Distance (ly):` The distance of the star from Earth in light-years.\n",
    "* `Temperature (K):` The surface temperature of the star in Kelvin.\n",
    "* `Luminosity (L/Lo):` The luminosity of the star compared to that of the Sun.\n",
    "* `Radius (R/Ro):` The radius of the star relative to the Sun's radius.\n",
    "* `Spectral Class:` The star’s classification based on its spectral characteristics (e.g., O, B, A, F, G, K, M).\n",
    "\n",
    "\n",
    "\n",
    "### Acknowledgements\n",
    "### Creator:\n",
    "\n",
    "* Waqar Ali, Data Scientist, Kaggle Dataset Expert, Lahore, Punjab, Pakistan. [Link](https://www.kaggle.com/waqi786)"
   ]
  },
  {
   "cell_type": "markdown",
   "metadata": {},
   "source": [
    "## Aims and Objectives: 🎯\n",
    "\n",
    "We will fill this after doing the EDA and Data Preprocessing."
   ]
  },
  {
   "cell_type": "markdown",
   "metadata": {
    "vscode": {
     "languageId": "plaintext"
    }
   },
   "source": [
    "## Work Flow of this project: 🛰\n",
    "\n",
    "1. `Importing Necessary Libraries`\n",
    "   \n",
    "2. `Loading the Dataset`\n",
    "\n",
    "3. `Exploratory Data Analysis (EDA)`\n",
    "    * Understanding the Data Structure\n",
    "    * Checking for Missing Values\n",
    "    * Descriptive Statistics\n",
    "    * Data Visualization\n",
    "  \n",
    "4. `Data Preprocessing`\n",
    "    * Handling Missing Values (if any)\n",
    "    * Encoding Categorical Variables (if any)\n",
    "    * Feature Scaling\n",
    "\n",
    "5. `Building the Classification Model`\n",
    "    * Splitting the Data into Training and Testing Sets\n",
    "    * Choosing the Right Algorithm\n",
    "    * Training the Model\n",
    "    * Evaluating Model Performance\n",
    "\n",
    "6. `Making Predictions`\n",
    "\n",
    "7. `Saving and Loading the Model`\n"
   ]
  },
  {
   "cell_type": "markdown",
   "metadata": {},
   "source": [
    "### Import Libraries: 🛠\n",
    "\n",
    "Let's start the project by importing all the libraries that we will use in this project."
   ]
  },
  {
   "cell_type": "code",
   "execution_count": 2,
   "metadata": {},
   "outputs": [
    {
     "name": "stdout",
     "output_type": "stream",
     "text": [
      "Libraries have been loaded successfully\n"
     ]
    }
   ],
   "source": [
    "# import libraries:\n",
    "\n",
    "# 1. to handel the data:\n",
    "import numpy as np\n",
    "import pandas as pd\n",
    "\n",
    "# 2. to visualize the data:\n",
    "import matplotlib.pyplot as plt\n",
    "import seaborn as sns\n",
    "import plotly.express as px\n",
    "%matplotlib inline\n",
    "\n",
    "# 3. to preprocess the data:\n",
    "from sklearn.model_selection import train_test_split\n",
    "from sklearn.preprocessing import StandardScaler\n",
    "\n",
    "# 4. to build the model:\n",
    "from sklearn.linear_model import LogisticRegression\n",
    "from sklearn.svm import SVC\n",
    "from sklearn.tree import DecisionTreeClassifier\n",
    "from sklearn.ensemble import RandomForestClassifier\n",
    "from sklearn.ensemble import GradientBoostingClassifier, AdaBoostClassifier, BaggingClassifier\n",
    "from sklearn.neighbors import KNeighborsClassifier\n",
    "from sklearn.naive_bayes import GaussianNB\n",
    "from xgboost import XGBClassifier\n",
    "\n",
    "# 5. Metrics:\n",
    "from sklearn.metrics import accuracy_score, precision_score, recall_score, r2_score, f1_score , classification_report, mean_absolute_error, mean_absolute_percentage_error, mean_squared_error\n",
    "\n",
    "# 6. to ignore the warnings:\n",
    "import warnings\n",
    "warnings.filterwarnings(\"ignore\")\n",
    "\n",
    "print(\"Libraries have been loaded successfully\")\n",
    "\n",
    "# 8. Display all rows and columns:\n",
    "pd.set_option('display.max_columns', None)\n",
    "pd.set_option('display.max_rows', None)\n"
   ]
  },
  {
   "cell_type": "markdown",
   "metadata": {},
   "source": [
    "#### But why these libraries? 🤔"
   ]
  },
  {
   "cell_type": "markdown",
   "metadata": {},
   "source": [
    "\n",
    "* `pandas:` For data manipulation and analysis.\n",
    "\n",
    "* `numpy:` For numerical computations.\n",
    " \n",
    "* `matplotlib & seaborn:` For data visualization.\n",
    "\n",
    "* `scikit-learn:` For machine learning algorithms and evaluation metrics.\n",
    " \n",
    "* `%matplotlib inline:` To display plots directly in the notebook."
   ]
  },
  {
   "cell_type": "markdown",
   "metadata": {},
   "source": [
    "#### Setting up the Visualization Theme: 🐱‍🏍✨"
   ]
  },
  {
   "cell_type": "code",
   "execution_count": 3,
   "metadata": {},
   "outputs": [],
   "source": [
    "# Set the dark blue background theme for visualizations\n",
    "plt.style.use('dark_background')\n",
    "\n",
    "# Adjust background color to dark blue\n",
    "plt.rcParams['figure.facecolor'] = '#0d1b2a'\n",
    "plt.rcParams['axes.facecolor'] = '#0d1b2a'\n",
    "plt.rcParams['axes.edgecolor'] = '#0d1b2a'\n",
    "plt.rcParams['savefig.facecolor'] = '#0d1b2a'\n",
    "\n",
    "# Define a custom color palette with a golden neon effect\n",
    "golden_neon_palette = sns.color_palette([\"#ffd700\", \"#ffdf00\", \"#ffec8b\", \"#ffec00\", \"#fff700\"])\n",
    "\n",
    "# Apply the custom palette to Seaborn\n",
    "sns.set_palette(golden_neon_palette)\n"
   ]
  },
  {
   "cell_type": "code",
   "execution_count": 4,
   "metadata": {},
   "outputs": [],
   "source": [
    "df = pd.read_csv(\"star_dataset.csv\")"
   ]
  },
  {
   "cell_type": "markdown",
   "metadata": {},
   "source": [
    "### Lets have a sneek peak on the data: 👀"
   ]
  },
  {
   "cell_type": "code",
   "execution_count": 5,
   "metadata": {},
   "outputs": [
    {
     "data": {
      "text/html": [
       "<div>\n",
       "<style scoped>\n",
       "    .dataframe tbody tr th:only-of-type {\n",
       "        vertical-align: middle;\n",
       "    }\n",
       "\n",
       "    .dataframe tbody tr th {\n",
       "        vertical-align: top;\n",
       "    }\n",
       "\n",
       "    .dataframe thead th {\n",
       "        text-align: right;\n",
       "    }\n",
       "</style>\n",
       "<table border=\"1\" class=\"dataframe\">\n",
       "  <thead>\n",
       "    <tr style=\"text-align: right;\">\n",
       "      <th></th>\n",
       "      <th>Name</th>\n",
       "      <th>Distance (ly)</th>\n",
       "      <th>Luminosity (L/Lo)</th>\n",
       "      <th>Radius (R/Ro)</th>\n",
       "      <th>Temperature (K)</th>\n",
       "      <th>Spectral Class</th>\n",
       "    </tr>\n",
       "  </thead>\n",
       "  <tbody>\n",
       "    <tr>\n",
       "      <th>0</th>\n",
       "      <td>Altair</td>\n",
       "      <td>16.594171</td>\n",
       "      <td>9.979192</td>\n",
       "      <td>1.632650</td>\n",
       "      <td>7509.294247</td>\n",
       "      <td>A7V</td>\n",
       "    </tr>\n",
       "    <tr>\n",
       "      <th>1</th>\n",
       "      <td>Deneb</td>\n",
       "      <td>2600.490723</td>\n",
       "      <td>196002.627856</td>\n",
       "      <td>202.970526</td>\n",
       "      <td>8503.284796</td>\n",
       "      <td>A2Ia</td>\n",
       "    </tr>\n",
       "    <tr>\n",
       "      <th>2</th>\n",
       "      <td>Barnard's Star</td>\n",
       "      <td>6.052616</td>\n",
       "      <td>4.893716</td>\n",
       "      <td>0.222711</td>\n",
       "      <td>3165.959639</td>\n",
       "      <td>M4Ve</td>\n",
       "    </tr>\n",
       "    <tr>\n",
       "      <th>3</th>\n",
       "      <td>Polaris</td>\n",
       "      <td>322.601002</td>\n",
       "      <td>2196.241934</td>\n",
       "      <td>37.546813</td>\n",
       "      <td>6048.326915</td>\n",
       "      <td>F7Ib</td>\n",
       "    </tr>\n",
       "    <tr>\n",
       "      <th>4</th>\n",
       "      <td>Barnard's Star</td>\n",
       "      <td>5.902392</td>\n",
       "      <td>-1.496486</td>\n",
       "      <td>0.192359</td>\n",
       "      <td>3130.602069</td>\n",
       "      <td>M4Ve</td>\n",
       "    </tr>\n",
       "  </tbody>\n",
       "</table>\n",
       "</div>"
      ],
      "text/plain": [
       "             Name  Distance (ly)  Luminosity (L/Lo)  Radius (R/Ro)  \\\n",
       "0          Altair      16.594171           9.979192       1.632650   \n",
       "1           Deneb    2600.490723      196002.627856     202.970526   \n",
       "2  Barnard's Star       6.052616           4.893716       0.222711   \n",
       "3         Polaris     322.601002        2196.241934      37.546813   \n",
       "4  Barnard's Star       5.902392          -1.496486       0.192359   \n",
       "\n",
       "   Temperature (K) Spectral Class  \n",
       "0      7509.294247            A7V  \n",
       "1      8503.284796           A2Ia  \n",
       "2      3165.959639           M4Ve  \n",
       "3      6048.326915           F7Ib  \n",
       "4      3130.602069           M4Ve  "
      ]
     },
     "execution_count": 5,
     "metadata": {},
     "output_type": "execute_result"
    }
   ],
   "source": [
    "df.head()"
   ]
  },
  {
   "cell_type": "code",
   "execution_count": 6,
   "metadata": {},
   "outputs": [
    {
     "data": {
      "text/html": [
       "<div>\n",
       "<style scoped>\n",
       "    .dataframe tbody tr th:only-of-type {\n",
       "        vertical-align: middle;\n",
       "    }\n",
       "\n",
       "    .dataframe tbody tr th {\n",
       "        vertical-align: top;\n",
       "    }\n",
       "\n",
       "    .dataframe thead th {\n",
       "        text-align: right;\n",
       "    }\n",
       "</style>\n",
       "<table border=\"1\" class=\"dataframe\">\n",
       "  <thead>\n",
       "    <tr style=\"text-align: right;\">\n",
       "      <th></th>\n",
       "      <th>Name</th>\n",
       "      <th>Distance (ly)</th>\n",
       "      <th>Luminosity (L/Lo)</th>\n",
       "      <th>Radius (R/Ro)</th>\n",
       "      <th>Temperature (K)</th>\n",
       "      <th>Spectral Class</th>\n",
       "    </tr>\n",
       "  </thead>\n",
       "  <tbody>\n",
       "    <tr>\n",
       "      <th>995</th>\n",
       "      <td>Wolf 359</td>\n",
       "      <td>7.455715</td>\n",
       "      <td>-4.435101</td>\n",
       "      <td>0.068087</td>\n",
       "      <td>2774.148300</td>\n",
       "      <td>M6V</td>\n",
       "    </tr>\n",
       "    <tr>\n",
       "      <th>996</th>\n",
       "      <td>Hadar</td>\n",
       "      <td>350.301644</td>\n",
       "      <td>49997.506591</td>\n",
       "      <td>9.070882</td>\n",
       "      <td>25010.502656</td>\n",
       "      <td>B1III</td>\n",
       "    </tr>\n",
       "    <tr>\n",
       "      <th>997</th>\n",
       "      <td>Bellatrix</td>\n",
       "      <td>239.763294</td>\n",
       "      <td>6397.020159</td>\n",
       "      <td>5.706311</td>\n",
       "      <td>22603.548766</td>\n",
       "      <td>B2III</td>\n",
       "    </tr>\n",
       "    <tr>\n",
       "      <th>998</th>\n",
       "      <td>Alpha Centauri B</td>\n",
       "      <td>4.044364</td>\n",
       "      <td>-4.549088</td>\n",
       "      <td>0.939191</td>\n",
       "      <td>5286.304304</td>\n",
       "      <td>K1V</td>\n",
       "    </tr>\n",
       "    <tr>\n",
       "      <th>999</th>\n",
       "      <td>Wolf 359</td>\n",
       "      <td>8.139786</td>\n",
       "      <td>3.484205</td>\n",
       "      <td>0.236324</td>\n",
       "      <td>2813.600366</td>\n",
       "      <td>M6V</td>\n",
       "    </tr>\n",
       "  </tbody>\n",
       "</table>\n",
       "</div>"
      ],
      "text/plain": [
       "                 Name  Distance (ly)  Luminosity (L/Lo)  Radius (R/Ro)  \\\n",
       "995          Wolf 359       7.455715          -4.435101       0.068087   \n",
       "996             Hadar     350.301644       49997.506591       9.070882   \n",
       "997         Bellatrix     239.763294        6397.020159       5.706311   \n",
       "998  Alpha Centauri B       4.044364          -4.549088       0.939191   \n",
       "999          Wolf 359       8.139786           3.484205       0.236324   \n",
       "\n",
       "     Temperature (K) Spectral Class  \n",
       "995      2774.148300            M6V  \n",
       "996     25010.502656          B1III  \n",
       "997     22603.548766          B2III  \n",
       "998      5286.304304            K1V  \n",
       "999      2813.600366            M6V  "
      ]
     },
     "execution_count": 6,
     "metadata": {},
     "output_type": "execute_result"
    }
   ],
   "source": [
    "df.tail()"
   ]
  },
  {
   "cell_type": "markdown",
   "metadata": {},
   "source": [
    "#### checking the information of the dataset: 🔍"
   ]
  },
  {
   "cell_type": "code",
   "execution_count": 7,
   "metadata": {},
   "outputs": [
    {
     "data": {
      "text/plain": [
       "Index(['Name', 'Distance (ly)', 'Luminosity (L/Lo)', 'Radius (R/Ro)',\n",
       "       'Temperature (K)', 'Spectral Class'],\n",
       "      dtype='object')"
      ]
     },
     "execution_count": 7,
     "metadata": {},
     "output_type": "execute_result"
    }
   ],
   "source": [
    "df.columns"
   ]
  },
  {
   "cell_type": "markdown",
   "metadata": {},
   "source": [
    "- but the above columns are not clear, looks cluttered to me.  🥱\n",
    "- So, being a pythonic, I'll arrange them in an order and make them more readable. "
   ]
  },
  {
   "cell_type": "code",
   "execution_count": 8,
   "metadata": {},
   "outputs": [],
   "source": [
    "# renaming the columns for better understanding:\n",
    "\n",
    "df = df.rename(columns={\n",
    "    'Name': 'Name',\n",
    "    'Distance (ly)': 'Distance',\n",
    "    'Luminosity (L/Lo)': 'Luminosity',\n",
    "    'Radius (R/Ro)': 'Radius',\n",
    "    'Temperature (K)': 'Temperature',\n",
    "    'Spectral_Class': 'Spectral Class'\n",
    "})\n"
   ]
  },
  {
   "cell_type": "code",
   "execution_count": 9,
   "metadata": {},
   "outputs": [
    {
     "name": "stdout",
     "output_type": "stream",
     "text": [
      "Column 0: Name\n",
      "Column 1: Distance\n",
      "Column 2: Luminosity\n",
      "Column 3: Radius\n",
      "Column 4: Temperature\n",
      "Column 5: Spectral Class\n"
     ]
    }
   ],
   "source": [
    "# lets make the column names more readable by using for loop and if condition:\n",
    "i = 0\n",
    "\n",
    "for col in df.columns:\n",
    "    if i == len(df.columns):\n",
    "        break\n",
    "    else:\n",
    "        print(f\"Column {i}: {col}\")\n",
    "    i += 1"
   ]
  },
  {
   "cell_type": "code",
   "execution_count": 10,
   "metadata": {},
   "outputs": [
    {
     "name": "stdout",
     "output_type": "stream",
     "text": [
      "There are 6 columns and 1000 rows in the dataset\n"
     ]
    }
   ],
   "source": [
    "# print the number of columns and rows in the dataset using the shape attribute:\n",
    "\n",
    "print(f\"There are {df.shape[1]} columns and {df.shape[0]} rows in the dataset\")"
   ]
  },
  {
   "cell_type": "code",
   "execution_count": 11,
   "metadata": {},
   "outputs": [
    {
     "name": "stdout",
     "output_type": "stream",
     "text": [
      "<class 'pandas.core.frame.DataFrame'>\n",
      "RangeIndex: 1000 entries, 0 to 999\n",
      "Data columns (total 6 columns):\n",
      " #   Column          Non-Null Count  Dtype  \n",
      "---  ------          --------------  -----  \n",
      " 0   Name            1000 non-null   object \n",
      " 1   Distance        1000 non-null   float64\n",
      " 2   Luminosity      1000 non-null   float64\n",
      " 3   Radius          1000 non-null   float64\n",
      " 4   Temperature     1000 non-null   float64\n",
      " 5   Spectral Class  1000 non-null   object \n",
      "dtypes: float64(4), object(2)\n",
      "memory usage: 47.0+ KB\n"
     ]
    }
   ],
   "source": [
    "df.info()"
   ]
  },
  {
   "cell_type": "markdown",
   "metadata": {},
   "source": [
    "#### check for missing values: 🕵️‍♂️"
   ]
  },
  {
   "cell_type": "code",
   "execution_count": 12,
   "metadata": {},
   "outputs": [
    {
     "data": {
      "text/plain": [
       "Name              0\n",
       "Distance          0\n",
       "Luminosity        0\n",
       "Radius            0\n",
       "Temperature       0\n",
       "Spectral Class    0\n",
       "dtype: int64"
      ]
     },
     "execution_count": 12,
     "metadata": {},
     "output_type": "execute_result"
    }
   ],
   "source": [
    "df.isnull().sum().sort_values(ascending=False)"
   ]
  },
  {
   "cell_type": "markdown",
   "metadata": {},
   "source": [
    "#### lets check the statistical summary of the dataset: 🧩\n",
    "(it will only show the numerical columns)"
   ]
  },
  {
   "cell_type": "code",
   "execution_count": 13,
   "metadata": {},
   "outputs": [
    {
     "data": {
      "text/html": [
       "<div>\n",
       "<style scoped>\n",
       "    .dataframe tbody tr th:only-of-type {\n",
       "        vertical-align: middle;\n",
       "    }\n",
       "\n",
       "    .dataframe tbody tr th {\n",
       "        vertical-align: top;\n",
       "    }\n",
       "\n",
       "    .dataframe thead th {\n",
       "        text-align: right;\n",
       "    }\n",
       "</style>\n",
       "<table border=\"1\" class=\"dataframe\">\n",
       "  <thead>\n",
       "    <tr style=\"text-align: right;\">\n",
       "      <th></th>\n",
       "      <th>Distance</th>\n",
       "      <th>Luminosity</th>\n",
       "      <th>Radius</th>\n",
       "      <th>Temperature</th>\n",
       "    </tr>\n",
       "  </thead>\n",
       "  <tbody>\n",
       "    <tr>\n",
       "      <th>count</th>\n",
       "      <td>1000.000000</td>\n",
       "      <td>1000.000000</td>\n",
       "      <td>1000.000000</td>\n",
       "      <td>1000.000000</td>\n",
       "    </tr>\n",
       "    <tr>\n",
       "      <th>mean</th>\n",
       "      <td>295.505327</td>\n",
       "      <td>19644.909442</td>\n",
       "      <td>86.960696</td>\n",
       "      <td>9983.486779</td>\n",
       "    </tr>\n",
       "    <tr>\n",
       "      <th>std</th>\n",
       "      <td>541.478403</td>\n",
       "      <td>42223.595017</td>\n",
       "      <td>213.850005</td>\n",
       "      <td>7906.973529</td>\n",
       "    </tr>\n",
       "    <tr>\n",
       "      <th>min</th>\n",
       "      <td>3.877798</td>\n",
       "      <td>-4.993141</td>\n",
       "      <td>0.068087</td>\n",
       "      <td>2750.183163</td>\n",
       "    </tr>\n",
       "    <tr>\n",
       "      <th>25%</th>\n",
       "      <td>11.716853</td>\n",
       "      <td>10.441039</td>\n",
       "      <td>1.664479</td>\n",
       "      <td>3940.020856</td>\n",
       "    </tr>\n",
       "    <tr>\n",
       "      <th>50%</th>\n",
       "      <td>52.031435</td>\n",
       "      <td>171.097809</td>\n",
       "      <td>5.845444</td>\n",
       "      <td>7379.007975</td>\n",
       "    </tr>\n",
       "    <tr>\n",
       "      <th>75%</th>\n",
       "      <td>322.865874</td>\n",
       "      <td>10500.577117</td>\n",
       "      <td>33.719778</td>\n",
       "      <td>12055.975095</td>\n",
       "    </tr>\n",
       "    <tr>\n",
       "      <th>max</th>\n",
       "      <td>2600.490723</td>\n",
       "      <td>196004.854081</td>\n",
       "      <td>887.097936</td>\n",
       "      <td>28044.279272</td>\n",
       "    </tr>\n",
       "  </tbody>\n",
       "</table>\n",
       "</div>"
      ],
      "text/plain": [
       "          Distance     Luminosity       Radius   Temperature\n",
       "count  1000.000000    1000.000000  1000.000000   1000.000000\n",
       "mean    295.505327   19644.909442    86.960696   9983.486779\n",
       "std     541.478403   42223.595017   213.850005   7906.973529\n",
       "min       3.877798      -4.993141     0.068087   2750.183163\n",
       "25%      11.716853      10.441039     1.664479   3940.020856\n",
       "50%      52.031435     171.097809     5.845444   7379.007975\n",
       "75%     322.865874   10500.577117    33.719778  12055.975095\n",
       "max    2600.490723  196004.854081   887.097936  28044.279272"
      ]
     },
     "execution_count": 13,
     "metadata": {},
     "output_type": "execute_result"
    }
   ],
   "source": [
    "df.describe()"
   ]
  },
  {
   "cell_type": "markdown",
   "metadata": {},
   "source": [
    "## Observations: 📝\n",
    "\n",
    "- The dataset has `6 columns` and `1000 rows`.\n",
    "- There are `no missing values` in the dataset.\n",
    "\n",
    "#### Column names are:\n",
    "\n",
    "- Name\n",
    "- Distance \n",
    "- Luminosity\n",
    "- Radius\n",
    "- Temperature\n",
    "- Spectral Class \n",
    "  \n",
    "#### Among these columns:\n",
    "- Distance is `numerical` and `continuous`.\n",
    "- Luminosity is `numerical` and `continuous`.\n",
    "- Radius is `numerical` and `continuous`.\n",
    "- Temperature is `numerical` and `continuous`.\n",
    "  \n",
    "- Spectral Class is `categorical` and `ordinal`.\n",
    "- Color is `categorical` and `ordinal`.\n",
    "\n"
   ]
  },
  {
   "cell_type": "markdown",
   "metadata": {},
   "source": [
    "## Exploratory Data Analysis (EDA): 📊\n",
    "we will go through the data and check each column carefully to get maximum insights possible:"
   ]
  },
  {
   "cell_type": "markdown",
   "metadata": {},
   "source": [
    "#### Name Column:\n",
    " "
   ]
  },
  {
   "cell_type": "code",
   "execution_count": 14,
   "metadata": {},
   "outputs": [
    {
     "data": {
      "text/plain": [
       "Name\n",
       "Altair              74\n",
       "Canopus             48\n",
       "Hadar               45\n",
       "Ross 154            45\n",
       "Betelgeuse          44\n",
       "Castor              39\n",
       "Capella             39\n",
       "Barnard's Star      38\n",
       "Vega                38\n",
       "Arcturus            38\n",
       "Mira                37\n",
       "Bellatrix           37\n",
       "Alnilam             36\n",
       "Rigil Kentaurus     36\n",
       "Polaris             35\n",
       "Sirius              34\n",
       "Spica               32\n",
       "Fomalhaut           31\n",
       "Procyon             30\n",
       "Acrux               30\n",
       "Achernar            29\n",
       "Lalande 21185       27\n",
       "Regulus             26\n",
       "Antares             26\n",
       "Deneb               25\n",
       "Alpha Centauri B    24\n",
       "Wolf 359            22\n",
       "Aldebaran           18\n",
       "Rigel               17\n",
       "Name: count, dtype: int64"
      ]
     },
     "execution_count": 14,
     "metadata": {},
     "output_type": "execute_result"
    }
   ],
   "source": [
    "df['Name'].value_counts()"
   ]
  },
  {
   "cell_type": "code",
   "execution_count": 15,
   "metadata": {},
   "outputs": [
    {
     "data": {
      "text/plain": [
       "array(['Altair', 'Deneb', \"Barnard's Star\", 'Polaris', 'Sirius',\n",
       "       'Fomalhaut', 'Capella', 'Bellatrix', 'Castor', 'Hadar',\n",
       "       'Betelgeuse', 'Regulus', 'Mira', 'Acrux', 'Vega', 'Lalande 21185',\n",
       "       'Arcturus', 'Alpha Centauri B', 'Ross 154', 'Canopus', 'Procyon',\n",
       "       'Wolf 359', 'Antares', 'Alnilam', 'Rigil Kentaurus', 'Spica',\n",
       "       'Achernar', 'Aldebaran', 'Rigel'], dtype=object)"
      ]
     },
     "execution_count": 15,
     "metadata": {},
     "output_type": "execute_result"
    }
   ],
   "source": [
    "df['Name'].unique()"
   ]
  },
  {
   "cell_type": "code",
   "execution_count": 16,
   "metadata": {},
   "outputs": [
    {
     "name": "stdout",
     "output_type": "stream",
     "text": [
      "The total number of unique Names of stars are: \n",
      "\n",
      "Altair\n",
      "Deneb\n",
      "Barnard's Star\n",
      "Polaris\n",
      "Sirius\n",
      "Fomalhaut\n",
      "Capella\n",
      "Bellatrix\n",
      "Castor\n",
      "Hadar\n",
      "Betelgeuse\n",
      "Regulus\n",
      "Mira\n",
      "Acrux\n",
      "Vega\n",
      "Lalande 21185\n",
      "Arcturus\n",
      "Alpha Centauri B\n",
      "Ross 154\n",
      "Canopus\n",
      "Procyon\n",
      "Wolf 359\n",
      "Antares\n",
      "Alnilam\n",
      "Rigil Kentaurus\n",
      "Spica\n",
      "Achernar\n",
      "Aldebaran\n",
      "Rigel\n"
     ]
    }
   ],
   "source": [
    "print(\"The total number of unique Names of stars are: \\n\", )\n",
    "for name in df['Name'].unique():\n",
    "    print(name)"
   ]
  },
  {
   "cell_type": "code",
   "execution_count": 21,
   "metadata": {},
   "outputs": [
    {
     "data": {
      "image/png": "[encoded data removed]",
      "text/plain": [
       "<Figure size 1400x800 with 1 Axes>"
      ]
     },
     "metadata": {},
     "output_type": "display_data"
    }
   ],
   "source": [
    "# histogram of name column using seaborn:\n",
    "\n",
    "plt.figure(figsize=(14, 8))\n",
    "sns.histplot(data=df, x='Name')\n",
    "plt.title(\"Histogram of Name column\")\n",
    "plt.xticks(rotation=90)\n",
    "plt.show()\n",
    "\n"
   ]
  },
  {
   "cell_type": "markdown",
   "metadata": {},
   "source": [
    "let's make it interactive using plotly:"
   ]
  },
  {
   "cell_type": "code",
   "execution_count": 18,
   "metadata": {},
   "outputs": [
    {
     "data": {
      "application/vnd.plotly.v1+json": {
       "config": {
        "plotlyServerURL": "https://plot.ly"
       },
       "data": [
        {
         "alignmentgroup": "True",
         "bingroup": "x",
         "hovertemplate": "Name=%{x}<br>count=%{y}<extra></extra>",
         "legendgroup": "",
         "marker": {
          "color": "#636efa",
          "pattern": {
           "shape": ""
          }
         },
         "name": "",
         "offsetgroup": "",
         "orientation": "v",
         "showlegend": false,
         "type": "histogram",
         "x": [
          "Altair",
          "Deneb",
          "Barnard's Star",
          "Polaris",
          "Barnard's Star",
          "Sirius",
          "Fomalhaut",
          "Capella",
          "Capella",
          "Bellatrix",
          "Castor",
          "Altair",
          "Bellatrix",
          "Hadar",
          "Betelgeuse",
          "Regulus",
          "Regulus",
          "Mira",
          "Acrux",
          "Vega",
          "Betelgeuse",
          "Lalande 21185",
          "Hadar",
          "Regulus",
          "Regulus",
          "Bellatrix",
          "Sirius",
          "Arcturus",
          "Alpha Centauri B",
          "Ross 154",
          "Betelgeuse",
          "Sirius",
          "Altair",
          "Regulus",
          "Lalande 21185",
          "Canopus",
          "Procyon",
          "Capella",
          "Barnard's Star",
          "Arcturus",
          "Canopus",
          "Altair",
          "Polaris",
          "Barnard's Star",
          "Castor",
          "Castor",
          "Bellatrix",
          "Polaris",
          "Castor",
          "Barnard's Star",
          "Vega",
          "Wolf 359",
          "Regulus",
          "Polaris",
          "Antares",
          "Regulus",
          "Acrux",
          "Alnilam",
          "Bellatrix",
          "Hadar",
          "Rigil Kentaurus",
          "Vega",
          "Alnilam",
          "Ross 154",
          "Vega",
          "Alnilam",
          "Castor",
          "Betelgeuse",
          "Alnilam",
          "Bellatrix",
          "Hadar",
          "Barnard's Star",
          "Barnard's Star",
          "Spica",
          "Deneb",
          "Bellatrix",
          "Fomalhaut",
          "Rigil Kentaurus",
          "Vega",
          "Canopus",
          "Ross 154",
          "Betelgeuse",
          "Altair",
          "Procyon",
          "Betelgeuse",
          "Sirius",
          "Hadar",
          "Arcturus",
          "Ross 154",
          "Alnilam",
          "Lalande 21185",
          "Polaris",
          "Deneb",
          "Vega",
          "Acrux",
          "Spica",
          "Capella",
          "Altair",
          "Antares",
          "Capella",
          "Wolf 359",
          "Spica",
          "Acrux",
          "Mira",
          "Altair",
          "Betelgeuse",
          "Barnard's Star",
          "Achernar",
          "Aldebaran",
          "Antares",
          "Hadar",
          "Arcturus",
          "Aldebaran",
          "Regulus",
          "Lalande 21185",
          "Canopus",
          "Canopus",
          "Acrux",
          "Sirius",
          "Canopus",
          "Rigil Kentaurus",
          "Rigil Kentaurus",
          "Sirius",
          "Barnard's Star",
          "Polaris",
          "Spica",
          "Spica",
          "Procyon",
          "Acrux",
          "Antares",
          "Rigil Kentaurus",
          "Vega",
          "Barnard's Star",
          "Aldebaran",
          "Alpha Centauri B",
          "Canopus",
          "Castor",
          "Rigil Kentaurus",
          "Aldebaran",
          "Altair",
          "Arcturus",
          "Fomalhaut",
          "Antares",
          "Hadar",
          "Deneb",
          "Vega",
          "Aldebaran",
          "Acrux",
          "Altair",
          "Polaris",
          "Capella",
          "Sirius",
          "Rigel",
          "Alnilam",
          "Aldebaran",
          "Mira",
          "Ross 154",
          "Fomalhaut",
          "Mira",
          "Alnilam",
          "Betelgeuse",
          "Procyon",
          "Mira",
          "Sirius",
          "Hadar",
          "Procyon",
          "Altair",
          "Acrux",
          "Alnilam",
          "Spica",
          "Spica",
          "Spica",
          "Alpha Centauri B",
          "Lalande 21185",
          "Deneb",
          "Acrux",
          "Spica",
          "Altair",
          "Achernar",
          "Alnilam",
          "Canopus",
          "Regulus",
          "Capella",
          "Rigil Kentaurus",
          "Altair",
          "Deneb",
          "Betelgeuse",
          "Betelgeuse",
          "Sirius",
          "Alpha Centauri B",
          "Bellatrix",
          "Lalande 21185",
          "Acrux",
          "Hadar",
          "Polaris",
          "Altair",
          "Acrux",
          "Polaris",
          "Capella",
          "Polaris",
          "Bellatrix",
          "Altair",
          "Spica",
          "Vega",
          "Arcturus",
          "Castor",
          "Alpha Centauri B",
          "Procyon",
          "Betelgeuse",
          "Lalande 21185",
          "Hadar",
          "Rigel",
          "Alnilam",
          "Wolf 359",
          "Altair",
          "Altair",
          "Regulus",
          "Achernar",
          "Altair",
          "Castor",
          "Ross 154",
          "Polaris",
          "Arcturus",
          "Aldebaran",
          "Antares",
          "Ross 154",
          "Lalande 21185",
          "Capella",
          "Rigil Kentaurus",
          "Hadar",
          "Procyon",
          "Bellatrix",
          "Rigel",
          "Capella",
          "Canopus",
          "Arcturus",
          "Deneb",
          "Rigil Kentaurus",
          "Alnilam",
          "Fomalhaut",
          "Mira",
          "Betelgeuse",
          "Rigil Kentaurus",
          "Barnard's Star",
          "Canopus",
          "Barnard's Star",
          "Polaris",
          "Ross 154",
          "Regulus",
          "Achernar",
          "Acrux",
          "Alpha Centauri B",
          "Arcturus",
          "Canopus",
          "Betelgeuse",
          "Mira",
          "Deneb",
          "Procyon",
          "Alnilam",
          "Lalande 21185",
          "Altair",
          "Alpha Centauri B",
          "Deneb",
          "Deneb",
          "Vega",
          "Arcturus",
          "Deneb",
          "Betelgeuse",
          "Capella",
          "Canopus",
          "Wolf 359",
          "Mira",
          "Lalande 21185",
          "Hadar",
          "Castor",
          "Betelgeuse",
          "Alpha Centauri B",
          "Procyon",
          "Polaris",
          "Altair",
          "Bellatrix",
          "Betelgeuse",
          "Altair",
          "Achernar",
          "Hadar",
          "Capella",
          "Alpha Centauri B",
          "Alnilam",
          "Sirius",
          "Fomalhaut",
          "Barnard's Star",
          "Sirius",
          "Wolf 359",
          "Acrux",
          "Regulus",
          "Sirius",
          "Castor",
          "Capella",
          "Hadar",
          "Canopus",
          "Rigil Kentaurus",
          "Capella",
          "Acrux",
          "Altair",
          "Lalande 21185",
          "Ross 154",
          "Altair",
          "Procyon",
          "Altair",
          "Acrux",
          "Arcturus",
          "Procyon",
          "Hadar",
          "Hadar",
          "Polaris",
          "Betelgeuse",
          "Altair",
          "Betelgeuse",
          "Lalande 21185",
          "Capella",
          "Achernar",
          "Alnilam",
          "Rigel",
          "Castor",
          "Hadar",
          "Alnilam",
          "Hadar",
          "Sirius",
          "Rigil Kentaurus",
          "Fomalhaut",
          "Fomalhaut",
          "Mira",
          "Procyon",
          "Mira",
          "Achernar",
          "Antares",
          "Altair",
          "Bellatrix",
          "Lalande 21185",
          "Vega",
          "Mira",
          "Arcturus",
          "Vega",
          "Altair",
          "Fomalhaut",
          "Alpha Centauri B",
          "Fomalhaut",
          "Canopus",
          "Altair",
          "Vega",
          "Castor",
          "Bellatrix",
          "Alnilam",
          "Hadar",
          "Capella",
          "Deneb",
          "Arcturus",
          "Hadar",
          "Vega",
          "Capella",
          "Bellatrix",
          "Alnilam",
          "Arcturus",
          "Regulus",
          "Altair",
          "Achernar",
          "Capella",
          "Betelgeuse",
          "Rigil Kentaurus",
          "Betelgeuse",
          "Mira",
          "Alnilam",
          "Fomalhaut",
          "Altair",
          "Vega",
          "Procyon",
          "Acrux",
          "Antares",
          "Capella",
          "Sirius",
          "Ross 154",
          "Canopus",
          "Bellatrix",
          "Arcturus",
          "Canopus",
          "Ross 154",
          "Hadar",
          "Fomalhaut",
          "Vega",
          "Alpha Centauri B",
          "Spica",
          "Aldebaran",
          "Mira",
          "Vega",
          "Betelgeuse",
          "Castor",
          "Rigel",
          "Ross 154",
          "Wolf 359",
          "Acrux",
          "Fomalhaut",
          "Rigel",
          "Wolf 359",
          "Canopus",
          "Rigil Kentaurus",
          "Arcturus",
          "Arcturus",
          "Fomalhaut",
          "Deneb",
          "Mira",
          "Procyon",
          "Canopus",
          "Wolf 359",
          "Bellatrix",
          "Altair",
          "Capella",
          "Rigil Kentaurus",
          "Rigil Kentaurus",
          "Alpha Centauri B",
          "Ross 154",
          "Achernar",
          "Ross 154",
          "Hadar",
          "Rigil Kentaurus",
          "Achernar",
          "Lalande 21185",
          "Alpha Centauri B",
          "Arcturus",
          "Barnard's Star",
          "Betelgeuse",
          "Altair",
          "Capella",
          "Fomalhaut",
          "Arcturus",
          "Acrux",
          "Altair",
          "Hadar",
          "Spica",
          "Hadar",
          "Mira",
          "Antares",
          "Lalande 21185",
          "Ross 154",
          "Regulus",
          "Bellatrix",
          "Acrux",
          "Castor",
          "Bellatrix",
          "Polaris",
          "Polaris",
          "Vega",
          "Arcturus",
          "Regulus",
          "Antares",
          "Vega",
          "Barnard's Star",
          "Castor",
          "Vega",
          "Hadar",
          "Betelgeuse",
          "Vega",
          "Lalande 21185",
          "Polaris",
          "Polaris",
          "Rigel",
          "Vega",
          "Sirius",
          "Sirius",
          "Acrux",
          "Rigil Kentaurus",
          "Polaris",
          "Sirius",
          "Canopus",
          "Capella",
          "Barnard's Star",
          "Canopus",
          "Vega",
          "Spica",
          "Ross 154",
          "Achernar",
          "Ross 154",
          "Capella",
          "Spica",
          "Deneb",
          "Bellatrix",
          "Arcturus",
          "Alpha Centauri B",
          "Altair",
          "Canopus",
          "Lalande 21185",
          "Hadar",
          "Canopus",
          "Hadar",
          "Altair",
          "Castor",
          "Polaris",
          "Lalande 21185",
          "Canopus",
          "Spica",
          "Polaris",
          "Alpha Centauri B",
          "Lalande 21185",
          "Mira",
          "Rigel",
          "Castor",
          "Betelgeuse",
          "Mira",
          "Fomalhaut",
          "Polaris",
          "Hadar",
          "Antares",
          "Bellatrix",
          "Betelgeuse",
          "Achernar",
          "Polaris",
          "Mira",
          "Polaris",
          "Lalande 21185",
          "Deneb",
          "Polaris",
          "Vega",
          "Alpha Centauri B",
          "Sirius",
          "Alnilam",
          "Procyon",
          "Capella",
          "Bellatrix",
          "Lalande 21185",
          "Fomalhaut",
          "Alnilam",
          "Ross 154",
          "Mira",
          "Mira",
          "Rigil Kentaurus",
          "Altair",
          "Altair",
          "Alpha Centauri B",
          "Barnard's Star",
          "Acrux",
          "Achernar",
          "Hadar",
          "Arcturus",
          "Barnard's Star",
          "Fomalhaut",
          "Alnilam",
          "Wolf 359",
          "Barnard's Star",
          "Rigel",
          "Vega",
          "Alnilam",
          "Procyon",
          "Fomalhaut",
          "Ross 154",
          "Antares",
          "Hadar",
          "Altair",
          "Acrux",
          "Barnard's Star",
          "Spica",
          "Aldebaran",
          "Canopus",
          "Ross 154",
          "Fomalhaut",
          "Altair",
          "Barnard's Star",
          "Antares",
          "Altair",
          "Canopus",
          "Polaris",
          "Aldebaran",
          "Spica",
          "Arcturus",
          "Aldebaran",
          "Rigil Kentaurus",
          "Altair",
          "Capella",
          "Hadar",
          "Canopus",
          "Canopus",
          "Deneb",
          "Regulus",
          "Altair",
          "Lalande 21185",
          "Antares",
          "Procyon",
          "Rigil Kentaurus",
          "Bellatrix",
          "Capella",
          "Bellatrix",
          "Arcturus",
          "Arcturus",
          "Fomalhaut",
          "Procyon",
          "Mira",
          "Barnard's Star",
          "Ross 154",
          "Spica",
          "Betelgeuse",
          "Castor",
          "Bellatrix",
          "Mira",
          "Alpha Centauri B",
          "Bellatrix",
          "Ross 154",
          "Betelgeuse",
          "Ross 154",
          "Rigel",
          "Betelgeuse",
          "Rigel",
          "Regulus",
          "Ross 154",
          "Procyon",
          "Hadar",
          "Altair",
          "Mira",
          "Sirius",
          "Fomalhaut",
          "Wolf 359",
          "Achernar",
          "Capella",
          "Vega",
          "Deneb",
          "Ross 154",
          "Betelgeuse",
          "Altair",
          "Arcturus",
          "Ross 154",
          "Achernar",
          "Ross 154",
          "Hadar",
          "Hadar",
          "Ross 154",
          "Polaris",
          "Betelgeuse",
          "Castor",
          "Polaris",
          "Achernar",
          "Alnilam",
          "Capella",
          "Mira",
          "Canopus",
          "Achernar",
          "Castor",
          "Spica",
          "Hadar",
          "Acrux",
          "Sirius",
          "Rigil Kentaurus",
          "Betelgeuse",
          "Castor",
          "Mira",
          "Sirius",
          "Vega",
          "Achernar",
          "Altair",
          "Polaris",
          "Rigil Kentaurus",
          "Altair",
          "Barnard's Star",
          "Polaris",
          "Vega",
          "Barnard's Star",
          "Mira",
          "Arcturus",
          "Castor",
          "Aldebaran",
          "Vega",
          "Rigel",
          "Barnard's Star",
          "Deneb",
          "Betelgeuse",
          "Altair",
          "Spica",
          "Ross 154",
          "Regulus",
          "Fomalhaut",
          "Alnilam",
          "Deneb",
          "Polaris",
          "Achernar",
          "Sirius",
          "Rigel",
          "Fomalhaut",
          "Regulus",
          "Sirius",
          "Barnard's Star",
          "Mira",
          "Rigil Kentaurus",
          "Antares",
          "Rigil Kentaurus",
          "Sirius",
          "Arcturus",
          "Antares",
          "Procyon",
          "Sirius",
          "Alnilam",
          "Mira",
          "Alnilam",
          "Altair",
          "Altair",
          "Ross 154",
          "Rigil Kentaurus",
          "Antares",
          "Hadar",
          "Antares",
          "Arcturus",
          "Mira",
          "Vega",
          "Castor",
          "Vega",
          "Regulus",
          "Castor",
          "Procyon",
          "Barnard's Star",
          "Achernar",
          "Bellatrix",
          "Canopus",
          "Alnilam",
          "Polaris",
          "Ross 154",
          "Achernar",
          "Achernar",
          "Mira",
          "Betelgeuse",
          "Bellatrix",
          "Fomalhaut",
          "Achernar",
          "Sirius",
          "Altair",
          "Wolf 359",
          "Sirius",
          "Castor",
          "Procyon",
          "Aldebaran",
          "Spica",
          "Antares",
          "Sirius",
          "Wolf 359",
          "Canopus",
          "Altair",
          "Spica",
          "Altair",
          "Sirius",
          "Deneb",
          "Canopus",
          "Canopus",
          "Alnilam",
          "Ross 154",
          "Castor",
          "Altair",
          "Sirius",
          "Ross 154",
          "Deneb",
          "Achernar",
          "Fomalhaut",
          "Alpha Centauri B",
          "Altair",
          "Acrux",
          "Fomalhaut",
          "Capella",
          "Fomalhaut",
          "Regulus",
          "Altair",
          "Betelgeuse",
          "Bellatrix",
          "Capella",
          "Wolf 359",
          "Canopus",
          "Alnilam",
          "Mira",
          "Barnard's Star",
          "Deneb",
          "Alnilam",
          "Spica",
          "Hadar",
          "Castor",
          "Ross 154",
          "Mira",
          "Alnilam",
          "Betelgeuse",
          "Barnard's Star",
          "Lalande 21185",
          "Wolf 359",
          "Altair",
          "Betelgeuse",
          "Spica",
          "Ross 154",
          "Capella",
          "Hadar",
          "Alnilam",
          "Ross 154",
          "Lalande 21185",
          "Arcturus",
          "Castor",
          "Castor",
          "Rigil Kentaurus",
          "Mira",
          "Altair",
          "Polaris",
          "Castor",
          "Ross 154",
          "Castor",
          "Alnilam",
          "Canopus",
          "Sirius",
          "Canopus",
          "Vega",
          "Sirius",
          "Polaris",
          "Capella",
          "Antares",
          "Regulus",
          "Alpha Centauri B",
          "Canopus",
          "Altair",
          "Rigil Kentaurus",
          "Alnilam",
          "Canopus",
          "Canopus",
          "Hadar",
          "Alnilam",
          "Deneb",
          "Altair",
          "Acrux",
          "Procyon",
          "Spica",
          "Rigil Kentaurus",
          "Capella",
          "Antares",
          "Rigil Kentaurus",
          "Bellatrix",
          "Capella",
          "Acrux",
          "Barnard's Star",
          "Rigel",
          "Altair",
          "Rigel",
          "Acrux",
          "Regulus",
          "Regulus",
          "Canopus",
          "Bellatrix",
          "Regulus",
          "Altair",
          "Capella",
          "Rigel",
          "Hadar",
          "Ross 154",
          "Fomalhaut",
          "Arcturus",
          "Ross 154",
          "Arcturus",
          "Fomalhaut",
          "Barnard's Star",
          "Altair",
          "Regulus",
          "Canopus",
          "Capella",
          "Aldebaran",
          "Achernar",
          "Arcturus",
          "Bellatrix",
          "Spica",
          "Barnard's Star",
          "Canopus",
          "Betelgeuse",
          "Sirius",
          "Deneb",
          "Spica",
          "Alpha Centauri B",
          "Achernar",
          "Hadar",
          "Betelgeuse",
          "Fomalhaut",
          "Antares",
          "Rigil Kentaurus",
          "Aldebaran",
          "Wolf 359",
          "Wolf 359",
          "Polaris",
          "Betelgeuse",
          "Aldebaran",
          "Bellatrix",
          "Rigil Kentaurus",
          "Wolf 359",
          "Achernar",
          "Alnilam",
          "Betelgeuse",
          "Castor",
          "Rigil Kentaurus",
          "Procyon",
          "Spica",
          "Vega",
          "Ross 154",
          "Barnard's Star",
          "Ross 154",
          "Altair",
          "Achernar",
          "Alpha Centauri B",
          "Bellatrix",
          "Canopus",
          "Castor",
          "Arcturus",
          "Castor",
          "Hadar",
          "Barnard's Star",
          "Canopus",
          "Betelgeuse",
          "Hadar",
          "Spica",
          "Castor",
          "Castor",
          "Bellatrix",
          "Ross 154",
          "Mira",
          "Capella",
          "Wolf 359",
          "Aldebaran",
          "Antares",
          "Altair",
          "Wolf 359",
          "Acrux",
          "Arcturus",
          "Bellatrix",
          "Altair",
          "Canopus",
          "Arcturus",
          "Bellatrix",
          "Spica",
          "Procyon",
          "Capella",
          "Vega",
          "Acrux",
          "Procyon",
          "Alpha Centauri B",
          "Canopus",
          "Altair",
          "Vega",
          "Barnard's Star",
          "Altair",
          "Ross 154",
          "Wolf 359",
          "Vega",
          "Achernar",
          "Rigil Kentaurus",
          "Altair",
          "Antares",
          "Betelgeuse",
          "Sirius",
          "Procyon",
          "Ross 154",
          "Canopus",
          "Aldebaran",
          "Arcturus",
          "Antares",
          "Lalande 21185",
          "Barnard's Star",
          "Barnard's Star",
          "Castor",
          "Spica",
          "Acrux",
          "Spica",
          "Procyon",
          "Canopus",
          "Altair",
          "Rigil Kentaurus",
          "Vega",
          "Procyon",
          "Arcturus",
          "Canopus",
          "Altair",
          "Hadar",
          "Castor",
          "Antares",
          "Altair",
          "Ross 154",
          "Capella",
          "Castor",
          "Procyon",
          "Lalande 21185",
          "Mira",
          "Betelgeuse",
          "Betelgeuse",
          "Lalande 21185",
          "Altair",
          "Vega",
          "Mira",
          "Rigil Kentaurus",
          "Mira",
          "Altair",
          "Altair",
          "Deneb",
          "Rigel",
          "Altair",
          "Barnard's Star",
          "Wolf 359",
          "Hadar",
          "Bellatrix",
          "Alpha Centauri B",
          "Wolf 359"
         ],
         "xaxis": "x",
         "yaxis": "y"
        }
       ],
       "layout": {
        "barmode": "relative",
        "legend": {
         "tracegroupgap": 0
        },
        "template": {
         "data": {
          "bar": [
           {
            "error_x": {
             "color": "#2a3f5f"
            },
            "error_y": {
             "color": "#2a3f5f"
            },
            "marker": {
             "line": {
              "color": "#E5ECF6",
              "width": 0.5
             },
             "pattern": {
              "fillmode": "overlay",
              "size": 10,
              "solidity": 0.2
             }
            },
            "type": "bar"
           }
          ],
          "barpolar": [
           {
            "marker": {
             "line": {
              "color": "#E5ECF6",
              "width": 0.5
             },
             "pattern": {
              "fillmode": "overlay",
              "size": 10,
              "solidity": 0.2
             }
            },
            "type": "barpolar"
           }
          ],
          "carpet": [
           {
            "aaxis": {
             "endlinecolor": "#2a3f5f",
             "gridcolor": "white",
             "linecolor": "white",
             "minorgridcolor": "white",
             "startlinecolor": "#2a3f5f"
            },
            "baxis": {
             "endlinecolor": "#2a3f5f",
             "gridcolor": "white",
             "linecolor": "white",
             "minorgridcolor": "white",
             "startlinecolor": "#2a3f5f"
            },
            "type": "carpet"
           }
          ],
          "choropleth": [
           {
            "colorbar": {
             "outlinewidth": 0,
             "ticks": ""
            },
            "type": "choropleth"
           }
          ],
          "contour": [
           {
            "colorbar": {
             "outlinewidth": 0,
             "ticks": ""
            },
            "colorscale": [
             [
              0,
              "#0d0887"
             ],
             [
              0.1111111111111111,
              "#46039f"
             ],
             [
              0.2222222222222222,
              "#7201a8"
             ],
             [
              0.3333333333333333,
              "#9c179e"
             ],
             [
              0.4444444444444444,
              "#bd3786"
             ],
             [
              0.5555555555555556,
              "#d8576b"
             ],
             [
              0.6666666666666666,
              "#ed7953"
             ],
             [
              0.7777777777777778,
              "#fb9f3a"
             ],
             [
              0.8888888888888888,
              "#fdca26"
             ],
             [
              1,
              "#f0f921"
             ]
            ],
            "type": "contour"
           }
          ],
          "contourcarpet": [
           {
            "colorbar": {
             "outlinewidth": 0,
             "ticks": ""
            },
            "type": "contourcarpet"
           }
          ],
          "heatmap": [
           {
            "colorbar": {
             "outlinewidth": 0,
             "ticks": ""
            },
            "colorscale": [
             [
              0,
              "#0d0887"
             ],
             [
              0.1111111111111111,
              "#46039f"
             ],
             [
              0.2222222222222222,
              "#7201a8"
             ],
             [
              0.3333333333333333,
              "#9c179e"
             ],
             [
              0.4444444444444444,
              "#bd3786"
             ],
             [
              0.5555555555555556,
              "#d8576b"
             ],
             [
              0.6666666666666666,
              "#ed7953"
             ],
             [
              0.7777777777777778,
              "#fb9f3a"
             ],
             [
              0.8888888888888888,
              "#fdca26"
             ],
             [
              1,
              "#f0f921"
             ]
            ],
            "type": "heatmap"
           }
          ],
          "heatmapgl": [
           {
            "colorbar": {
             "outlinewidth": 0,
             "ticks": ""
            },
            "colorscale": [
             [
              0,
              "#0d0887"
             ],
             [
              0.1111111111111111,
              "#46039f"
             ],
             [
              0.2222222222222222,
              "#7201a8"
             ],
             [
              0.3333333333333333,
              "#9c179e"
             ],
             [
              0.4444444444444444,
              "#bd3786"
             ],
             [
              0.5555555555555556,
              "#d8576b"
             ],
             [
              0.6666666666666666,
              "#ed7953"
             ],
             [
              0.7777777777777778,
              "#fb9f3a"
             ],
             [
              0.8888888888888888,
              "#fdca26"
             ],
             [
              1,
              "#f0f921"
             ]
            ],
            "type": "heatmapgl"
           }
          ],
          "histogram": [
           {
            "marker": {
             "pattern": {
              "fillmode": "overlay",
              "size": 10,
              "solidity": 0.2
             }
            },
            "type": "histogram"
           }
          ],
          "histogram2d": [
           {
            "colorbar": {
             "outlinewidth": 0,
             "ticks": ""
            },
            "colorscale": [
             [
              0,
              "#0d0887"
             ],
             [
              0.1111111111111111,
              "#46039f"
             ],
             [
              0.2222222222222222,
              "#7201a8"
             ],
             [
              0.3333333333333333,
              "#9c179e"
             ],
             [
              0.4444444444444444,
              "#bd3786"
             ],
             [
              0.5555555555555556,
              "#d8576b"
             ],
             [
              0.6666666666666666,
              "#ed7953"
             ],
             [
              0.7777777777777778,
              "#fb9f3a"
             ],
             [
              0.8888888888888888,
              "#fdca26"
             ],
             [
              1,
              "#f0f921"
             ]
            ],
            "type": "histogram2d"
           }
          ],
          "histogram2dcontour": [
           {
            "colorbar": {
             "outlinewidth": 0,
             "ticks": ""
            },
            "colorscale": [
             [
              0,
              "#0d0887"
             ],
             [
              0.1111111111111111,
              "#46039f"
             ],
             [
              0.2222222222222222,
              "#7201a8"
             ],
             [
              0.3333333333333333,
              "#9c179e"
             ],
             [
              0.4444444444444444,
              "#bd3786"
             ],
             [
              0.5555555555555556,
              "#d8576b"
             ],
             [
              0.6666666666666666,
              "#ed7953"
             ],
             [
              0.7777777777777778,
              "#fb9f3a"
             ],
             [
              0.8888888888888888,
              "#fdca26"
             ],
             [
              1,
              "#f0f921"
             ]
            ],
            "type": "histogram2dcontour"
           }
          ],
          "mesh3d": [
           {
            "colorbar": {
             "outlinewidth": 0,
             "ticks": ""
            },
            "type": "mesh3d"
           }
          ],
          "parcoords": [
           {
            "line": {
             "colorbar": {
              "outlinewidth": 0,
              "ticks": ""
             }
            },
            "type": "parcoords"
           }
          ],
          "pie": [
           {
            "automargin": true,
            "type": "pie"
           }
          ],
          "scatter": [
           {
            "fillpattern": {
             "fillmode": "overlay",
             "size": 10,
             "solidity": 0.2
            },
            "type": "scatter"
           }
          ],
          "scatter3d": [
           {
            "line": {
             "colorbar": {
              "outlinewidth": 0,
              "ticks": ""
             }
            },
            "marker": {
             "colorbar": {
              "outlinewidth": 0,
              "ticks": ""
             }
            },
            "type": "scatter3d"
           }
          ],
          "scattercarpet": [
           {
            "marker": {
             "colorbar": {
              "outlinewidth": 0,
              "ticks": ""
             }
            },
            "type": "scattercarpet"
           }
          ],
          "scattergeo": [
           {
            "marker": {
             "colorbar": {
              "outlinewidth": 0,
              "ticks": ""
             }
            },
            "type": "scattergeo"
           }
          ],
          "scattergl": [
           {
            "marker": {
             "colorbar": {
              "outlinewidth": 0,
              "ticks": ""
             }
            },
            "type": "scattergl"
           }
          ],
          "scattermapbox": [
           {
            "marker": {
             "colorbar": {
              "outlinewidth": 0,
              "ticks": ""
             }
            },
            "type": "scattermapbox"
           }
          ],
          "scatterpolar": [
           {
            "marker": {
             "colorbar": {
              "outlinewidth": 0,
              "ticks": ""
             }
            },
            "type": "scatterpolar"
           }
          ],
          "scatterpolargl": [
           {
            "marker": {
             "colorbar": {
              "outlinewidth": 0,
              "ticks": ""
             }
            },
            "type": "scatterpolargl"
           }
          ],
          "scatterternary": [
           {
            "marker": {
             "colorbar": {
              "outlinewidth": 0,
              "ticks": ""
             }
            },
            "type": "scatterternary"
           }
          ],
          "surface": [
           {
            "colorbar": {
             "outlinewidth": 0,
             "ticks": ""
            },
            "colorscale": [
             [
              0,
              "#0d0887"
             ],
             [
              0.1111111111111111,
              "#46039f"
             ],
             [
              0.2222222222222222,
              "#7201a8"
             ],
             [
              0.3333333333333333,
              "#9c179e"
             ],
             [
              0.4444444444444444,
              "#bd3786"
             ],
             [
              0.5555555555555556,
              "#d8576b"
             ],
             [
              0.6666666666666666,
              "#ed7953"
             ],
             [
              0.7777777777777778,
              "#fb9f3a"
             ],
             [
              0.8888888888888888,
              "#fdca26"
             ],
             [
              1,
              "#f0f921"
             ]
            ],
            "type": "surface"
           }
          ],
          "table": [
           {
            "cells": {
             "fill": {
              "color": "#EBF0F8"
             },
             "line": {
              "color": "white"
             }
            },
            "header": {
             "fill": {
              "color": "#C8D4E3"
             },
             "line": {
              "color": "white"
             }
            },
            "type": "table"
           }
          ]
         },
         "layout": {
          "annotationdefaults": {
           "arrowcolor": "#2a3f5f",
           "arrowhead": 0,
           "arrowwidth": 1
          },
          "autotypenumbers": "strict",
          "coloraxis": {
           "colorbar": {
            "outlinewidth": 0,
            "ticks": ""
           }
          },
          "colorscale": {
           "diverging": [
            [
             0,
             "#8e0152"
            ],
            [
             0.1,
             "#c51b7d"
            ],
            [
             0.2,
             "#de77ae"
            ],
            [
             0.3,
             "#f1b6da"
            ],
            [
             0.4,
             "#fde0ef"
            ],
            [
             0.5,
             "#f7f7f7"
            ],
            [
             0.6,
             "#e6f5d0"
            ],
            [
             0.7,
             "#b8e186"
            ],
            [
             0.8,
             "#7fbc41"
            ],
            [
             0.9,
             "#4d9221"
            ],
            [
             1,
             "#276419"
            ]
           ],
           "sequential": [
            [
             0,
             "#0d0887"
            ],
            [
             0.1111111111111111,
             "#46039f"
            ],
            [
             0.2222222222222222,
             "#7201a8"
            ],
            [
             0.3333333333333333,
             "#9c179e"
            ],
            [
             0.4444444444444444,
             "#bd3786"
            ],
            [
             0.5555555555555556,
             "#d8576b"
            ],
            [
             0.6666666666666666,
             "#ed7953"
            ],
            [
             0.7777777777777778,
             "#fb9f3a"
            ],
            [
             0.8888888888888888,
             "#fdca26"
            ],
            [
             1,
             "#f0f921"
            ]
           ],
           "sequentialminus": [
            [
             0,
             "#0d0887"
            ],
            [
             0.1111111111111111,
             "#46039f"
            ],
            [
             0.2222222222222222,
             "#7201a8"
            ],
            [
             0.3333333333333333,
             "#9c179e"
            ],
            [
             0.4444444444444444,
             "#bd3786"
            ],
            [
             0.5555555555555556,
             "#d8576b"
            ],
            [
             0.6666666666666666,
             "#ed7953"
            ],
            [
             0.7777777777777778,
             "#fb9f3a"
            ],
            [
             0.8888888888888888,
             "#fdca26"
            ],
            [
             1,
             "#f0f921"
            ]
           ]
          },
          "colorway": [
           "#636efa",
           "#EF553B",
           "#00cc96",
           "#ab63fa",
           "#FFA15A",
           "#19d3f3",
           "#FF6692",
           "#B6E880",
           "#FF97FF",
           "#FECB52"
          ],
          "font": {
           "color": "#2a3f5f"
          },
          "geo": {
           "bgcolor": "white",
           "lakecolor": "white",
           "landcolor": "#E5ECF6",
           "showlakes": true,
           "showland": true,
           "subunitcolor": "white"
          },
          "hoverlabel": {
           "align": "left"
          },
          "hovermode": "closest",
          "mapbox": {
           "style": "light"
          },
          "paper_bgcolor": "white",
          "plot_bgcolor": "#E5ECF6",
          "polar": {
           "angularaxis": {
            "gridcolor": "white",
            "linecolor": "white",
            "ticks": ""
           },
           "bgcolor": "#E5ECF6",
           "radialaxis": {
            "gridcolor": "white",
            "linecolor": "white",
            "ticks": ""
           }
          },
          "scene": {
           "xaxis": {
            "backgroundcolor": "#E5ECF6",
            "gridcolor": "white",
            "gridwidth": 2,
            "linecolor": "white",
            "showbackground": true,
            "ticks": "",
            "zerolinecolor": "white"
           },
           "yaxis": {
            "backgroundcolor": "#E5ECF6",
            "gridcolor": "white",
            "gridwidth": 2,
            "linecolor": "white",
            "showbackground": true,
            "ticks": "",
            "zerolinecolor": "white"
           },
           "zaxis": {
            "backgroundcolor": "#E5ECF6",
            "gridcolor": "white",
            "gridwidth": 2,
            "linecolor": "white",
            "showbackground": true,
            "ticks": "",
            "zerolinecolor": "white"
           }
          },
          "shapedefaults": {
           "line": {
            "color": "#2a3f5f"
           }
          },
          "ternary": {
           "aaxis": {
            "gridcolor": "white",
            "linecolor": "white",
            "ticks": ""
           },
           "baxis": {
            "gridcolor": "white",
            "linecolor": "white",
            "ticks": ""
           },
           "bgcolor": "#E5ECF6",
           "caxis": {
            "gridcolor": "white",
            "linecolor": "white",
            "ticks": ""
           }
          },
          "title": {
           "x": 0.05
          },
          "xaxis": {
           "automargin": true,
           "gridcolor": "white",
           "linecolor": "white",
           "ticks": "",
           "title": {
            "standoff": 15
           },
           "zerolinecolor": "white",
           "zerolinewidth": 2
          },
          "yaxis": {
           "automargin": true,
           "gridcolor": "white",
           "linecolor": "white",
           "ticks": "",
           "title": {
            "standoff": 15
           },
           "zerolinecolor": "white",
           "zerolinewidth": 2
          }
         }
        },
        "title": {
         "text": "Histogram of Name column"
        },
        "xaxis": {
         "anchor": "y",
         "domain": [
          0,
          1
         ],
         "title": {
          "text": "Name"
         }
        },
        "yaxis": {
         "anchor": "x",
         "domain": [
          0,
          1
         ],
         "title": {
          "text": "count"
         }
        }
       }
      }
     },
     "metadata": {},
     "output_type": "display_data"
    },
    {
     "data": {
      "text/plain": [
       "<Figure size 1200x800 with 0 Axes>"
      ]
     },
     "metadata": {},
     "output_type": "display_data"
    }
   ],
   "source": [
    " # make a histogram of name column using plotly express:\n",
    "\n",
    "plt.figure(figsize=(12, 8))\n",
    "fig = px.histogram(df, x='Name', title='Histogram of Name column')\n",
    "fig.show()"
   ]
  },
  {
   "cell_type": "code",
   "execution_count": 19,
   "metadata": {},
   "outputs": [
    {
     "data": {
      "application/vnd.plotly.v1+json": {
       "config": {
        "plotlyServerURL": "https://plot.ly"
       },
       "data": [
        {
         "alignmentgroup": "True",
         "bingroup": "x",
         "hovertemplate": "Spectral Class=A7V<br>Name=%{x}<br>count=%{y}<extra></extra>",
         "legendgroup": "A7V",
         "marker": {
          "color": "#636efa",
          "pattern": {
           "shape": ""
          }
         },
         "name": "A7V",
         "offsetgroup": "A7V",
         "orientation": "v",
         "showlegend": true,
         "type": "histogram",
         "x": [
          "Altair",
          "Altair",
          "Altair",
          "Altair",
          "Altair",
          "Altair",
          "Altair",
          "Altair",
          "Altair",
          "Altair",
          "Altair",
          "Altair",
          "Altair",
          "Altair",
          "Altair",
          "Altair",
          "Altair",
          "Altair",
          "Altair",
          "Altair",
          "Altair",
          "Altair",
          "Altair",
          "Altair",
          "Altair",
          "Altair",
          "Altair",
          "Altair",
          "Altair",
          "Altair",
          "Altair",
          "Altair",
          "Altair",
          "Altair",
          "Altair",
          "Altair",
          "Altair",
          "Altair",
          "Altair",
          "Altair",
          "Altair",
          "Altair",
          "Altair",
          "Altair",
          "Altair",
          "Altair",
          "Altair",
          "Altair",
          "Altair",
          "Altair",
          "Altair",
          "Altair",
          "Altair",
          "Altair",
          "Altair",
          "Altair",
          "Altair",
          "Altair",
          "Altair",
          "Altair",
          "Altair",
          "Altair",
          "Altair",
          "Altair",
          "Altair",
          "Altair",
          "Altair",
          "Altair",
          "Altair",
          "Altair",
          "Altair",
          "Altair",
          "Altair",
          "Altair"
         ],
         "xaxis": "x",
         "yaxis": "y"
        },
        {
         "alignmentgroup": "True",
         "bingroup": "x",
         "hovertemplate": "Spectral Class=A2Ia<br>Name=%{x}<br>count=%{y}<extra></extra>",
         "legendgroup": "A2Ia",
         "marker": {
          "color": "#EF553B",
          "pattern": {
           "shape": ""
          }
         },
         "name": "A2Ia",
         "offsetgroup": "A2Ia",
         "orientation": "v",
         "showlegend": true,
         "type": "histogram",
         "x": [
          "Deneb",
          "Deneb",
          "Deneb",
          "Deneb",
          "Deneb",
          "Deneb",
          "Deneb",
          "Deneb",
          "Deneb",
          "Deneb",
          "Deneb",
          "Deneb",
          "Deneb",
          "Deneb",
          "Deneb",
          "Deneb",
          "Deneb",
          "Deneb",
          "Deneb",
          "Deneb",
          "Deneb",
          "Deneb",
          "Deneb",
          "Deneb",
          "Deneb"
         ],
         "xaxis": "x",
         "yaxis": "y"
        },
        {
         "alignmentgroup": "True",
         "bingroup": "x",
         "hovertemplate": "Spectral Class=M4Ve<br>Name=%{x}<br>count=%{y}<extra></extra>",
         "legendgroup": "M4Ve",
         "marker": {
          "color": "#00cc96",
          "pattern": {
           "shape": ""
          }
         },
         "name": "M4Ve",
         "offsetgroup": "M4Ve",
         "orientation": "v",
         "showlegend": true,
         "type": "histogram",
         "x": [
          "Barnard's Star",
          "Barnard's Star",
          "Barnard's Star",
          "Barnard's Star",
          "Barnard's Star",
          "Barnard's Star",
          "Barnard's Star",
          "Barnard's Star",
          "Barnard's Star",
          "Barnard's Star",
          "Barnard's Star",
          "Barnard's Star",
          "Barnard's Star",
          "Barnard's Star",
          "Barnard's Star",
          "Barnard's Star",
          "Barnard's Star",
          "Barnard's Star",
          "Barnard's Star",
          "Barnard's Star",
          "Barnard's Star",
          "Barnard's Star",
          "Barnard's Star",
          "Barnard's Star",
          "Barnard's Star",
          "Barnard's Star",
          "Barnard's Star",
          "Barnard's Star",
          "Barnard's Star",
          "Barnard's Star",
          "Barnard's Star",
          "Barnard's Star",
          "Barnard's Star",
          "Barnard's Star",
          "Barnard's Star",
          "Barnard's Star",
          "Barnard's Star",
          "Barnard's Star"
         ],
         "xaxis": "x",
         "yaxis": "y"
        },
        {
         "alignmentgroup": "True",
         "bingroup": "x",
         "hovertemplate": "Spectral Class=F7Ib<br>Name=%{x}<br>count=%{y}<extra></extra>",
         "legendgroup": "F7Ib",
         "marker": {
          "color": "#ab63fa",
          "pattern": {
           "shape": ""
          }
         },
         "name": "F7Ib",
         "offsetgroup": "F7Ib",
         "orientation": "v",
         "showlegend": true,
         "type": "histogram",
         "x": [
          "Polaris",
          "Polaris",
          "Polaris",
          "Polaris",
          "Polaris",
          "Polaris",
          "Polaris",
          "Polaris",
          "Polaris",
          "Polaris",
          "Polaris",
          "Polaris",
          "Polaris",
          "Polaris",
          "Polaris",
          "Polaris",
          "Polaris",
          "Polaris",
          "Polaris",
          "Polaris",
          "Polaris",
          "Polaris",
          "Polaris",
          "Polaris",
          "Polaris",
          "Polaris",
          "Polaris",
          "Polaris",
          "Polaris",
          "Polaris",
          "Polaris",
          "Polaris",
          "Polaris",
          "Polaris",
          "Polaris"
         ],
         "xaxis": "x",
         "yaxis": "y"
        },
        {
         "alignmentgroup": "True",
         "bingroup": "x",
         "hovertemplate": "Spectral Class=A1V<br>Name=%{x}<br>count=%{y}<extra></extra>",
         "legendgroup": "A1V",
         "marker": {
          "color": "#FFA15A",
          "pattern": {
           "shape": ""
          }
         },
         "name": "A1V",
         "offsetgroup": "A1V",
         "orientation": "v",
         "showlegend": true,
         "type": "histogram",
         "x": [
          "Sirius",
          "Castor",
          "Sirius",
          "Sirius",
          "Castor",
          "Castor",
          "Castor",
          "Castor",
          "Sirius",
          "Sirius",
          "Sirius",
          "Castor",
          "Sirius",
          "Sirius",
          "Sirius",
          "Castor",
          "Castor",
          "Castor",
          "Sirius",
          "Sirius",
          "Sirius",
          "Castor",
          "Castor",
          "Sirius",
          "Castor",
          "Sirius",
          "Castor",
          "Castor",
          "Castor",
          "Sirius",
          "Sirius",
          "Sirius",
          "Castor",
          "Castor",
          "Sirius",
          "Castor",
          "Sirius",
          "Castor",
          "Castor",
          "Sirius",
          "Castor",
          "Sirius",
          "Castor",
          "Sirius",
          "Sirius",
          "Sirius",
          "Sirius",
          "Castor",
          "Castor",
          "Sirius",
          "Sirius",
          "Castor",
          "Sirius",
          "Sirius",
          "Castor",
          "Sirius",
          "Castor",
          "Castor",
          "Castor",
          "Castor",
          "Castor",
          "Sirius",
          "Sirius",
          "Sirius",
          "Castor",
          "Castor",
          "Castor",
          "Castor",
          "Castor",
          "Sirius",
          "Castor",
          "Castor",
          "Castor"
         ],
         "xaxis": "x",
         "yaxis": "y"
        },
        {
         "alignmentgroup": "True",
         "bingroup": "x",
         "hovertemplate": "Spectral Class=A3V<br>Name=%{x}<br>count=%{y}<extra></extra>",
         "legendgroup": "A3V",
         "marker": {
          "color": "#19d3f3",
          "pattern": {
           "shape": ""
          }
         },
         "name": "A3V",
         "offsetgroup": "A3V",
         "orientation": "v",
         "showlegend": true,
         "type": "histogram",
         "x": [
          "Fomalhaut",
          "Fomalhaut",
          "Fomalhaut",
          "Fomalhaut",
          "Fomalhaut",
          "Fomalhaut",
          "Fomalhaut",
          "Fomalhaut",
          "Fomalhaut",
          "Fomalhaut",
          "Fomalhaut",
          "Fomalhaut",
          "Fomalhaut",
          "Fomalhaut",
          "Fomalhaut",
          "Fomalhaut",
          "Fomalhaut",
          "Fomalhaut",
          "Fomalhaut",
          "Fomalhaut",
          "Fomalhaut",
          "Fomalhaut",
          "Fomalhaut",
          "Fomalhaut",
          "Fomalhaut",
          "Fomalhaut",
          "Fomalhaut",
          "Fomalhaut",
          "Fomalhaut",
          "Fomalhaut",
          "Fomalhaut"
         ],
         "xaxis": "x",
         "yaxis": "y"
        },
        {
         "alignmentgroup": "True",
         "bingroup": "x",
         "hovertemplate": "Spectral Class=G8III<br>Name=%{x}<br>count=%{y}<extra></extra>",
         "legendgroup": "G8III",
         "marker": {
          "color": "#FF6692",
          "pattern": {
           "shape": ""
          }
         },
         "name": "G8III",
         "offsetgroup": "G8III",
         "orientation": "v",
         "showlegend": true,
         "type": "histogram",
         "x": [
          "Capella",
          "Capella",
          "Capella",
          "Capella",
          "Capella",
          "Capella",
          "Capella",
          "Capella",
          "Capella",
          "Capella",
          "Capella",
          "Capella",
          "Capella",
          "Capella",
          "Capella",
          "Capella",
          "Capella",
          "Capella",
          "Capella",
          "Capella",
          "Capella",
          "Capella",
          "Capella",
          "Capella",
          "Capella",
          "Capella",
          "Capella",
          "Capella",
          "Capella",
          "Capella",
          "Capella",
          "Capella",
          "Capella",
          "Capella",
          "Capella",
          "Capella",
          "Capella",
          "Capella",
          "Capella"
         ],
         "xaxis": "x",
         "yaxis": "y"
        },
        {
         "alignmentgroup": "True",
         "bingroup": "x",
         "hovertemplate": "Spectral Class=B2III<br>Name=%{x}<br>count=%{y}<extra></extra>",
         "legendgroup": "B2III",
         "marker": {
          "color": "#B6E880",
          "pattern": {
           "shape": ""
          }
         },
         "name": "B2III",
         "offsetgroup": "B2III",
         "orientation": "v",
         "showlegend": true,
         "type": "histogram",
         "x": [
          "Bellatrix",
          "Bellatrix",
          "Bellatrix",
          "Bellatrix",
          "Bellatrix",
          "Bellatrix",
          "Bellatrix",
          "Bellatrix",
          "Bellatrix",
          "Bellatrix",
          "Bellatrix",
          "Bellatrix",
          "Bellatrix",
          "Bellatrix",
          "Bellatrix",
          "Bellatrix",
          "Bellatrix",
          "Bellatrix",
          "Bellatrix",
          "Bellatrix",
          "Bellatrix",
          "Bellatrix",
          "Bellatrix",
          "Bellatrix",
          "Bellatrix",
          "Bellatrix",
          "Bellatrix",
          "Bellatrix",
          "Bellatrix",
          "Bellatrix",
          "Bellatrix",
          "Bellatrix",
          "Bellatrix",
          "Bellatrix",
          "Bellatrix",
          "Bellatrix",
          "Bellatrix"
         ],
         "xaxis": "x",
         "yaxis": "y"
        },
        {
         "alignmentgroup": "True",
         "bingroup": "x",
         "hovertemplate": "Spectral Class=B1III<br>Name=%{x}<br>count=%{y}<extra></extra>",
         "legendgroup": "B1III",
         "marker": {
          "color": "#FF97FF",
          "pattern": {
           "shape": ""
          }
         },
         "name": "B1III",
         "offsetgroup": "B1III",
         "orientation": "v",
         "showlegend": true,
         "type": "histogram",
         "x": [
          "Hadar",
          "Hadar",
          "Hadar",
          "Hadar",
          "Hadar",
          "Hadar",
          "Hadar",
          "Hadar",
          "Hadar",
          "Hadar",
          "Hadar",
          "Hadar",
          "Hadar",
          "Hadar",
          "Hadar",
          "Hadar",
          "Hadar",
          "Hadar",
          "Hadar",
          "Hadar",
          "Hadar",
          "Hadar",
          "Hadar",
          "Hadar",
          "Hadar",
          "Hadar",
          "Hadar",
          "Hadar",
          "Hadar",
          "Hadar",
          "Hadar",
          "Hadar",
          "Hadar",
          "Hadar",
          "Hadar",
          "Hadar",
          "Hadar",
          "Hadar",
          "Hadar",
          "Hadar",
          "Hadar",
          "Hadar",
          "Hadar",
          "Hadar",
          "Hadar"
         ],
         "xaxis": "x",
         "yaxis": "y"
        },
        {
         "alignmentgroup": "True",
         "bingroup": "x",
         "hovertemplate": "Spectral Class=M2Iab<br>Name=%{x}<br>count=%{y}<extra></extra>",
         "legendgroup": "M2Iab",
         "marker": {
          "color": "#FECB52",
          "pattern": {
           "shape": ""
          }
         },
         "name": "M2Iab",
         "offsetgroup": "M2Iab",
         "orientation": "v",
         "showlegend": true,
         "type": "histogram",
         "x": [
          "Betelgeuse",
          "Betelgeuse",
          "Betelgeuse",
          "Betelgeuse",
          "Betelgeuse",
          "Betelgeuse",
          "Betelgeuse",
          "Betelgeuse",
          "Betelgeuse",
          "Betelgeuse",
          "Betelgeuse",
          "Betelgeuse",
          "Betelgeuse",
          "Betelgeuse",
          "Betelgeuse",
          "Betelgeuse",
          "Betelgeuse",
          "Betelgeuse",
          "Betelgeuse",
          "Betelgeuse",
          "Betelgeuse",
          "Betelgeuse",
          "Betelgeuse",
          "Betelgeuse",
          "Betelgeuse",
          "Betelgeuse",
          "Betelgeuse",
          "Betelgeuse",
          "Betelgeuse",
          "Betelgeuse",
          "Betelgeuse",
          "Betelgeuse",
          "Betelgeuse",
          "Betelgeuse",
          "Betelgeuse",
          "Betelgeuse",
          "Betelgeuse",
          "Betelgeuse",
          "Betelgeuse",
          "Betelgeuse",
          "Betelgeuse",
          "Betelgeuse",
          "Betelgeuse",
          "Betelgeuse"
         ],
         "xaxis": "x",
         "yaxis": "y"
        },
        {
         "alignmentgroup": "True",
         "bingroup": "x",
         "hovertemplate": "Spectral Class=B7V<br>Name=%{x}<br>count=%{y}<extra></extra>",
         "legendgroup": "B7V",
         "marker": {
          "color": "#636efa",
          "pattern": {
           "shape": ""
          }
         },
         "name": "B7V",
         "offsetgroup": "B7V",
         "orientation": "v",
         "showlegend": true,
         "type": "histogram",
         "x": [
          "Regulus",
          "Regulus",
          "Regulus",
          "Regulus",
          "Regulus",
          "Regulus",
          "Regulus",
          "Regulus",
          "Regulus",
          "Regulus",
          "Regulus",
          "Regulus",
          "Regulus",
          "Regulus",
          "Regulus",
          "Regulus",
          "Regulus",
          "Regulus",
          "Regulus",
          "Regulus",
          "Regulus",
          "Regulus",
          "Regulus",
          "Regulus",
          "Regulus",
          "Regulus"
         ],
         "xaxis": "x",
         "yaxis": "y"
        },
        {
         "alignmentgroup": "True",
         "bingroup": "x",
         "hovertemplate": "Spectral Class=M7IIIe<br>Name=%{x}<br>count=%{y}<extra></extra>",
         "legendgroup": "M7IIIe",
         "marker": {
          "color": "#EF553B",
          "pattern": {
           "shape": ""
          }
         },
         "name": "M7IIIe",
         "offsetgroup": "M7IIIe",
         "orientation": "v",
         "showlegend": true,
         "type": "histogram",
         "x": [
          "Mira",
          "Mira",
          "Mira",
          "Mira",
          "Mira",
          "Mira",
          "Mira",
          "Mira",
          "Mira",
          "Mira",
          "Mira",
          "Mira",
          "Mira",
          "Mira",
          "Mira",
          "Mira",
          "Mira",
          "Mira",
          "Mira",
          "Mira",
          "Mira",
          "Mira",
          "Mira",
          "Mira",
          "Mira",
          "Mira",
          "Mira",
          "Mira",
          "Mira",
          "Mira",
          "Mira",
          "Mira",
          "Mira",
          "Mira",
          "Mira",
          "Mira",
          "Mira"
         ],
         "xaxis": "x",
         "yaxis": "y"
        },
        {
         "alignmentgroup": "True",
         "bingroup": "x",
         "hovertemplate": "Spectral Class=B0.5IV<br>Name=%{x}<br>count=%{y}<extra></extra>",
         "legendgroup": "B0.5IV",
         "marker": {
          "color": "#00cc96",
          "pattern": {
           "shape": ""
          }
         },
         "name": "B0.5IV",
         "offsetgroup": "B0.5IV",
         "orientation": "v",
         "showlegend": true,
         "type": "histogram",
         "x": [
          "Acrux",
          "Acrux",
          "Acrux",
          "Acrux",
          "Acrux",
          "Acrux",
          "Acrux",
          "Acrux",
          "Acrux",
          "Acrux",
          "Acrux",
          "Acrux",
          "Acrux",
          "Acrux",
          "Acrux",
          "Acrux",
          "Acrux",
          "Acrux",
          "Acrux",
          "Acrux",
          "Acrux",
          "Acrux",
          "Acrux",
          "Acrux",
          "Acrux",
          "Acrux",
          "Acrux",
          "Acrux",
          "Acrux",
          "Acrux"
         ],
         "xaxis": "x",
         "yaxis": "y"
        },
        {
         "alignmentgroup": "True",
         "bingroup": "x",
         "hovertemplate": "Spectral Class=A0V<br>Name=%{x}<br>count=%{y}<extra></extra>",
         "legendgroup": "A0V",
         "marker": {
          "color": "#ab63fa",
          "pattern": {
           "shape": ""
          }
         },
         "name": "A0V",
         "offsetgroup": "A0V",
         "orientation": "v",
         "showlegend": true,
         "type": "histogram",
         "x": [
          "Vega",
          "Vega",
          "Vega",
          "Vega",
          "Vega",
          "Vega",
          "Vega",
          "Vega",
          "Vega",
          "Vega",
          "Vega",
          "Vega",
          "Vega",
          "Vega",
          "Vega",
          "Vega",
          "Vega",
          "Vega",
          "Vega",
          "Vega",
          "Vega",
          "Vega",
          "Vega",
          "Vega",
          "Vega",
          "Vega",
          "Vega",
          "Vega",
          "Vega",
          "Vega",
          "Vega",
          "Vega",
          "Vega",
          "Vega",
          "Vega",
          "Vega",
          "Vega",
          "Vega"
         ],
         "xaxis": "x",
         "yaxis": "y"
        },
        {
         "alignmentgroup": "True",
         "bingroup": "x",
         "hovertemplate": "Spectral Class=M2.1V<br>Name=%{x}<br>count=%{y}<extra></extra>",
         "legendgroup": "M2.1V",
         "marker": {
          "color": "#FFA15A",
          "pattern": {
           "shape": ""
          }
         },
         "name": "M2.1V",
         "offsetgroup": "M2.1V",
         "orientation": "v",
         "showlegend": true,
         "type": "histogram",
         "x": [
          "Lalande 21185",
          "Lalande 21185",
          "Lalande 21185",
          "Lalande 21185",
          "Lalande 21185",
          "Lalande 21185",
          "Lalande 21185",
          "Lalande 21185",
          "Lalande 21185",
          "Lalande 21185",
          "Lalande 21185",
          "Lalande 21185",
          "Lalande 21185",
          "Lalande 21185",
          "Lalande 21185",
          "Lalande 21185",
          "Lalande 21185",
          "Lalande 21185",
          "Lalande 21185",
          "Lalande 21185",
          "Lalande 21185",
          "Lalande 21185",
          "Lalande 21185",
          "Lalande 21185",
          "Lalande 21185",
          "Lalande 21185",
          "Lalande 21185"
         ],
         "xaxis": "x",
         "yaxis": "y"
        },
        {
         "alignmentgroup": "True",
         "bingroup": "x",
         "hovertemplate": "Spectral Class=K1.5III<br>Name=%{x}<br>count=%{y}<extra></extra>",
         "legendgroup": "K1.5III",
         "marker": {
          "color": "#19d3f3",
          "pattern": {
           "shape": ""
          }
         },
         "name": "K1.5III",
         "offsetgroup": "K1.5III",
         "orientation": "v",
         "showlegend": true,
         "type": "histogram",
         "x": [
          "Arcturus",
          "Arcturus",
          "Arcturus",
          "Arcturus",
          "Arcturus",
          "Arcturus",
          "Arcturus",
          "Arcturus",
          "Arcturus",
          "Arcturus",
          "Arcturus",
          "Arcturus",
          "Arcturus",
          "Arcturus",
          "Arcturus",
          "Arcturus",
          "Arcturus",
          "Arcturus",
          "Arcturus",
          "Arcturus",
          "Arcturus",
          "Arcturus",
          "Arcturus",
          "Arcturus",
          "Arcturus",
          "Arcturus",
          "Arcturus",
          "Arcturus",
          "Arcturus",
          "Arcturus",
          "Arcturus",
          "Arcturus",
          "Arcturus",
          "Arcturus",
          "Arcturus",
          "Arcturus",
          "Arcturus",
          "Arcturus"
         ],
         "xaxis": "x",
         "yaxis": "y"
        },
        {
         "alignmentgroup": "True",
         "bingroup": "x",
         "hovertemplate": "Spectral Class=K1V<br>Name=%{x}<br>count=%{y}<extra></extra>",
         "legendgroup": "K1V",
         "marker": {
          "color": "#FF6692",
          "pattern": {
           "shape": ""
          }
         },
         "name": "K1V",
         "offsetgroup": "K1V",
         "orientation": "v",
         "showlegend": true,
         "type": "histogram",
         "x": [
          "Alpha Centauri B",
          "Alpha Centauri B",
          "Alpha Centauri B",
          "Alpha Centauri B",
          "Alpha Centauri B",
          "Alpha Centauri B",
          "Alpha Centauri B",
          "Alpha Centauri B",
          "Alpha Centauri B",
          "Alpha Centauri B",
          "Alpha Centauri B",
          "Alpha Centauri B",
          "Alpha Centauri B",
          "Alpha Centauri B",
          "Alpha Centauri B",
          "Alpha Centauri B",
          "Alpha Centauri B",
          "Alpha Centauri B",
          "Alpha Centauri B",
          "Alpha Centauri B",
          "Alpha Centauri B",
          "Alpha Centauri B",
          "Alpha Centauri B",
          "Alpha Centauri B"
         ],
         "xaxis": "x",
         "yaxis": "y"
        },
        {
         "alignmentgroup": "True",
         "bingroup": "x",
         "hovertemplate": "Spectral Class=M3.5V<br>Name=%{x}<br>count=%{y}<extra></extra>",
         "legendgroup": "M3.5V",
         "marker": {
          "color": "#B6E880",
          "pattern": {
           "shape": ""
          }
         },
         "name": "M3.5V",
         "offsetgroup": "M3.5V",
         "orientation": "v",
         "showlegend": true,
         "type": "histogram",
         "x": [
          "Ross 154",
          "Ross 154",
          "Ross 154",
          "Ross 154",
          "Ross 154",
          "Ross 154",
          "Ross 154",
          "Ross 154",
          "Ross 154",
          "Ross 154",
          "Ross 154",
          "Ross 154",
          "Ross 154",
          "Ross 154",
          "Ross 154",
          "Ross 154",
          "Ross 154",
          "Ross 154",
          "Ross 154",
          "Ross 154",
          "Ross 154",
          "Ross 154",
          "Ross 154",
          "Ross 154",
          "Ross 154",
          "Ross 154",
          "Ross 154",
          "Ross 154",
          "Ross 154",
          "Ross 154",
          "Ross 154",
          "Ross 154",
          "Ross 154",
          "Ross 154",
          "Ross 154",
          "Ross 154",
          "Ross 154",
          "Ross 154",
          "Ross 154",
          "Ross 154",
          "Ross 154",
          "Ross 154",
          "Ross 154",
          "Ross 154",
          "Ross 154"
         ],
         "xaxis": "x",
         "yaxis": "y"
        },
        {
         "alignmentgroup": "True",
         "bingroup": "x",
         "hovertemplate": "Spectral Class=A9II<br>Name=%{x}<br>count=%{y}<extra></extra>",
         "legendgroup": "A9II",
         "marker": {
          "color": "#FF97FF",
          "pattern": {
           "shape": ""
          }
         },
         "name": "A9II",
         "offsetgroup": "A9II",
         "orientation": "v",
         "showlegend": true,
         "type": "histogram",
         "x": [
          "Canopus",
          "Canopus",
          "Canopus",
          "Canopus",
          "Canopus",
          "Canopus",
          "Canopus",
          "Canopus",
          "Canopus",
          "Canopus",
          "Canopus",
          "Canopus",
          "Canopus",
          "Canopus",
          "Canopus",
          "Canopus",
          "Canopus",
          "Canopus",
          "Canopus",
          "Canopus",
          "Canopus",
          "Canopus",
          "Canopus",
          "Canopus",
          "Canopus",
          "Canopus",
          "Canopus",
          "Canopus",
          "Canopus",
          "Canopus",
          "Canopus",
          "Canopus",
          "Canopus",
          "Canopus",
          "Canopus",
          "Canopus",
          "Canopus",
          "Canopus",
          "Canopus",
          "Canopus",
          "Canopus",
          "Canopus",
          "Canopus",
          "Canopus",
          "Canopus",
          "Canopus",
          "Canopus",
          "Canopus"
         ],
         "xaxis": "x",
         "yaxis": "y"
        },
        {
         "alignmentgroup": "True",
         "bingroup": "x",
         "hovertemplate": "Spectral Class=F5IV-V<br>Name=%{x}<br>count=%{y}<extra></extra>",
         "legendgroup": "F5IV-V",
         "marker": {
          "color": "#FECB52",
          "pattern": {
           "shape": ""
          }
         },
         "name": "F5IV-V",
         "offsetgroup": "F5IV-V",
         "orientation": "v",
         "showlegend": true,
         "type": "histogram",
         "x": [
          "Procyon",
          "Procyon",
          "Procyon",
          "Procyon",
          "Procyon",
          "Procyon",
          "Procyon",
          "Procyon",
          "Procyon",
          "Procyon",
          "Procyon",
          "Procyon",
          "Procyon",
          "Procyon",
          "Procyon",
          "Procyon",
          "Procyon",
          "Procyon",
          "Procyon",
          "Procyon",
          "Procyon",
          "Procyon",
          "Procyon",
          "Procyon",
          "Procyon",
          "Procyon",
          "Procyon",
          "Procyon",
          "Procyon",
          "Procyon"
         ],
         "xaxis": "x",
         "yaxis": "y"
        },
        {
         "alignmentgroup": "True",
         "bingroup": "x",
         "hovertemplate": "Spectral Class=M6V<br>Name=%{x}<br>count=%{y}<extra></extra>",
         "legendgroup": "M6V",
         "marker": {
          "color": "#636efa",
          "pattern": {
           "shape": ""
          }
         },
         "name": "M6V",
         "offsetgroup": "M6V",
         "orientation": "v",
         "showlegend": true,
         "type": "histogram",
         "x": [
          "Wolf 359",
          "Wolf 359",
          "Wolf 359",
          "Wolf 359",
          "Wolf 359",
          "Wolf 359",
          "Wolf 359",
          "Wolf 359",
          "Wolf 359",
          "Wolf 359",
          "Wolf 359",
          "Wolf 359",
          "Wolf 359",
          "Wolf 359",
          "Wolf 359",
          "Wolf 359",
          "Wolf 359",
          "Wolf 359",
          "Wolf 359",
          "Wolf 359",
          "Wolf 359",
          "Wolf 359"
         ],
         "xaxis": "x",
         "yaxis": "y"
        },
        {
         "alignmentgroup": "True",
         "bingroup": "x",
         "hovertemplate": "Spectral Class=M1.5Iab<br>Name=%{x}<br>count=%{y}<extra></extra>",
         "legendgroup": "M1.5Iab",
         "marker": {
          "color": "#EF553B",
          "pattern": {
           "shape": ""
          }
         },
         "name": "M1.5Iab",
         "offsetgroup": "M1.5Iab",
         "orientation": "v",
         "showlegend": true,
         "type": "histogram",
         "x": [
          "Antares",
          "Antares",
          "Antares",
          "Antares",
          "Antares",
          "Antares",
          "Antares",
          "Antares",
          "Antares",
          "Antares",
          "Antares",
          "Antares",
          "Antares",
          "Antares",
          "Antares",
          "Antares",
          "Antares",
          "Antares",
          "Antares",
          "Antares",
          "Antares",
          "Antares",
          "Antares",
          "Antares",
          "Antares",
          "Antares"
         ],
         "xaxis": "x",
         "yaxis": "y"
        },
        {
         "alignmentgroup": "True",
         "bingroup": "x",
         "hovertemplate": "Spectral Class=B0Ia<br>Name=%{x}<br>count=%{y}<extra></extra>",
         "legendgroup": "B0Ia",
         "marker": {
          "color": "#00cc96",
          "pattern": {
           "shape": ""
          }
         },
         "name": "B0Ia",
         "offsetgroup": "B0Ia",
         "orientation": "v",
         "showlegend": true,
         "type": "histogram",
         "x": [
          "Alnilam",
          "Alnilam",
          "Alnilam",
          "Alnilam",
          "Alnilam",
          "Alnilam",
          "Alnilam",
          "Alnilam",
          "Alnilam",
          "Alnilam",
          "Alnilam",
          "Alnilam",
          "Alnilam",
          "Alnilam",
          "Alnilam",
          "Alnilam",
          "Alnilam",
          "Alnilam",
          "Alnilam",
          "Alnilam",
          "Alnilam",
          "Alnilam",
          "Alnilam",
          "Alnilam",
          "Alnilam",
          "Alnilam",
          "Alnilam",
          "Alnilam",
          "Alnilam",
          "Alnilam",
          "Alnilam",
          "Alnilam",
          "Alnilam",
          "Alnilam",
          "Alnilam",
          "Alnilam"
         ],
         "xaxis": "x",
         "yaxis": "y"
        },
        {
         "alignmentgroup": "True",
         "bingroup": "x",
         "hovertemplate": "Spectral Class=G2V<br>Name=%{x}<br>count=%{y}<extra></extra>",
         "legendgroup": "G2V",
         "marker": {
          "color": "#ab63fa",
          "pattern": {
           "shape": ""
          }
         },
         "name": "G2V",
         "offsetgroup": "G2V",
         "orientation": "v",
         "showlegend": true,
         "type": "histogram",
         "x": [
          "Rigil Kentaurus",
          "Rigil Kentaurus",
          "Rigil Kentaurus",
          "Rigil Kentaurus",
          "Rigil Kentaurus",
          "Rigil Kentaurus",
          "Rigil Kentaurus",
          "Rigil Kentaurus",
          "Rigil Kentaurus",
          "Rigil Kentaurus",
          "Rigil Kentaurus",
          "Rigil Kentaurus",
          "Rigil Kentaurus",
          "Rigil Kentaurus",
          "Rigil Kentaurus",
          "Rigil Kentaurus",
          "Rigil Kentaurus",
          "Rigil Kentaurus",
          "Rigil Kentaurus",
          "Rigil Kentaurus",
          "Rigil Kentaurus",
          "Rigil Kentaurus",
          "Rigil Kentaurus",
          "Rigil Kentaurus",
          "Rigil Kentaurus",
          "Rigil Kentaurus",
          "Rigil Kentaurus",
          "Rigil Kentaurus",
          "Rigil Kentaurus",
          "Rigil Kentaurus",
          "Rigil Kentaurus",
          "Rigil Kentaurus",
          "Rigil Kentaurus",
          "Rigil Kentaurus",
          "Rigil Kentaurus",
          "Rigil Kentaurus"
         ],
         "xaxis": "x",
         "yaxis": "y"
        },
        {
         "alignmentgroup": "True",
         "bingroup": "x",
         "hovertemplate": "Spectral Class=B1III-IV<br>Name=%{x}<br>count=%{y}<extra></extra>",
         "legendgroup": "B1III-IV",
         "marker": {
          "color": "#FFA15A",
          "pattern": {
           "shape": ""
          }
         },
         "name": "B1III-IV",
         "offsetgroup": "B1III-IV",
         "orientation": "v",
         "showlegend": true,
         "type": "histogram",
         "x": [
          "Spica",
          "Spica",
          "Spica",
          "Spica",
          "Spica",
          "Spica",
          "Spica",
          "Spica",
          "Spica",
          "Spica",
          "Spica",
          "Spica",
          "Spica",
          "Spica",
          "Spica",
          "Spica",
          "Spica",
          "Spica",
          "Spica",
          "Spica",
          "Spica",
          "Spica",
          "Spica",
          "Spica",
          "Spica",
          "Spica",
          "Spica",
          "Spica",
          "Spica",
          "Spica",
          "Spica",
          "Spica"
         ],
         "xaxis": "x",
         "yaxis": "y"
        },
        {
         "alignmentgroup": "True",
         "bingroup": "x",
         "hovertemplate": "Spectral Class=B6Vep<br>Name=%{x}<br>count=%{y}<extra></extra>",
         "legendgroup": "B6Vep",
         "marker": {
          "color": "#19d3f3",
          "pattern": {
           "shape": ""
          }
         },
         "name": "B6Vep",
         "offsetgroup": "B6Vep",
         "orientation": "v",
         "showlegend": true,
         "type": "histogram",
         "x": [
          "Achernar",
          "Achernar",
          "Achernar",
          "Achernar",
          "Achernar",
          "Achernar",
          "Achernar",
          "Achernar",
          "Achernar",
          "Achernar",
          "Achernar",
          "Achernar",
          "Achernar",
          "Achernar",
          "Achernar",
          "Achernar",
          "Achernar",
          "Achernar",
          "Achernar",
          "Achernar",
          "Achernar",
          "Achernar",
          "Achernar",
          "Achernar",
          "Achernar",
          "Achernar",
          "Achernar",
          "Achernar",
          "Achernar"
         ],
         "xaxis": "x",
         "yaxis": "y"
        },
        {
         "alignmentgroup": "True",
         "bingroup": "x",
         "hovertemplate": "Spectral Class=K5III<br>Name=%{x}<br>count=%{y}<extra></extra>",
         "legendgroup": "K5III",
         "marker": {
          "color": "#FF6692",
          "pattern": {
           "shape": ""
          }
         },
         "name": "K5III",
         "offsetgroup": "K5III",
         "orientation": "v",
         "showlegend": true,
         "type": "histogram",
         "x": [
          "Aldebaran",
          "Aldebaran",
          "Aldebaran",
          "Aldebaran",
          "Aldebaran",
          "Aldebaran",
          "Aldebaran",
          "Aldebaran",
          "Aldebaran",
          "Aldebaran",
          "Aldebaran",
          "Aldebaran",
          "Aldebaran",
          "Aldebaran",
          "Aldebaran",
          "Aldebaran",
          "Aldebaran",
          "Aldebaran"
         ],
         "xaxis": "x",
         "yaxis": "y"
        },
        {
         "alignmentgroup": "True",
         "bingroup": "x",
         "hovertemplate": "Spectral Class=B8Ia<br>Name=%{x}<br>count=%{y}<extra></extra>",
         "legendgroup": "B8Ia",
         "marker": {
          "color": "#B6E880",
          "pattern": {
           "shape": ""
          }
         },
         "name": "B8Ia",
         "offsetgroup": "B8Ia",
         "orientation": "v",
         "showlegend": true,
         "type": "histogram",
         "x": [
          "Rigel",
          "Rigel",
          "Rigel",
          "Rigel",
          "Rigel",
          "Rigel",
          "Rigel",
          "Rigel",
          "Rigel",
          "Rigel",
          "Rigel",
          "Rigel",
          "Rigel",
          "Rigel",
          "Rigel",
          "Rigel",
          "Rigel"
         ],
         "xaxis": "x",
         "yaxis": "y"
        }
       ],
       "layout": {
        "barmode": "relative",
        "legend": {
         "title": {
          "text": "Spectral Class"
         },
         "tracegroupgap": 0
        },
        "template": {
         "data": {
          "bar": [
           {
            "error_x": {
             "color": "#2a3f5f"
            },
            "error_y": {
             "color": "#2a3f5f"
            },
            "marker": {
             "line": {
              "color": "#E5ECF6",
              "width": 0.5
             },
             "pattern": {
              "fillmode": "overlay",
              "size": 10,
              "solidity": 0.2
             }
            },
            "type": "bar"
           }
          ],
          "barpolar": [
           {
            "marker": {
             "line": {
              "color": "#E5ECF6",
              "width": 0.5
             },
             "pattern": {
              "fillmode": "overlay",
              "size": 10,
              "solidity": 0.2
             }
            },
            "type": "barpolar"
           }
          ],
          "carpet": [
           {
            "aaxis": {
             "endlinecolor": "#2a3f5f",
             "gridcolor": "white",
             "linecolor": "white",
             "minorgridcolor": "white",
             "startlinecolor": "#2a3f5f"
            },
            "baxis": {
             "endlinecolor": "#2a3f5f",
             "gridcolor": "white",
             "linecolor": "white",
             "minorgridcolor": "white",
             "startlinecolor": "#2a3f5f"
            },
            "type": "carpet"
           }
          ],
          "choropleth": [
           {
            "colorbar": {
             "outlinewidth": 0,
             "ticks": ""
            },
            "type": "choropleth"
           }
          ],
          "contour": [
           {
            "colorbar": {
             "outlinewidth": 0,
             "ticks": ""
            },
            "colorscale": [
             [
              0,
              "#0d0887"
             ],
             [
              0.1111111111111111,
              "#46039f"
             ],
             [
              0.2222222222222222,
              "#7201a8"
             ],
             [
              0.3333333333333333,
              "#9c179e"
             ],
             [
              0.4444444444444444,
              "#bd3786"
             ],
             [
              0.5555555555555556,
              "#d8576b"
             ],
             [
              0.6666666666666666,
              "#ed7953"
             ],
             [
              0.7777777777777778,
              "#fb9f3a"
             ],
             [
              0.8888888888888888,
              "#fdca26"
             ],
             [
              1,
              "#f0f921"
             ]
            ],
            "type": "contour"
           }
          ],
          "contourcarpet": [
           {
            "colorbar": {
             "outlinewidth": 0,
             "ticks": ""
            },
            "type": "contourcarpet"
           }
          ],
          "heatmap": [
           {
            "colorbar": {
             "outlinewidth": 0,
             "ticks": ""
            },
            "colorscale": [
             [
              0,
              "#0d0887"
             ],
             [
              0.1111111111111111,
              "#46039f"
             ],
             [
              0.2222222222222222,
              "#7201a8"
             ],
             [
              0.3333333333333333,
              "#9c179e"
             ],
             [
              0.4444444444444444,
              "#bd3786"
             ],
             [
              0.5555555555555556,
              "#d8576b"
             ],
             [
              0.6666666666666666,
              "#ed7953"
             ],
             [
              0.7777777777777778,
              "#fb9f3a"
             ],
             [
              0.8888888888888888,
              "#fdca26"
             ],
             [
              1,
              "#f0f921"
             ]
            ],
            "type": "heatmap"
           }
          ],
          "heatmapgl": [
           {
            "colorbar": {
             "outlinewidth": 0,
             "ticks": ""
            },
            "colorscale": [
             [
              0,
              "#0d0887"
             ],
             [
              0.1111111111111111,
              "#46039f"
             ],
             [
              0.2222222222222222,
              "#7201a8"
             ],
             [
              0.3333333333333333,
              "#9c179e"
             ],
             [
              0.4444444444444444,
              "#bd3786"
             ],
             [
              0.5555555555555556,
              "#d8576b"
             ],
             [
              0.6666666666666666,
              "#ed7953"
             ],
             [
              0.7777777777777778,
              "#fb9f3a"
             ],
             [
              0.8888888888888888,
              "#fdca26"
             ],
             [
              1,
              "#f0f921"
             ]
            ],
            "type": "heatmapgl"
           }
          ],
          "histogram": [
           {
            "marker": {
             "pattern": {
              "fillmode": "overlay",
              "size": 10,
              "solidity": 0.2
             }
            },
            "type": "histogram"
           }
          ],
          "histogram2d": [
           {
            "colorbar": {
             "outlinewidth": 0,
             "ticks": ""
            },
            "colorscale": [
             [
              0,
              "#0d0887"
             ],
             [
              0.1111111111111111,
              "#46039f"
             ],
             [
              0.2222222222222222,
              "#7201a8"
             ],
             [
              0.3333333333333333,
              "#9c179e"
             ],
             [
              0.4444444444444444,
              "#bd3786"
             ],
             [
              0.5555555555555556,
              "#d8576b"
             ],
             [
              0.6666666666666666,
              "#ed7953"
             ],
             [
              0.7777777777777778,
              "#fb9f3a"
             ],
             [
              0.8888888888888888,
              "#fdca26"
             ],
             [
              1,
              "#f0f921"
             ]
            ],
            "type": "histogram2d"
           }
          ],
          "histogram2dcontour": [
           {
            "colorbar": {
             "outlinewidth": 0,
             "ticks": ""
            },
            "colorscale": [
             [
              0,
              "#0d0887"
             ],
             [
              0.1111111111111111,
              "#46039f"
             ],
             [
              0.2222222222222222,
              "#7201a8"
             ],
             [
              0.3333333333333333,
              "#9c179e"
             ],
             [
              0.4444444444444444,
              "#bd3786"
             ],
             [
              0.5555555555555556,
              "#d8576b"
             ],
             [
              0.6666666666666666,
              "#ed7953"
             ],
             [
              0.7777777777777778,
              "#fb9f3a"
             ],
             [
              0.8888888888888888,
              "#fdca26"
             ],
             [
              1,
              "#f0f921"
             ]
            ],
            "type": "histogram2dcontour"
           }
          ],
          "mesh3d": [
           {
            "colorbar": {
             "outlinewidth": 0,
             "ticks": ""
            },
            "type": "mesh3d"
           }
          ],
          "parcoords": [
           {
            "line": {
             "colorbar": {
              "outlinewidth": 0,
              "ticks": ""
             }
            },
            "type": "parcoords"
           }
          ],
          "pie": [
           {
            "automargin": true,
            "type": "pie"
           }
          ],
          "scatter": [
           {
            "fillpattern": {
             "fillmode": "overlay",
             "size": 10,
             "solidity": 0.2
            },
            "type": "scatter"
           }
          ],
          "scatter3d": [
           {
            "line": {
             "colorbar": {
              "outlinewidth": 0,
              "ticks": ""
             }
            },
            "marker": {
             "colorbar": {
              "outlinewidth": 0,
              "ticks": ""
             }
            },
            "type": "scatter3d"
           }
          ],
          "scattercarpet": [
           {
            "marker": {
             "colorbar": {
              "outlinewidth": 0,
              "ticks": ""
             }
            },
            "type": "scattercarpet"
           }
          ],
          "scattergeo": [
           {
            "marker": {
             "colorbar": {
              "outlinewidth": 0,
              "ticks": ""
             }
            },
            "type": "scattergeo"
           }
          ],
          "scattergl": [
           {
            "marker": {
             "colorbar": {
              "outlinewidth": 0,
              "ticks": ""
             }
            },
            "type": "scattergl"
           }
          ],
          "scattermapbox": [
           {
            "marker": {
             "colorbar": {
              "outlinewidth": 0,
              "ticks": ""
             }
            },
            "type": "scattermapbox"
           }
          ],
          "scatterpolar": [
           {
            "marker": {
             "colorbar": {
              "outlinewidth": 0,
              "ticks": ""
             }
            },
            "type": "scatterpolar"
           }
          ],
          "scatterpolargl": [
           {
            "marker": {
             "colorbar": {
              "outlinewidth": 0,
              "ticks": ""
             }
            },
            "type": "scatterpolargl"
           }
          ],
          "scatterternary": [
           {
            "marker": {
             "colorbar": {
              "outlinewidth": 0,
              "ticks": ""
             }
            },
            "type": "scatterternary"
           }
          ],
          "surface": [
           {
            "colorbar": {
             "outlinewidth": 0,
             "ticks": ""
            },
            "colorscale": [
             [
              0,
              "#0d0887"
             ],
             [
              0.1111111111111111,
              "#46039f"
             ],
             [
              0.2222222222222222,
              "#7201a8"
             ],
             [
              0.3333333333333333,
              "#9c179e"
             ],
             [
              0.4444444444444444,
              "#bd3786"
             ],
             [
              0.5555555555555556,
              "#d8576b"
             ],
             [
              0.6666666666666666,
              "#ed7953"
             ],
             [
              0.7777777777777778,
              "#fb9f3a"
             ],
             [
              0.8888888888888888,
              "#fdca26"
             ],
             [
              1,
              "#f0f921"
             ]
            ],
            "type": "surface"
           }
          ],
          "table": [
           {
            "cells": {
             "fill": {
              "color": "#EBF0F8"
             },
             "line": {
              "color": "white"
             }
            },
            "header": {
             "fill": {
              "color": "#C8D4E3"
             },
             "line": {
              "color": "white"
             }
            },
            "type": "table"
           }
          ]
         },
         "layout": {
          "annotationdefaults": {
           "arrowcolor": "#2a3f5f",
           "arrowhead": 0,
           "arrowwidth": 1
          },
          "autotypenumbers": "strict",
          "coloraxis": {
           "colorbar": {
            "outlinewidth": 0,
            "ticks": ""
           }
          },
          "colorscale": {
           "diverging": [
            [
             0,
             "#8e0152"
            ],
            [
             0.1,
             "#c51b7d"
            ],
            [
             0.2,
             "#de77ae"
            ],
            [
             0.3,
             "#f1b6da"
            ],
            [
             0.4,
             "#fde0ef"
            ],
            [
             0.5,
             "#f7f7f7"
            ],
            [
             0.6,
             "#e6f5d0"
            ],
            [
             0.7,
             "#b8e186"
            ],
            [
             0.8,
             "#7fbc41"
            ],
            [
             0.9,
             "#4d9221"
            ],
            [
             1,
             "#276419"
            ]
           ],
           "sequential": [
            [
             0,
             "#0d0887"
            ],
            [
             0.1111111111111111,
             "#46039f"
            ],
            [
             0.2222222222222222,
             "#7201a8"
            ],
            [
             0.3333333333333333,
             "#9c179e"
            ],
            [
             0.4444444444444444,
             "#bd3786"
            ],
            [
             0.5555555555555556,
             "#d8576b"
            ],
            [
             0.6666666666666666,
             "#ed7953"
            ],
            [
             0.7777777777777778,
             "#fb9f3a"
            ],
            [
             0.8888888888888888,
             "#fdca26"
            ],
            [
             1,
             "#f0f921"
            ]
           ],
           "sequentialminus": [
            [
             0,
             "#0d0887"
            ],
            [
             0.1111111111111111,
             "#46039f"
            ],
            [
             0.2222222222222222,
             "#7201a8"
            ],
            [
             0.3333333333333333,
             "#9c179e"
            ],
            [
             0.4444444444444444,
             "#bd3786"
            ],
            [
             0.5555555555555556,
             "#d8576b"
            ],
            [
             0.6666666666666666,
             "#ed7953"
            ],
            [
             0.7777777777777778,
             "#fb9f3a"
            ],
            [
             0.8888888888888888,
             "#fdca26"
            ],
            [
             1,
             "#f0f921"
            ]
           ]
          },
          "colorway": [
           "#636efa",
           "#EF553B",
           "#00cc96",
           "#ab63fa",
           "#FFA15A",
           "#19d3f3",
           "#FF6692",
           "#B6E880",
           "#FF97FF",
           "#FECB52"
          ],
          "font": {
           "color": "#2a3f5f"
          },
          "geo": {
           "bgcolor": "white",
           "lakecolor": "white",
           "landcolor": "#E5ECF6",
           "showlakes": true,
           "showland": true,
           "subunitcolor": "white"
          },
          "hoverlabel": {
           "align": "left"
          },
          "hovermode": "closest",
          "mapbox": {
           "style": "light"
          },
          "paper_bgcolor": "white",
          "plot_bgcolor": "#E5ECF6",
          "polar": {
           "angularaxis": {
            "gridcolor": "white",
            "linecolor": "white",
            "ticks": ""
           },
           "bgcolor": "#E5ECF6",
           "radialaxis": {
            "gridcolor": "white",
            "linecolor": "white",
            "ticks": ""
           }
          },
          "scene": {
           "xaxis": {
            "backgroundcolor": "#E5ECF6",
            "gridcolor": "white",
            "gridwidth": 2,
            "linecolor": "white",
            "showbackground": true,
            "ticks": "",
            "zerolinecolor": "white"
           },
           "yaxis": {
            "backgroundcolor": "#E5ECF6",
            "gridcolor": "white",
            "gridwidth": 2,
            "linecolor": "white",
            "showbackground": true,
            "ticks": "",
            "zerolinecolor": "white"
           },
           "zaxis": {
            "backgroundcolor": "#E5ECF6",
            "gridcolor": "white",
            "gridwidth": 2,
            "linecolor": "white",
            "showbackground": true,
            "ticks": "",
            "zerolinecolor": "white"
           }
          },
          "shapedefaults": {
           "line": {
            "color": "#2a3f5f"
           }
          },
          "ternary": {
           "aaxis": {
            "gridcolor": "white",
            "linecolor": "white",
            "ticks": ""
           },
           "baxis": {
            "gridcolor": "white",
            "linecolor": "white",
            "ticks": ""
           },
           "bgcolor": "#E5ECF6",
           "caxis": {
            "gridcolor": "white",
            "linecolor": "white",
            "ticks": ""
           }
          },
          "title": {
           "x": 0.05
          },
          "xaxis": {
           "automargin": true,
           "gridcolor": "white",
           "linecolor": "white",
           "ticks": "",
           "title": {
            "standoff": 15
           },
           "zerolinecolor": "white",
           "zerolinewidth": 2
          },
          "yaxis": {
           "automargin": true,
           "gridcolor": "white",
           "linecolor": "white",
           "ticks": "",
           "title": {
            "standoff": 15
           },
           "zerolinecolor": "white",
           "zerolinewidth": 2
          }
         }
        },
        "title": {
         "text": "Histogram of Name with respect to Spectral Class"
        },
        "xaxis": {
         "anchor": "y",
         "domain": [
          0,
          1
         ],
         "title": {
          "text": "Name"
         }
        },
        "yaxis": {
         "anchor": "x",
         "domain": [
          0,
          1
         ],
         "title": {
          "text": "count"
         }
        }
       }
      }
     },
     "metadata": {},
     "output_type": "display_data"
    }
   ],
   "source": [
    "# histogram of name with color spectral class using plotly:\n",
    "\n",
    "fig = px.histogram(df, x= 'Name', color='Spectral Class', title= 'Histogram of Name with respect to Spectral Class')\n",
    "fig.show()\n"
   ]
  },
  {
   "cell_type": "markdown",
   "metadata": {},
   "source": [
    "#### Distance Column: "
   ]
  },
  {
   "cell_type": "code",
   "execution_count": 20,
   "metadata": {},
   "outputs": [
    {
     "data": {
      "image/png": "[encoded data removed]",
      "text/plain": [
       "<Figure size 1200x800 with 1 Axes>"
      ]
     },
     "metadata": {},
     "output_type": "display_data"
    }
   ],
   "source": [
    "# histogram of the Distance column:\n",
    "\n",
    "plt.figure(figsize=(12, 8))\n",
    "sns.histplot(df['Distance'], kde=True, color='gold')\n",
    "plt.title(\"Histogram of the Distance column\")\n",
    "plt.xlabel(\"Distance\")\n",
    "plt.ylabel(\"Frequency\")\n",
    "plt.show()"
   ]
  },
  {
   "cell_type": "code",
   "execution_count": 21,
   "metadata": {},
   "outputs": [
    {
     "data": {
      "application/vnd.plotly.v1+json": {
       "config": {
        "plotlyServerURL": "https://plot.ly"
       },
       "data": [
        {
         "alignmentgroup": "True",
         "bingroup": "x",
         "hovertemplate": "Name=Altair<br>Distance=%{x}<br>count=%{y}<extra></extra>",
         "legendgroup": "Altair",
         "marker": {
          "color": "#636efa",
          "pattern": {
           "shape": ""
          }
         },
         "name": "Altair",
         "offsetgroup": "Altair",
         "orientation": "v",
         "showlegend": true,
         "type": "histogram",
         "x": [
          16.59417123707501,
          16.324631801826886,
          16.97783483438638,
          16.481723812762002,
          17.004752557357463,
          16.790538913857493,
          17.114041468810747,
          16.342681874475897,
          16.515550441516513,
          16.650909255277465,
          16.90978103577815,
          16.673538512166857,
          17.031047210189243,
          16.334612838722375,
          17.126532940989705,
          16.841284457536943,
          16.73976423176716,
          16.30343825476463,
          16.817757811872315,
          16.775344887638514,
          16.962965725071445,
          16.305159249689783,
          16.428114807916586,
          16.650873710554336,
          16.754464460371924,
          16.723699215336318,
          17.07909134160172,
          16.431583556207517,
          16.597555199697663,
          16.80481859931867,
          16.413501979632134,
          16.688705570405098,
          16.69885844192648,
          16.515448932210074,
          16.5633005475685,
          16.304756370563133,
          16.37496066970492,
          16.93853726095821,
          16.738703832546104,
          17.19019344606041,
          16.652395810820618,
          16.427968131235406,
          16.79957336533521,
          16.865327747799885,
          16.28254828170139,
          16.586513640803055,
          16.84594097685513,
          16.259098046844812,
          17.02245126935604,
          16.23721181862846,
          16.48246411572928,
          16.693808179094987,
          16.815484644936603,
          16.384894337466907,
          16.720463318238917,
          16.775942941441293,
          16.68375873060525,
          16.474888428566707,
          16.964525968063487,
          17.142746638457286,
          17.15840501478534,
          17.11637322103638,
          16.517311315754984,
          16.81698343653392,
          16.56786756498236,
          16.546804536638334,
          16.40951171231661,
          16.933845755838053,
          16.70733129032844,
          16.5028339871533,
          17.15474181167015,
          17.111919168917005,
          16.874372018837036,
          17.12154390276971
         ],
         "xaxis": "x",
         "yaxis": "y"
        },
        {
         "alignmentgroup": "True",
         "bingroup": "x",
         "hovertemplate": "Name=Deneb<br>Distance=%{x}<br>count=%{y}<extra></extra>",
         "legendgroup": "Deneb",
         "marker": {
          "color": "#EF553B",
          "pattern": {
           "shape": ""
          }
         },
         "name": "Deneb",
         "offsetgroup": "Deneb",
         "orientation": "v",
         "showlegend": true,
         "type": "histogram",
         "x": [
          2600.4907228269035,
          2600.219144334045,
          2599.541671531891,
          2600.3849852172243,
          2600.203153160722,
          2600.054111698248,
          2599.531004708632,
          2599.843961974584,
          2600.1188300320887,
          2599.853939051221,
          2599.608738332849,
          2600.459947369687,
          2599.9450011255235,
          2599.918259573627,
          2599.839828825722,
          2600.154973128097,
          2599.9603466154435,
          2599.585898833314,
          2600.041523441383,
          2600.396323397126,
          2599.878637146332,
          2600.295553700053,
          2599.6979557308987,
          2599.9535579119542,
          2600.0030216501546
         ],
         "xaxis": "x",
         "yaxis": "y"
        },
        {
         "alignmentgroup": "True",
         "bingroup": "x",
         "hovertemplate": "Name=Barnard's Star<br>Distance=%{x}<br>count=%{y}<extra></extra>",
         "legendgroup": "Barnard's Star",
         "marker": {
          "color": "#00cc96",
          "pattern": {
           "shape": ""
          }
         },
         "name": "Barnard's Star",
         "offsetgroup": "Barnard's Star",
         "orientation": "v",
         "showlegend": true,
         "type": "histogram",
         "x": [
          6.052616358474774,
          5.902391663373468,
          6.274309005192113,
          6.210116619871699,
          5.5635565189978085,
          6.102187239521027,
          6.098594827311291,
          6.066146574141507,
          5.77531813296572,
          5.503354374007524,
          6.035977135751383,
          5.46425033457099,
          5.754938969408459,
          6.05724013797307,
          5.644066736935094,
          5.686720695342739,
          6.00647519555047,
          6.260851555777831,
          6.450229446881884,
          5.617672919304961,
          5.702119231490174,
          6.145792735966175,
          6.036902451485217,
          6.213758808682438,
          6.35870919542279,
          6.180499325090577,
          6.065584934966928,
          6.1037262692147225,
          6.178068736680354,
          6.378422052335232,
          5.628109879472458,
          5.702693106793509,
          5.671834859957071,
          5.901894921078882,
          5.9787983279270085,
          6.187165630701091,
          5.621799128520018,
          5.938951989691774
         ],
         "xaxis": "x",
         "yaxis": "y"
        },
        {
         "alignmentgroup": "True",
         "bingroup": "x",
         "hovertemplate": "Name=Polaris<br>Distance=%{x}<br>count=%{y}<extra></extra>",
         "legendgroup": "Polaris",
         "marker": {
          "color": "#ab63fa",
          "pattern": {
           "shape": ""
          }
         },
         "name": "Polaris",
         "offsetgroup": "Polaris",
         "orientation": "v",
         "showlegend": true,
         "type": "histogram",
         "x": [
          322.6010015236985,
          323.4890826975579,
          323.4772161689265,
          322.7090337593032,
          322.7829657396212,
          322.69367242714384,
          323.18740651993204,
          323.2942868029988,
          322.63039128938027,
          323.25830287505704,
          322.502155570597,
          322.5390777157187,
          322.5304351797596,
          322.93613956377834,
          323.3420917477968,
          322.6559353305563,
          322.61059291404024,
          322.5864706417702,
          323.0346750980348,
          323.4573642516834,
          322.7489734191514,
          323.407738492318,
          323.329059044209,
          323.2911371694931,
          323.04614166377024,
          322.6683138284829,
          322.8440108934349,
          323.0169808270724,
          322.9494783167867,
          322.96013716898085,
          323.17960144669274,
          323.46676302972094,
          322.62947492209986,
          322.9599285464444,
          322.9314640081101
         ],
         "xaxis": "x",
         "yaxis": "y"
        },
        {
         "alignmentgroup": "True",
         "bingroup": "x",
         "hovertemplate": "Name=Sirius<br>Distance=%{x}<br>count=%{y}<extra></extra>",
         "legendgroup": "Sirius",
         "marker": {
          "color": "#FFA15A",
          "pattern": {
           "shape": ""
          }
         },
         "name": "Sirius",
         "offsetgroup": "Sirius",
         "orientation": "v",
         "showlegend": true,
         "type": "histogram",
         "x": [
          8.370045208990435,
          8.997561546118135,
          8.790939416886154,
          8.40488504234644,
          8.178965638409595,
          9.003723782469484,
          8.42964716497559,
          8.97905760209878,
          8.910964990477838,
          8.95764006062001,
          8.22699804145759,
          8.581163580860268,
          8.650238632854773,
          8.592832833642735,
          8.872982082035527,
          8.792950012705772,
          8.355424038148003,
          8.161295441784544,
          8.441644923384983,
          8.217525695491645,
          8.514812239311194,
          8.294591987099164,
          8.165437979968027,
          8.450983252622061,
          8.696116019165396,
          8.125496220548296,
          8.131880808724219,
          8.417698116123512,
          8.99668874623692,
          8.609892014115287,
          8.786491000164645,
          8.52608695906616,
          8.322247873554318,
          8.153862547872297
         ],
         "xaxis": "x",
         "yaxis": "y"
        },
        {
         "alignmentgroup": "True",
         "bingroup": "x",
         "hovertemplate": "Name=Fomalhaut<br>Distance=%{x}<br>count=%{y}<extra></extra>",
         "legendgroup": "Fomalhaut",
         "marker": {
          "color": "#19d3f3",
          "pattern": {
           "shape": ""
          }
         },
         "name": "Fomalhaut",
         "offsetgroup": "Fomalhaut",
         "orientation": "v",
         "showlegend": true,
         "type": "histogram",
         "x": [
          25.42303189349805,
          25.040609497955693,
          24.739227835351564,
          24.94774315643359,
          25.376635374231352,
          25.395341516452056,
          25.132967410517995,
          24.908006486525945,
          24.63695818655648,
          25.291726752209044,
          24.787814094086,
          24.93993408396935,
          24.801334879905827,
          24.52798083660612,
          25.44873361843539,
          24.50867740612027,
          24.70632087566867,
          25.11565259218312,
          24.843117080136956,
          24.88012046688512,
          24.987398402267782,
          25.302837879907862,
          24.59512350793306,
          25.023792942363187,
          25.057041949883786,
          24.506784896336363,
          24.674402107140622,
          24.579087741348825,
          25.35547709191822,
          24.87807509525689,
          25.387269675813
         ],
         "xaxis": "x",
         "yaxis": "y"
        },
        {
         "alignmentgroup": "True",
         "bingroup": "x",
         "hovertemplate": "Name=Capella<br>Distance=%{x}<br>count=%{y}<extra></extra>",
         "legendgroup": "Capella",
         "marker": {
          "color": "#FF6692",
          "pattern": {
           "shape": ""
          }
         },
         "name": "Capella",
         "offsetgroup": "Capella",
         "orientation": "v",
         "showlegend": true,
         "type": "histogram",
         "x": [
          42.56957816453575,
          43.260858866113374,
          43.23983836385828,
          42.98764050809396,
          42.80414644083066,
          42.66191607008856,
          42.90883268003728,
          42.42640506726292,
          43.18977231526731,
          42.62172687540109,
          43.24996496461586,
          43.26898110439547,
          43.15465762520267,
          42.647659674923545,
          42.65444955623385,
          42.7217314040785,
          43.06712827854447,
          43.18112317773428,
          43.36976619606791,
          42.52419176794727,
          43.22182719528961,
          42.85177613657468,
          42.57067975593808,
          43.353461047980645,
          42.601051224886014,
          42.86175604553599,
          42.66974559185838,
          43.20824019631963,
          42.93959400923444,
          43.168855975372594,
          42.58145468080607,
          42.88148825879285,
          42.40535655093325,
          42.94182808506701,
          43.32463110238659,
          42.81063050433714,
          43.341857133248425,
          43.325316068120735,
          43.28991991209135
         ],
         "xaxis": "x",
         "yaxis": "y"
        },
        {
         "alignmentgroup": "True",
         "bingroup": "x",
         "hovertemplate": "Name=Bellatrix<br>Distance=%{x}<br>count=%{y}<extra></extra>",
         "legendgroup": "Bellatrix",
         "marker": {
          "color": "#B6E880",
          "pattern": {
           "shape": ""
          }
         },
         "name": "Bellatrix",
         "offsetgroup": "Bellatrix",
         "orientation": "v",
         "showlegend": true,
         "type": "histogram",
         "x": [
          239.8641071043128,
          240.396008875072,
          239.75802627864445,
          240.3505524329565,
          239.79573031544,
          240.30865829394963,
          239.8047158847297,
          239.7466586927296,
          240.11729164012905,
          240.38937400299517,
          239.8107170031412,
          239.93285610754845,
          239.69414728045675,
          239.678280484485,
          240.46546493984692,
          240.4177991738177,
          240.1604825490851,
          240.12473609943655,
          239.8922067354819,
          239.8768554783536,
          240.03574000164505,
          240.4175407764292,
          239.8303416160717,
          240.11588978221369,
          240.49816951913863,
          240.355324424342,
          240.0939753540742,
          239.8539329933873,
          239.93656975922684,
          239.62482417096467,
          239.83337339555476,
          239.59086023679924,
          239.77263433505863,
          240.00407319071869,
          240.3954565777999,
          239.66547315750975,
          239.7632940871353
         ],
         "xaxis": "x",
         "yaxis": "y"
        },
        {
         "alignmentgroup": "True",
         "bingroup": "x",
         "hovertemplate": "Name=Castor<br>Distance=%{x}<br>count=%{y}<extra></extra>",
         "legendgroup": "Castor",
         "marker": {
          "color": "#FF97FF",
          "pattern": {
           "shape": ""
          }
         },
         "name": "Castor",
         "offsetgroup": "Castor",
         "orientation": "v",
         "showlegend": true,
         "type": "histogram",
         "x": [
          51.57021005818902,
          52.3208563941243,
          51.687127344898485,
          52.31788545862922,
          51.78867651717732,
          51.78765008596086,
          51.65717046093253,
          52.33739487109884,
          52.15011540693591,
          51.96002579241676,
          52.22988431306953,
          52.11930609709243,
          51.63546472562079,
          51.6442785808902,
          51.524741869292015,
          52.23783288286487,
          52.00232623896764,
          51.92513481887208,
          52.16408562397163,
          51.71719885193044,
          51.69175345874459,
          51.70958451784467,
          52.05461972836282,
          52.131041124741245,
          52.457966963372506,
          51.65789051774216,
          52.32699048051961,
          51.57416859712489,
          52.008251054307145,
          51.630997393351066,
          52.201794739444864,
          52.29678817113823,
          52.3205784802262,
          51.511786774568165,
          51.98304877115079,
          51.75737010489582,
          51.71998908353143,
          51.94700108831837,
          51.72532804583004
         ],
         "xaxis": "x",
         "yaxis": "y"
        },
        {
         "alignmentgroup": "True",
         "bingroup": "x",
         "hovertemplate": "Name=Hadar<br>Distance=%{x}<br>count=%{y}<extra></extra>",
         "legendgroup": "Hadar",
         "marker": {
          "color": "#FECB52",
          "pattern": {
           "shape": ""
          }
         },
         "name": "Hadar",
         "offsetgroup": "Hadar",
         "orientation": "v",
         "showlegend": true,
         "type": "histogram",
         "x": [
          349.6510239295208,
          350.3393282903268,
          349.8378240849879,
          349.98072783140907,
          349.89703894408365,
          349.8618670626462,
          349.85840398022134,
          350.1211769454686,
          349.54803179030006,
          349.70525337779173,
          349.9265432643831,
          349.74627308407605,
          350.2825075248128,
          350.48265904666846,
          349.9233971467892,
          350.1548367045636,
          349.9762351065161,
          349.8025258945259,
          349.53181444637727,
          349.5763036550494,
          349.7007690438944,
          350.3462163095896,
          349.6884498607735,
          349.98310298123266,
          350.2597782764712,
          350.42067052185126,
          349.98215646428145,
          350.00026107700785,
          349.64750946004904,
          349.7751079221616,
          350.0482509324234,
          349.67138194692,
          350.3995833001828,
          350.4252257682298,
          349.9788637308732,
          350.25905864555745,
          349.9815410499482,
          349.6886337761157,
          349.625907898617,
          349.97949588756546,
          349.5488295994064,
          350.16977117417395,
          349.75553952552616,
          350.47273331783754,
          350.3016438778805
         ],
         "xaxis": "x",
         "yaxis": "y"
        },
        {
         "alignmentgroup": "True",
         "bingroup": "x",
         "hovertemplate": "Name=Betelgeuse<br>Distance=%{x}<br>count=%{y}<extra></extra>",
         "legendgroup": "Betelgeuse",
         "marker": {
          "color": "#636efa",
          "pattern": {
           "shape": ""
          }
         },
         "name": "Betelgeuse",
         "offsetgroup": "Betelgeuse",
         "orientation": "v",
         "showlegend": true,
         "type": "histogram",
         "x": [
          642.4036425044302,
          642.4501483192605,
          642.1986705590544,
          642.1530702565499,
          642.0262242230878,
          642.1523114825334,
          642.4002182709401,
          642.4314171166554,
          642.7132328379636,
          642.9734496672988,
          642.6457930899971,
          642.6088452768547,
          642.8715692674214,
          642.5531284859233,
          642.5688338268451,
          642.7606943182192,
          642.3796736220082,
          642.6993191749599,
          642.2406798816608,
          642.7086272299188,
          642.9528733444157,
          642.2465107194334,
          642.9357776183036,
          642.7417653348303,
          642.5351051185136,
          642.2829746395311,
          642.9649766370246,
          642.3397970219621,
          642.6428013612522,
          642.5944222595335,
          642.7547888998598,
          642.7994618404347,
          642.4543021202028,
          642.0286903282115,
          642.2428428824071,
          642.1508982777278,
          642.6498975327032,
          642.9972303663835,
          642.0106189270315,
          642.8476080979914,
          642.9028035649651,
          642.9506962383331,
          642.896853479847,
          642.1716997467348
         ],
         "xaxis": "x",
         "yaxis": "y"
        },
        {
         "alignmentgroup": "True",
         "bingroup": "x",
         "hovertemplate": "Name=Regulus<br>Distance=%{x}<br>count=%{y}<extra></extra>",
         "legendgroup": "Regulus",
         "marker": {
          "color": "#EF553B",
          "pattern": {
           "shape": ""
          }
         },
         "name": "Regulus",
         "offsetgroup": "Regulus",
         "orientation": "v",
         "showlegend": true,
         "type": "histogram",
         "x": [
          79.14834001968553,
          78.8696975851003,
          79.23841041664882,
          78.51275351482992,
          79.37549284128201,
          79.457885087804,
          78.84980314077531,
          78.6610515633756,
          78.60906106487893,
          79.46905039034043,
          78.52313741046954,
          79.02170301809184,
          79.38640904460017,
          79.24977426857156,
          79.3430014654726,
          79.25123296644107,
          78.53223893334071,
          79.22183035219693,
          78.7038439341687,
          79.03647559318077,
          79.26907248189737,
          79.18589591612577,
          78.7031566878579,
          79.2976565838651,
          79.08867706312137,
          78.57997164692497
         ],
         "xaxis": "x",
         "yaxis": "y"
        },
        {
         "alignmentgroup": "True",
         "bingroup": "x",
         "hovertemplate": "Name=Mira<br>Distance=%{x}<br>count=%{y}<extra></extra>",
         "legendgroup": "Mira",
         "marker": {
          "color": "#00cc96",
          "pattern": {
           "shape": ""
          }
         },
         "name": "Mira",
         "offsetgroup": "Mira",
         "orientation": "v",
         "showlegend": true,
         "type": "histogram",
         "x": [
          418.3541533597022,
          418.215323235124,
          417.73968452269605,
          418.4800274472216,
          417.96038900748766,
          418.2183952968461,
          418.17093478352064,
          417.69434190620393,
          417.7833122552771,
          418.0577769995517,
          417.9698200829036,
          417.8076208586674,
          418.2559404634954,
          418.2175842849551,
          418.40207144643017,
          417.5715531818814,
          418.19637656568926,
          417.73665480621816,
          417.5442981212012,
          418.3989107239932,
          418.1733391023294,
          418.027891124594,
          417.7473616627305,
          417.6635767540674,
          418.10374930422336,
          418.4812503161386,
          417.6039056772467,
          417.9030258925673,
          418.2024794852146,
          417.9005443831684,
          418.32320166950245,
          418.147076017426,
          417.540276775724,
          417.5275405223786,
          417.5482494592996,
          417.695788448091,
          418.4702428657292
         ],
         "xaxis": "x",
         "yaxis": "y"
        },
        {
         "alignmentgroup": "True",
         "bingroup": "x",
         "hovertemplate": "Name=Acrux<br>Distance=%{x}<br>count=%{y}<extra></extra>",
         "legendgroup": "Acrux",
         "marker": {
          "color": "#ab63fa",
          "pattern": {
           "shape": ""
          }
         },
         "name": "Acrux",
         "offsetgroup": "Acrux",
         "orientation": "v",
         "showlegend": true,
         "type": "histogram",
         "x": [
          320.95215250850816,
          320.53588050006994,
          321.3978818285302,
          320.5863393634801,
          321.1642531708573,
          320.6812154330032,
          321.0192431558176,
          321.1982673917823,
          321.12567330882814,
          320.74846067676384,
          321.0172738889805,
          320.60318172049745,
          320.5859634991353,
          320.9124461243215,
          321.40395624936485,
          320.5587773374703,
          320.88683059183285,
          320.65320185737164,
          320.95371916990314,
          321.20334861362505,
          321.1664335654021,
          320.7411078477193,
          320.7317413396748,
          321.3696466801406,
          321.457318249747,
          320.5286601685961,
          320.5295666259734,
          321.2232979091321,
          320.7563597238534,
          320.8089994295918
         ],
         "xaxis": "x",
         "yaxis": "y"
        },
        {
         "alignmentgroup": "True",
         "bingroup": "x",
         "hovertemplate": "Name=Vega<br>Distance=%{x}<br>count=%{y}<extra></extra>",
         "legendgroup": "Vega",
         "marker": {
          "color": "#FFA15A",
          "pattern": {
           "shape": ""
          }
         },
         "name": "Vega",
         "offsetgroup": "Vega",
         "orientation": "v",
         "showlegend": true,
         "type": "histogram",
         "x": [
          25.40728672741662,
          25.02265608280089,
          25.32510113537497,
          24.53113047299527,
          25.145088627017778,
          24.959311232910533,
          25.47379567716754,
          25.021842852433267,
          24.796722904603456,
          25.06659451671611,
          25.48267392461975,
          25.06973647278645,
          24.71555489176861,
          24.85754244367429,
          24.55054654226796,
          25.215375947746416,
          24.921386227437697,
          24.645193901214096,
          25.05044976403771,
          24.892157888712624,
          24.737344606764864,
          25.249302017870196,
          25.473262447093777,
          24.517236143400165,
          24.905127460760955,
          24.75073833045015,
          24.86912746311316,
          25.224131593103422,
          24.563347691310778,
          25.30909291443033,
          24.975018144839115,
          25.424516219453206,
          24.905854171943336,
          24.84278806610825,
          25.009785593624624,
          24.803162930467373,
          24.65390624701162,
          24.77663590827652
         ],
         "xaxis": "x",
         "yaxis": "y"
        },
        {
         "alignmentgroup": "True",
         "bingroup": "x",
         "hovertemplate": "Name=Lalande 21185<br>Distance=%{x}<br>count=%{y}<extra></extra>",
         "legendgroup": "Lalande 21185",
         "marker": {
          "color": "#19d3f3",
          "pattern": {
           "shape": ""
          }
         },
         "name": "Lalande 21185",
         "offsetgroup": "Lalande 21185",
         "orientation": "v",
         "showlegend": true,
         "type": "histogram",
         "x": [
          8.78389229917336,
          7.922999488356227,
          8.539132551448054,
          8.389619801046,
          8.657942790455385,
          8.600332846394044,
          8.552871356637239,
          8.326995952783522,
          8.16476186236918,
          8.268111532689437,
          8.383258213157267,
          8.144854579475982,
          8.778835112157529,
          8.399926954945043,
          8.287208290511906,
          8.26117326287019,
          8.649839719089691,
          7.976157703677068,
          8.459087059993356,
          8.787449488767088,
          8.34956214577482,
          8.080258523322932,
          8.172252612662689,
          8.728312637512095,
          8.439597133532216,
          8.703545490785453,
          8.731732298435377
         ],
         "xaxis": "x",
         "yaxis": "y"
        },
        {
         "alignmentgroup": "True",
         "bingroup": "x",
         "hovertemplate": "Name=Arcturus<br>Distance=%{x}<br>count=%{y}<extra></extra>",
         "legendgroup": "Arcturus",
         "marker": {
          "color": "#FF6692",
          "pattern": {
           "shape": ""
          }
         },
         "name": "Arcturus",
         "offsetgroup": "Arcturus",
         "orientation": "v",
         "showlegend": true,
         "type": "histogram",
         "x": [
          36.39116253215857,
          36.23014602060893,
          36.55940961200518,
          36.66414022992508,
          36.246122455758346,
          37.0649256344522,
          36.501673392977565,
          36.60944251909364,
          36.4667172645417,
          36.54392155384341,
          36.23103318743993,
          36.32229979885953,
          36.72859011150761,
          36.36893818169971,
          36.85515697959471,
          36.20354839373127,
          36.24569176751628,
          37.06140162916029,
          36.91845733608466,
          36.51826937834501,
          36.90991186856271,
          37.06384846154293,
          36.20180573285442,
          36.55163108724785,
          36.24521475154246,
          37.06149127837728,
          36.200295183387695,
          36.90817729219896,
          36.631716763839854,
          36.88591656890159,
          36.982286233375945,
          37.0014027891288,
          36.83263226386889,
          36.40617807718751,
          36.77774268440709,
          36.28589805029394,
          36.9062477505712,
          36.3693563748995
         ],
         "xaxis": "x",
         "yaxis": "y"
        },
        {
         "alignmentgroup": "True",
         "bingroup": "x",
         "hovertemplate": "Name=Alpha Centauri B<br>Distance=%{x}<br>count=%{y}<extra></extra>",
         "legendgroup": "Alpha Centauri B",
         "marker": {
          "color": "#B6E880",
          "pattern": {
           "shape": ""
          }
         },
         "name": "Alpha Centauri B",
         "offsetgroup": "Alpha Centauri B",
         "orientation": "v",
         "showlegend": true,
         "type": "histogram",
         "x": [
          3.9259386007692,
          3.996217713887833,
          4.661465963884386,
          4.191178428095684,
          4.604116282070338,
          4.233930259760326,
          4.603151026770734,
          3.927727273120638,
          4.500100880129606,
          3.879882255399028,
          3.8777984948209214,
          4.436330965784739,
          3.932656205796369,
          4.7356216586430016,
          4.105591040558226,
          4.292306288809428,
          4.416944668599744,
          4.048885138846404,
          3.9584080451775816,
          4.3968645150592645,
          4.734661764734593,
          4.808567597775965,
          3.96707536931122,
          4.044363778891645
         ],
         "xaxis": "x",
         "yaxis": "y"
        },
        {
         "alignmentgroup": "True",
         "bingroup": "x",
         "hovertemplate": "Name=Ross 154<br>Distance=%{x}<br>count=%{y}<extra></extra>",
         "legendgroup": "Ross 154",
         "marker": {
          "color": "#FF97FF",
          "pattern": {
           "shape": ""
          }
         },
         "name": "Ross 154",
         "offsetgroup": "Ross 154",
         "orientation": "v",
         "showlegend": true,
         "type": "histogram",
         "x": [
          9.584936005981074,
          9.93913784187845,
          9.61921476063749,
          9.762760206254509,
          9.457219736836048,
          10.114346873131268,
          9.48114273199893,
          9.907428254444897,
          9.979598917012972,
          10.082428468579502,
          9.509693473009362,
          9.613438425931394,
          9.38679526791198,
          9.26667513129312,
          9.744868120043323,
          9.261994125032585,
          9.553595958712544,
          9.413783915695811,
          9.395163970336052,
          9.620779679219527,
          9.69472307122112,
          9.323389346236947,
          10.01828345662197,
          10.17531367803396,
          9.958709975740945,
          9.338424894825856,
          9.6890022970437,
          9.343641962410093,
          9.42086549736674,
          9.54230139060007,
          9.394693710190698,
          9.73233499796961,
          9.66567571693894,
          9.50366119726744,
          9.25339808628094,
          9.540019221183613,
          10.043819467396546,
          9.404553220913916,
          9.423694155811315,
          9.389919670573615,
          9.386066440277858,
          9.496791091141016,
          10.01998897210816,
          9.452177745877758,
          9.195617903458349
         ],
         "xaxis": "x",
         "yaxis": "y"
        },
        {
         "alignmentgroup": "True",
         "bingroup": "x",
         "hovertemplate": "Name=Canopus<br>Distance=%{x}<br>count=%{y}<extra></extra>",
         "legendgroup": "Canopus",
         "marker": {
          "color": "#FECB52",
          "pattern": {
           "shape": ""
          }
         },
         "name": "Canopus",
         "offsetgroup": "Canopus",
         "orientation": "v",
         "showlegend": true,
         "type": "histogram",
         "x": [
          309.65595488089645,
          309.89434307337245,
          309.5332875345678,
          310.30248789941453,
          310.1123839470811,
          310.4339221913486,
          310.2691827891006,
          310.25752765758386,
          309.85247308584013,
          310.2172670982593,
          309.5953487649189,
          309.75776637760686,
          309.93058315209595,
          309.7226809100175,
          310.40561001383736,
          310.2208988524362,
          309.949279299694,
          309.5950008995232,
          309.7711209452154,
          310.0723523164608,
          310.3941896872438,
          309.5515680591836,
          309.745118342769,
          310.2130102878391,
          310.483900312148,
          309.59630094036703,
          310.4362927684538,
          310.4345692965066,
          310.4108600046048,
          309.87474133180893,
          309.6236031075072,
          310.48243578628234,
          309.91561703948685,
          310.44468131175495,
          310.4335412085039,
          309.6647970437859,
          309.92408716748804,
          310.1097294620209,
          309.7469731020621,
          309.79894282933685,
          309.70210821887525,
          309.9536271445739,
          309.7238415784254,
          309.85946184517417,
          310.38085606498896,
          310.1036731709541,
          309.78529838101207,
          310.35560420721504
         ],
         "xaxis": "x",
         "yaxis": "y"
        },
        {
         "alignmentgroup": "True",
         "bingroup": "x",
         "hovertemplate": "Name=Procyon<br>Distance=%{x}<br>count=%{y}<extra></extra>",
         "legendgroup": "Procyon",
         "marker": {
          "color": "#636efa",
          "pattern": {
           "shape": ""
          }
         },
         "name": "Procyon",
         "offsetgroup": "Procyon",
         "orientation": "v",
         "showlegend": true,
         "type": "histogram",
         "x": [
          11.361710078531988,
          10.930399214053107,
          11.548017997505934,
          11.232801031989052,
          11.734879069041147,
          11.811384418414272,
          11.853186614150347,
          11.633141363707043,
          11.729222953510115,
          11.221180880093732,
          11.099357364573128,
          11.561154029092972,
          11.37786080726909,
          11.678427502003084,
          11.282775707529195,
          10.90120355498424,
          11.652618800686213,
          11.27128784093913,
          11.462361693741704,
          11.856853389499038,
          11.71537044507152,
          11.717346818680609,
          11.519994192475885,
          11.337639813967616,
          11.183020782895095,
          11.377881859460956,
          11.533949262456211,
          10.920471755944988,
          11.146881937080314,
          11.591330421111849
         ],
         "xaxis": "x",
         "yaxis": "y"
        },
        {
         "alignmentgroup": "True",
         "bingroup": "x",
         "hovertemplate": "Name=Wolf 359<br>Distance=%{x}<br>count=%{y}<extra></extra>",
         "legendgroup": "Wolf 359",
         "marker": {
          "color": "#EF553B",
          "pattern": {
           "shape": ""
          }
         },
         "name": "Wolf 359",
         "offsetgroup": "Wolf 359",
         "orientation": "v",
         "showlegend": true,
         "type": "histogram",
         "x": [
          8.040322484690764,
          7.987098773049044,
          8.117918695659103,
          7.494513484605815,
          7.573447101024423,
          7.999848244547756,
          7.93457653564171,
          7.692989324958735,
          7.582497882510385,
          8.201477766291974,
          7.281173811634308,
          7.342543595813701,
          8.045698163666097,
          7.844657382582614,
          8.049625037667944,
          8.193452392455221,
          7.408588147182553,
          7.831985513140465,
          7.842217830165789,
          7.509380536781729,
          7.455714961927049,
          8.139786203659344
         ],
         "xaxis": "x",
         "yaxis": "y"
        },
        {
         "alignmentgroup": "True",
         "bingroup": "x",
         "hovertemplate": "Name=Antares<br>Distance=%{x}<br>count=%{y}<extra></extra>",
         "legendgroup": "Antares",
         "marker": {
          "color": "#00cc96",
          "pattern": {
           "shape": ""
          }
         },
         "name": "Antares",
         "offsetgroup": "Antares",
         "orientation": "v",
         "showlegend": true,
         "type": "histogram",
         "x": [
          549.8094446057289,
          550.3341533847138,
          550.2111451274665,
          550.0925105716918,
          549.6020841306806,
          550.0793115802902,
          550.4834100624427,
          549.6326078449839,
          549.8792884370044,
          549.6671549550567,
          549.601840549149,
          550.1496804937102,
          550.15747463314,
          549.7495418978335,
          549.5110445555379,
          550.3257829728522,
          549.6919169775477,
          549.5976615005139,
          549.9795888740322,
          550.2150054467941,
          549.9015809654044,
          550.3668196570269,
          550.0648277783677,
          550.3810400697355,
          549.9204623386546,
          549.8508372630931
         ],
         "xaxis": "x",
         "yaxis": "y"
        },
        {
         "alignmentgroup": "True",
         "bingroup": "x",
         "hovertemplate": "Name=Alnilam<br>Distance=%{x}<br>count=%{y}<extra></extra>",
         "legendgroup": "Alnilam",
         "marker": {
          "color": "#ab63fa",
          "pattern": {
           "shape": ""
          }
         },
         "name": "Alnilam",
         "offsetgroup": "Alnilam",
         "orientation": "v",
         "showlegend": true,
         "type": "histogram",
         "x": [
          1999.5922378259784,
          2000.3720438244095,
          2000.478992923653,
          1999.880482110407,
          2000.4968087684344,
          2000.254556921467,
          1999.9722500667908,
          2000.344809422834,
          1999.905476876984,
          2000.2311498588904,
          2000.0469500959855,
          2000.176215815057,
          1999.801046890608,
          2000.0880201642992,
          2000.377238593158,
          1999.87084484106,
          1999.819824183048,
          2000.37271159395,
          2000.0435647220493,
          2000.1010812868856,
          1999.772368135856,
          1999.6818716533849,
          2000.428234964036,
          2000.2993114511185,
          1999.771262670854,
          1999.847160965611,
          2000.019834141603,
          2000.087785793082,
          2000.138809353711,
          1999.8175025097764,
          1999.7698305372085,
          2000.3439769385384,
          1999.8175408088105,
          2000.37023690258,
          2000.4460408974744,
          2000.4345492686696
         ],
         "xaxis": "x",
         "yaxis": "y"
        },
        {
         "alignmentgroup": "True",
         "bingroup": "x",
         "hovertemplate": "Name=Rigil Kentaurus<br>Distance=%{x}<br>count=%{y}<extra></extra>",
         "legendgroup": "Rigil Kentaurus",
         "marker": {
          "color": "#FFA15A",
          "pattern": {
           "shape": ""
          }
         },
         "name": "Rigil Kentaurus",
         "offsetgroup": "Rigil Kentaurus",
         "orientation": "v",
         "showlegend": true,
         "type": "histogram",
         "x": [
          4.039455513108716,
          4.054202316650517,
          4.107727284195991,
          4.402094885920716,
          3.9786325410020655,
          4.088694603367449,
          4.00631598035014,
          4.684740783845968,
          4.009178210050658,
          4.472942767831179,
          4.75762801578623,
          4.142560356201541,
          4.5115107589995525,
          4.021572470121028,
          4.300779447953355,
          4.533255211906194,
          4.558961315570268,
          4.174610126906483,
          4.258882694615686,
          3.878440741323109,
          4.453129603173108,
          4.367149037495067,
          4.117935511045086,
          4.268672294663512,
          4.763026573907034,
          4.47272804209522,
          4.426806628560027,
          4.105156452641697,
          3.9157177266609406,
          4.267358434464539,
          4.475035634017177,
          4.379249967683409,
          4.384779238681924,
          4.770200191851383,
          4.608424065033049,
          3.996321706725146
         ],
         "xaxis": "x",
         "yaxis": "y"
        },
        {
         "alignmentgroup": "True",
         "bingroup": "x",
         "hovertemplate": "Name=Spica<br>Distance=%{x}<br>count=%{y}<extra></extra>",
         "legendgroup": "Spica",
         "marker": {
          "color": "#19d3f3",
          "pattern": {
           "shape": ""
          }
         },
         "name": "Spica",
         "offsetgroup": "Spica",
         "orientation": "v",
         "showlegend": true,
         "type": "histogram",
         "x": [
          250.4596817064251,
          250.3496408249325,
          250.1853696897831,
          249.71633706178963,
          249.7559118255533,
          250.2913089548481,
          249.835979449552,
          249.6956810552482,
          250.4057552155481,
          249.95600945257036,
          250.35860614560136,
          250.48787578507955,
          249.5804287349372,
          250.3907403268672,
          249.7542724733665,
          250.15638901295983,
          250.08854976539027,
          249.96142719523124,
          249.8172403555564,
          250.47669935243397,
          249.68138707151607,
          249.85189898596667,
          249.69579540727176,
          250.01953470530407,
          249.73242975661935,
          249.6676091992805,
          249.5219180074977,
          250.08391615971536,
          250.255634744821,
          250.2771634939656,
          250.40169225874865,
          249.8780687587576
         ],
         "xaxis": "x",
         "yaxis": "y"
        },
        {
         "alignmentgroup": "True",
         "bingroup": "x",
         "hovertemplate": "Name=Achernar<br>Distance=%{x}<br>count=%{y}<extra></extra>",
         "legendgroup": "Achernar",
         "marker": {
          "color": "#FF6692",
          "pattern": {
           "shape": ""
          }
         },
         "name": "Achernar",
         "offsetgroup": "Achernar",
         "orientation": "v",
         "showlegend": true,
         "type": "histogram",
         "x": [
          144.41347739924058,
          143.92295573741418,
          143.96369643781577,
          144.31905356616832,
          144.42696352608482,
          144.4397778356189,
          143.58377436946893,
          144.12328599301048,
          143.77764483165026,
          143.7208361441719,
          143.78027679343387,
          144.47209166466283,
          144.0426282760542,
          144.3182802277197,
          144.2578184530899,
          144.19189867653805,
          143.62996068798947,
          143.62812373331911,
          144.28801530852505,
          144.30522567719555,
          144.12082466595672,
          143.94387870463663,
          144.37545652663016,
          144.12897129708412,
          143.9947292602552,
          144.44176753543127,
          143.7260830353571,
          143.98542586931663,
          143.96622965338523
         ],
         "xaxis": "x",
         "yaxis": "y"
        },
        {
         "alignmentgroup": "True",
         "bingroup": "x",
         "hovertemplate": "Name=Aldebaran<br>Distance=%{x}<br>count=%{y}<extra></extra>",
         "legendgroup": "Aldebaran",
         "marker": {
          "color": "#B6E880",
          "pattern": {
           "shape": ""
          }
         },
         "name": "Aldebaran",
         "offsetgroup": "Aldebaran",
         "orientation": "v",
         "showlegend": true,
         "type": "histogram",
         "x": [
          65.1820343113461,
          64.86663507615103,
          65.27837547917696,
          64.5902948982921,
          65.0148671399861,
          65.12504717981578,
          64.9102918076204,
          65.22314745573473,
          64.61409509358059,
          65.47022713417984,
          65.40799412250136,
          65.02609193401285,
          65.18136662184412,
          65.06561799990496,
          65.00813676993866,
          64.69365732542286,
          65.18394244057998,
          64.67223541528165
         ],
         "xaxis": "x",
         "yaxis": "y"
        },
        {
         "alignmentgroup": "True",
         "bingroup": "x",
         "hovertemplate": "Name=Rigel<br>Distance=%{x}<br>count=%{y}<extra></extra>",
         "legendgroup": "Rigel",
         "marker": {
          "color": "#FF97FF",
          "pattern": {
           "shape": ""
          }
         },
         "name": "Rigel",
         "offsetgroup": "Rigel",
         "orientation": "v",
         "showlegend": true,
         "type": "histogram",
         "x": [
          859.8736693721206,
          860.3299817159254,
          860.351094890128,
          859.9824983681953,
          860.0446487167943,
          860.3779303884187,
          859.8658746857441,
          859.7605775728495,
          860.1545306223537,
          860.3803983161446,
          860.203922875534,
          859.5517800045906,
          860.1589940381065,
          859.7391892037019,
          860.2515676737628,
          860.1419899425256,
          860.4364002835275
         ],
         "xaxis": "x",
         "yaxis": "y"
        }
       ],
       "layout": {
        "barmode": "relative",
        "legend": {
         "title": {
          "text": "Name"
         },
         "tracegroupgap": 0
        },
        "template": {
         "data": {
          "bar": [
           {
            "error_x": {
             "color": "#2a3f5f"
            },
            "error_y": {
             "color": "#2a3f5f"
            },
            "marker": {
             "line": {
              "color": "#E5ECF6",
              "width": 0.5
             },
             "pattern": {
              "fillmode": "overlay",
              "size": 10,
              "solidity": 0.2
             }
            },
            "type": "bar"
           }
          ],
          "barpolar": [
           {
            "marker": {
             "line": {
              "color": "#E5ECF6",
              "width": 0.5
             },
             "pattern": {
              "fillmode": "overlay",
              "size": 10,
              "solidity": 0.2
             }
            },
            "type": "barpolar"
           }
          ],
          "carpet": [
           {
            "aaxis": {
             "endlinecolor": "#2a3f5f",
             "gridcolor": "white",
             "linecolor": "white",
             "minorgridcolor": "white",
             "startlinecolor": "#2a3f5f"
            },
            "baxis": {
             "endlinecolor": "#2a3f5f",
             "gridcolor": "white",
             "linecolor": "white",
             "minorgridcolor": "white",
             "startlinecolor": "#2a3f5f"
            },
            "type": "carpet"
           }
          ],
          "choropleth": [
           {
            "colorbar": {
             "outlinewidth": 0,
             "ticks": ""
            },
            "type": "choropleth"
           }
          ],
          "contour": [
           {
            "colorbar": {
             "outlinewidth": 0,
             "ticks": ""
            },
            "colorscale": [
             [
              0,
              "#0d0887"
             ],
             [
              0.1111111111111111,
              "#46039f"
             ],
             [
              0.2222222222222222,
              "#7201a8"
             ],
             [
              0.3333333333333333,
              "#9c179e"
             ],
             [
              0.4444444444444444,
              "#bd3786"
             ],
             [
              0.5555555555555556,
              "#d8576b"
             ],
             [
              0.6666666666666666,
              "#ed7953"
             ],
             [
              0.7777777777777778,
              "#fb9f3a"
             ],
             [
              0.8888888888888888,
              "#fdca26"
             ],
             [
              1,
              "#f0f921"
             ]
            ],
            "type": "contour"
           }
          ],
          "contourcarpet": [
           {
            "colorbar": {
             "outlinewidth": 0,
             "ticks": ""
            },
            "type": "contourcarpet"
           }
          ],
          "heatmap": [
           {
            "colorbar": {
             "outlinewidth": 0,
             "ticks": ""
            },
            "colorscale": [
             [
              0,
              "#0d0887"
             ],
             [
              0.1111111111111111,
              "#46039f"
             ],
             [
              0.2222222222222222,
              "#7201a8"
             ],
             [
              0.3333333333333333,
              "#9c179e"
             ],
             [
              0.4444444444444444,
              "#bd3786"
             ],
             [
              0.5555555555555556,
              "#d8576b"
             ],
             [
              0.6666666666666666,
              "#ed7953"
             ],
             [
              0.7777777777777778,
              "#fb9f3a"
             ],
             [
              0.8888888888888888,
              "#fdca26"
             ],
             [
              1,
              "#f0f921"
             ]
            ],
            "type": "heatmap"
           }
          ],
          "heatmapgl": [
           {
            "colorbar": {
             "outlinewidth": 0,
             "ticks": ""
            },
            "colorscale": [
             [
              0,
              "#0d0887"
             ],
             [
              0.1111111111111111,
              "#46039f"
             ],
             [
              0.2222222222222222,
              "#7201a8"
             ],
             [
              0.3333333333333333,
              "#9c179e"
             ],
             [
              0.4444444444444444,
              "#bd3786"
             ],
             [
              0.5555555555555556,
              "#d8576b"
             ],
             [
              0.6666666666666666,
              "#ed7953"
             ],
             [
              0.7777777777777778,
              "#fb9f3a"
             ],
             [
              0.8888888888888888,
              "#fdca26"
             ],
             [
              1,
              "#f0f921"
             ]
            ],
            "type": "heatmapgl"
           }
          ],
          "histogram": [
           {
            "marker": {
             "pattern": {
              "fillmode": "overlay",
              "size": 10,
              "solidity": 0.2
             }
            },
            "type": "histogram"
           }
          ],
          "histogram2d": [
           {
            "colorbar": {
             "outlinewidth": 0,
             "ticks": ""
            },
            "colorscale": [
             [
              0,
              "#0d0887"
             ],
             [
              0.1111111111111111,
              "#46039f"
             ],
             [
              0.2222222222222222,
              "#7201a8"
             ],
             [
              0.3333333333333333,
              "#9c179e"
             ],
             [
              0.4444444444444444,
              "#bd3786"
             ],
             [
              0.5555555555555556,
              "#d8576b"
             ],
             [
              0.6666666666666666,
              "#ed7953"
             ],
             [
              0.7777777777777778,
              "#fb9f3a"
             ],
             [
              0.8888888888888888,
              "#fdca26"
             ],
             [
              1,
              "#f0f921"
             ]
            ],
            "type": "histogram2d"
           }
          ],
          "histogram2dcontour": [
           {
            "colorbar": {
             "outlinewidth": 0,
             "ticks": ""
            },
            "colorscale": [
             [
              0,
              "#0d0887"
             ],
             [
              0.1111111111111111,
              "#46039f"
             ],
             [
              0.2222222222222222,
              "#7201a8"
             ],
             [
              0.3333333333333333,
              "#9c179e"
             ],
             [
              0.4444444444444444,
              "#bd3786"
             ],
             [
              0.5555555555555556,
              "#d8576b"
             ],
             [
              0.6666666666666666,
              "#ed7953"
             ],
             [
              0.7777777777777778,
              "#fb9f3a"
             ],
             [
              0.8888888888888888,
              "#fdca26"
             ],
             [
              1,
              "#f0f921"
             ]
            ],
            "type": "histogram2dcontour"
           }
          ],
          "mesh3d": [
           {
            "colorbar": {
             "outlinewidth": 0,
             "ticks": ""
            },
            "type": "mesh3d"
           }
          ],
          "parcoords": [
           {
            "line": {
             "colorbar": {
              "outlinewidth": 0,
              "ticks": ""
             }
            },
            "type": "parcoords"
           }
          ],
          "pie": [
           {
            "automargin": true,
            "type": "pie"
           }
          ],
          "scatter": [
           {
            "fillpattern": {
             "fillmode": "overlay",
             "size": 10,
             "solidity": 0.2
            },
            "type": "scatter"
           }
          ],
          "scatter3d": [
           {
            "line": {
             "colorbar": {
              "outlinewidth": 0,
              "ticks": ""
             }
            },
            "marker": {
             "colorbar": {
              "outlinewidth": 0,
              "ticks": ""
             }
            },
            "type": "scatter3d"
           }
          ],
          "scattercarpet": [
           {
            "marker": {
             "colorbar": {
              "outlinewidth": 0,
              "ticks": ""
             }
            },
            "type": "scattercarpet"
           }
          ],
          "scattergeo": [
           {
            "marker": {
             "colorbar": {
              "outlinewidth": 0,
              "ticks": ""
             }
            },
            "type": "scattergeo"
           }
          ],
          "scattergl": [
           {
            "marker": {
             "colorbar": {
              "outlinewidth": 0,
              "ticks": ""
             }
            },
            "type": "scattergl"
           }
          ],
          "scattermapbox": [
           {
            "marker": {
             "colorbar": {
              "outlinewidth": 0,
              "ticks": ""
             }
            },
            "type": "scattermapbox"
           }
          ],
          "scatterpolar": [
           {
            "marker": {
             "colorbar": {
              "outlinewidth": 0,
              "ticks": ""
             }
            },
            "type": "scatterpolar"
           }
          ],
          "scatterpolargl": [
           {
            "marker": {
             "colorbar": {
              "outlinewidth": 0,
              "ticks": ""
             }
            },
            "type": "scatterpolargl"
           }
          ],
          "scatterternary": [
           {
            "marker": {
             "colorbar": {
              "outlinewidth": 0,
              "ticks": ""
             }
            },
            "type": "scatterternary"
           }
          ],
          "surface": [
           {
            "colorbar": {
             "outlinewidth": 0,
             "ticks": ""
            },
            "colorscale": [
             [
              0,
              "#0d0887"
             ],
             [
              0.1111111111111111,
              "#46039f"
             ],
             [
              0.2222222222222222,
              "#7201a8"
             ],
             [
              0.3333333333333333,
              "#9c179e"
             ],
             [
              0.4444444444444444,
              "#bd3786"
             ],
             [
              0.5555555555555556,
              "#d8576b"
             ],
             [
              0.6666666666666666,
              "#ed7953"
             ],
             [
              0.7777777777777778,
              "#fb9f3a"
             ],
             [
              0.8888888888888888,
              "#fdca26"
             ],
             [
              1,
              "#f0f921"
             ]
            ],
            "type": "surface"
           }
          ],
          "table": [
           {
            "cells": {
             "fill": {
              "color": "#EBF0F8"
             },
             "line": {
              "color": "white"
             }
            },
            "header": {
             "fill": {
              "color": "#C8D4E3"
             },
             "line": {
              "color": "white"
             }
            },
            "type": "table"
           }
          ]
         },
         "layout": {
          "annotationdefaults": {
           "arrowcolor": "#2a3f5f",
           "arrowhead": 0,
           "arrowwidth": 1
          },
          "autotypenumbers": "strict",
          "coloraxis": {
           "colorbar": {
            "outlinewidth": 0,
            "ticks": ""
           }
          },
          "colorscale": {
           "diverging": [
            [
             0,
             "#8e0152"
            ],
            [
             0.1,
             "#c51b7d"
            ],
            [
             0.2,
             "#de77ae"
            ],
            [
             0.3,
             "#f1b6da"
            ],
            [
             0.4,
             "#fde0ef"
            ],
            [
             0.5,
             "#f7f7f7"
            ],
            [
             0.6,
             "#e6f5d0"
            ],
            [
             0.7,
             "#b8e186"
            ],
            [
             0.8,
             "#7fbc41"
            ],
            [
             0.9,
             "#4d9221"
            ],
            [
             1,
             "#276419"
            ]
           ],
           "sequential": [
            [
             0,
             "#0d0887"
            ],
            [
             0.1111111111111111,
             "#46039f"
            ],
            [
             0.2222222222222222,
             "#7201a8"
            ],
            [
             0.3333333333333333,
             "#9c179e"
            ],
            [
             0.4444444444444444,
             "#bd3786"
            ],
            [
             0.5555555555555556,
             "#d8576b"
            ],
            [
             0.6666666666666666,
             "#ed7953"
            ],
            [
             0.7777777777777778,
             "#fb9f3a"
            ],
            [
             0.8888888888888888,
             "#fdca26"
            ],
            [
             1,
             "#f0f921"
            ]
           ],
           "sequentialminus": [
            [
             0,
             "#0d0887"
            ],
            [
             0.1111111111111111,
             "#46039f"
            ],
            [
             0.2222222222222222,
             "#7201a8"
            ],
            [
             0.3333333333333333,
             "#9c179e"
            ],
            [
             0.4444444444444444,
             "#bd3786"
            ],
            [
             0.5555555555555556,
             "#d8576b"
            ],
            [
             0.6666666666666666,
             "#ed7953"
            ],
            [
             0.7777777777777778,
             "#fb9f3a"
            ],
            [
             0.8888888888888888,
             "#fdca26"
            ],
            [
             1,
             "#f0f921"
            ]
           ]
          },
          "colorway": [
           "#636efa",
           "#EF553B",
           "#00cc96",
           "#ab63fa",
           "#FFA15A",
           "#19d3f3",
           "#FF6692",
           "#B6E880",
           "#FF97FF",
           "#FECB52"
          ],
          "font": {
           "color": "#2a3f5f"
          },
          "geo": {
           "bgcolor": "white",
           "lakecolor": "white",
           "landcolor": "#E5ECF6",
           "showlakes": true,
           "showland": true,
           "subunitcolor": "white"
          },
          "hoverlabel": {
           "align": "left"
          },
          "hovermode": "closest",
          "mapbox": {
           "style": "light"
          },
          "paper_bgcolor": "white",
          "plot_bgcolor": "#E5ECF6",
          "polar": {
           "angularaxis": {
            "gridcolor": "white",
            "linecolor": "white",
            "ticks": ""
           },
           "bgcolor": "#E5ECF6",
           "radialaxis": {
            "gridcolor": "white",
            "linecolor": "white",
            "ticks": ""
           }
          },
          "scene": {
           "xaxis": {
            "backgroundcolor": "#E5ECF6",
            "gridcolor": "white",
            "gridwidth": 2,
            "linecolor": "white",
            "showbackground": true,
            "ticks": "",
            "zerolinecolor": "white"
           },
           "yaxis": {
            "backgroundcolor": "#E5ECF6",
            "gridcolor": "white",
            "gridwidth": 2,
            "linecolor": "white",
            "showbackground": true,
            "ticks": "",
            "zerolinecolor": "white"
           },
           "zaxis": {
            "backgroundcolor": "#E5ECF6",
            "gridcolor": "white",
            "gridwidth": 2,
            "linecolor": "white",
            "showbackground": true,
            "ticks": "",
            "zerolinecolor": "white"
           }
          },
          "shapedefaults": {
           "line": {
            "color": "#2a3f5f"
           }
          },
          "ternary": {
           "aaxis": {
            "gridcolor": "white",
            "linecolor": "white",
            "ticks": ""
           },
           "baxis": {
            "gridcolor": "white",
            "linecolor": "white",
            "ticks": ""
           },
           "bgcolor": "#E5ECF6",
           "caxis": {
            "gridcolor": "white",
            "linecolor": "white",
            "ticks": ""
           }
          },
          "title": {
           "x": 0.05
          },
          "xaxis": {
           "automargin": true,
           "gridcolor": "white",
           "linecolor": "white",
           "ticks": "",
           "title": {
            "standoff": 15
           },
           "zerolinecolor": "white",
           "zerolinewidth": 2
          },
          "yaxis": {
           "automargin": true,
           "gridcolor": "white",
           "linecolor": "white",
           "ticks": "",
           "title": {
            "standoff": 15
           },
           "zerolinecolor": "white",
           "zerolinewidth": 2
          }
         }
        },
        "title": {
         "text": "Histogram of Distance with respect to Name"
        },
        "xaxis": {
         "anchor": "y",
         "domain": [
          0,
          1
         ],
         "title": {
          "text": "Distance"
         }
        },
        "yaxis": {
         "anchor": "x",
         "domain": [
          0,
          1
         ],
         "title": {
          "text": "count"
         }
        }
       }
      }
     },
     "metadata": {},
     "output_type": "display_data"
    }
   ],
   "source": [
    "# histogram of Distance column with respect to Name Class using plotly:\n",
    "\n",
    "fig = px.histogram(df, x='Distance', color='Name', title='Histogram of Distance with respect to Name')\n",
    "fig.show()"
   ]
  },
  {
   "cell_type": "code",
   "execution_count": 22,
   "metadata": {},
   "outputs": [
    {
     "data": {
      "text/plain": [
       "np.int64(1000)"
      ]
     },
     "execution_count": 22,
     "metadata": {},
     "output_type": "execute_result"
    }
   ],
   "source": [
    "df['Distance'].value_counts().sum()"
   ]
  },
  {
   "cell_type": "code",
   "execution_count": 23,
   "metadata": {},
   "outputs": [
    {
     "data": {
      "text/plain": [
       "np.int64(0)"
      ]
     },
     "execution_count": 23,
     "metadata": {},
     "output_type": "execute_result"
    }
   ],
   "source": [
    "df['Distance'].duplicated().sum()"
   ]
  },
  {
   "cell_type": "code",
   "execution_count": 23,
   "metadata": {},
   "outputs": [
    {
     "name": "stdout",
     "output_type": "stream",
     "text": [
      "The minimum distance of star from Earth in Light Year is :3.88 (light year)\n",
      "The maximum distance of star from Earth in Light Year is :2600.49 (light year)\n"
     ]
    }
   ],
   "source": [
    "# round the distance column to 2 decimal places:\n",
    "\n",
    "print(f\"The minimum distance of star from Earth in Light Year is :{df['Distance'].min().round(2)} (light year)\")\n",
    "print(f\"The maximum distance of star from Earth in Light Year is :{df['Distance'].max().round(2)} (light year)\") "
   ]
  },
  {
   "cell_type": "code",
   "execution_count": null,
   "metadata": {},
   "outputs": [],
   "source": []
  },
  {
   "cell_type": "markdown",
   "metadata": {},
   "source": [
    "# Outputs:\n",
    "## Name Column:\n",
    "1. the name column represents the unique identifiers of stars. \n",
    "2. the name column has `29 unique` star names.\n",
    "   - The star Altair has the highest count of `74` having spectral class `A7V`. \n",
    "   - The star Rigel has the lowest count of `17` having spectral class `B8la`.\n",
    "## Distance Column:\n",
    "3. The distance column represents the distance of the star from Earth in light-years.\n",
    "4. The distance column has `1000 unique` values.\n",
    "5. The distance column has a minimum value of `3.877` and a maximum value of `2600.49` which means:\n",
    "   - The **Altair** star has the minimum distance is `3.877` light-years away from Earth.\n",
    "   - The **Deben** star has the maximum distance is `2600.49` light-years away from Earth.\n",
    "6. "
   ]
  },
  {
   "cell_type": "code",
   "execution_count": 15,
   "metadata": {},
   "outputs": [
    {
     "data": {
      "image/png": "[encoded data removed]",
      "text/plain": [
       "<Figure size 1000x600 with 1 Axes>"
      ]
     },
     "metadata": {},
     "output_type": "display_data"
    }
   ],
   "source": [
    "plt.figure(figsize=(10, 6))\n",
    "sns.boxplot(x=df['Distance'], color = 'gold')\n",
    "plt.title('Boxplot of Distance')\n",
    "plt.xlabel('Luminosity')\n",
    "plt.show()"
   ]
  },
  {
   "cell_type": "code",
   "execution_count": null,
   "metadata": {},
   "outputs": [],
   "source": []
  },
  {
   "cell_type": "code",
   "execution_count": 16,
   "metadata": {},
   "outputs": [
    {
     "data": {
      "image/png": "[encoded data removed]",
      "text/plain": [
       "<Figure size 2000x1000 with 1 Axes>"
      ]
     },
     "metadata": {},
     "output_type": "display_data"
    }
   ],
   "source": [
    "plt.figure(figsize=(20, 10))\n",
    "sns.violinplot(x='Spectral_Class', y='Temperature', data=df)\n",
    "plt.title('Temperature Distribution by Spectral Class')\n",
    "plt.xlabel('Spectral Class')\n",
    "plt.ylabel('Temperature')\n",
    "plt.show()"
   ]
  },
  {
   "cell_type": "code",
   "execution_count": null,
   "metadata": {},
   "outputs": [],
   "source": []
  }
 ],
 "metadata": {
  "kernelspec": {
   "display_name": "python_machinelearning",
   "language": "python",
   "name": "python3"
  },
  "language_info": {
   "codemirror_mode": {
    "name": "ipython",
    "version": 3
   },
   "file_extension": ".py",
   "mimetype": "text/x-python",
   "name": "python",
   "nbconvert_exporter": "python",
   "pygments_lexer": "ipython3",
   "version": "3.12.4"
  }
 },
 "nbformat": 4,
 "nbformat_minor": 2
}
